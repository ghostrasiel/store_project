{
 "cells": [
  {
   "cell_type": "code",
   "execution_count": 5,
   "id": "780aa968",
   "metadata": {},
   "outputs": [],
   "source": [
    "import mtcnn\n",
    "import cv2\n",
    "import tensorflow as tf\n",
    "import os\n",
    "import matplotlib.pyplot as plt\n",
    "from retinaface import RetinaFace\n",
    "import numpy as np\n",
    "import tensorflow_addons as tfa\n",
    "from skimage import transform\n",
    "import PIL\n",
    "from sklearn.model_selection import train_test_split"
   ]
  },
  {
   "cell_type": "code",
   "execution_count": 3,
   "id": "e041e9a3",
   "metadata": {},
   "outputs": [],
   "source": [
    "#h5py == 2.10"
   ]
  },
  {
   "cell_type": "code",
   "execution_count": 157,
   "id": "df2eeea3",
   "metadata": {},
   "outputs": [
    {
     "name": "stdout",
     "output_type": "stream",
     "text": [
      "[[[128  86  44]\n",
      "  [120  78  36]\n",
      "  [105  63  21]\n",
      "  ...\n",
      "  [ 71  46  26]\n",
      "  [ 83  61  40]\n",
      "  [ 83  62  45]]\n",
      "\n",
      " [[113  71  29]\n",
      "  [107  65  23]\n",
      "  [109  67  25]\n",
      "  ...\n",
      "  [ 83  58  38]\n",
      "  [ 88  63  43]\n",
      "  [ 68  47  28]]\n",
      "\n",
      " [[111  72  31]\n",
      "  [105  66  25]\n",
      "  [124  85  44]\n",
      "  ...\n",
      "  [101  74  53]\n",
      "  [ 93  66  45]\n",
      "  [ 71  49  28]]\n",
      "\n",
      " ...\n",
      "\n",
      " [[101 102  44]\n",
      "  [222 222 160]\n",
      "  [203 195 130]\n",
      "  ...\n",
      "  [135 130  49]\n",
      "  [188 185 104]\n",
      "  [190 192 108]]\n",
      "\n",
      " [[149 150  90]\n",
      "  [139 139  75]\n",
      "  [175 168 100]\n",
      "  ...\n",
      "  [204 199 117]\n",
      "  [224 222 139]\n",
      "  [145 146  66]]\n",
      "\n",
      " [[171 173 110]\n",
      "  [204 205 139]\n",
      "  [ 87  80  10]\n",
      "  ...\n",
      "  [166 164  77]\n",
      "  [177 176  93]\n",
      "  [105 107  32]]]\n"
     ]
    }
   ],
   "source": [
    "img = cv2.imread('./face_image/tiger.jpg')\n",
    "img = cv2.cvtColor(img , cv2.COLOR_BGR2RGB)\n",
    "pixels = np.asarray(img)\n",
    "print(pixels)"
   ]
  },
  {
   "cell_type": "code",
   "execution_count": 153,
   "id": "66e68efa",
   "metadata": {},
   "outputs": [],
   "source": [
    "detector = mtcnn.MTCNN()"
   ]
  },
  {
   "cell_type": "code",
   "execution_count": 158,
   "id": "b2382938",
   "metadata": {},
   "outputs": [],
   "source": [
    "results = detector.detect_faces(pixels)"
   ]
  },
  {
   "cell_type": "code",
   "execution_count": 161,
   "id": "ef829106",
   "metadata": {},
   "outputs": [
    {
     "name": "stdout",
     "output_type": "stream",
     "text": [
      "0\n"
     ]
    },
    {
     "ename": "IndexError",
     "evalue": "list index out of range",
     "output_type": "error",
     "traceback": [
      "\u001b[1;31m---------------------------------------------------------------------------\u001b[0m",
      "\u001b[1;31mIndexError\u001b[0m                                Traceback (most recent call last)",
      "\u001b[1;32m<ipython-input-161-5c5fee754cca>\u001b[0m in \u001b[0;36m<module>\u001b[1;34m\u001b[0m\n\u001b[0;32m      1\u001b[0m \u001b[0mprint\u001b[0m\u001b[1;33m(\u001b[0m\u001b[0mlen\u001b[0m\u001b[1;33m(\u001b[0m\u001b[0mresults\u001b[0m\u001b[1;33m)\u001b[0m\u001b[1;33m)\u001b[0m\u001b[1;33m\u001b[0m\u001b[1;33m\u001b[0m\u001b[0m\n\u001b[1;32m----> 2\u001b[1;33m \u001b[0mx1\u001b[0m \u001b[1;33m,\u001b[0m \u001b[0my1\u001b[0m \u001b[1;33m,\u001b[0m\u001b[0mw\u001b[0m \u001b[1;33m,\u001b[0m \u001b[0mh\u001b[0m\u001b[1;33m=\u001b[0m\u001b[0mresults\u001b[0m\u001b[1;33m[\u001b[0m\u001b[1;36m0\u001b[0m\u001b[1;33m]\u001b[0m\u001b[1;33m[\u001b[0m\u001b[1;34m'box'\u001b[0m\u001b[1;33m]\u001b[0m\u001b[1;33m\u001b[0m\u001b[1;33m\u001b[0m\u001b[0m\n\u001b[0m\u001b[0;32m      3\u001b[0m \u001b[0mx1\u001b[0m \u001b[1;33m,\u001b[0m \u001b[0my1\u001b[0m \u001b[1;33m=\u001b[0m \u001b[0mabs\u001b[0m\u001b[1;33m(\u001b[0m\u001b[0mx1\u001b[0m\u001b[1;33m)\u001b[0m \u001b[1;33m,\u001b[0m \u001b[0mabs\u001b[0m\u001b[1;33m(\u001b[0m\u001b[0my1\u001b[0m\u001b[1;33m)\u001b[0m\u001b[1;33m\u001b[0m\u001b[1;33m\u001b[0m\u001b[0m\n\u001b[0;32m      4\u001b[0m \u001b[0mx2\u001b[0m \u001b[1;33m,\u001b[0m \u001b[0my2\u001b[0m \u001b[1;33m=\u001b[0m \u001b[0mx1\u001b[0m \u001b[1;33m+\u001b[0m \u001b[0mw\u001b[0m \u001b[1;33m,\u001b[0m \u001b[0my1\u001b[0m\u001b[1;33m+\u001b[0m\u001b[0mh\u001b[0m\u001b[1;33m\u001b[0m\u001b[1;33m\u001b[0m\u001b[0m\n\u001b[0;32m      5\u001b[0m \u001b[0mx1\u001b[0m \u001b[1;33m,\u001b[0m \u001b[0my1\u001b[0m \u001b[1;33m,\u001b[0m \u001b[0mx2\u001b[0m \u001b[1;33m,\u001b[0m \u001b[0my2\u001b[0m\u001b[1;33m\u001b[0m\u001b[1;33m\u001b[0m\u001b[0m\n",
      "\u001b[1;31mIndexError\u001b[0m: list index out of range"
     ]
    }
   ],
   "source": [
    "print(len(results))\n",
    "x1 , y1 ,w , h=results[0]['box']\n",
    "x1 , y1 = abs(x1) , abs(y1)\n",
    "x2 , y2 = x1 + w , y1+h\n",
    "x1 , y1 , x2 , y2"
   ]
  },
  {
   "cell_type": "code",
   "execution_count": 52,
   "id": "f3624ace",
   "metadata": {},
   "outputs": [],
   "source": [
    "face = pixels[y1:y2 , x1:x2]\n",
    "image = PIL.Image.fromarray(face)\n",
    "image = image.resize((160,160))\n",
    "face_array = np.asarray(image)"
   ]
  },
  {
   "cell_type": "code",
   "execution_count": 39,
   "id": "246f3c73",
   "metadata": {},
   "outputs": [],
   "source": [
    "detector = mtcnn.MTCNN()\n",
    "def face_MTCNN(filename , resize = (160,160) ):\n",
    "    global detector\n",
    "    img = PIL.Image.open(filename)\n",
    "    img = img.convert('RGB')\n",
    "    pixels = np.asarray(img)\n",
    "#     print(pixels)\n",
    "    results = detector.detect_faces(pixels)\n",
    "    x1 , y1 ,w , h=results[0]['box']\n",
    "    x1 , y1 = abs(x1) , abs(y1)\n",
    "    x2 , y2 = x1 + w , y1+h\n",
    "    face = pixels[y1:y2 , x1:x2]\n",
    "    image = PIL.Image.fromarray(face)\n",
    "    image = image.resize(resize)\n",
    "    face_array = np.asarray(image)\n",
    "    return face_array"
   ]
  },
  {
   "cell_type": "code",
   "execution_count": 21,
   "id": "c001a076",
   "metadata": {},
   "outputs": [],
   "source": [
    "detector = mtcnn.MTCNN()\n",
    "def face_MTCNN(dirPath='./data/' , resize = (160,160) ):\n",
    "    global detector\n",
    "    global label_dict\n",
    "    img_list = []\n",
    "    label = []\n",
    "    label_dict=dict()\n",
    "    for num,file in enumerate(os.listdir(dirPath)):\n",
    "        label_dict[file] = num\n",
    "    i = 1\n",
    "    for file in os.listdir(dirPath) :\n",
    "        Path = dirPath + file\n",
    "        for f in  os.listdir(Path) :\n",
    "            if os.path.isfile(os.path.join(Path, f)):\n",
    "                img = cv2.imread(Path + '/'+ f)\n",
    "                img = cv2.cvtColor(img , cv2.COLOR_BGR2RGB)\n",
    "                pixels = np.asarray(img)\n",
    "                results = detector.detect_faces(pixels)\n",
    "                x1 , y1 ,w , h=results[0]['box']\n",
    "                x1 , y1 = abs(x1) , abs(y1)\n",
    "                x2 , y2 = x1 + w , y1+h\n",
    "                face = pixels[y1:y2 , x1:x2]\n",
    "                image = PIL.Image.fromarray(face)\n",
    "                image = image.resize(resize)\n",
    "                face_array = np.asarray(image)\n",
    "                img_list.append(face_array)\n",
    "                label.append(label_dict[file])\n",
    "                print(i , f , face_array.shape)\n",
    "                i += 1\n",
    "                for _ in range(5):\n",
    "                    up_img = tf.image.random_flip_up_down(face_array)\n",
    "                    right_img = tf.image.random_flip_left_right(up_img)\n",
    "                    img_list.append(right_img)\n",
    "                    label.append(label_dict[file])\n",
    "                    i += 1\n",
    "                    print(i , f , right_img.shape)\n",
    "    train = np.asarray(img_list)\n",
    "    target = np.asarray(label)   \n",
    "    return train , target\n",
    "    \n",
    "    \n",
    "    "
   ]
  },
  {
   "cell_type": "code",
   "execution_count": 22,
   "id": "be408299",
   "metadata": {},
   "outputs": [
    {
     "name": "stdout",
     "output_type": "stream",
     "text": [
      "WARNING:tensorflow:5 out of the last 5 calls to <function _make_execution_function.<locals>.distributed_function at 0x0000016FD7B7B948> triggered tf.function retracing. Tracing is expensive and the excessive number of tracings is likely due to passing python objects instead of tensors. Also, tf.function has experimental_relax_shapes=True option that relaxes argument shapes that can avoid unnecessary retracing. Please refer to https://www.tensorflow.org/tutorials/customization/performance#python_or_tensor_args and https://www.tensorflow.org/api_docs/python/tf/function for more details.\n",
      "WARNING:tensorflow:6 out of the last 6 calls to <function _make_execution_function.<locals>.distributed_function at 0x0000016FD7B7B948> triggered tf.function retracing. Tracing is expensive and the excessive number of tracings is likely due to passing python objects instead of tensors. Also, tf.function has experimental_relax_shapes=True option that relaxes argument shapes that can avoid unnecessary retracing. Please refer to https://www.tensorflow.org/tutorials/customization/performance#python_or_tensor_args and https://www.tensorflow.org/api_docs/python/tf/function for more details.\n",
      "WARNING:tensorflow:7 out of the last 7 calls to <function _make_execution_function.<locals>.distributed_function at 0x0000016FD7B7B948> triggered tf.function retracing. Tracing is expensive and the excessive number of tracings is likely due to passing python objects instead of tensors. Also, tf.function has experimental_relax_shapes=True option that relaxes argument shapes that can avoid unnecessary retracing. Please refer to https://www.tensorflow.org/tutorials/customization/performance#python_or_tensor_args and https://www.tensorflow.org/api_docs/python/tf/function for more details.\n",
      "WARNING:tensorflow:8 out of the last 8 calls to <function _make_execution_function.<locals>.distributed_function at 0x0000016FD7B7B948> triggered tf.function retracing. Tracing is expensive and the excessive number of tracings is likely due to passing python objects instead of tensors. Also, tf.function has experimental_relax_shapes=True option that relaxes argument shapes that can avoid unnecessary retracing. Please refer to https://www.tensorflow.org/tutorials/customization/performance#python_or_tensor_args and https://www.tensorflow.org/api_docs/python/tf/function for more details.\n",
      "1 Abdullah_0003.jpg (160, 160, 3)\n",
      "3 Abdullah_0003.jpg (160, 160, 3)\n",
      "4 Abdullah_0003.jpg (160, 160, 3)\n",
      "5 Abdullah_0003.jpg (160, 160, 3)\n",
      "6 Abdullah_0003.jpg (160, 160, 3)\n",
      "7 Abdullah_0003.jpg (160, 160, 3)\n",
      "7 Abdullah_Gul_0005.jpg (160, 160, 3)\n",
      "9 Abdullah_Gul_0005.jpg (160, 160, 3)\n",
      "10 Abdullah_Gul_0005.jpg (160, 160, 3)\n",
      "11 Abdullah_Gul_0005.jpg (160, 160, 3)\n",
      "12 Abdullah_Gul_0005.jpg (160, 160, 3)\n",
      "13 Abdullah_Gul_0005.jpg (160, 160, 3)\n",
      "13 Akhmed_Zakayev_0003.jpg (160, 160, 3)\n",
      "15 Akhmed_Zakayev_0003.jpg (160, 160, 3)\n",
      "16 Akhmed_Zakayev_0003.jpg (160, 160, 3)\n",
      "17 Akhmed_Zakayev_0003.jpg (160, 160, 3)\n",
      "18 Akhmed_Zakayev_0003.jpg (160, 160, 3)\n",
      "19 Akhmed_Zakayev_0003.jpg (160, 160, 3)\n",
      "19 Brad_Banks_0001.jpg (160, 160, 3)\n",
      "21 Brad_Banks_0001.jpg (160, 160, 3)\n",
      "22 Brad_Banks_0001.jpg (160, 160, 3)\n",
      "23 Brad_Banks_0001.jpg (160, 160, 3)\n",
      "24 Brad_Banks_0001.jpg (160, 160, 3)\n",
      "25 Brad_Banks_0001.jpg (160, 160, 3)\n",
      "25 Brendan_Fraser_0001.jpg (160, 160, 3)\n",
      "27 Brendan_Fraser_0001.jpg (160, 160, 3)\n",
      "28 Brendan_Fraser_0001.jpg (160, 160, 3)\n",
      "29 Brendan_Fraser_0001.jpg (160, 160, 3)\n",
      "30 Brendan_Fraser_0001.jpg (160, 160, 3)\n",
      "31 Brendan_Fraser_0001.jpg (160, 160, 3)\n",
      "WARNING:tensorflow:5 out of the last 37 calls to <function _make_execution_function.<locals>.distributed_function at 0x0000016FD7B7B948> triggered tf.function retracing. Tracing is expensive and the excessive number of tracings is likely due to passing python objects instead of tensors. Also, tf.function has experimental_relax_shapes=True option that relaxes argument shapes that can avoid unnecessary retracing. Please refer to https://www.tensorflow.org/tutorials/customization/performance#python_or_tensor_args and https://www.tensorflow.org/api_docs/python/tf/function for more details.\n",
      "WARNING:tensorflow:6 out of the last 38 calls to <function _make_execution_function.<locals>.distributed_function at 0x0000016FD7B7B948> triggered tf.function retracing. Tracing is expensive and the excessive number of tracings is likely due to passing python objects instead of tensors. Also, tf.function has experimental_relax_shapes=True option that relaxes argument shapes that can avoid unnecessary retracing. Please refer to https://www.tensorflow.org/tutorials/customization/performance#python_or_tensor_args and https://www.tensorflow.org/api_docs/python/tf/function for more details.\n",
      "WARNING:tensorflow:7 out of the last 39 calls to <function _make_execution_function.<locals>.distributed_function at 0x0000016FD7B7B948> triggered tf.function retracing. Tracing is expensive and the excessive number of tracings is likely due to passing python objects instead of tensors. Also, tf.function has experimental_relax_shapes=True option that relaxes argument shapes that can avoid unnecessary retracing. Please refer to https://www.tensorflow.org/tutorials/customization/performance#python_or_tensor_args and https://www.tensorflow.org/api_docs/python/tf/function for more details.\n",
      "WARNING:tensorflow:8 out of the last 40 calls to <function _make_execution_function.<locals>.distributed_function at 0x0000016FD7B7B948> triggered tf.function retracing. Tracing is expensive and the excessive number of tracings is likely due to passing python objects instead of tensors. Also, tf.function has experimental_relax_shapes=True option that relaxes argument shapes that can avoid unnecessary retracing. Please refer to https://www.tensorflow.org/tutorials/customization/performance#python_or_tensor_args and https://www.tensorflow.org/api_docs/python/tf/function for more details.\n",
      "WARNING:tensorflow:9 out of the last 41 calls to <function _make_execution_function.<locals>.distributed_function at 0x0000016FD7B7B948> triggered tf.function retracing. Tracing is expensive and the excessive number of tracings is likely due to passing python objects instead of tensors. Also, tf.function has experimental_relax_shapes=True option that relaxes argument shapes that can avoid unnecessary retracing. Please refer to https://www.tensorflow.org/tutorials/customization/performance#python_or_tensor_args and https://www.tensorflow.org/api_docs/python/tf/function for more details.\n",
      "WARNING:tensorflow:10 out of the last 42 calls to <function _make_execution_function.<locals>.distributed_function at 0x0000016FD7B7B948> triggered tf.function retracing. Tracing is expensive and the excessive number of tracings is likely due to passing python objects instead of tensors. Also, tf.function has experimental_relax_shapes=True option that relaxes argument shapes that can avoid unnecessary retracing. Please refer to https://www.tensorflow.org/tutorials/customization/performance#python_or_tensor_args and https://www.tensorflow.org/api_docs/python/tf/function for more details.\n",
      "WARNING:tensorflow:11 out of the last 43 calls to <function _make_execution_function.<locals>.distributed_function at 0x0000016FD7B7B948> triggered tf.function retracing. Tracing is expensive and the excessive number of tracings is likely due to passing python objects instead of tensors. Also, tf.function has experimental_relax_shapes=True option that relaxes argument shapes that can avoid unnecessary retracing. Please refer to https://www.tensorflow.org/tutorials/customization/performance#python_or_tensor_args and https://www.tensorflow.org/api_docs/python/tf/function for more details.\n",
      "31 ap7.jpg (160, 160, 3)\n",
      "33 ap7.jpg (160, 160, 3)\n",
      "34 ap7.jpg (160, 160, 3)\n",
      "35 ap7.jpg (160, 160, 3)\n",
      "36 ap7.jpg (160, 160, 3)\n",
      "37 ap7.jpg (160, 160, 3)\n",
      "WARNING:tensorflow:11 out of the last 11 calls to <function _make_execution_function.<locals>.distributed_function at 0x0000016FD7B7B948> triggered tf.function retracing. Tracing is expensive and the excessive number of tracings is likely due to passing python objects instead of tensors. Also, tf.function has experimental_relax_shapes=True option that relaxes argument shapes that can avoid unnecessary retracing. Please refer to https://www.tensorflow.org/tutorials/customization/performance#python_or_tensor_args and https://www.tensorflow.org/api_docs/python/tf/function for more details.\n"
     ]
    },
    {
     "name": "stdout",
     "output_type": "stream",
     "text": [
      "WARNING:tensorflow:11 out of the last 11 calls to <function _make_execution_function.<locals>.distributed_function at 0x0000016FD7B7B948> triggered tf.function retracing. Tracing is expensive and the excessive number of tracings is likely due to passing python objects instead of tensors. Also, tf.function has experimental_relax_shapes=True option that relaxes argument shapes that can avoid unnecessary retracing. Please refer to https://www.tensorflow.org/tutorials/customization/performance#python_or_tensor_args and https://www.tensorflow.org/api_docs/python/tf/function for more details.\n",
      "WARNING:tensorflow:11 out of the last 11 calls to <function _make_execution_function.<locals>.distributed_function at 0x0000016FD7B7B948> triggered tf.function retracing. Tracing is expensive and the excessive number of tracings is likely due to passing python objects instead of tensors. Also, tf.function has experimental_relax_shapes=True option that relaxes argument shapes that can avoid unnecessary retracing. Please refer to https://www.tensorflow.org/tutorials/customization/performance#python_or_tensor_args and https://www.tensorflow.org/api_docs/python/tf/function for more details.\n",
      "WARNING:tensorflow:11 out of the last 11 calls to <function _make_execution_function.<locals>.distributed_function at 0x0000016FD7B7B948> triggered tf.function retracing. Tracing is expensive and the excessive number of tracings is likely due to passing python objects instead of tensors. Also, tf.function has experimental_relax_shapes=True option that relaxes argument shapes that can avoid unnecessary retracing. Please refer to https://www.tensorflow.org/tutorials/customization/performance#python_or_tensor_args and https://www.tensorflow.org/api_docs/python/tf/function for more details.\n",
      "WARNING:tensorflow:11 out of the last 11 calls to <function _make_execution_function.<locals>.distributed_function at 0x0000016FD7B7B948> triggered tf.function retracing. Tracing is expensive and the excessive number of tracings is likely due to passing python objects instead of tensors. Also, tf.function has experimental_relax_shapes=True option that relaxes argument shapes that can avoid unnecessary retracing. Please refer to https://www.tensorflow.org/tutorials/customization/performance#python_or_tensor_args and https://www.tensorflow.org/api_docs/python/tf/function for more details.\n",
      "WARNING:tensorflow:11 out of the last 11 calls to <function _make_execution_function.<locals>.distributed_function at 0x0000016FD7B7B948> triggered tf.function retracing. Tracing is expensive and the excessive number of tracings is likely due to passing python objects instead of tensors. Also, tf.function has experimental_relax_shapes=True option that relaxes argument shapes that can avoid unnecessary retracing. Please refer to https://www.tensorflow.org/tutorials/customization/performance#python_or_tensor_args and https://www.tensorflow.org/api_docs/python/tf/function for more details.\n",
      "WARNING:tensorflow:11 out of the last 11 calls to <function _make_execution_function.<locals>.distributed_function at 0x0000016FD7B7B948> triggered tf.function retracing. Tracing is expensive and the excessive number of tracings is likely due to passing python objects instead of tensors. Also, tf.function has experimental_relax_shapes=True option that relaxes argument shapes that can avoid unnecessary retracing. Please refer to https://www.tensorflow.org/tutorials/customization/performance#python_or_tensor_args and https://www.tensorflow.org/api_docs/python/tf/function for more details.\n",
      "WARNING:tensorflow:11 out of the last 11 calls to <function _make_execution_function.<locals>.distributed_function at 0x0000016FD7B7B948> triggered tf.function retracing. Tracing is expensive and the excessive number of tracings is likely due to passing python objects instead of tensors. Also, tf.function has experimental_relax_shapes=True option that relaxes argument shapes that can avoid unnecessary retracing. Please refer to https://www.tensorflow.org/tutorials/customization/performance#python_or_tensor_args and https://www.tensorflow.org/api_docs/python/tf/function for more details.\n",
      "WARNING:tensorflow:11 out of the last 11 calls to <function _make_execution_function.<locals>.distributed_function at 0x0000016FD7B7B948> triggered tf.function retracing. Tracing is expensive and the excessive number of tracings is likely due to passing python objects instead of tensors. Also, tf.function has experimental_relax_shapes=True option that relaxes argument shapes that can avoid unnecessary retracing. Please refer to https://www.tensorflow.org/tutorials/customization/performance#python_or_tensor_args and https://www.tensorflow.org/api_docs/python/tf/function for more details.\n",
      "WARNING:tensorflow:11 out of the last 11 calls to <function _make_execution_function.<locals>.distributed_function at 0x0000016FD7B7B948> triggered tf.function retracing. Tracing is expensive and the excessive number of tracings is likely due to passing python objects instead of tensors. Also, tf.function has experimental_relax_shapes=True option that relaxes argument shapes that can avoid unnecessary retracing. Please refer to https://www.tensorflow.org/tutorials/customization/performance#python_or_tensor_args and https://www.tensorflow.org/api_docs/python/tf/function for more details.\n",
      "WARNING:tensorflow:11 out of the last 11 calls to <function _make_execution_function.<locals>.distributed_function at 0x0000016FD7B7B948> triggered tf.function retracing. Tracing is expensive and the excessive number of tracings is likely due to passing python objects instead of tensors. Also, tf.function has experimental_relax_shapes=True option that relaxes argument shapes that can avoid unnecessary retracing. Please refer to https://www.tensorflow.org/tutorials/customization/performance#python_or_tensor_args and https://www.tensorflow.org/api_docs/python/tf/function for more details.\n",
      "WARNING:tensorflow:11 out of the last 11 calls to <function _make_execution_function.<locals>.distributed_function at 0x0000016FD7B7B948> triggered tf.function retracing. Tracing is expensive and the excessive number of tracings is likely due to passing python objects instead of tensors. Also, tf.function has experimental_relax_shapes=True option that relaxes argument shapes that can avoid unnecessary retracing. Please refer to https://www.tensorflow.org/tutorials/customization/performance#python_or_tensor_args and https://www.tensorflow.org/api_docs/python/tf/function for more details.\n",
      "37 eric.jpg (160, 160, 3)\n",
      "39 eric.jpg (160, 160, 3)\n",
      "40 eric.jpg (160, 160, 3)\n",
      "41 eric.jpg (160, 160, 3)\n",
      "42 eric.jpg (160, 160, 3)\n",
      "43 eric.jpg (160, 160, 3)\n",
      "WARNING:tensorflow:11 out of the last 11 calls to <function _make_execution_function.<locals>.distributed_function at 0x0000016FD7B7B948> triggered tf.function retracing. Tracing is expensive and the excessive number of tracings is likely due to passing python objects instead of tensors. Also, tf.function has experimental_relax_shapes=True option that relaxes argument shapes that can avoid unnecessary retracing. Please refer to https://www.tensorflow.org/tutorials/customization/performance#python_or_tensor_args and https://www.tensorflow.org/api_docs/python/tf/function for more details.\n",
      "WARNING:tensorflow:11 out of the last 11 calls to <function _make_execution_function.<locals>.distributed_function at 0x0000016FD7B7B948> triggered tf.function retracing. Tracing is expensive and the excessive number of tracings is likely due to passing python objects instead of tensors. Also, tf.function has experimental_relax_shapes=True option that relaxes argument shapes that can avoid unnecessary retracing. Please refer to https://www.tensorflow.org/tutorials/customization/performance#python_or_tensor_args and https://www.tensorflow.org/api_docs/python/tf/function for more details.\n",
      "WARNING:tensorflow:11 out of the last 11 calls to <function _make_execution_function.<locals>.distributed_function at 0x0000016FD7B7B948> triggered tf.function retracing. Tracing is expensive and the excessive number of tracings is likely due to passing python objects instead of tensors. Also, tf.function has experimental_relax_shapes=True option that relaxes argument shapes that can avoid unnecessary retracing. Please refer to https://www.tensorflow.org/tutorials/customization/performance#python_or_tensor_args and https://www.tensorflow.org/api_docs/python/tf/function for more details.\n"
     ]
    },
    {
     "name": "stdout",
     "output_type": "stream",
     "text": [
      "WARNING:tensorflow:11 out of the last 11 calls to <function _make_execution_function.<locals>.distributed_function at 0x0000016FD7B7B948> triggered tf.function retracing. Tracing is expensive and the excessive number of tracings is likely due to passing python objects instead of tensors. Also, tf.function has experimental_relax_shapes=True option that relaxes argument shapes that can avoid unnecessary retracing. Please refer to https://www.tensorflow.org/tutorials/customization/performance#python_or_tensor_args and https://www.tensorflow.org/api_docs/python/tf/function for more details.\n",
      "WARNING:tensorflow:11 out of the last 11 calls to <function _make_execution_function.<locals>.distributed_function at 0x0000016FD7B7B948> triggered tf.function retracing. Tracing is expensive and the excessive number of tracings is likely due to passing python objects instead of tensors. Also, tf.function has experimental_relax_shapes=True option that relaxes argument shapes that can avoid unnecessary retracing. Please refer to https://www.tensorflow.org/tutorials/customization/performance#python_or_tensor_args and https://www.tensorflow.org/api_docs/python/tf/function for more details.\n",
      "WARNING:tensorflow:11 out of the last 11 calls to <function _make_execution_function.<locals>.distributed_function at 0x0000016FD7B7B948> triggered tf.function retracing. Tracing is expensive and the excessive number of tracings is likely due to passing python objects instead of tensors. Also, tf.function has experimental_relax_shapes=True option that relaxes argument shapes that can avoid unnecessary retracing. Please refer to https://www.tensorflow.org/tutorials/customization/performance#python_or_tensor_args and https://www.tensorflow.org/api_docs/python/tf/function for more details.\n",
      "WARNING:tensorflow:11 out of the last 11 calls to <function _make_execution_function.<locals>.distributed_function at 0x0000016FD7B7B948> triggered tf.function retracing. Tracing is expensive and the excessive number of tracings is likely due to passing python objects instead of tensors. Also, tf.function has experimental_relax_shapes=True option that relaxes argument shapes that can avoid unnecessary retracing. Please refer to https://www.tensorflow.org/tutorials/customization/performance#python_or_tensor_args and https://www.tensorflow.org/api_docs/python/tf/function for more details.\n",
      "WARNING:tensorflow:11 out of the last 11 calls to <function _make_execution_function.<locals>.distributed_function at 0x0000016FD7B7B948> triggered tf.function retracing. Tracing is expensive and the excessive number of tracings is likely due to passing python objects instead of tensors. Also, tf.function has experimental_relax_shapes=True option that relaxes argument shapes that can avoid unnecessary retracing. Please refer to https://www.tensorflow.org/tutorials/customization/performance#python_or_tensor_args and https://www.tensorflow.org/api_docs/python/tf/function for more details.\n",
      "43 jay3.jpg (160, 160, 3)\n",
      "45 jay3.jpg (160, 160, 3)\n",
      "46 jay3.jpg (160, 160, 3)\n",
      "47 jay3.jpg (160, 160, 3)\n",
      "48 jay3.jpg (160, 160, 3)\n",
      "49 jay3.jpg (160, 160, 3)\n",
      "49 John_Robbins_0001.jpg (160, 160, 3)\n",
      "51 John_Robbins_0001.jpg (160, 160, 3)\n",
      "52 John_Robbins_0001.jpg (160, 160, 3)\n",
      "53 John_Robbins_0001.jpg (160, 160, 3)\n",
      "54 John_Robbins_0001.jpg (160, 160, 3)\n",
      "55 John_Robbins_0001.jpg (160, 160, 3)\n",
      "55 Jose_Carlo_Fernandez_0001.jpg (160, 160, 3)\n",
      "57 Jose_Carlo_Fernandez_0001.jpg (160, 160, 3)\n",
      "58 Jose_Carlo_Fernandez_0001.jpg (160, 160, 3)\n",
      "59 Jose_Carlo_Fernandez_0001.jpg (160, 160, 3)\n",
      "60 Jose_Carlo_Fernandez_0001.jpg (160, 160, 3)\n",
      "61 Jose_Carlo_Fernandez_0001.jpg (160, 160, 3)\n",
      "61 JT_Snow_0001.jpg (160, 160, 3)\n",
      "63 JT_Snow_0001.jpg (160, 160, 3)\n",
      "64 JT_Snow_0001.jpg (160, 160, 3)\n",
      "65 JT_Snow_0001.jpg (160, 160, 3)\n",
      "66 JT_Snow_0001.jpg (160, 160, 3)\n",
      "67 JT_Snow_0001.jpg (160, 160, 3)\n",
      "WARNING:tensorflow:5 out of the last 29 calls to <function _make_execution_function.<locals>.distributed_function at 0x0000016FD7B7B948> triggered tf.function retracing. Tracing is expensive and the excessive number of tracings is likely due to passing python objects instead of tensors. Also, tf.function has experimental_relax_shapes=True option that relaxes argument shapes that can avoid unnecessary retracing. Please refer to https://www.tensorflow.org/tutorials/customization/performance#python_or_tensor_args and https://www.tensorflow.org/api_docs/python/tf/function for more details.\n",
      "WARNING:tensorflow:6 out of the last 30 calls to <function _make_execution_function.<locals>.distributed_function at 0x0000016FD7B7B948> triggered tf.function retracing. Tracing is expensive and the excessive number of tracings is likely due to passing python objects instead of tensors. Also, tf.function has experimental_relax_shapes=True option that relaxes argument shapes that can avoid unnecessary retracing. Please refer to https://www.tensorflow.org/tutorials/customization/performance#python_or_tensor_args and https://www.tensorflow.org/api_docs/python/tf/function for more details.\n",
      "WARNING:tensorflow:7 out of the last 31 calls to <function _make_execution_function.<locals>.distributed_function at 0x0000016FD7B7B948> triggered tf.function retracing. Tracing is expensive and the excessive number of tracings is likely due to passing python objects instead of tensors. Also, tf.function has experimental_relax_shapes=True option that relaxes argument shapes that can avoid unnecessary retracing. Please refer to https://www.tensorflow.org/tutorials/customization/performance#python_or_tensor_args and https://www.tensorflow.org/api_docs/python/tf/function for more details.\n",
      "WARNING:tensorflow:8 out of the last 32 calls to <function _make_execution_function.<locals>.distributed_function at 0x0000016FD7B7B948> triggered tf.function retracing. Tracing is expensive and the excessive number of tracings is likely due to passing python objects instead of tensors. Also, tf.function has experimental_relax_shapes=True option that relaxes argument shapes that can avoid unnecessary retracing. Please refer to https://www.tensorflow.org/tutorials/customization/performance#python_or_tensor_args and https://www.tensorflow.org/api_docs/python/tf/function for more details.\n",
      "WARNING:tensorflow:9 out of the last 33 calls to <function _make_execution_function.<locals>.distributed_function at 0x0000016FD7B7B948> triggered tf.function retracing. Tracing is expensive and the excessive number of tracings is likely due to passing python objects instead of tensors. Also, tf.function has experimental_relax_shapes=True option that relaxes argument shapes that can avoid unnecessary retracing. Please refer to https://www.tensorflow.org/tutorials/customization/performance#python_or_tensor_args and https://www.tensorflow.org/api_docs/python/tf/function for more details.\n",
      "WARNING:tensorflow:10 out of the last 34 calls to <function _make_execution_function.<locals>.distributed_function at 0x0000016FD7B7B948> triggered tf.function retracing. Tracing is expensive and the excessive number of tracings is likely due to passing python objects instead of tensors. Also, tf.function has experimental_relax_shapes=True option that relaxes argument shapes that can avoid unnecessary retracing. Please refer to https://www.tensorflow.org/tutorials/customization/performance#python_or_tensor_args and https://www.tensorflow.org/api_docs/python/tf/function for more details.\n",
      "WARNING:tensorflow:11 out of the last 35 calls to <function _make_execution_function.<locals>.distributed_function at 0x0000016FD7B7B948> triggered tf.function retracing. Tracing is expensive and the excessive number of tracings is likely due to passing python objects instead of tensors. Also, tf.function has experimental_relax_shapes=True option that relaxes argument shapes that can avoid unnecessary retracing. Please refer to https://www.tensorflow.org/tutorials/customization/performance#python_or_tensor_args and https://www.tensorflow.org/api_docs/python/tf/function for more details.\n",
      "WARNING:tensorflow:11 out of the last 11 calls to <function _make_execution_function.<locals>.distributed_function at 0x0000016FD7B7B948> triggered tf.function retracing. Tracing is expensive and the excessive number of tracings is likely due to passing python objects instead of tensors. Also, tf.function has experimental_relax_shapes=True option that relaxes argument shapes that can avoid unnecessary retracing. Please refer to https://www.tensorflow.org/tutorials/customization/performance#python_or_tensor_args and https://www.tensorflow.org/api_docs/python/tf/function for more details.\n"
     ]
    },
    {
     "name": "stdout",
     "output_type": "stream",
     "text": [
      "WARNING:tensorflow:11 out of the last 11 calls to <function _make_execution_function.<locals>.distributed_function at 0x0000016FD7B7B948> triggered tf.function retracing. Tracing is expensive and the excessive number of tracings is likely due to passing python objects instead of tensors. Also, tf.function has experimental_relax_shapes=True option that relaxes argument shapes that can avoid unnecessary retracing. Please refer to https://www.tensorflow.org/tutorials/customization/performance#python_or_tensor_args and https://www.tensorflow.org/api_docs/python/tf/function for more details.\n",
      "67 lin.jpg (160, 160, 3)\n",
      "69 lin.jpg (160, 160, 3)\n",
      "70 lin.jpg (160, 160, 3)\n",
      "71 lin.jpg (160, 160, 3)\n",
      "72 lin.jpg (160, 160, 3)\n",
      "73 lin.jpg (160, 160, 3)\n",
      "73 Mike_Helton_0002.jpg (160, 160, 3)\n",
      "75 Mike_Helton_0002.jpg (160, 160, 3)\n",
      "76 Mike_Helton_0002.jpg (160, 160, 3)\n",
      "77 Mike_Helton_0002.jpg (160, 160, 3)\n",
      "78 Mike_Helton_0002.jpg (160, 160, 3)\n",
      "79 Mike_Helton_0002.jpg (160, 160, 3)\n",
      "79 Mike_Scioscia_0002.jpg (160, 160, 3)\n",
      "81 Mike_Scioscia_0002.jpg (160, 160, 3)\n",
      "82 Mike_Scioscia_0002.jpg (160, 160, 3)\n",
      "83 Mike_Scioscia_0002.jpg (160, 160, 3)\n",
      "84 Mike_Scioscia_0002.jpg (160, 160, 3)\n",
      "85 Mike_Scioscia_0002.jpg (160, 160, 3)\n",
      "85 Mireya_Moscoso_0003.jpg (160, 160, 3)\n",
      "87 Mireya_Moscoso_0003.jpg (160, 160, 3)\n",
      "88 Mireya_Moscoso_0003.jpg (160, 160, 3)\n",
      "89 Mireya_Moscoso_0003.jpg (160, 160, 3)\n",
      "90 Mireya_Moscoso_0003.jpg (160, 160, 3)\n",
      "91 Mireya_Moscoso_0003.jpg (160, 160, 3)\n",
      "91 Miroljub_0002.jpg (160, 160, 3)\n",
      "93 Miroljub_0002.jpg (160, 160, 3)\n",
      "94 Miroljub_0002.jpg (160, 160, 3)\n",
      "95 Miroljub_0002.jpg (160, 160, 3)\n",
      "96 Miroljub_0002.jpg (160, 160, 3)\n",
      "97 Miroljub_0002.jpg (160, 160, 3)\n",
      "97 Monica_Seles_0003.jpg (160, 160, 3)\n",
      "99 Monica_Seles_0003.jpg (160, 160, 3)\n",
      "100 Monica_Seles_0003.jpg (160, 160, 3)\n",
      "101 Monica_Seles_0003.jpg (160, 160, 3)\n",
      "102 Monica_Seles_0003.jpg (160, 160, 3)\n",
      "103 Monica_Seles_0003.jpg (160, 160, 3)\n",
      "103 Monique_Garbrecht-Enfeldt_0003.jpg (160, 160, 3)\n",
      "105 Monique_Garbrecht-Enfeldt_0003.jpg (160, 160, 3)\n",
      "106 Monique_Garbrecht-Enfeldt_0003.jpg (160, 160, 3)\n",
      "107 Monique_Garbrecht-Enfeldt_0003.jpg (160, 160, 3)\n",
      "108 Monique_Garbrecht-Enfeldt_0003.jpg (160, 160, 3)\n",
      "109 Monique_Garbrecht-Enfeldt_0003.jpg (160, 160, 3)\n",
      "WARNING:tensorflow:5 out of the last 53 calls to <function _make_execution_function.<locals>.distributed_function at 0x0000016FD7B7B948> triggered tf.function retracing. Tracing is expensive and the excessive number of tracings is likely due to passing python objects instead of tensors. Also, tf.function has experimental_relax_shapes=True option that relaxes argument shapes that can avoid unnecessary retracing. Please refer to https://www.tensorflow.org/tutorials/customization/performance#python_or_tensor_args and https://www.tensorflow.org/api_docs/python/tf/function for more details.\n",
      "WARNING:tensorflow:6 out of the last 54 calls to <function _make_execution_function.<locals>.distributed_function at 0x0000016FD7B7B948> triggered tf.function retracing. Tracing is expensive and the excessive number of tracings is likely due to passing python objects instead of tensors. Also, tf.function has experimental_relax_shapes=True option that relaxes argument shapes that can avoid unnecessary retracing. Please refer to https://www.tensorflow.org/tutorials/customization/performance#python_or_tensor_args and https://www.tensorflow.org/api_docs/python/tf/function for more details.\n",
      "WARNING:tensorflow:7 out of the last 55 calls to <function _make_execution_function.<locals>.distributed_function at 0x0000016FD7B7B948> triggered tf.function retracing. Tracing is expensive and the excessive number of tracings is likely due to passing python objects instead of tensors. Also, tf.function has experimental_relax_shapes=True option that relaxes argument shapes that can avoid unnecessary retracing. Please refer to https://www.tensorflow.org/tutorials/customization/performance#python_or_tensor_args and https://www.tensorflow.org/api_docs/python/tf/function for more details.\n",
      "WARNING:tensorflow:8 out of the last 56 calls to <function _make_execution_function.<locals>.distributed_function at 0x0000016FD7B7B948> triggered tf.function retracing. Tracing is expensive and the excessive number of tracings is likely due to passing python objects instead of tensors. Also, tf.function has experimental_relax_shapes=True option that relaxes argument shapes that can avoid unnecessary retracing. Please refer to https://www.tensorflow.org/tutorials/customization/performance#python_or_tensor_args and https://www.tensorflow.org/api_docs/python/tf/function for more details.\n",
      "WARNING:tensorflow:9 out of the last 57 calls to <function _make_execution_function.<locals>.distributed_function at 0x0000016FD7B7B948> triggered tf.function retracing. Tracing is expensive and the excessive number of tracings is likely due to passing python objects instead of tensors. Also, tf.function has experimental_relax_shapes=True option that relaxes argument shapes that can avoid unnecessary retracing. Please refer to https://www.tensorflow.org/tutorials/customization/performance#python_or_tensor_args and https://www.tensorflow.org/api_docs/python/tf/function for more details.\n",
      "WARNING:tensorflow:10 out of the last 58 calls to <function _make_execution_function.<locals>.distributed_function at 0x0000016FD7B7B948> triggered tf.function retracing. Tracing is expensive and the excessive number of tracings is likely due to passing python objects instead of tensors. Also, tf.function has experimental_relax_shapes=True option that relaxes argument shapes that can avoid unnecessary retracing. Please refer to https://www.tensorflow.org/tutorials/customization/performance#python_or_tensor_args and https://www.tensorflow.org/api_docs/python/tf/function for more details.\n",
      "WARNING:tensorflow:11 out of the last 59 calls to <function _make_execution_function.<locals>.distributed_function at 0x0000016FD7B7B948> triggered tf.function retracing. Tracing is expensive and the excessive number of tracings is likely due to passing python objects instead of tensors. Also, tf.function has experimental_relax_shapes=True option that relaxes argument shapes that can avoid unnecessary retracing. Please refer to https://www.tensorflow.org/tutorials/customization/performance#python_or_tensor_args and https://www.tensorflow.org/api_docs/python/tf/function for more details.\n",
      "WARNING:tensorflow:11 out of the last 11 calls to <function _make_execution_function.<locals>.distributed_function at 0x0000016FD7B7B948> triggered tf.function retracing. Tracing is expensive and the excessive number of tracings is likely due to passing python objects instead of tensors. Also, tf.function has experimental_relax_shapes=True option that relaxes argument shapes that can avoid unnecessary retracing. Please refer to https://www.tensorflow.org/tutorials/customization/performance#python_or_tensor_args and https://www.tensorflow.org/api_docs/python/tf/function for more details.\n",
      "109 wu_line.jpg (160, 160, 3)\n",
      "111 wu_line.jpg (160, 160, 3)\n",
      "112 wu_line.jpg (160, 160, 3)\n",
      "113 wu_line.jpg (160, 160, 3)\n",
      "114 wu_line.jpg (160, 160, 3)\n",
      "115 wu_line.jpg (160, 160, 3)\n",
      "115 Wycliffe_Grousbeck_0001.jpg (160, 160, 3)\n",
      "117 Wycliffe_Grousbeck_0001.jpg (160, 160, 3)\n",
      "118 Wycliffe_Grousbeck_0001.jpg (160, 160, 3)\n",
      "119 Wycliffe_Grousbeck_0001.jpg (160, 160, 3)\n",
      "120 Wycliffe_Grousbeck_0001.jpg (160, 160, 3)\n",
      "121 Wycliffe_Grousbeck_0001.jpg (160, 160, 3)\n",
      "121 Young_Kim_0001.jpg (160, 160, 3)\n",
      "123 Young_Kim_0001.jpg (160, 160, 3)\n",
      "124 Young_Kim_0001.jpg (160, 160, 3)\n",
      "125 Young_Kim_0001.jpg (160, 160, 3)\n",
      "126 Young_Kim_0001.jpg (160, 160, 3)\n",
      "127 Young_Kim_0001.jpg (160, 160, 3)\n",
      "127 Yu_Shyi-kun_0004.jpg (160, 160, 3)\n",
      "129 Yu_Shyi-kun_0004.jpg (160, 160, 3)\n",
      "130 Yu_Shyi-kun_0004.jpg (160, 160, 3)\n",
      "131 Yu_Shyi-kun_0004.jpg (160, 160, 3)\n",
      "132 Yu_Shyi-kun_0004.jpg (160, 160, 3)\n",
      "133 Yu_Shyi-kun_0004.jpg (160, 160, 3)\n",
      "133 Zaini_Abdullah_0001.jpg (160, 160, 3)\n",
      "135 Zaini_Abdullah_0001.jpg (160, 160, 3)\n",
      "136 Zaini_Abdullah_0001.jpg (160, 160, 3)\n",
      "137 Zaini_Abdullah_0001.jpg (160, 160, 3)\n",
      "138 Zaini_Abdullah_0001.jpg (160, 160, 3)\n",
      "139 Zaini_Abdullah_0001.jpg (160, 160, 3)\n",
      "139 Zhang_Ziyi_0003.jpg (160, 160, 3)\n",
      "141 Zhang_Ziyi_0003.jpg (160, 160, 3)\n",
      "142 Zhang_Ziyi_0003.jpg (160, 160, 3)\n",
      "143 Zhang_Ziyi_0003.jpg (160, 160, 3)\n",
      "144 Zhang_Ziyi_0003.jpg (160, 160, 3)\n",
      "145 Zhang_Ziyi_0003.jpg (160, 160, 3)\n"
     ]
    },
    {
     "name": "stdout",
     "output_type": "stream",
     "text": [
      "145 Zhong_Nanshan_0001.jpg (160, 160, 3)\n",
      "147 Zhong_Nanshan_0001.jpg (160, 160, 3)\n",
      "148 Zhong_Nanshan_0001.jpg (160, 160, 3)\n",
      "149 Zhong_Nanshan_0001.jpg (160, 160, 3)\n",
      "150 Zhong_Nanshan_0001.jpg (160, 160, 3)\n",
      "151 Zhong_Nanshan_0001.jpg (160, 160, 3)\n",
      "151 Zhu_Rongji_0002.jpg (160, 160, 3)\n",
      "153 Zhu_Rongji_0002.jpg (160, 160, 3)\n",
      "154 Zhu_Rongji_0002.jpg (160, 160, 3)\n",
      "155 Zhu_Rongji_0002.jpg (160, 160, 3)\n",
      "156 Zhu_Rongji_0002.jpg (160, 160, 3)\n",
      "157 Zhu_Rongji_0002.jpg (160, 160, 3)\n",
      "157 Zoe_Ball_0001.jpg (160, 160, 3)\n",
      "159 Zoe_Ball_0001.jpg (160, 160, 3)\n",
      "160 Zoe_Ball_0001.jpg (160, 160, 3)\n",
      "161 Zoe_Ball_0001.jpg (160, 160, 3)\n",
      "162 Zoe_Ball_0001.jpg (160, 160, 3)\n",
      "163 Zoe_Ball_0001.jpg (160, 160, 3)\n",
      "163 Zurab_Tsereteli_0001.jpg (160, 160, 3)\n",
      "165 Zurab_Tsereteli_0001.jpg (160, 160, 3)\n",
      "166 Zurab_Tsereteli_0001.jpg (160, 160, 3)\n",
      "167 Zurab_Tsereteli_0001.jpg (160, 160, 3)\n",
      "168 Zurab_Tsereteli_0001.jpg (160, 160, 3)\n",
      "169 Zurab_Tsereteli_0001.jpg (160, 160, 3)\n",
      "169 Zydrunas_Ilgauskas_0001.jpg (160, 160, 3)\n",
      "171 Zydrunas_Ilgauskas_0001.jpg (160, 160, 3)\n",
      "172 Zydrunas_Ilgauskas_0001.jpg (160, 160, 3)\n",
      "173 Zydrunas_Ilgauskas_0001.jpg (160, 160, 3)\n",
      "174 Zydrunas_Ilgauskas_0001.jpg (160, 160, 3)\n",
      "175 Zydrunas_Ilgauskas_0001.jpg (160, 160, 3)\n"
     ]
    }
   ],
   "source": [
    "train , target = face_MTCNN()"
   ]
  },
  {
   "cell_type": "code",
   "execution_count": 34,
   "id": "1418d697",
   "metadata": {},
   "outputs": [
    {
     "name": "stdout",
     "output_type": "stream",
     "text": [
      "train: (174, 160, 160, 3)\n",
      "label: (174,)\n",
      "English\n"
     ]
    },
    {
     "data": {
      "text/plain": [
       "<matplotlib.image.AxesImage at 0x16fd30b3208>"
      ]
     },
     "execution_count": 34,
     "metadata": {},
     "output_type": "execute_result"
    },
    {
     "data": {
      "image/png": "[encoded data removed]",
      "text/plain": [
       "<Figure size 432x288 with 1 Axes>"
      ]
     },
     "metadata": {
      "needs_background": "light"
     },
     "output_type": "display_data"
    }
   ],
   "source": [
    "print('train:',train.shape)\n",
    "print('label:',target.shape)\n",
    "dict_new = {value:key for key,value in label_dict.items()}\n",
    "plt.axis('off')\n",
    "num = 30\n",
    "print(dict_new[target[num]])\n",
    "plt.imshow(train[num] /255.0)"
   ]
  },
  {
   "cell_type": "code",
   "execution_count": 127,
   "id": "840a23c6",
   "metadata": {},
   "outputs": [],
   "source": [
    "x_train , x_test ,y_train , y_test =  train_test_split(train , target , train_size = 0.8 ,random_state=1)"
   ]
  },
  {
   "cell_type": "code",
   "execution_count": 128,
   "id": "f32d7776",
   "metadata": {},
   "outputs": [
    {
     "name": "stdout",
     "output_type": "stream",
     "text": [
      "x_train: (139, 160, 160, 3)\n",
      "y_train: (139,)\n",
      "x_test: (35, 160, 160, 3)\n"
     ]
    }
   ],
   "source": [
    "print('x_train:'  , x_train.shape)\n",
    "print('y_train:' , y_train.shape)\n",
    "print('x_test:' ,x_test.shape)"
   ]
  },
  {
   "cell_type": "code",
   "execution_count": 129,
   "id": "8db43a1c",
   "metadata": {},
   "outputs": [],
   "source": [
    "face_model = tf.keras.models.load_model('./facenet_keras.h5' ,  compile=False)"
   ]
  },
  {
   "cell_type": "code",
   "execution_count": 130,
   "id": "636161e7",
   "metadata": {},
   "outputs": [],
   "source": [
    "def face_pixes(x):\n",
    "    train = x.astype('float32')\n",
    "    mean , std = train.mean() , train.std()\n",
    "    face_pixes = (train - mean) / std\n",
    "    return face_pixes\n"
   ]
  },
  {
   "cell_type": "code",
   "execution_count": 131,
   "id": "f5c06733",
   "metadata": {},
   "outputs": [],
   "source": [
    "x_train_pixes = face_pixes(x_train)\n",
    "x_test_pixes = face_pixes(x_test)"
   ]
  },
  {
   "cell_type": "code",
   "execution_count": 132,
   "id": "38673cd2",
   "metadata": {},
   "outputs": [],
   "source": [
    "x_train_yhat = face_model.predict(x_train_pixes)\n",
    "x_test_yhat  = face_model.predict(x_test_pixes)"
   ]
  },
  {
   "cell_type": "code",
   "execution_count": 133,
   "id": "b31420b4",
   "metadata": {},
   "outputs": [
    {
     "name": "stdout",
     "output_type": "stream",
     "text": [
      "x_train: (139, 128)\n",
      "x_test: (35, 128)\n"
     ]
    }
   ],
   "source": [
    "#將臉部特徵轉換為128個特徵向量\n",
    "print('x_train:' , x_train_yhat.shape)\n",
    "print('x_test:' , x_test_yhat.shape)"
   ]
  },
  {
   "cell_type": "code",
   "execution_count": 134,
   "id": "a3e5c23d",
   "metadata": {},
   "outputs": [],
   "source": [
    "#機器學習分類模型\n",
    "from sklearn.svm import SVC\n",
    "from sklearn.metrics import accuracy_score\n",
    "from sklearn import preprocessing"
   ]
  },
  {
   "cell_type": "code",
   "execution_count": 135,
   "id": "835999d2",
   "metadata": {},
   "outputs": [
    {
     "data": {
      "text/plain": [
       "SVC(kernel='linear')"
      ]
     },
     "execution_count": 135,
     "metadata": {},
     "output_type": "execute_result"
    }
   ],
   "source": [
    "model = SVC(kernel = 'linear')\n",
    "model.fit(x_train_yhat  , y_train)"
   ]
  },
  {
   "cell_type": "code",
   "execution_count": 136,
   "id": "8ad3b287",
   "metadata": {},
   "outputs": [
    {
     "name": "stdout",
     "output_type": "stream",
     "text": [
      "score: 0.9714285714285714\n"
     ]
    }
   ],
   "source": [
    "y_pred =  model.predict(x_test_yhat)\n",
    "print('score:' , accuracy_score(y_test , y_pred ))"
   ]
  },
  {
   "cell_type": "code",
   "execution_count": 137,
   "id": "538eb6e8",
   "metadata": {},
   "outputs": [],
   "source": [
    "#預測單張照片\n",
    "face_model = tf.keras.models.load_model('./facenet_keras.h5' ,  compile=False)\n",
    "def facenet_one_photo(img , resize=(160,160)):\n",
    "    global face_model\n",
    "    img = cv2.cvtColor(img , cv2.COLOR_BGR2RGB)\n",
    "    pixels = np.asarray(img)\n",
    "    results = detector.detect_faces(pixels)\n",
    "    x1 , y1 ,w , h=results[0]['box']\n",
    "    x1 , y1 = abs(x1) , abs(y1)\n",
    "    x2 , y2 = x1 + w , y1+h\n",
    "    face = pixels[y1:y2 , x1:x2]\n",
    "    image = PIL.Image.fromarray(face)\n",
    "    image = image.resize(resize)\n",
    "    face_array = np.asarray(image)\n",
    "    face_array = face_array.astype('float32')\n",
    "    mean , std = face_array.mean() , face_array.std()\n",
    "    face_pixes = (face_array - mean) / std\n",
    "    face_pixes = np.expand_dims(face_pixes, axis=0)\n",
    "    y_hat = face_model.predict(face_pixes)\n",
    "    return y_hat\n"
   ]
  },
  {
   "cell_type": "code",
   "execution_count": 167,
   "id": "4657d437",
   "metadata": {},
   "outputs": [],
   "source": [
    "img = cv2.imread('./face_image/sing.jpg')\n",
    "photo_hat = facenet_one_photo(img)\n",
    "p_hat = model.predict(photo_hat)"
   ]
  },
  {
   "cell_type": "code",
   "execution_count": 221,
   "id": "13c3269d",
   "metadata": {},
   "outputs": [],
   "source": [
    "def Euclidean_distance(dict1 , dict2):\n",
    "    E_list = []\n",
    "    for a, b  in zip(dict1, dict2):\n",
    "        Euclidean = np.sqrt(np.sum((a - b) ** 2))\n",
    "        E_list.append(Euclidean)\n",
    "    return  np.array(E_list)"
   ]
  },
  {
   "cell_type": "code",
   "execution_count": 190,
   "id": "9abdb31a",
   "metadata": {},
   "outputs": [],
   "source": [
    "def photo_mnn(dirPath='./data/' , resize = (160,160) ):\n",
    "    photo_list   = []\n",
    "    for file in os.listdir(dirPath) :\n",
    "        Path = dirPath + file\n",
    "        for f in  os.listdir(Path) :\n",
    "            if os.path.isfile(os.path.join(Path, f)):\n",
    "                img = cv2.imread(Path + '/'+ f)\n",
    "                img = cv2.cvtColor(img , cv2.COLOR_BGR2RGB)\n",
    "                pixels = np.asarray(img)\n",
    "                results = detector.detect_faces(pixels)\n",
    "                x1 , y1 ,w , h=results[0]['box']\n",
    "                x1 , y1 = abs(x1) , abs(y1)\n",
    "                x2 , y2 = x1 + w , y1+h\n",
    "                face = pixels[y1:y2 , x1:x2]\n",
    "                image = PIL.Image.fromarray(face)\n",
    "                image = image.resize(resize)\n",
    "                face_array = np.asarray(image)\n",
    "                mean , std = face_array.mean() , face_array.std()\n",
    "                face_pixes = (face_array - mean) / std\n",
    "                face_pixes = np.expand_dims(face_pixes, axis=0)\n",
    "                y_hat = face_model.predict(face_pixes)\n",
    "                photo_list.append(y_hat)\n",
    "    photo_list = np.asarray(photo_list)\n",
    "    return photo_list    "
   ]
  },
  {
   "cell_type": "code",
   "execution_count": 191,
   "id": "f8911478",
   "metadata": {},
   "outputs": [
    {
     "data": {
      "text/plain": [
       "(29, 1, 128)"
      ]
     },
     "execution_count": 191,
     "metadata": {},
     "output_type": "execute_result"
    }
   ],
   "source": [
    "photo_list = photo_mnn()\n",
    "photo_list.shape"
   ]
  },
  {
   "cell_type": "code",
   "execution_count": 252,
   "id": "32f4c968",
   "metadata": {},
   "outputs": [
    {
     "name": "stdout",
     "output_type": "stream",
     "text": [
      "WARNING:tensorflow:11 out of the last 78 calls to <function _make_execution_function.<locals>.distributed_function at 0x000001702B3EA438> triggered tf.function retracing. Tracing is expensive and the excessive number of tracings is likely due to passing python objects instead of tensors. Also, tf.function has experimental_relax_shapes=True option that relaxes argument shapes that can avoid unnecessary retracing. Please refer to https://www.tensorflow.org/tutorials/customization/performance#python_or_tensor_args and https://www.tensorflow.org/api_docs/python/tf/function for more details.\n",
      "WARNING:tensorflow:11 out of the last 11 calls to <function _make_execution_function.<locals>.distributed_function at 0x000001702B3EA438> triggered tf.function retracing. Tracing is expensive and the excessive number of tracings is likely due to passing python objects instead of tensors. Also, tf.function has experimental_relax_shapes=True option that relaxes argument shapes that can avoid unnecessary retracing. Please refer to https://www.tensorflow.org/tutorials/customization/performance#python_or_tensor_args and https://www.tensorflow.org/api_docs/python/tf/function for more details.\n",
      "WARNING:tensorflow:11 out of the last 11 calls to <function _make_execution_function.<locals>.distributed_function at 0x000001702B3EA438> triggered tf.function retracing. Tracing is expensive and the excessive number of tracings is likely due to passing python objects instead of tensors. Also, tf.function has experimental_relax_shapes=True option that relaxes argument shapes that can avoid unnecessary retracing. Please refer to https://www.tensorflow.org/tutorials/customization/performance#python_or_tensor_args and https://www.tensorflow.org/api_docs/python/tf/function for more details.\n",
      "WARNING:tensorflow:11 out of the last 11 calls to <function _make_execution_function.<locals>.distributed_function at 0x000001702B3EA438> triggered tf.function retracing. Tracing is expensive and the excessive number of tracings is likely due to passing python objects instead of tensors. Also, tf.function has experimental_relax_shapes=True option that relaxes argument shapes that can avoid unnecessary retracing. Please refer to https://www.tensorflow.org/tutorials/customization/performance#python_or_tensor_args and https://www.tensorflow.org/api_docs/python/tf/function for more details.\n",
      "WARNING:tensorflow:11 out of the last 11 calls to <function _make_execution_function.<locals>.distributed_function at 0x000001702B3EA438> triggered tf.function retracing. Tracing is expensive and the excessive number of tracings is likely due to passing python objects instead of tensors. Also, tf.function has experimental_relax_shapes=True option that relaxes argument shapes that can avoid unnecessary retracing. Please refer to https://www.tensorflow.org/tutorials/customization/performance#python_or_tensor_args and https://www.tensorflow.org/api_docs/python/tf/function for more details.\n",
      "WARNING:tensorflow:11 out of the last 11 calls to <function _make_execution_function.<locals>.distributed_function at 0x000001702B3EA438> triggered tf.function retracing. Tracing is expensive and the excessive number of tracings is likely due to passing python objects instead of tensors. Also, tf.function has experimental_relax_shapes=True option that relaxes argument shapes that can avoid unnecessary retracing. Please refer to https://www.tensorflow.org/tutorials/customization/performance#python_or_tensor_args and https://www.tensorflow.org/api_docs/python/tf/function for more details.\n",
      "WARNING:tensorflow:11 out of the last 11 calls to <function _make_execution_function.<locals>.distributed_function at 0x000001702B3EA438> triggered tf.function retracing. Tracing is expensive and the excessive number of tracings is likely due to passing python objects instead of tensors. Also, tf.function has experimental_relax_shapes=True option that relaxes argument shapes that can avoid unnecessary retracing. Please refer to https://www.tensorflow.org/tutorials/customization/performance#python_or_tensor_args and https://www.tensorflow.org/api_docs/python/tf/function for more details.\n",
      "WARNING:tensorflow:11 out of the last 11 calls to <function _make_execution_function.<locals>.distributed_function at 0x000001702B3EA438> triggered tf.function retracing. Tracing is expensive and the excessive number of tracings is likely due to passing python objects instead of tensors. Also, tf.function has experimental_relax_shapes=True option that relaxes argument shapes that can avoid unnecessary retracing. Please refer to https://www.tensorflow.org/tutorials/customization/performance#python_or_tensor_args and https://www.tensorflow.org/api_docs/python/tf/function for more details.\n",
      "WARNING:tensorflow:11 out of the last 11 calls to <function _make_execution_function.<locals>.distributed_function at 0x000001702B3EA438> triggered tf.function retracing. Tracing is expensive and the excessive number of tracings is likely due to passing python objects instead of tensors. Also, tf.function has experimental_relax_shapes=True option that relaxes argument shapes that can avoid unnecessary retracing. Please refer to https://www.tensorflow.org/tutorials/customization/performance#python_or_tensor_args and https://www.tensorflow.org/api_docs/python/tf/function for more details.\n",
      "WARNING:tensorflow:11 out of the last 11 calls to <function _make_execution_function.<locals>.distributed_function at 0x000001702B3EA438> triggered tf.function retracing. Tracing is expensive and the excessive number of tracings is likely due to passing python objects instead of tensors. Also, tf.function has experimental_relax_shapes=True option that relaxes argument shapes that can avoid unnecessary retracing. Please refer to https://www.tensorflow.org/tutorials/customization/performance#python_or_tensor_args and https://www.tensorflow.org/api_docs/python/tf/function for more details.\n",
      "5.68\n",
      "5\n",
      "[5]\n",
      "辨識結果: English\n"
     ]
    }
   ],
   "source": [
    "e_list = []\n",
    "p_hat = None\n",
    "img = cv2.imread('./face_image/english.jpg')\n",
    "photo_hat = facenet_one_photo(img)\n",
    "\n",
    "for p in photo_list :\n",
    "    e = round(np.linalg.norm(photo_hat[0] - p[0]), 2)\n",
    "    e_list.append(e)\n",
    "\n",
    "t = 20\n",
    "for i , e_tag in enumerate(e_list):\n",
    "    if e_tag < 9 :\n",
    "        print(e_tag)\n",
    "        print(i)\n",
    "        p_hat = model.predict(photo_hat)\n",
    "        print(p_hat)\n",
    "        break\n",
    "        \n",
    "if p_hat !=None:\n",
    "    print('辨識結果:' , dict_new[int(p_hat)])\n",
    "else:\n",
    "    print('沒有此人' )\n",
    "        \n"
   ]
  },
  {
   "cell_type": "code",
   "execution_count": null,
   "id": "a5dc9d2d",
   "metadata": {},
   "outputs": [],
   "source": [
    "detector = mtcnn.MTCNN()\n",
    "def face_MTCNN(dirPath='./data/' , resize = (160,160) ):\n",
    "    global detector\n",
    "    global label_dict\n",
    "    img_list = []\n",
    "    label = []\n",
    "    label_dict=dict()\n",
    "    for num,file in enumerate(os.listdir(dirPath)):\n",
    "        label_dict[file] = num\n",
    "    i = 1\n",
    "    for file in os.listdir(dirPath) :\n",
    "        Path = dirPath + file\n",
    "        for f in  os.listdir(Path) :\n",
    "            if os.path.isfile(os.path.join(Path, f)):\n",
    "                img = cv2.imread(Path + '/'+ f)\n",
    "                img = cv2.cvtColor(img , cv2.COLOR_BGR2RGB)\n",
    "                pixels = np.asarray(img)\n",
    "                results = detector.detect_faces(pixels)\n",
    "                x1 , y1 ,w , h=results[0]['box']\n",
    "                x1 , y1 = abs(x1) , abs(y1)\n",
    "                x2 , y2 = x1 + w , y1+h\n",
    "                face = pixels[y1:y2 , x1:x2]\n",
    "                image = PIL.Image.fromarray(face)\n",
    "                image = image.resize(resize)\n",
    "                face_array = np.asarray(image)\n",
    "                img_list.append(face_array)\n",
    "                label.append(label_dict[file])\n",
    "                print(i , f , face_array.shape)\n",
    "                i += 1\n",
    "                for _ in range(5):\n",
    "                    up_img = tf.image.random_flip_up_down(face_array)\n",
    "                    right_img = tf.image.random_flip_left_right(up_img)\n",
    "                    img_list.append(right_img)\n",
    "                    label.append(label_dict[file])\n",
    "                    i += 1\n",
    "                    print(i , f , right_img.shape)\n",
    "    train = np.asarray(img_list)\n",
    "    target = np.asarray(label)   \n",
    "    return train , target\n"
   ]
  }
 ],
 "metadata": {
  "kernelspec": {
   "display_name": "Python 3",
   "language": "python",
   "name": "python3"
  },
  "language_info": {
   "codemirror_mode": {
    "name": "ipython",
    "version": 3
   },
   "file_extension": ".py",
   "mimetype": "text/x-python",
   "name": "python",
   "nbconvert_exporter": "python",
   "pygments_lexer": "ipython3",
   "version": "3.7.10"
  }
 },
 "nbformat": 4,
 "nbformat_minor": 5
}
