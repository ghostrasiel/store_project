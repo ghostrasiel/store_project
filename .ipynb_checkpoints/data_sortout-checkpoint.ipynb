{
 "cells": [
  {
   "cell_type": "markdown",
   "id": "4a0a3df0",
   "metadata": {},
   "source": [
    "## Trader_joe Food"
   ]
  },
  {
   "cell_type": "code",
   "execution_count": 1,
   "id": "236784db",
   "metadata": {},
   "outputs": [
    {
     "data": {
      "text/html": [
       "<div>\n",
       "<style scoped>\n",
       "    .dataframe tbody tr th:only-of-type {\n",
       "        vertical-align: middle;\n",
       "    }\n",
       "\n",
       "    .dataframe tbody tr th {\n",
       "        vertical-align: top;\n",
       "    }\n",
       "\n",
       "    .dataframe thead th {\n",
       "        text-align: right;\n",
       "    }\n",
       "</style>\n",
       "<table border=\"1\" class=\"dataframe\">\n",
       "  <thead>\n",
       "    <tr style=\"text-align: right;\">\n",
       "      <th></th>\n",
       "      <th>商品名</th>\n",
       "      <th>規格</th>\n",
       "      <th>描述</th>\n",
       "      <th>價格</th>\n",
       "      <th>大分類</th>\n",
       "      <th>中分類</th>\n",
       "      <th>圖片url</th>\n",
       "      <th>圖片名</th>\n",
       "      <th>路徑</th>\n",
       "    </tr>\n",
       "  </thead>\n",
       "  <tbody>\n",
       "    <tr>\n",
       "      <th>0</th>\n",
       "      <td>Organic Fair Trade Wake Up Blend Ground Coffee</td>\n",
       "      <td>14 Oz</td>\n",
       "      <td>Wake Up Blend is a mix of organically grown, f...</td>\n",
       "      <td>7.49</td>\n",
       "      <td>Beverages</td>\n",
       "      <td>Coffee &amp; Tea</td>\n",
       "      <td>https://www.traderjoes.com//content/dam/trjo/p...</td>\n",
       "      <td>Organic Fair Trade Wake Up Blend Ground Coffee...</td>\n",
       "      <td>./Amazon_image/Organic Fair Trade Wake Up Blen...</td>\n",
       "    </tr>\n",
       "    <tr>\n",
       "      <th>1</th>\n",
       "      <td>Organic Fair Trade Wake Up Blend Coffee</td>\n",
       "      <td>28 Oz</td>\n",
       "      <td>It’s time to wake up and smell the coffee. Lit...</td>\n",
       "      <td>14.99</td>\n",
       "      <td>Beverages</td>\n",
       "      <td>Coffee &amp; Tea</td>\n",
       "      <td>https://www.traderjoes.com//content/dam/trjo/p...</td>\n",
       "      <td>Organic Fair Trade Wake Up Blend Coffee.jpg</td>\n",
       "      <td>./Amazon_image/Organic Fair Trade Wake Up Blen...</td>\n",
       "    </tr>\n",
       "    <tr>\n",
       "      <th>2</th>\n",
       "      <td>Matcha Green Tea Powder</td>\n",
       "      <td>0.37 Oz</td>\n",
       "      <td>Tea is important in Japan. It's at the center ...</td>\n",
       "      <td>6.99</td>\n",
       "      <td>Beverages</td>\n",
       "      <td>Coffee &amp; Tea</td>\n",
       "      <td>https://www.traderjoes.com//content/dam/trjo/p...</td>\n",
       "      <td>Matcha Green Tea Powder.jpg</td>\n",
       "      <td>./Amazon_image/Matcha Green Tea Powder.jpg</td>\n",
       "    </tr>\n",
       "    <tr>\n",
       "      <th>3</th>\n",
       "      <td>Deli Style Corned Beef Flavor Dog Treats</td>\n",
       "      <td>4 Oz</td>\n",
       "      <td>For us humans, corned beef is primarily associ...</td>\n",
       "      <td>2.99</td>\n",
       "      <td>Everything Else</td>\n",
       "      <td>Pet Stuff</td>\n",
       "      <td>https://www.traderjoes.com//content/dam/trjo/p...</td>\n",
       "      <td>Deli Style Corned Beef Flavor Dog Treats.jpg</td>\n",
       "      <td>./Amazon_image/Deli Style Corned Beef Flavor D...</td>\n",
       "    </tr>\n",
       "    <tr>\n",
       "      <th>4</th>\n",
       "      <td>Reusable Produce Bags</td>\n",
       "      <td>1 Each</td>\n",
       "      <td>Peter Piper picked a peck of pickled peppers.....</td>\n",
       "      <td>1.99</td>\n",
       "      <td>Everything Else</td>\n",
       "      <td>Household Essentials</td>\n",
       "      <td>https://www.traderjoes.com//content/dam/trjo/p...</td>\n",
       "      <td>Reusable Produce Bags.jpg</td>\n",
       "      <td>./Amazon_image/Reusable Produce Bags.jpg</td>\n",
       "    </tr>\n",
       "  </tbody>\n",
       "</table>\n",
       "</div>"
      ],
      "text/plain": [
       "                                              商品名       規格  \\\n",
       "0  Organic Fair Trade Wake Up Blend Ground Coffee    14 Oz   \n",
       "1         Organic Fair Trade Wake Up Blend Coffee    28 Oz   \n",
       "2                         Matcha Green Tea Powder  0.37 Oz   \n",
       "3        Deli Style Corned Beef Flavor Dog Treats     4 Oz   \n",
       "4                           Reusable Produce Bags   1 Each   \n",
       "\n",
       "                                                  描述     價格              大分類  \\\n",
       "0  Wake Up Blend is a mix of organically grown, f...   7.49        Beverages   \n",
       "1  It’s time to wake up and smell the coffee. Lit...  14.99        Beverages   \n",
       "2  Tea is important in Japan. It's at the center ...   6.99        Beverages   \n",
       "3  For us humans, corned beef is primarily associ...   2.99  Everything Else   \n",
       "4  Peter Piper picked a peck of pickled peppers.....   1.99  Everything Else   \n",
       "\n",
       "                    中分類                                              圖片url  \\\n",
       "0          Coffee & Tea  https://www.traderjoes.com//content/dam/trjo/p...   \n",
       "1          Coffee & Tea  https://www.traderjoes.com//content/dam/trjo/p...   \n",
       "2          Coffee & Tea  https://www.traderjoes.com//content/dam/trjo/p...   \n",
       "3             Pet Stuff  https://www.traderjoes.com//content/dam/trjo/p...   \n",
       "4  Household Essentials  https://www.traderjoes.com//content/dam/trjo/p...   \n",
       "\n",
       "                                                 圖片名  \\\n",
       "0  Organic Fair Trade Wake Up Blend Ground Coffee...   \n",
       "1        Organic Fair Trade Wake Up Blend Coffee.jpg   \n",
       "2                        Matcha Green Tea Powder.jpg   \n",
       "3       Deli Style Corned Beef Flavor Dog Treats.jpg   \n",
       "4                          Reusable Produce Bags.jpg   \n",
       "\n",
       "                                                  路徑  \n",
       "0  ./Amazon_image/Organic Fair Trade Wake Up Blen...  \n",
       "1  ./Amazon_image/Organic Fair Trade Wake Up Blen...  \n",
       "2         ./Amazon_image/Matcha Green Tea Powder.jpg  \n",
       "3  ./Amazon_image/Deli Style Corned Beef Flavor D...  \n",
       "4           ./Amazon_image/Reusable Produce Bags.jpg  "
      ]
     },
     "execution_count": 1,
     "metadata": {},
     "output_type": "execute_result"
    }
   ],
   "source": [
    "#FooD\n",
    "import pandas as pd\n",
    "import os\n",
    "file = os.getcwd()\n",
    "df  = pd.read_csv(f'{file}\\data\\Trader_joe.csv' , encoding='utf-8-sig')\n",
    "df.head()"
   ]
  },
  {
   "cell_type": "code",
   "execution_count": 2,
   "id": "88709a69",
   "metadata": {},
   "outputs": [
    {
     "name": "stdout",
     "output_type": "stream",
     "text": [
      "<class 'pandas.core.frame.DataFrame'>\n",
      "RangeIndex: 445 entries, 0 to 444\n",
      "Data columns (total 9 columns):\n",
      " #   Column  Non-Null Count  Dtype  \n",
      "---  ------  --------------  -----  \n",
      " 0   商品名     445 non-null    object \n",
      " 1   規格      444 non-null    object \n",
      " 2   描述      443 non-null    object \n",
      " 3   價格      445 non-null    float64\n",
      " 4   大分類     444 non-null    object \n",
      " 5   中分類     443 non-null    object \n",
      " 6   圖片url   445 non-null    object \n",
      " 7   圖片名     445 non-null    object \n",
      " 8   路徑      445 non-null    object \n",
      "dtypes: float64(1), object(8)\n",
      "memory usage: 31.4+ KB\n"
     ]
    }
   ],
   "source": [
    "df.info()"
   ]
  },
  {
   "cell_type": "code",
   "execution_count": 3,
   "id": "cc7a87d6",
   "metadata": {},
   "outputs": [
    {
     "data": {
      "text/html": [
       "<div>\n",
       "<style scoped>\n",
       "    .dataframe tbody tr th:only-of-type {\n",
       "        vertical-align: middle;\n",
       "    }\n",
       "\n",
       "    .dataframe tbody tr th {\n",
       "        vertical-align: top;\n",
       "    }\n",
       "\n",
       "    .dataframe thead th {\n",
       "        text-align: right;\n",
       "    }\n",
       "</style>\n",
       "<table border=\"1\" class=\"dataframe\">\n",
       "  <thead>\n",
       "    <tr style=\"text-align: right;\">\n",
       "      <th></th>\n",
       "      <th>商品名</th>\n",
       "      <th>規格</th>\n",
       "      <th>描述</th>\n",
       "      <th>價格</th>\n",
       "      <th>大分類</th>\n",
       "      <th>中分類</th>\n",
       "      <th>圖片url</th>\n",
       "      <th>圖片名</th>\n",
       "      <th>路徑</th>\n",
       "    </tr>\n",
       "  </thead>\n",
       "  <tbody>\n",
       "    <tr>\n",
       "      <th>170</th>\n",
       "      <td>Sauerkraut with Pickled Persian Cucumbers</td>\n",
       "      <td>18 Oz</td>\n",
       "      <td>You might not expect it at first glance, but T...</td>\n",
       "      <td>3.99</td>\n",
       "      <td>Snacks &amp; Sweets</td>\n",
       "      <td>NaN</td>\n",
       "      <td>https://www.traderjoes.com//content/dam/trjo/p...</td>\n",
       "      <td>Sauerkraut with Pickled Persian Cucumbers.jpg</td>\n",
       "      <td>./Amazon_image/Sauerkraut with Pickled Persian...</td>\n",
       "    </tr>\n",
       "    <tr>\n",
       "      <th>237</th>\n",
       "      <td>Shredded Pizza Seasoned Toscano Cheese</td>\n",
       "      <td>8 Oz</td>\n",
       "      <td>What makes this tasty Trader Joe's Shredded Pi...</td>\n",
       "      <td>4.49</td>\n",
       "      <td>NaN</td>\n",
       "      <td>NaN</td>\n",
       "      <td>https://www.traderjoes.com//content/dam/trjo/p...</td>\n",
       "      <td>Shredded Pizza Seasoned Toscano Cheese.jpg</td>\n",
       "      <td>./Amazon_image/Shredded Pizza Seasoned Toscano...</td>\n",
       "    </tr>\n",
       "  </tbody>\n",
       "</table>\n",
       "</div>"
      ],
      "text/plain": [
       "                                           商品名     規格  \\\n",
       "170  Sauerkraut with Pickled Persian Cucumbers  18 Oz   \n",
       "237     Shredded Pizza Seasoned Toscano Cheese   8 Oz   \n",
       "\n",
       "                                                    描述    價格              大分類  \\\n",
       "170  You might not expect it at first glance, but T...  3.99  Snacks & Sweets   \n",
       "237  What makes this tasty Trader Joe's Shredded Pi...  4.49              NaN   \n",
       "\n",
       "     中分類                                              圖片url  \\\n",
       "170  NaN  https://www.traderjoes.com//content/dam/trjo/p...   \n",
       "237  NaN  https://www.traderjoes.com//content/dam/trjo/p...   \n",
       "\n",
       "                                               圖片名  \\\n",
       "170  Sauerkraut with Pickled Persian Cucumbers.jpg   \n",
       "237     Shredded Pizza Seasoned Toscano Cheese.jpg   \n",
       "\n",
       "                                                    路徑  \n",
       "170  ./Amazon_image/Sauerkraut with Pickled Persian...  \n",
       "237  ./Amazon_image/Shredded Pizza Seasoned Toscano...  "
      ]
     },
     "execution_count": 3,
     "metadata": {},
     "output_type": "execute_result"
    }
   ],
   "source": [
    "df[(df.大分類.isna()) | (df.中分類.isna())]"
   ]
  },
  {
   "cell_type": "code",
   "execution_count": 4,
   "id": "ca912fa0",
   "metadata": {},
   "outputs": [
    {
     "data": {
      "text/plain": [
       "array(['Beverages', 'Everything Else', 'Food', 'Flowers & Plants',\n",
       "       'Snacks & Sweets', nan], dtype=object)"
      ]
     },
     "execution_count": 4,
     "metadata": {},
     "output_type": "execute_result"
    }
   ],
   "source": [
    "df.大分類.unique()"
   ]
  },
  {
   "cell_type": "code",
   "execution_count": 5,
   "id": "a40f58b2",
   "metadata": {},
   "outputs": [],
   "source": [
    "df.loc[170 , '中分類'] = 'Snacks & Sweets'\n",
    "df.loc[170 , '大分類'] = 'Food'\n",
    "df.loc[237 , '大分類'] = 'Food'\n",
    "df.loc[270 , '中分類'] = 'Cheese'"
   ]
  },
  {
   "cell_type": "code",
   "execution_count": 6,
   "id": "6357f426",
   "metadata": {},
   "outputs": [
    {
     "data": {
      "text/plain": [
       "array(['Beverages', 'Everything Else', 'Food', 'Flowers & Plants'],\n",
       "      dtype=object)"
      ]
     },
     "execution_count": 6,
     "metadata": {},
     "output_type": "execute_result"
    }
   ],
   "source": [
    "df.大分類.unique()"
   ]
  },
  {
   "cell_type": "code",
   "execution_count": 7,
   "id": "91bbfd11",
   "metadata": {},
   "outputs": [],
   "source": [
    "# df.商品名.value_counts() > 1\n",
    "df=df.drop_duplicates(subset=['商品名'] , ignore_index=False).reset_index()\n",
    "# df = df.reset_index()"
   ]
  },
  {
   "cell_type": "code",
   "execution_count": 8,
   "id": "477a49de",
   "metadata": {},
   "outputs": [
    {
     "data": {
      "text/plain": [
       "Free & Clear Liquid Laundry Detergent    False\n",
       "Italian Truffle Cheese                   False\n",
       "Scandinavian Swimmers                    False\n",
       "Mediterranean Style Orzo Pasta Salad     False\n",
       "Almond Butter Puffs Cereal               False\n",
       "                                         ...  \n",
       "A Za'atar Tango Salad Kit                False\n",
       "Avocado Tzatziki Dip                     False\n",
       "Joe Light Roast Ground Coffee            False\n",
       "Avocado Spray Oil                        False\n",
       "Organic Kiwi                             False\n",
       "Name: 商品名, Length: 442, dtype: bool"
      ]
     },
     "execution_count": 8,
     "metadata": {},
     "output_type": "execute_result"
    }
   ],
   "source": [
    "df.商品名.value_counts() > 1"
   ]
  },
  {
   "cell_type": "code",
   "execution_count": 9,
   "id": "2e0b1aa6",
   "metadata": {},
   "outputs": [
    {
     "name": "stdout",
     "output_type": "stream",
     "text": [
      "<class 'pandas.core.frame.DataFrame'>\n",
      "RangeIndex: 442 entries, 0 to 441\n",
      "Data columns (total 10 columns):\n",
      " #   Column  Non-Null Count  Dtype  \n",
      "---  ------  --------------  -----  \n",
      " 0   index   442 non-null    int64  \n",
      " 1   商品名     442 non-null    object \n",
      " 2   規格      441 non-null    object \n",
      " 3   描述      440 non-null    object \n",
      " 4   價格      442 non-null    float64\n",
      " 5   大分類     442 non-null    object \n",
      " 6   中分類     441 non-null    object \n",
      " 7   圖片url   442 non-null    object \n",
      " 8   圖片名     442 non-null    object \n",
      " 9   路徑      442 non-null    object \n",
      "dtypes: float64(1), int64(1), object(8)\n",
      "memory usage: 34.7+ KB\n"
     ]
    }
   ],
   "source": [
    "df.info()"
   ]
  },
  {
   "cell_type": "markdown",
   "id": "64dbe508",
   "metadata": {},
   "source": [
    "## Amazon"
   ]
  },
  {
   "cell_type": "code",
   "execution_count": 10,
   "id": "c0b4e0e6",
   "metadata": {},
   "outputs": [
    {
     "data": {
      "text/html": [
       "<div>\n",
       "<style scoped>\n",
       "    .dataframe tbody tr th:only-of-type {\n",
       "        vertical-align: middle;\n",
       "    }\n",
       "\n",
       "    .dataframe tbody tr th {\n",
       "        vertical-align: top;\n",
       "    }\n",
       "\n",
       "    .dataframe thead th {\n",
       "        text-align: right;\n",
       "    }\n",
       "</style>\n",
       "<table border=\"1\" class=\"dataframe\">\n",
       "  <thead>\n",
       "    <tr style=\"text-align: right;\">\n",
       "      <th></th>\n",
       "      <th>中分類</th>\n",
       "      <th>商品名</th>\n",
       "      <th>價格</th>\n",
       "      <th>商品描述</th>\n",
       "      <th>評論數</th>\n",
       "      <th>評分</th>\n",
       "      <th>圖片url</th>\n",
       "    </tr>\n",
       "  </thead>\n",
       "  <tbody>\n",
       "    <tr>\n",
       "      <th>0</th>\n",
       "      <td>FRZN ICE</td>\n",
       "      <td>Everydrop by Whirlpool F2WC9I1 Ice Filter, 1 Pack</td>\n",
       "      <td>$44.99</td>\n",
       "      <td>Make sure this fits by entering your Ice Maker...</td>\n",
       "      <td>Price and other details may vary based on size...</td>\n",
       "      <td>4.7</td>\n",
       "      <td>https://m.media-amazon.com/images/I/612uv3FOP3...</td>\n",
       "    </tr>\n",
       "    <tr>\n",
       "      <th>1</th>\n",
       "      <td>FRZN ICE</td>\n",
       "      <td>Everydrop by Whirlpool F2WC9I1 Ice Filter, 1 Pack</td>\n",
       "      <td>$44.99</td>\n",
       "      <td>Make sure this fits by entering your Ice Maker...</td>\n",
       "      <td>296</td>\n",
       "      <td>4.7</td>\n",
       "      <td>https://m.media-amazon.com/images/I/612uv3FOP3...</td>\n",
       "    </tr>\n",
       "    <tr>\n",
       "      <th>2</th>\n",
       "      <td>FRZN ICE</td>\n",
       "      <td>EveryDrop by Whirlpool 10383251 Refrigerator W...</td>\n",
       "      <td>$43.06</td>\n",
       "      <td>Make sure this fits by entering your refrigera...</td>\n",
       "      <td>48,587</td>\n",
       "      <td>4.7</td>\n",
       "      <td>https://m.media-amazon.com/images/I/71qWmYU+e3...</td>\n",
       "    </tr>\n",
       "    <tr>\n",
       "      <th>3</th>\n",
       "      <td>FRZN ICE</td>\n",
       "      <td>IKICH Portable Ice Maker Machine for Counterto...</td>\n",
       "      <td>$122.99</td>\n",
       "      <td>MAKE YOU GET ICE QUICKLY IN 6 MINUTES: IKICH q...</td>\n",
       "      <td>2,760</td>\n",
       "      <td>4.6</td>\n",
       "      <td>https://m.media-amazon.com/images/I/71-3uHTzHI...</td>\n",
       "    </tr>\n",
       "    <tr>\n",
       "      <th>4</th>\n",
       "      <td>FRZN ICE</td>\n",
       "      <td>Circulating Cold Water Therapy Kit by Arctic I...</td>\n",
       "      <td>$209.99</td>\n",
       "      <td>DIGITAL CONTROLS: The built-in LCD screen and ...</td>\n",
       "      <td>40</td>\n",
       "      <td>4.1</td>\n",
       "      <td>https://m.media-amazon.com/images/I/71kGQftPjH...</td>\n",
       "    </tr>\n",
       "  </tbody>\n",
       "</table>\n",
       "</div>"
      ],
      "text/plain": [
       "        中分類                                                商品名       價格  \\\n",
       "0  FRZN ICE  Everydrop by Whirlpool F2WC9I1 Ice Filter, 1 Pack   $44.99   \n",
       "1  FRZN ICE  Everydrop by Whirlpool F2WC9I1 Ice Filter, 1 Pack   $44.99   \n",
       "2  FRZN ICE  EveryDrop by Whirlpool 10383251 Refrigerator W...   $43.06   \n",
       "3  FRZN ICE  IKICH Portable Ice Maker Machine for Counterto...  $122.99   \n",
       "4  FRZN ICE  Circulating Cold Water Therapy Kit by Arctic I...  $209.99   \n",
       "\n",
       "                                                商品描述  \\\n",
       "0  Make sure this fits by entering your Ice Maker...   \n",
       "1  Make sure this fits by entering your Ice Maker...   \n",
       "2  Make sure this fits by entering your refrigera...   \n",
       "3  MAKE YOU GET ICE QUICKLY IN 6 MINUTES: IKICH q...   \n",
       "4  DIGITAL CONTROLS: The built-in LCD screen and ...   \n",
       "\n",
       "                                                 評論數   評分  \\\n",
       "0  Price and other details may vary based on size...  4.7   \n",
       "1                                                296  4.7   \n",
       "2                                             48,587  4.7   \n",
       "3                                              2,760  4.6   \n",
       "4                                                 40  4.1   \n",
       "\n",
       "                                               圖片url  \n",
       "0  https://m.media-amazon.com/images/I/612uv3FOP3...  \n",
       "1  https://m.media-amazon.com/images/I/612uv3FOP3...  \n",
       "2  https://m.media-amazon.com/images/I/71qWmYU+e3...  \n",
       "3  https://m.media-amazon.com/images/I/71-3uHTzHI...  \n",
       "4  https://m.media-amazon.com/images/I/71kGQftPjH...  "
      ]
     },
     "execution_count": 10,
     "metadata": {},
     "output_type": "execute_result"
    }
   ],
   "source": [
    "Adf  = pd.read_csv(f'{file}\\data\\Amazon_product.csv' , encoding='utf-8-sig')\n",
    "Adf.head()"
   ]
  },
  {
   "cell_type": "code",
   "execution_count": 11,
   "id": "5d3379da",
   "metadata": {},
   "outputs": [
    {
     "name": "stdout",
     "output_type": "stream",
     "text": [
      "<class 'pandas.core.frame.DataFrame'>\n",
      "RangeIndex: 7899 entries, 0 to 7898\n",
      "Data columns (total 7 columns):\n",
      " #   Column  Non-Null Count  Dtype  \n",
      "---  ------  --------------  -----  \n",
      " 0   中分類     7899 non-null   object \n",
      " 1   商品名     7899 non-null   object \n",
      " 2   價格      7899 non-null   object \n",
      " 3   商品描述    6442 non-null   object \n",
      " 4   評論數     7899 non-null   object \n",
      " 5   評分      7899 non-null   float64\n",
      " 6   圖片url   7899 non-null   object \n",
      "dtypes: float64(1), object(6)\n",
      "memory usage: 432.1+ KB\n"
     ]
    }
   ],
   "source": [
    "Adf.info()"
   ]
  },
  {
   "cell_type": "code",
   "execution_count": 12,
   "id": "bf94c880",
   "metadata": {},
   "outputs": [],
   "source": [
    "def reset_price(x):\n",
    "    x = x.replace('$' ,'')\n",
    "    return x\n",
    "\n",
    "Adf['價格'] = Adf.價格.apply(reset_price)"
   ]
  },
  {
   "cell_type": "code",
   "execution_count": 13,
   "id": "60d9fe79",
   "metadata": {},
   "outputs": [],
   "source": [
    "Adf['評論數']=pd.to_numeric(Adf['評論數'] , errors='coerce' , downcast='integer' )\n",
    "Adf['價格']=pd.to_numeric(Adf['價格'] , errors='coerce' , downcast='integer' )\n",
    "Adf['評分']=pd.to_numeric(Adf['評分'] , errors='coerce' , downcast='integer' )"
   ]
  },
  {
   "cell_type": "code",
   "execution_count": 14,
   "id": "c192d390",
   "metadata": {},
   "outputs": [],
   "source": [
    "# Adf[Adf.價格.isna()]\n",
    "Adf = Adf[~Adf.價格.isna()]"
   ]
  },
  {
   "cell_type": "code",
   "execution_count": 15,
   "id": "72532e99",
   "metadata": {},
   "outputs": [],
   "source": [
    "# Adf.商品名.value_counts() > 1\n",
    "Adf=Adf.drop_duplicates(subset=['商品名'] , ignore_index=False).reset_index()"
   ]
  },
  {
   "cell_type": "code",
   "execution_count": 16,
   "id": "bdbfd402",
   "metadata": {},
   "outputs": [
    {
     "data": {
      "text/html": [
       "<div>\n",
       "<style scoped>\n",
       "    .dataframe tbody tr th:only-of-type {\n",
       "        vertical-align: middle;\n",
       "    }\n",
       "\n",
       "    .dataframe tbody tr th {\n",
       "        vertical-align: top;\n",
       "    }\n",
       "\n",
       "    .dataframe thead th {\n",
       "        text-align: right;\n",
       "    }\n",
       "</style>\n",
       "<table border=\"1\" class=\"dataframe\">\n",
       "  <thead>\n",
       "    <tr style=\"text-align: right;\">\n",
       "      <th></th>\n",
       "      <th>評論數</th>\n",
       "      <th>評分</th>\n",
       "    </tr>\n",
       "  </thead>\n",
       "  <tbody>\n",
       "    <tr>\n",
       "      <th>3</th>\n",
       "      <td>40.0</td>\n",
       "      <td>4.1</td>\n",
       "    </tr>\n",
       "    <tr>\n",
       "      <th>7</th>\n",
       "      <td>110.0</td>\n",
       "      <td>4.0</td>\n",
       "    </tr>\n",
       "    <tr>\n",
       "      <th>8</th>\n",
       "      <td>38.0</td>\n",
       "      <td>4.4</td>\n",
       "    </tr>\n",
       "    <tr>\n",
       "      <th>9</th>\n",
       "      <td>56.0</td>\n",
       "      <td>4.4</td>\n",
       "    </tr>\n",
       "    <tr>\n",
       "      <th>13</th>\n",
       "      <td>480.0</td>\n",
       "      <td>4.4</td>\n",
       "    </tr>\n",
       "    <tr>\n",
       "      <th>...</th>\n",
       "      <td>...</td>\n",
       "      <td>...</td>\n",
       "    </tr>\n",
       "    <tr>\n",
       "      <th>5561</th>\n",
       "      <td>196.0</td>\n",
       "      <td>4.2</td>\n",
       "    </tr>\n",
       "    <tr>\n",
       "      <th>5562</th>\n",
       "      <td>10.0</td>\n",
       "      <td>2.6</td>\n",
       "    </tr>\n",
       "    <tr>\n",
       "      <th>5564</th>\n",
       "      <td>12.0</td>\n",
       "      <td>4.7</td>\n",
       "    </tr>\n",
       "    <tr>\n",
       "      <th>5565</th>\n",
       "      <td>7.0</td>\n",
       "      <td>4.1</td>\n",
       "    </tr>\n",
       "    <tr>\n",
       "      <th>5566</th>\n",
       "      <td>16.0</td>\n",
       "      <td>4.7</td>\n",
       "    </tr>\n",
       "  </tbody>\n",
       "</table>\n",
       "<p>3626 rows × 2 columns</p>\n",
       "</div>"
      ],
      "text/plain": [
       "        評論數   評分\n",
       "3      40.0  4.1\n",
       "7     110.0  4.0\n",
       "8      38.0  4.4\n",
       "9      56.0  4.4\n",
       "13    480.0  4.4\n",
       "...     ...  ...\n",
       "5561  196.0  4.2\n",
       "5562   10.0  2.6\n",
       "5564   12.0  4.7\n",
       "5565    7.0  4.1\n",
       "5566   16.0  4.7\n",
       "\n",
       "[3626 rows x 2 columns]"
      ]
     },
     "execution_count": 16,
     "metadata": {},
     "output_type": "execute_result"
    }
   ],
   "source": [
    "Adf[~Adf.評論數.isna()][['評論數' , '評分']]"
   ]
  },
  {
   "cell_type": "code",
   "execution_count": 17,
   "id": "0ec25ab3",
   "metadata": {},
   "outputs": [
    {
     "data": {
      "image/png": "[encoded data removed]",
      "text/plain": [
       "<Figure size 360x360 with 6 Axes>"
      ]
     },
     "metadata": {
      "needs_background": "light"
     },
     "output_type": "display_data"
    }
   ],
   "source": [
    "import matplotlib.pyplot as plt\n",
    "from scipy import stats\n",
    "plt.figure(5 , figsize=(5,5))\n",
    "plt.subplot(321)\n",
    "plt.scatter(x = Adf[~Adf.評論數.isna()]['評分'] , y=Adf[~Adf.評論數.isna()]['評論數'])\n",
    "z_scores = stats.zscore(Adf[~Adf.評論數.isna()]['評論數'])\n",
    "Adf[~Adf.評論數.isna()]['評論數'][(abs(z_scores) < 3)]\n",
    "plt.subplot(322)\n",
    "plt.scatter(x = Adf[~Adf.評論數.isna()]['評分'][(abs(z_scores) < 3)] , y=Adf[~Adf.評論數.isna()]['評論數'][(abs(z_scores) < 3)])\n",
    "plt.subplot(323)\n",
    "plt.scatter(x = Adf[~Adf.評論數.isna()]['評分'][(abs(z_scores) < 3) & ((Adf[~Adf.評論數.isna()]['評分'] > 3.9) & (Adf[~Adf.評論數.isna()]['評分'] < 5.0) )] ,\n",
    "            y=Adf[~Adf.評論數.isna()]['評論數'][(abs(z_scores) < 3) & ((Adf[~Adf.評論數.isna()]['評分'] > 3.9) & (Adf[~Adf.評論數.isna()]['評分'] < 5.0) )])\n",
    "plt.subplot(324)\n",
    "plt.scatter(x = Adf[~Adf.評論數.isna()]['評分'][(abs(z_scores) < 3) & ((Adf[~Adf.評論數.isna()]['評分'] == 5.0) )] ,\n",
    "            y=Adf[~Adf.評論數.isna()]['評論數'][(abs(z_scores) < 3) & ((Adf[~Adf.評論數.isna()]['評分'] == 5.0) )])\n",
    "plt.subplot(325)\n",
    "plt.scatter(x = Adf[~Adf.評論數.isna()]['評分'][(abs(z_scores) < 3) & ((Adf[~Adf.評論數.isna()]['評分'] > 1.9) & (Adf[~Adf.評論數.isna()]['評分'] < 3.0) )] ,\n",
    "            y=Adf[~Adf.評論數.isna()]['評論數'][(abs(z_scores) < 3) & ((Adf[~Adf.評論數.isna()]['評分'] > 1.9) & (Adf[~Adf.評論數.isna()]['評分'] < 3.0) )])\n",
    "\n",
    "plt.subplot(326)\n",
    "plt.scatter(x = Adf[~Adf.評論數.isna()]['評分'][(abs(z_scores) < 3) & ((Adf[~Adf.評論數.isna()]['評分'] >= 1.0) & (Adf[~Adf.評論數.isna()]['評分'] < 2.0) )] ,\n",
    "            y=Adf[~Adf.評論數.isna()]['評論數'][(abs(z_scores) < 3) & ((Adf[~Adf.評論數.isna()]['評分'] >= 1.0) & (Adf[~Adf.評論數.isna()]['評分'] < 2.0) )])\n",
    "\n",
    "\n",
    "plt.show()"
   ]
  },
  {
   "cell_type": "code",
   "execution_count": 18,
   "id": "73c83d60",
   "metadata": {},
   "outputs": [],
   "source": [
    "#採用平均數補遺失值\n",
    "import numpy as np\n",
    "one=round(np.mean(Adf[~Adf.評論數.isna()][['評論數']][(abs(z_scores) < 3) & ((Adf[~Adf.評論數.isna()]['評分'] >= 1.0) & (Adf[~Adf.評論數.isna()]['評分'] < 2.0) )]),0)\n",
    "two=round(np.mean(Adf[~Adf.評論數.isna()]['評論數'][(abs(z_scores) < 3) & ((Adf[~Adf.評論數.isna()]['評分'] > 1.9) & (Adf[~Adf.評論數.isna()]['評分'] < 3.0) )]),0)\n",
    "three = round(np.mean(Adf[~Adf.評論數.isna()]['評論數'][(abs(z_scores) < 3) & ((Adf[~Adf.評論數.isna()]['評分'] > 2.9) & (Adf[~Adf.評論數.isna()]['評分'] < 4.0) )]),0)\n",
    "four =round(np.mean(Adf[~Adf.評論數.isna()]['評論數'][(abs(z_scores) < 3) & ((Adf[~Adf.評論數.isna()]['評分'] > 3.9) & (Adf[~Adf.評論數.isna()]['評分'] < 5.0) )]) , 0)\n",
    "five = round(np.mean(Adf[~Adf.評論數.isna()]['評論數'][(abs(z_scores) < 3) & ((Adf[~Adf.評論數.isna()]['評分'] == 5.0) )]),0)"
   ]
  },
  {
   "cell_type": "code",
   "execution_count": 19,
   "id": "6c2fc3a7",
   "metadata": {},
   "outputs": [
    {
     "name": "stderr",
     "output_type": "stream",
     "text": [
      "<ipython-input-19-b7b60e9ea40c>:1: SettingWithCopyWarning: \n",
      "A value is trying to be set on a copy of a slice from a DataFrame\n",
      "\n",
      "See the caveats in the documentation: https://pandas.pydata.org/pandas-docs/stable/user_guide/indexing.html#returning-a-view-versus-a-copy\n",
      "  Adf['評論數'][(Adf['評分'] >= 0.9) & (Adf['評分'] <= 1.9)] = Adf.評論數[(Adf['評分'] >= 1.0) & (Adf['評分'] <= 1.9)].fillna(one[0])\n",
      "<ipython-input-19-b7b60e9ea40c>:2: SettingWithCopyWarning: \n",
      "A value is trying to be set on a copy of a slice from a DataFrame\n",
      "\n",
      "See the caveats in the documentation: https://pandas.pydata.org/pandas-docs/stable/user_guide/indexing.html#returning-a-view-versus-a-copy\n",
      "  Adf['評論數'][(Adf['評分'] >= 2.0) & (Adf['評分'] <= 2.9)] = Adf.評論數[(Adf['評分'] >= 2.0) & (Adf['評分'] <= 2.9)].fillna(two)\n",
      "<ipython-input-19-b7b60e9ea40c>:3: SettingWithCopyWarning: \n",
      "A value is trying to be set on a copy of a slice from a DataFrame\n",
      "\n",
      "See the caveats in the documentation: https://pandas.pydata.org/pandas-docs/stable/user_guide/indexing.html#returning-a-view-versus-a-copy\n",
      "  Adf['評論數'][(Adf['評分'] >= 3.0) & (Adf['評分'] <= 3.9)] = Adf.評論數[(Adf['評分'] >= 3.0) & (Adf['評分'] <= 3.9)].fillna(three)\n",
      "<ipython-input-19-b7b60e9ea40c>:4: SettingWithCopyWarning: \n",
      "A value is trying to be set on a copy of a slice from a DataFrame\n",
      "\n",
      "See the caveats in the documentation: https://pandas.pydata.org/pandas-docs/stable/user_guide/indexing.html#returning-a-view-versus-a-copy\n",
      "  Adf['評論數'][(Adf['評分'] >= 4.0) & (Adf['評分'] <= 4.9)] = Adf.評論數[(Adf['評分'] >= 4.0) & (Adf['評分'] <= 4.9)].fillna(four)\n",
      "<ipython-input-19-b7b60e9ea40c>:5: SettingWithCopyWarning: \n",
      "A value is trying to be set on a copy of a slice from a DataFrame\n",
      "\n",
      "See the caveats in the documentation: https://pandas.pydata.org/pandas-docs/stable/user_guide/indexing.html#returning-a-view-versus-a-copy\n",
      "  Adf['評論數'][(Adf['評分'] == 5.0)] = Adf.評論數[(Adf['評分'] == 5.0)].fillna(five)\n"
     ]
    }
   ],
   "source": [
    "Adf['評論數'][(Adf['評分'] >= 0.9) & (Adf['評分'] <= 1.9)] = Adf.評論數[(Adf['評分'] >= 1.0) & (Adf['評分'] <= 1.9)].fillna(one[0])\n",
    "Adf['評論數'][(Adf['評分'] >= 2.0) & (Adf['評分'] <= 2.9)] = Adf.評論數[(Adf['評分'] >= 2.0) & (Adf['評分'] <= 2.9)].fillna(two)\n",
    "Adf['評論數'][(Adf['評分'] >= 3.0) & (Adf['評分'] <= 3.9)] = Adf.評論數[(Adf['評分'] >= 3.0) & (Adf['評分'] <= 3.9)].fillna(three)\n",
    "Adf['評論數'][(Adf['評分'] >= 4.0) & (Adf['評分'] <= 4.9)] = Adf.評論數[(Adf['評分'] >= 4.0) & (Adf['評分'] <= 4.9)].fillna(four)\n",
    "Adf['評論數'][(Adf['評分'] == 5.0)] = Adf.評論數[(Adf['評分'] == 5.0)].fillna(five)"
   ]
  },
  {
   "cell_type": "code",
   "execution_count": 20,
   "id": "731a849a",
   "metadata": {},
   "outputs": [],
   "source": [
    "Adf.loc[[793 , 1092 , 4492] , '評論數'] = one[0]"
   ]
  },
  {
   "cell_type": "code",
   "execution_count": 21,
   "id": "9073024f",
   "metadata": {},
   "outputs": [
    {
     "name": "stdout",
     "output_type": "stream",
     "text": [
      "<class 'pandas.core.frame.DataFrame'>\n",
      "RangeIndex: 5567 entries, 0 to 5566\n",
      "Data columns (total 8 columns):\n",
      " #   Column  Non-Null Count  Dtype  \n",
      "---  ------  --------------  -----  \n",
      " 0   index   5567 non-null   int64  \n",
      " 1   大分類     5567 non-null   object \n",
      " 2   商品名     5567 non-null   object \n",
      " 3   價格      5567 non-null   float64\n",
      " 4   商品描述    4335 non-null   object \n",
      " 5   評論數     5567 non-null   float64\n",
      " 6   評分      5567 non-null   float64\n",
      " 7   圖片url   5567 non-null   object \n",
      "dtypes: float64(3), int64(1), object(4)\n",
      "memory usage: 348.1+ KB\n"
     ]
    }
   ],
   "source": [
    "Adf = Adf.rename(columns={'中分類':'大分類'})\n",
    "Adf.info()"
   ]
  },
  {
   "cell_type": "code",
   "execution_count": 22,
   "id": "7c9280c1",
   "metadata": {},
   "outputs": [
    {
     "data": {
      "text/html": [
       "<div>\n",
       "<style scoped>\n",
       "    .dataframe tbody tr th:only-of-type {\n",
       "        vertical-align: middle;\n",
       "    }\n",
       "\n",
       "    .dataframe tbody tr th {\n",
       "        vertical-align: top;\n",
       "    }\n",
       "\n",
       "    .dataframe thead th {\n",
       "        text-align: right;\n",
       "    }\n",
       "</style>\n",
       "<table border=\"1\" class=\"dataframe\">\n",
       "  <thead>\n",
       "    <tr style=\"text-align: right;\">\n",
       "      <th></th>\n",
       "      <th>index</th>\n",
       "      <th>大分類</th>\n",
       "      <th>商品名</th>\n",
       "      <th>價格</th>\n",
       "      <th>商品描述</th>\n",
       "      <th>評論數</th>\n",
       "      <th>評分</th>\n",
       "      <th>圖片url</th>\n",
       "    </tr>\n",
       "  </thead>\n",
       "  <tbody>\n",
       "    <tr>\n",
       "      <th>0</th>\n",
       "      <td>0</td>\n",
       "      <td>FRZN ICE</td>\n",
       "      <td>Everydrop by Whirlpool F2WC9I1 Ice Filter, 1 Pack</td>\n",
       "      <td>44.99</td>\n",
       "      <td>Make sure this fits by entering your Ice Maker...</td>\n",
       "      <td>221.0</td>\n",
       "      <td>4.7</td>\n",
       "      <td>https://m.media-amazon.com/images/I/612uv3FOP3...</td>\n",
       "    </tr>\n",
       "    <tr>\n",
       "      <th>1</th>\n",
       "      <td>1</td>\n",
       "      <td>FRZN ICE</td>\n",
       "      <td>EveryDrop by Whirlpool 10383251 Refrigerator W...</td>\n",
       "      <td>43.06</td>\n",
       "      <td>Make sure this fits by entering your refrigera...</td>\n",
       "      <td>221.0</td>\n",
       "      <td>4.7</td>\n",
       "      <td>https://m.media-amazon.com/images/I/71qWmYU+e3...</td>\n",
       "    </tr>\n",
       "    <tr>\n",
       "      <th>2</th>\n",
       "      <td>2</td>\n",
       "      <td>FRZN ICE</td>\n",
       "      <td>IKICH Portable Ice Maker Machine for Counterto...</td>\n",
       "      <td>122.99</td>\n",
       "      <td>MAKE YOU GET ICE QUICKLY IN 6 MINUTES: IKICH q...</td>\n",
       "      <td>221.0</td>\n",
       "      <td>4.6</td>\n",
       "      <td>https://m.media-amazon.com/images/I/71-3uHTzHI...</td>\n",
       "    </tr>\n",
       "    <tr>\n",
       "      <th>3</th>\n",
       "      <td>3</td>\n",
       "      <td>FRZN ICE</td>\n",
       "      <td>Circulating Cold Water Therapy Kit by Arctic I...</td>\n",
       "      <td>209.99</td>\n",
       "      <td>DIGITAL CONTROLS: The built-in LCD screen and ...</td>\n",
       "      <td>40.0</td>\n",
       "      <td>4.1</td>\n",
       "      <td>https://m.media-amazon.com/images/I/71kGQftPjH...</td>\n",
       "    </tr>\n",
       "    <tr>\n",
       "      <th>4</th>\n",
       "      <td>4</td>\n",
       "      <td>FRZN ICE</td>\n",
       "      <td>Rester's Choice Ice Pack for Injuries Reusable...</td>\n",
       "      <td>11.97</td>\n",
       "      <td>RELIEVE PAIN EASILY - This reusable ice pad ra...</td>\n",
       "      <td>221.0</td>\n",
       "      <td>4.7</td>\n",
       "      <td>https://m.media-amazon.com/images/I/61yjm1sSx1...</td>\n",
       "    </tr>\n",
       "  </tbody>\n",
       "</table>\n",
       "</div>"
      ],
      "text/plain": [
       "   index       大分類                                                商品名      價格  \\\n",
       "0      0  FRZN ICE  Everydrop by Whirlpool F2WC9I1 Ice Filter, 1 Pack   44.99   \n",
       "1      1  FRZN ICE  EveryDrop by Whirlpool 10383251 Refrigerator W...   43.06   \n",
       "2      2  FRZN ICE  IKICH Portable Ice Maker Machine for Counterto...  122.99   \n",
       "3      3  FRZN ICE  Circulating Cold Water Therapy Kit by Arctic I...  209.99   \n",
       "4      4  FRZN ICE  Rester's Choice Ice Pack for Injuries Reusable...   11.97   \n",
       "\n",
       "                                                商品描述    評論數   評分  \\\n",
       "0  Make sure this fits by entering your Ice Maker...  221.0  4.7   \n",
       "1  Make sure this fits by entering your refrigera...  221.0  4.7   \n",
       "2  MAKE YOU GET ICE QUICKLY IN 6 MINUTES: IKICH q...  221.0  4.6   \n",
       "3  DIGITAL CONTROLS: The built-in LCD screen and ...   40.0  4.1   \n",
       "4  RELIEVE PAIN EASILY - This reusable ice pad ra...  221.0  4.7   \n",
       "\n",
       "                                               圖片url  \n",
       "0  https://m.media-amazon.com/images/I/612uv3FOP3...  \n",
       "1  https://m.media-amazon.com/images/I/71qWmYU+e3...  \n",
       "2  https://m.media-amazon.com/images/I/71-3uHTzHI...  \n",
       "3  https://m.media-amazon.com/images/I/71kGQftPjH...  \n",
       "4  https://m.media-amazon.com/images/I/61yjm1sSx1...  "
      ]
     },
     "execution_count": 22,
     "metadata": {},
     "output_type": "execute_result"
    }
   ],
   "source": [
    "Adf.drop(['index'],axis =1 , inplace=True)\n",
    "Adf.reset_index(inplace=True)\n",
    "Adf.head()"
   ]
  }
 ],
 "metadata": {
  "kernelspec": {
   "display_name": "Python 3",
   "language": "python",
   "name": "python3"
  },
  "language_info": {
   "codemirror_mode": {
    "name": "ipython",
    "version": 3
   },
   "file_extension": ".py",
   "mimetype": "text/x-python",
   "name": "python",
   "nbconvert_exporter": "python",
   "pygments_lexer": "ipython3",
   "version": "3.9.4"
  }
 },
 "nbformat": 4,
 "nbformat_minor": 5
}
