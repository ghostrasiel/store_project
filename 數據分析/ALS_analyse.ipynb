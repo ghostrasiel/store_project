{
 "cells": [
  {
   "cell_type": "markdown",
   "metadata": {},
   "source": [
    "### https://medium.com/@patelneha1495/recommendation-system-in-python-using-als-algorithm-and-apache-spark-27aca08eaab3"
   ]
  },
  {
   "cell_type": "code",
   "execution_count": 1,
   "metadata": {},
   "outputs": [
    {
     "data": {
      "text/html": [
       "\n",
       "            <div>\n",
       "                <p><b>SparkSession - hive</b></p>\n",
       "                \n",
       "        <div>\n",
       "            <p><b>SparkContext</b></p>\n",
       "\n",
       "            <p><a href=\"http://192.168.248.128:4040\">Spark UI</a></p>\n",
       "\n",
       "            <dl>\n",
       "              <dt>Version</dt>\n",
       "                <dd><code>v2.4.5</code></dd>\n",
       "              <dt>Master</dt>\n",
       "                <dd><code>spark://devenv:7077</code></dd>\n",
       "              <dt>AppName</dt>\n",
       "                <dd><code>PySparkShell</code></dd>\n",
       "            </dl>\n",
       "        </div>\n",
       "        \n",
       "            </div>\n",
       "        "
      ],
      "text/plain": [
       "<pyspark.sql.session.SparkSession at 0x7fa44c4f5790>"
      ]
     },
     "execution_count": 1,
     "metadata": {},
     "output_type": "execute_result"
    }
   ],
   "source": [
    "spark"
   ]
  },
  {
   "cell_type": "code",
   "execution_count": 2,
   "metadata": {},
   "outputs": [
    {
     "data": {
      "text/html": [
       "\n",
       "        <div>\n",
       "            <p><b>SparkContext</b></p>\n",
       "\n",
       "            <p><a href=\"http://192.168.248.128:4040\">Spark UI</a></p>\n",
       "\n",
       "            <dl>\n",
       "              <dt>Version</dt>\n",
       "                <dd><code>v2.4.5</code></dd>\n",
       "              <dt>Master</dt>\n",
       "                <dd><code>spark://devenv:7077</code></dd>\n",
       "              <dt>AppName</dt>\n",
       "                <dd><code>PySparkShell</code></dd>\n",
       "            </dl>\n",
       "        </div>\n",
       "        "
      ],
      "text/plain": [
       "<SparkContext master=spark://devenv:7077 appName=PySparkShell>"
      ]
     },
     "execution_count": 2,
     "metadata": {},
     "output_type": "execute_result"
    }
   ],
   "source": [
    "sc"
   ]
  },
  {
   "cell_type": "code",
   "execution_count": 3,
   "metadata": {},
   "outputs": [],
   "source": [
    "df = spark.read.csv(\"hdfs://devenv/kaggle_file/ratings_COMMODITY_DESC.csv\",header=True,\n",
    "                   schema=\"COMMODITY_DESC string, household_key string, QUANTITY Integer,\\\n",
    "                   BASKET_ID string, rating float, rating_label Integer\") "
   ]
  },
  {
   "cell_type": "code",
   "execution_count": 4,
   "metadata": {},
   "outputs": [
    {
     "name": "stdout",
     "output_type": "stream",
     "text": [
      "+------------------------------+-------------+--------+---------+------+------------+\n",
      "|COMMODITY_DESC                |household_key|QUANTITY|BASKET_ID|rating|rating_label|\n",
      "+------------------------------+-------------+--------+---------+------+------------+\n",
      "|YOGURT                        |2500         |118     |100      |1.18  |5           |\n",
      "|WATER - CARBONATED/FLVRD DRINK|2500         |8       |100      |0.08  |1           |\n",
      "|WAREHOUSE SNACKS              |2500         |31      |100      |0.31  |3           |\n",
      "|VITAMINS                      |2500         |6       |100      |0.06  |1           |\n",
      "|VEGETABLES SALAD              |2500         |1       |100      |0.01  |1           |\n",
      "|VEGETABLES - SHELF STABLE     |2500         |75      |100      |0.75  |4           |\n",
      "|VEGETABLES - ALL OTHERS       |2500         |7       |100      |0.07  |1           |\n",
      "|VALUE ADDED FRUIT             |2500         |2       |100      |0.02  |1           |\n",
      "|VALENTINE                     |2500         |3       |100      |0.03  |1           |\n",
      "|TROPICAL FRUIT                |2500         |24      |100      |0.24  |2           |\n",
      "+------------------------------+-------------+--------+---------+------+------------+\n",
      "only showing top 10 rows\n",
      "\n"
     ]
    }
   ],
   "source": [
    "df.show(10,truncate=False)"
   ]
  },
  {
   "cell_type": "code",
   "execution_count": 5,
   "metadata": {},
   "outputs": [],
   "source": [
    "df_new = df.select(df['COMMODITY_DESC'],df['household_key'],df['rating_label'])"
   ]
  },
  {
   "cell_type": "code",
   "execution_count": 6,
   "metadata": {},
   "outputs": [
    {
     "name": "stdout",
     "output_type": "stream",
     "text": [
      "+--------------------+-------------+------------+\n",
      "|      COMMODITY_DESC|household_key|rating_label|\n",
      "+--------------------+-------------+------------+\n",
      "|              YOGURT|         2500|           5|\n",
      "|WATER - CARBONATE...|         2500|           1|\n",
      "|    WAREHOUSE SNACKS|         2500|           3|\n",
      "|            VITAMINS|         2500|           1|\n",
      "|    VEGETABLES SALAD|         2500|           1|\n",
      "|VEGETABLES - SHEL...|         2500|           4|\n",
      "|VEGETABLES - ALL ...|         2500|           1|\n",
      "|   VALUE ADDED FRUIT|         2500|           1|\n",
      "|           VALENTINE|         2500|           1|\n",
      "|      TROPICAL FRUIT|         2500|           2|\n",
      "|            TOMATOES|         2500|           1|\n",
      "|             TICKETS|         2500|           1|\n",
      "|                TEAS|         2500|           1|\n",
      "|     SYRUPS/TOPPINGS|         2500|           1|\n",
      "|    SUGARS/SWEETNERS|         2500|           1|\n",
      "|         STONE FRUIT|         2500|           1|\n",
      "|STATIONERY & SCHO...|         2500|           1|\n",
      "|              SQUASH|         2500|           1|\n",
      "|SPRING/SUMMER SEA...|         2500|           1|\n",
      "| SPORTS MEMORABLILIA|         2500|           1|\n",
      "+--------------------+-------------+------------+\n",
      "only showing top 20 rows\n",
      "\n"
     ]
    }
   ],
   "source": [
    "df_new.show()"
   ]
  },
  {
   "cell_type": "markdown",
   "metadata": {},
   "source": [
    "### Importing important modules"
   ]
  },
  {
   "cell_type": "code",
   "execution_count": 7,
   "metadata": {},
   "outputs": [],
   "source": [
    "from pyspark.ml.evaluation import RegressionEvaluator\n",
    "from pyspark.ml.recommendation import ALS"
   ]
  },
  {
   "cell_type": "markdown",
   "metadata": {},
   "source": [
    "### Converting String to index \n",
    "- Before making an ALS model it needs to be clear that ALS only accepts integer value as parameters. Hence we need to convert asin and reviewerID column in index form.\n",
    "- StringIndexer \n",
    " - MLlib method\n",
    " - A label indexer that maps a string column of labels to an ML column of label indices. If the input column is numeric, we cast it to string and index the string values."
   ]
  },
  {
   "cell_type": "code",
   "execution_count": 8,
   "metadata": {},
   "outputs": [
    {
     "name": "stdout",
     "output_type": "stream",
     "text": [
      "+--------------------+-------------+------------+--------------------+-------------------+\n",
      "|      COMMODITY_DESC|household_key|rating_label|COMMODITY_DESC_index|household_key_index|\n",
      "+--------------------+-------------+------------+--------------------+-------------------+\n",
      "|              YOGURT|         2500|           5|                52.0|              234.0|\n",
      "|WATER - CARBONATE...|         2500|           1|                34.0|              234.0|\n",
      "|    WAREHOUSE SNACKS|         2500|           3|                81.0|              234.0|\n",
      "|            VITAMINS|         2500|           1|               162.0|              234.0|\n",
      "|    VEGETABLES SALAD|         2500|           1|                65.0|              234.0|\n",
      "|VEGETABLES - SHEL...|         2500|           4|                15.0|              234.0|\n",
      "|VEGETABLES - ALL ...|         2500|           1|                35.0|              234.0|\n",
      "|   VALUE ADDED FRUIT|         2500|           1|               104.0|              234.0|\n",
      "|           VALENTINE|         2500|           1|               217.0|              234.0|\n",
      "|      TROPICAL FRUIT|         2500|           2|                11.0|              234.0|\n",
      "|            TOMATOES|         2500|           1|                37.0|              234.0|\n",
      "|             TICKETS|         2500|           1|               216.0|              234.0|\n",
      "|                TEAS|         2500|           1|               125.0|              234.0|\n",
      "|     SYRUPS/TOPPINGS|         2500|           1|               180.0|              234.0|\n",
      "|    SUGARS/SWEETNERS|         2500|           1|                38.0|              234.0|\n",
      "|         STONE FRUIT|         2500|           1|               102.0|              234.0|\n",
      "|STATIONERY & SCHO...|         2500|           1|               100.0|              234.0|\n",
      "|              SQUASH|         2500|           1|               190.0|              234.0|\n",
      "|SPRING/SUMMER SEA...|         2500|           1|               139.0|              234.0|\n",
      "| SPORTS MEMORABLILIA|         2500|           1|               244.0|              234.0|\n",
      "+--------------------+-------------+------------+--------------------+-------------------+\n",
      "only showing top 20 rows\n",
      "\n"
     ]
    }
   ],
   "source": [
    "from pyspark.ml.feature import StringIndexer\n",
    "from pyspark.ml import Pipeline\n",
    "from pyspark.sql.functions import col\n",
    "\n",
    "# encoding\n",
    "indexer = [StringIndexer(inputCol=column, outputCol=column+\"_index\") for column in list(set(df_new.columns)-set(['rating_label']))]\n",
    "\n",
    "# encoding 簡單一點的寫法\n",
    "#indexer = [StringIndexer(inputCol=column, outputCol=column+\"_index\") for column in ['COMMODITY_DESC','household_key']]\n",
    "\n",
    "\n",
    "# make pipeline\n",
    "pipeline = Pipeline(stages=indexer)\n",
    "\n",
    "# fit and transform\n",
    "transformed = pipeline.fit(df_new).transform(df_new)\n",
    "\n",
    "transformed.show()"
   ]
  },
  {
   "cell_type": "markdown",
   "metadata": {},
   "source": [
    "### Creating training and test data"
   ]
  },
  {
   "cell_type": "code",
   "execution_count": 9,
   "metadata": {},
   "outputs": [],
   "source": [
    "(training,test)=transformed.randomSplit([0.8, 0.2])"
   ]
  },
  {
   "cell_type": "markdown",
   "metadata": {},
   "source": [
    "### Creating ALS model and fitting data\n",
    "- rating_label type must be numeric"
   ]
  },
  {
   "cell_type": "markdown",
   "metadata": {},
   "source": [
    "### https://www.twblogs.net/a/5c2917d6bd9eee01606d2f58\n",
    "### https://codertw.com/%E7%A8%8B%E5%BC%8F%E8%AA%9E%E8%A8%80/563826/\n",
    "### https://medium.com/@patelneha1495/recommendation-system-in-python-using-als-algorithm-and-apache-spark-27aca08eaab3"
   ]
  },
  {
   "cell_type": "code",
   "execution_count": 10,
   "metadata": {},
   "outputs": [],
   "source": [
    "als=ALS(maxIter=5, # 算法迭代次數 maximum number of iterations\n",
    "        regParam=0.09, #正則項權重\n",
    "        rank=25, #模型中隱藏因子數目\n",
    "        userCol=\"household_key_index\", #column name for user ids. Ids must be (or can be coerced into) integers.\n",
    "        itemCol=\"COMMODITY_DESC_index\", #column name for item ids. Ids must be (or can be coerced into) integers.\n",
    "        ratingCol=\"rating_label\", #column name for ratings\n",
    "        coldStartStrategy=\"drop\", #drop any rows in the DataFrame of predictions that contain NaN values.\n",
    "        nonnegative=True) #商品推薦分數是否是非負的\n",
    "\n",
    "\n",
    "model=als.fit(training)"
   ]
  },
  {
   "cell_type": "markdown",
   "metadata": {},
   "source": [
    "### Generate predictions and evaluate rmse"
   ]
  },
  {
   "cell_type": "code",
   "execution_count": 11,
   "metadata": {},
   "outputs": [
    {
     "name": "stdout",
     "output_type": "stream",
     "text": [
      "RMSE=0.6552114646946966\n"
     ]
    }
   ],
   "source": [
    "evaluator=RegressionEvaluator(metricName=\"rmse\",labelCol=\"rating_label\",predictionCol=\"prediction\")\n",
    "\n",
    "predictions=model.transform(test)\n",
    "\n",
    "rmse=evaluator.evaluate(predictions) # Evaluates the output with optional parameters.\n",
    "print(\"RMSE=\"+str(rmse))"
   ]
  },
  {
   "cell_type": "code",
   "execution_count": 12,
   "metadata": {},
   "outputs": [
    {
     "data": {
      "text/html": [
       "<div>\n",
       "<style scoped>\n",
       "    .dataframe tbody tr th:only-of-type {\n",
       "        vertical-align: middle;\n",
       "    }\n",
       "\n",
       "    .dataframe tbody tr th {\n",
       "        vertical-align: top;\n",
       "    }\n",
       "\n",
       "    .dataframe thead th {\n",
       "        text-align: right;\n",
       "    }\n",
       "</style>\n",
       "<table border=\"1\" class=\"dataframe\">\n",
       "  <thead>\n",
       "    <tr style=\"text-align: right;\">\n",
       "      <th></th>\n",
       "      <th>COMMODITY_DESC</th>\n",
       "      <th>household_key</th>\n",
       "      <th>rating_label</th>\n",
       "      <th>COMMODITY_DESC_index</th>\n",
       "      <th>household_key_index</th>\n",
       "      <th>prediction</th>\n",
       "    </tr>\n",
       "  </thead>\n",
       "  <tbody>\n",
       "    <tr>\n",
       "      <th>0</th>\n",
       "      <td>PIES</td>\n",
       "      <td>712</td>\n",
       "      <td>1</td>\n",
       "      <td>148.0</td>\n",
       "      <td>148.0</td>\n",
       "      <td>1.010163</td>\n",
       "    </tr>\n",
       "    <tr>\n",
       "      <th>1</th>\n",
       "      <td>PIES</td>\n",
       "      <td>1074</td>\n",
       "      <td>1</td>\n",
       "      <td>148.0</td>\n",
       "      <td>471.0</td>\n",
       "      <td>1.103986</td>\n",
       "    </tr>\n",
       "    <tr>\n",
       "      <th>2</th>\n",
       "      <td>PIES</td>\n",
       "      <td>108</td>\n",
       "      <td>1</td>\n",
       "      <td>148.0</td>\n",
       "      <td>496.0</td>\n",
       "      <td>1.051257</td>\n",
       "    </tr>\n",
       "    <tr>\n",
       "      <th>3</th>\n",
       "      <td>PIES</td>\n",
       "      <td>1887</td>\n",
       "      <td>1</td>\n",
       "      <td>148.0</td>\n",
       "      <td>2142.0</td>\n",
       "      <td>0.872743</td>\n",
       "    </tr>\n",
       "    <tr>\n",
       "      <th>4</th>\n",
       "      <td>PIES</td>\n",
       "      <td>2186</td>\n",
       "      <td>1</td>\n",
       "      <td>148.0</td>\n",
       "      <td>392.0</td>\n",
       "      <td>0.986116</td>\n",
       "    </tr>\n",
       "    <tr>\n",
       "      <th>...</th>\n",
       "      <td>...</td>\n",
       "      <td>...</td>\n",
       "      <td>...</td>\n",
       "      <td>...</td>\n",
       "      <td>...</td>\n",
       "      <td>...</td>\n",
       "    </tr>\n",
       "    <tr>\n",
       "      <th>56206</th>\n",
       "      <td>SOAP - LIQUID &amp; BAR</td>\n",
       "      <td>2386</td>\n",
       "      <td>1</td>\n",
       "      <td>89.0</td>\n",
       "      <td>1768.0</td>\n",
       "      <td>0.897220</td>\n",
       "    </tr>\n",
       "    <tr>\n",
       "      <th>56207</th>\n",
       "      <td>SOAP - LIQUID &amp; BAR</td>\n",
       "      <td>987</td>\n",
       "      <td>1</td>\n",
       "      <td>89.0</td>\n",
       "      <td>755.0</td>\n",
       "      <td>0.964064</td>\n",
       "    </tr>\n",
       "    <tr>\n",
       "      <th>56208</th>\n",
       "      <td>SOAP - LIQUID &amp; BAR</td>\n",
       "      <td>2329</td>\n",
       "      <td>1</td>\n",
       "      <td>89.0</td>\n",
       "      <td>656.0</td>\n",
       "      <td>0.964178</td>\n",
       "    </tr>\n",
       "    <tr>\n",
       "      <th>56209</th>\n",
       "      <td>SOAP - LIQUID &amp; BAR</td>\n",
       "      <td>1263</td>\n",
       "      <td>1</td>\n",
       "      <td>89.0</td>\n",
       "      <td>521.0</td>\n",
       "      <td>1.036623</td>\n",
       "    </tr>\n",
       "    <tr>\n",
       "      <th>56210</th>\n",
       "      <td>SOAP - LIQUID &amp; BAR</td>\n",
       "      <td>194</td>\n",
       "      <td>1</td>\n",
       "      <td>89.0</td>\n",
       "      <td>963.0</td>\n",
       "      <td>0.932243</td>\n",
       "    </tr>\n",
       "  </tbody>\n",
       "</table>\n",
       "<p>56211 rows × 6 columns</p>\n",
       "</div>"
      ],
      "text/plain": [
       "            COMMODITY_DESC household_key  rating_label  COMMODITY_DESC_index  \\\n",
       "0                     PIES           712             1                 148.0   \n",
       "1                     PIES          1074             1                 148.0   \n",
       "2                     PIES           108             1                 148.0   \n",
       "3                     PIES          1887             1                 148.0   \n",
       "4                     PIES          2186             1                 148.0   \n",
       "...                    ...           ...           ...                   ...   \n",
       "56206  SOAP - LIQUID & BAR          2386             1                  89.0   \n",
       "56207  SOAP - LIQUID & BAR           987             1                  89.0   \n",
       "56208  SOAP - LIQUID & BAR          2329             1                  89.0   \n",
       "56209  SOAP - LIQUID & BAR          1263             1                  89.0   \n",
       "56210  SOAP - LIQUID & BAR           194             1                  89.0   \n",
       "\n",
       "       household_key_index  prediction  \n",
       "0                    148.0    1.010163  \n",
       "1                    471.0    1.103986  \n",
       "2                    496.0    1.051257  \n",
       "3                   2142.0    0.872743  \n",
       "4                    392.0    0.986116  \n",
       "...                    ...         ...  \n",
       "56206               1768.0    0.897220  \n",
       "56207                755.0    0.964064  \n",
       "56208                656.0    0.964178  \n",
       "56209                521.0    1.036623  \n",
       "56210                963.0    0.932243  \n",
       "\n",
       "[56211 rows x 6 columns]"
      ]
     },
     "execution_count": 12,
     "metadata": {},
     "output_type": "execute_result"
    }
   ],
   "source": [
    "predictions.toPandas()"
   ]
  },
  {
   "cell_type": "markdown",
   "metadata": {},
   "source": [
    "### Providing Recommendations"
   ]
  },
  {
   "cell_type": "code",
   "execution_count": 13,
   "metadata": {},
   "outputs": [
    {
     "name": "stdout",
     "output_type": "stream",
     "text": [
      "+-------------------+--------------------+\n",
      "|household_key_index|     recommendations|\n",
      "+-------------------+--------------------+\n",
      "|               1580|[[1, 4.4278526], ...|\n",
      "|                471|[[1, 3.5909238], ...|\n",
      "|               1591|[[2, 2.901849], [...|\n",
      "|               1342|[[1, 4.235496], [...|\n",
      "|               2122|[[1, 2.9703712], ...|\n",
      "|               2142|[[0, 2.4845362], ...|\n",
      "|                463|[[1, 3.4036214], ...|\n",
      "|                833|[[1, 2.844586], [...|\n",
      "|               1645|[[1, 2.9448593], ...|\n",
      "|                496|[[52, 3.2631984],...|\n",
      "+-------------------+--------------------+\n",
      "only showing top 10 rows\n",
      "\n"
     ]
    }
   ],
   "source": [
    "# Generate top 20 recommendations for each user\n",
    "\n",
    "user_recs=model.recommendForAllUsers(20).show(10)"
   ]
  },
  {
   "cell_type": "markdown",
   "metadata": {},
   "source": [
    "### Converting back to string form"
   ]
  },
  {
   "cell_type": "code",
   "execution_count": 14,
   "metadata": {},
   "outputs": [
    {
     "name": "stderr",
     "output_type": "stream",
     "text": [
      "/home/spark/anaconda3/lib/python3.7/site-packages/ipykernel_launcher.py:39: SettingWithCopyWarning: \n",
      "A value is trying to be set on a copy of a slice from a DataFrame.\n",
      "Try using .loc[row_indexer,col_indexer] = value instead\n",
      "\n",
      "See the caveats in the documentation: https://pandas.pydata.org/pandas-docs/stable/user_guide/indexing.html#returning-a-view-versus-a-copy\n"
     ]
    },
    {
     "name": "stdout",
     "output_type": "stream",
     "text": [
      "     household_key                                    recommendations\n",
      "0                1  [YOGURT, CHEESE, FRZN MEAT/MEAT DINNERS, FLUID...\n",
      "1              100  [SOUP, FROZEN PIZZA, VEGETABLES - SHELF STABLE...\n",
      "2             1000  [BABY FOODS, YOGURT, CHEESE, FRZN MEAT/MEAT DI...\n",
      "3             1001  [SOUP, CHEESE, BAKED BREAD/BUNS/ROLLS, BOTTLE ...\n",
      "4             1002  [CHEESE, YOGURT, BAG SNACKS, SOUP, FROZEN PIZZ...\n",
      "...            ...                                                ...\n",
      "2385           995  [BAG SNACKS, SOFT DRINKS, FLUID MILK PRODUCTS,...\n",
      "2386           996  [FLUID MILK PRODUCTS, BABY FOODS, SOUP, YOGURT...\n",
      "2387           997  [FRZN MEAT/MEAT DINNERS, BAG SNACKS, SOFT DRIN...\n",
      "2388           998  [FRZN MEAT/MEAT DINNERS, BAKED BREAD/BUNS/ROLL...\n",
      "2389           999  [BABY FOODS, FROZEN PIZZA, FRZN MEAT/MEAT DINN...\n",
      "\n",
      "[2390 rows x 2 columns]\n"
     ]
    }
   ],
   "source": [
    "import pandas as pd\n",
    "\n",
    "# Generate top 10 recommendations for each user\n",
    "recs=model.recommendForAllUsers(10).toPandas()\n",
    "\n",
    "\n",
    "nrecs=recs.recommendations.apply(pd.Series) \\\n",
    "            .merge(recs, right_index = True, left_index = True) \\\n",
    "            .drop([\"recommendations\"], axis = 1) \\\n",
    "            .melt(id_vars = ['household_key_index'], value_name = \"recommendation\") \\\n",
    "            .drop(\"variable\", axis = 1) \\\n",
    "            .dropna()\n",
    "nrecs=nrecs.sort_values('household_key_index')\n",
    "\n",
    "nrecs=pd.concat([nrecs['recommendation'].apply(pd.Series), nrecs['household_key_index']], axis = 1)\n",
    "nrecs.columns = [\n",
    "        \n",
    "        'ProductID_index',\n",
    "        'Rating',\n",
    "        'UserID_index']\n",
    "\n",
    "# raw data\n",
    "md=transformed.select(transformed['household_key'],transformed['household_key_index'],transformed['COMMODITY_DESC'],transformed['COMMODITY_DESC_index'])\n",
    "md=md.toPandas()\n",
    "\n",
    "\n",
    "dict1 =dict(zip(md['household_key_index'],md['household_key']))\n",
    "dict2=dict(zip(md['COMMODITY_DESC_index'],md['COMMODITY_DESC']))\n",
    "\n",
    "\n",
    "nrecs['household_key']=nrecs['UserID_index'].map(dict1)\n",
    "nrecs['ProductID']=nrecs['ProductID_index'].map(dict2)\n",
    "nrecs=nrecs.sort_values('household_key')\n",
    "nrecs.reset_index(drop=True, inplace=True)\n",
    "\n",
    "\n",
    "new=nrecs[['household_key','ProductID','Rating']]\n",
    "#new['recommendations'] = list(zip(new.ProductID, new.Rating))\n",
    "new['recommendations'] = list(new.ProductID)\n",
    "\n",
    "\n",
    "res=new[['household_key','recommendations']]  \n",
    "res_new=res['recommendations'].groupby([res.household_key]).apply(list).reset_index()\n",
    "print(res_new)"
   ]
  },
  {
   "cell_type": "code",
   "execution_count": 15,
   "metadata": {},
   "outputs": [],
   "source": [
    "res_new.to_csv('res_new.csv')"
   ]
  },
  {
   "cell_type": "code",
   "execution_count": 16,
   "metadata": {},
   "outputs": [],
   "source": [
    "def show_recommendation(household_key):\n",
    "    if household_key not in res_new['household_key']:\n",
    "        return('Customer not found.')\n",
    "    else:\n",
    "        recommendation_list = res_new[res_new['household_key'] == str(household_key)]['recommendations'].tolist()\n",
    "        return [recommendation_list[0][i] for i in range(0,10)]\n",
    "    "
   ]
  },
  {
   "cell_type": "code",
   "execution_count": 19,
   "metadata": {},
   "outputs": [
    {
     "data": {
      "text/plain": [
       "['BAG SNACKS',\n",
       " 'CHEESE',\n",
       " 'SOFT DRINKS',\n",
       " 'BEEF',\n",
       " 'BAKED BREAD/BUNS/ROLLS',\n",
       " 'YOGURT',\n",
       " 'FLUID MILK PRODUCTS',\n",
       " 'VEGETABLES - SHELF STABLE',\n",
       " 'SOUP',\n",
       " 'FRZN MEAT/MEAT DINNERS']"
      ]
     },
     "execution_count": 19,
     "metadata": {},
     "output_type": "execute_result"
    }
   ],
   "source": [
    "show_recommendation(1011)"
   ]
  }
 ],
 "metadata": {
  "kernelspec": {
   "display_name": "Python 3",
   "language": "python",
   "name": "python3"
  },
  "language_info": {
   "codemirror_mode": {
    "name": "ipython",
    "version": 3
   },
   "file_extension": ".py",
   "mimetype": "text/x-python",
   "name": "python",
   "nbconvert_exporter": "python",
   "pygments_lexer": "ipython3",
   "version": "3.7.6"
  }
 },
 "nbformat": 4,
 "nbformat_minor": 4
}
