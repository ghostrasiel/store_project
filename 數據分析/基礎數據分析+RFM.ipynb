{
 "cells": [
  {
   "cell_type": "markdown",
   "id": "198278ec",
   "metadata": {},
   "source": [
    "https://zhuanlan.zhihu.com/p/127379334  \n",
    "https://zhuanlan.zhihu.com/p/43494643"
   ]
  },
  {
   "cell_type": "code",
   "execution_count": 3,
   "id": "e430e702",
   "metadata": {},
   "outputs": [],
   "source": [
    "import numpy as np\n",
    "import pandas as pd\n",
    "from datetime import datetime\n",
    "from plotly.offline import download_plotlyjs, init_notebook_mode, plot, iplot\n",
    "\n",
    "from matplotlib import pyplot as plt\n",
    "import seaborn as sns\n",
    "import cufflinks as cf\n",
    "import plotly.express as px"
   ]
  },
  {
   "cell_type": "code",
   "execution_count": 4,
   "id": "c254b2f4",
   "metadata": {
    "scrolled": true
   },
   "outputs": [
    {
     "data": {
      "text/html": [
       "<div>\n",
       "<style scoped>\n",
       "    .dataframe tbody tr th:only-of-type {\n",
       "        vertical-align: middle;\n",
       "    }\n",
       "\n",
       "    .dataframe tbody tr th {\n",
       "        vertical-align: top;\n",
       "    }\n",
       "\n",
       "    .dataframe thead th {\n",
       "        text-align: right;\n",
       "    }\n",
       "</style>\n",
       "<table border=\"1\" class=\"dataframe\">\n",
       "  <thead>\n",
       "    <tr style=\"text-align: right;\">\n",
       "      <th></th>\n",
       "      <th>household_key</th>\n",
       "      <th>BASKET_ID</th>\n",
       "      <th>DAY</th>\n",
       "      <th>PRODUCT_ID</th>\n",
       "      <th>QUANTITY</th>\n",
       "      <th>SALES_VALUE</th>\n",
       "      <th>STORE_ID</th>\n",
       "      <th>TRANS_TIME</th>\n",
       "      <th>WEEK_NO</th>\n",
       "      <th>DATE</th>\n",
       "      <th>MEMBER</th>\n",
       "    </tr>\n",
       "  </thead>\n",
       "  <tbody>\n",
       "    <tr>\n",
       "      <th>0</th>\n",
       "      <td>2375</td>\n",
       "      <td>26984851472</td>\n",
       "      <td>1</td>\n",
       "      <td>1004906</td>\n",
       "      <td>1</td>\n",
       "      <td>1.39</td>\n",
       "      <td>364</td>\n",
       "      <td>1631</td>\n",
       "      <td>1</td>\n",
       "      <td>2019-07-30</td>\n",
       "      <td>0</td>\n",
       "    </tr>\n",
       "    <tr>\n",
       "      <th>1</th>\n",
       "      <td>1929</td>\n",
       "      <td>27021022215</td>\n",
       "      <td>4</td>\n",
       "      <td>1004906</td>\n",
       "      <td>1</td>\n",
       "      <td>1.39</td>\n",
       "      <td>441</td>\n",
       "      <td>1755</td>\n",
       "      <td>1</td>\n",
       "      <td>2019-08-02</td>\n",
       "      <td>1</td>\n",
       "    </tr>\n",
       "    <tr>\n",
       "      <th>2</th>\n",
       "      <td>568</td>\n",
       "      <td>27021090189</td>\n",
       "      <td>4</td>\n",
       "      <td>1004906</td>\n",
       "      <td>1</td>\n",
       "      <td>1.39</td>\n",
       "      <td>446</td>\n",
       "      <td>35</td>\n",
       "      <td>1</td>\n",
       "      <td>2019-08-02</td>\n",
       "      <td>0</td>\n",
       "    </tr>\n",
       "    <tr>\n",
       "      <th>3</th>\n",
       "      <td>887</td>\n",
       "      <td>27031467254</td>\n",
       "      <td>5</td>\n",
       "      <td>1004906</td>\n",
       "      <td>1</td>\n",
       "      <td>1.39</td>\n",
       "      <td>298</td>\n",
       "      <td>1551</td>\n",
       "      <td>1</td>\n",
       "      <td>2019-08-03</td>\n",
       "      <td>0</td>\n",
       "    </tr>\n",
       "    <tr>\n",
       "      <th>4</th>\n",
       "      <td>175</td>\n",
       "      <td>27057508267</td>\n",
       "      <td>7</td>\n",
       "      <td>1004906</td>\n",
       "      <td>1</td>\n",
       "      <td>1.99</td>\n",
       "      <td>446</td>\n",
       "      <td>2303</td>\n",
       "      <td>2</td>\n",
       "      <td>2019-08-05</td>\n",
       "      <td>0</td>\n",
       "    </tr>\n",
       "    <tr>\n",
       "      <th>...</th>\n",
       "      <td>...</td>\n",
       "      <td>...</td>\n",
       "      <td>...</td>\n",
       "      <td>...</td>\n",
       "      <td>...</td>\n",
       "      <td>...</td>\n",
       "      <td>...</td>\n",
       "      <td>...</td>\n",
       "      <td>...</td>\n",
       "      <td>...</td>\n",
       "      <td>...</td>\n",
       "    </tr>\n",
       "    <tr>\n",
       "      <th>2551702</th>\n",
       "      <td>1598</td>\n",
       "      <td>42305362535</td>\n",
       "      <td>711</td>\n",
       "      <td>92130</td>\n",
       "      <td>1</td>\n",
       "      <td>0.99</td>\n",
       "      <td>3228</td>\n",
       "      <td>1520</td>\n",
       "      <td>102</td>\n",
       "      <td>2021-07-09</td>\n",
       "      <td>0</td>\n",
       "    </tr>\n",
       "    <tr>\n",
       "      <th>2551703</th>\n",
       "      <td>1598</td>\n",
       "      <td>42305362535</td>\n",
       "      <td>711</td>\n",
       "      <td>114102</td>\n",
       "      <td>1</td>\n",
       "      <td>8.89</td>\n",
       "      <td>3228</td>\n",
       "      <td>1520</td>\n",
       "      <td>102</td>\n",
       "      <td>2021-07-09</td>\n",
       "      <td>0</td>\n",
       "    </tr>\n",
       "    <tr>\n",
       "      <th>2551704</th>\n",
       "      <td>1598</td>\n",
       "      <td>42305362535</td>\n",
       "      <td>711</td>\n",
       "      <td>133449</td>\n",
       "      <td>1</td>\n",
       "      <td>6.99</td>\n",
       "      <td>3228</td>\n",
       "      <td>1520</td>\n",
       "      <td>102</td>\n",
       "      <td>2021-07-09</td>\n",
       "      <td>0</td>\n",
       "    </tr>\n",
       "    <tr>\n",
       "      <th>2551705</th>\n",
       "      <td>1598</td>\n",
       "      <td>42305362535</td>\n",
       "      <td>711</td>\n",
       "      <td>6923644</td>\n",
       "      <td>1</td>\n",
       "      <td>4.50</td>\n",
       "      <td>3228</td>\n",
       "      <td>1520</td>\n",
       "      <td>102</td>\n",
       "      <td>2021-07-09</td>\n",
       "      <td>0</td>\n",
       "    </tr>\n",
       "    <tr>\n",
       "      <th>2551706</th>\n",
       "      <td>1598</td>\n",
       "      <td>42305362535</td>\n",
       "      <td>711</td>\n",
       "      <td>14055192</td>\n",
       "      <td>1</td>\n",
       "      <td>6.99</td>\n",
       "      <td>3228</td>\n",
       "      <td>1520</td>\n",
       "      <td>102</td>\n",
       "      <td>2021-07-09</td>\n",
       "      <td>0</td>\n",
       "    </tr>\n",
       "  </tbody>\n",
       "</table>\n",
       "<p>2551707 rows × 11 columns</p>\n",
       "</div>"
      ],
      "text/plain": [
       "         household_key    BASKET_ID  DAY  PRODUCT_ID  QUANTITY  SALES_VALUE  \\\n",
       "0                 2375  26984851472    1     1004906         1         1.39   \n",
       "1                 1929  27021022215    4     1004906         1         1.39   \n",
       "2                  568  27021090189    4     1004906         1         1.39   \n",
       "3                  887  27031467254    5     1004906         1         1.39   \n",
       "4                  175  27057508267    7     1004906         1         1.99   \n",
       "...                ...          ...  ...         ...       ...          ...   \n",
       "2551702           1598  42305362535  711       92130         1         0.99   \n",
       "2551703           1598  42305362535  711      114102         1         8.89   \n",
       "2551704           1598  42305362535  711      133449         1         6.99   \n",
       "2551705           1598  42305362535  711     6923644         1         4.50   \n",
       "2551706           1598  42305362535  711    14055192         1         6.99   \n",
       "\n",
       "         STORE_ID  TRANS_TIME  WEEK_NO       DATE  MEMBER  \n",
       "0             364        1631        1 2019-07-30       0  \n",
       "1             441        1755        1 2019-08-02       1  \n",
       "2             446          35        1 2019-08-02       0  \n",
       "3             298        1551        1 2019-08-03       0  \n",
       "4             446        2303        2 2019-08-05       0  \n",
       "...           ...         ...      ...        ...     ...  \n",
       "2551702      3228        1520      102 2021-07-09       0  \n",
       "2551703      3228        1520      102 2021-07-09       0  \n",
       "2551704      3228        1520      102 2021-07-09       0  \n",
       "2551705      3228        1520      102 2021-07-09       0  \n",
       "2551706      3228        1520      102 2021-07-09       0  \n",
       "\n",
       "[2551707 rows x 11 columns]"
      ]
     },
     "execution_count": 4,
     "metadata": {},
     "output_type": "execute_result"
    }
   ],
   "source": [
    "df = pd.read_csv(\"./data/Result.csv\")\n",
    "df['DATE'] = pd.to_datetime(df['DATE'])\n",
    "df"
   ]
  },
  {
   "cell_type": "markdown",
   "id": "91af6657",
   "metadata": {},
   "source": [
    "### 計算客戶(household_key)單筆訂單(BASKET_ID)的購買總數量&消費總金額"
   ]
  },
  {
   "cell_type": "code",
   "execution_count": 5,
   "id": "fe82592b",
   "metadata": {
    "scrolled": true
   },
   "outputs": [
    {
     "data": {
      "text/html": [
       "<div>\n",
       "<style scoped>\n",
       "    .dataframe tbody tr th:only-of-type {\n",
       "        vertical-align: middle;\n",
       "    }\n",
       "\n",
       "    .dataframe tbody tr th {\n",
       "        vertical-align: top;\n",
       "    }\n",
       "\n",
       "    .dataframe thead th {\n",
       "        text-align: right;\n",
       "    }\n",
       "</style>\n",
       "<table border=\"1\" class=\"dataframe\">\n",
       "  <thead>\n",
       "    <tr style=\"text-align: right;\">\n",
       "      <th></th>\n",
       "      <th>household_key</th>\n",
       "      <th>BASKET_ID</th>\n",
       "      <th>DATE</th>\n",
       "      <th>WEEK_NO</th>\n",
       "      <th>QUANTITY</th>\n",
       "      <th>SALES_VALUE</th>\n",
       "    </tr>\n",
       "  </thead>\n",
       "  <tbody>\n",
       "    <tr>\n",
       "      <th>0</th>\n",
       "      <td>1</td>\n",
       "      <td>27601281299</td>\n",
       "      <td>2019-09-18</td>\n",
       "      <td>8</td>\n",
       "      <td>34</td>\n",
       "      <td>78.66</td>\n",
       "    </tr>\n",
       "    <tr>\n",
       "      <th>1</th>\n",
       "      <td>1</td>\n",
       "      <td>27774192959</td>\n",
       "      <td>2019-10-04</td>\n",
       "      <td>10</td>\n",
       "      <td>14</td>\n",
       "      <td>41.10</td>\n",
       "    </tr>\n",
       "    <tr>\n",
       "      <th>2</th>\n",
       "      <td>1</td>\n",
       "      <td>28024266849</td>\n",
       "      <td>2019-10-25</td>\n",
       "      <td>13</td>\n",
       "      <td>13</td>\n",
       "      <td>26.90</td>\n",
       "    </tr>\n",
       "    <tr>\n",
       "      <th>3</th>\n",
       "      <td>1</td>\n",
       "      <td>28106322445</td>\n",
       "      <td>2019-10-31</td>\n",
       "      <td>14</td>\n",
       "      <td>32</td>\n",
       "      <td>63.43</td>\n",
       "    </tr>\n",
       "    <tr>\n",
       "      <th>4</th>\n",
       "      <td>1</td>\n",
       "      <td>28235481967</td>\n",
       "      <td>2019-11-07</td>\n",
       "      <td>15</td>\n",
       "      <td>20</td>\n",
       "      <td>53.45</td>\n",
       "    </tr>\n",
       "    <tr>\n",
       "      <th>...</th>\n",
       "      <td>...</td>\n",
       "      <td>...</td>\n",
       "      <td>...</td>\n",
       "      <td>...</td>\n",
       "      <td>...</td>\n",
       "      <td>...</td>\n",
       "    </tr>\n",
       "    <tr>\n",
       "      <th>251439</th>\n",
       "      <td>2500</td>\n",
       "      <td>42076591137</td>\n",
       "      <td>2021-06-23</td>\n",
       "      <td>100</td>\n",
       "      <td>2</td>\n",
       "      <td>4.00</td>\n",
       "    </tr>\n",
       "    <tr>\n",
       "      <th>251440</th>\n",
       "      <td>2500</td>\n",
       "      <td>42115225458</td>\n",
       "      <td>2021-06-26</td>\n",
       "      <td>100</td>\n",
       "      <td>12</td>\n",
       "      <td>50.54</td>\n",
       "    </tr>\n",
       "    <tr>\n",
       "      <th>251441</th>\n",
       "      <td>2500</td>\n",
       "      <td>42198526427</td>\n",
       "      <td>2021-07-02</td>\n",
       "      <td>101</td>\n",
       "      <td>31</td>\n",
       "      <td>73.65</td>\n",
       "    </tr>\n",
       "    <tr>\n",
       "      <th>251442</th>\n",
       "      <td>2500</td>\n",
       "      <td>42229520973</td>\n",
       "      <td>2021-07-04</td>\n",
       "      <td>102</td>\n",
       "      <td>6</td>\n",
       "      <td>13.95</td>\n",
       "    </tr>\n",
       "    <tr>\n",
       "      <th>251443</th>\n",
       "      <td>2500</td>\n",
       "      <td>42250641157</td>\n",
       "      <td>2021-07-06</td>\n",
       "      <td>102</td>\n",
       "      <td>23</td>\n",
       "      <td>42.12</td>\n",
       "    </tr>\n",
       "  </tbody>\n",
       "</table>\n",
       "<p>251444 rows × 6 columns</p>\n",
       "</div>"
      ],
      "text/plain": [
       "        household_key    BASKET_ID       DATE  WEEK_NO  QUANTITY  SALES_VALUE\n",
       "0                   1  27601281299 2019-09-18        8        34        78.66\n",
       "1                   1  27774192959 2019-10-04       10        14        41.10\n",
       "2                   1  28024266849 2019-10-25       13        13        26.90\n",
       "3                   1  28106322445 2019-10-31       14        32        63.43\n",
       "4                   1  28235481967 2019-11-07       15        20        53.45\n",
       "...               ...          ...        ...      ...       ...          ...\n",
       "251439           2500  42076591137 2021-06-23      100         2         4.00\n",
       "251440           2500  42115225458 2021-06-26      100        12        50.54\n",
       "251441           2500  42198526427 2021-07-02      101        31        73.65\n",
       "251442           2500  42229520973 2021-07-04      102         6        13.95\n",
       "251443           2500  42250641157 2021-07-06      102        23        42.12\n",
       "\n",
       "[251444 rows x 6 columns]"
      ]
     },
     "execution_count": 5,
     "metadata": {},
     "output_type": "execute_result"
    }
   ],
   "source": [
    "df_1 = df[['household_key','BASKET_ID','DATE','QUANTITY','SALES_VALUE','WEEK_NO']]\n",
    "df_1 = df_1.groupby(['household_key','BASKET_ID','DATE','WEEK_NO'])\\\n",
    "            .sum().reset_index()\n",
    "df_1"
   ]
  },
  {
   "cell_type": "code",
   "execution_count": 6,
   "id": "df921900",
   "metadata": {},
   "outputs": [
    {
     "name": "stdout",
     "output_type": "stream",
     "text": [
      "   household_key    BASKET_ID       DATE  WEEK_NO  QUANTITY  SALES_VALUE  \\\n",
      "0              1  27601281299 2019-09-18        8        34        78.66   \n",
      "1              1  27774192959 2019-10-04       10        14        41.10   \n",
      "2              1  28024266849 2019-10-25       13        13        26.90   \n",
      "3              1  28106322445 2019-10-31       14        32        63.43   \n",
      "4              1  28235481967 2019-11-07       15        20        53.45   \n",
      "\n",
      "           M  per_price  Year  Month  Day  Quarter  Weekday  \n",
      "0 2019-09-01       2.31  2019      9   18        3        3  \n",
      "1 2019-10-01       2.94  2019     10    4        4        5  \n",
      "2 2019-10-01       2.07  2019     10   25        4        5  \n",
      "3 2019-10-01       1.98  2019     10   31        4        4  \n",
      "4 2019-11-01       2.67  2019     11    7        4        4  \n"
     ]
    }
   ],
   "source": [
    "# 分別提取年月日作為單獨的一列,數據格式為datetime64，可以調用dt接口提取對應的時間\n",
    "df_1['M'] = df_1.DATE.values.astype('datetime64[M]')  # 將日期格式轉為月份,datetime64\n",
    "df_1['per_price'] = (df_1.SALES_VALUE/df_1.QUANTITY).map(lambda x: round(x, 2))  # 商品均價\n",
    "df_1['Year'] = df_1.DATE.dt.year\n",
    "df_1['Month'] = df_1.DATE.dt.month  # 提取所在的月份,int64\n",
    "df_1['Day'] = df_1.DATE.dt.day\n",
    "df_1['Quarter'] = df_1.DATE.dt.quarter\n",
    "df_1['Weekday'] = df_1.DATE.dt.weekday\n",
    "# 變更星期一=1\n",
    "df_1.Weekday.replace({0: 1, 1: 2, 2: 3, 3: 4, 4: 5, 5: 6, 6: 7}, inplace=True)\n",
    "print(df_1.head())"
   ]
  },
  {
   "cell_type": "markdown",
   "id": "c2c1fceb",
   "metadata": {},
   "source": [
    "```\n",
    "繪圖設置\n",
    "%matplotlib inline\n",
    "plt.style.use('ggplot')  # 繪圖風格\n",
    "cf.set_config_file(offline=True)\n",
    "plt.rcParams['font.sans-serif'] = ['SimHei']  # 加載字體包\n",
    "plt.rcParams['axes.unicode_minus'] = False  # 使得負數能在坐標軸圖上顯示\n",
    "```\n",
    "### 如需要設置中文字體參考↓\n",
    "C:\\Users\\Tibame_25\\.conda\\envs\\T4_Project2\\Lib\\site-packages\\matplotlib\\mpl-data\\fonts\\ttf\n",
    "https://blog.csdn.net/fwj_ntu/article/details/105598145\n",
    "\n",
    "\n",
    "### 動態繪圖\n",
    "https://plotly.com/python/plotly-express/"
   ]
  },
  {
   "cell_type": "markdown",
   "id": "8b7b972c-0927-4a1c-a336-001b0733c6f0",
   "metadata": {},
   "source": [
    "### 根據不同時間維度分析訂單金額是否存在異常值"
   ]
  },
  {
   "cell_type": "code",
   "execution_count": null,
   "id": "62feeb25",
   "metadata": {},
   "outputs": [],
   "source": [
    "\n",
    "# fig,axes=plt.subplots(nrows=3,ncols=2)\n",
    "# fig.set_size_inches(20,15)\n",
    "# sns.catplot(data=df_1,kind=\"bar\",y='SALES_VALUE',ax=axes[0][0])\n",
    "# sns.catplot(data=df_1,kind=\"bar\",x='Month',y='SALES_VALUE',ax=axes[0][1])\n",
    "# sns.catplot(data=df_1,kind=\"bar\",x='Day',y='SALES_VALUE',ax=axes[1][0])\n",
    "# sns.catplot(data=df_1,kind=\"bar\",x='Year',y='SALES_VALUE',ax=axes[1][1])\n",
    "# sns.catplot(data=df_1,kind=\"bar\",x='Quarter',y='SALES_VALUE',ax=axes[2][0])\n",
    "# sns.catplot(data=df_1,kind=\"bar\",x='Weekday',y='SALES_VALUE',ax=axes[2][1])\n",
    "# plt.show()"
   ]
  },
  {
   "cell_type": "code",
   "execution_count": null,
   "id": "18fa4d4e",
   "metadata": {},
   "outputs": [],
   "source": [
    "# import plotly.express as px\n",
    "# fig = px.violin(df_1, y=\"SALES_VALUE\", x=\"Month\", box=True, points=\"all\", hover_data=df_1.columns)\n",
    "# fig.show()"
   ]
  },
  {
   "cell_type": "code",
   "execution_count": null,
   "id": "09c7ed28",
   "metadata": {
    "scrolled": true
   },
   "outputs": [],
   "source": [
    "\n",
    "fig,axes=plt.subplots(nrows=3,ncols=2)\n",
    "fig.set_size_inches(20,15)\n",
    "sns.violinplot(data=df_1,y='SALES_VALUE',ax=axes[0][0])\n",
    "sns.violinplot(data=df_1,x='Month',y='SALES_VALUE',ax=axes[0][1])\n",
    "sns.violinplot(data=df_1,x='Day',y='SALES_VALUE',ax=axes[1][0])\n",
    "sns.violinplot(data=df_1,x='Year',y='SALES_VALUE',ax=axes[1][1])\n",
    "sns.violinplot(data=df_1,x='Quarter',y='SALES_VALUE',ax=axes[2][0])\n",
    "sns.violinplot(data=df_1,x='Weekday',y='SALES_VALUE',ax=axes[2][1])\n",
    "\n",
    "# SALES_VALUE\n",
    "axes[0][0].set(ylabel='訂單金額',title='訂單金額的提琴圖')\n",
    "axes[0][1].set(ylabel='月度訂單金額',title='月度訂單金額的提琴圖')\n",
    "axes[1][0].set(ylabel='日度訂單金額',title='日度訂單金額的提琴圖')\n",
    "axes[1][1].set(ylabel='年度訂單金額',title='年度訂單金額的提琴圖')\n",
    "axes[2][0].set(ylabel='季度訂單金額',title='季度訂單金額的提琴圖')\n",
    "axes[2][1].set(ylabel='週度訂單金額',title='週度訂單金額的提琴圖')\n",
    "plt.show()\n",
    "\n",
    "# fig.savefig('./output_data/'+'訂單金額'+'.png', dpi=300)"
   ]
  },
  {
   "cell_type": "markdown",
   "id": "6f2c955b",
   "metadata": {},
   "source": [
    "### 日新增用户量"
   ]
  },
  {
   "cell_type": "code",
   "execution_count": null,
   "id": "0d4135da",
   "metadata": {},
   "outputs": [],
   "source": [
    "import plotly.express as px\n",
    "new_user_D = df_1.groupby('household_key').min().DATE.value_counts().sort_index()\n",
    "print(new_user_D.reset_index().rename(columns={\"index\": '時間', 'DATE': '新增用戶數量'}))\n",
    "\n",
    "fig = px.line(new_user_D, \n",
    "             x=new_user_D.index.strftime('%Y-%m-%d'),\n",
    "             y=new_user_D.values)\n",
    "fig.update_layout(title=\"日新增用戶數量\",\n",
    "    xaxis_title=\"時間\",\n",
    "    yaxis_title=\"新增用戶數量\",\n",
    "    font=dict(size=18,))\n",
    "\n",
    "# plot(fig, filename='./output_data/日新增用戶數量_line.html')"
   ]
  },
  {
   "cell_type": "code",
   "execution_count": null,
   "id": "24f6ac2d",
   "metadata": {},
   "outputs": [],
   "source": [
    "import plotly.express as px\n",
    "new_user_D = df_1.groupby('household_key').min().DATE.value_counts().sort_index()\n",
    "print(new_user_D.reset_index().rename(columns={\"index\": '時間', 'DATE': '新增用戶數量'}))\n",
    "\n",
    "fig = px.bar(new_user_D, \n",
    "             x=new_user_D.index.strftime('%Y-%m-%d'),\n",
    "             y=new_user_D.values)\n",
    "fig.update_layout(title=\"日新增用戶數量\",\n",
    "    xaxis_title=\"時間\",\n",
    "    yaxis_title=\"新增用戶數量\",\n",
    "    font=dict(size=18,))\n",
    "\n",
    "# plot(fig, filename='./output_data/日新增用戶數量_bar.html')"
   ]
  },
  {
   "cell_type": "markdown",
   "id": "6f9692a7",
   "metadata": {},
   "source": [
    "### 計算月新增用戶\n",
    "#### 月新增用戶量2019-11最多，且主要集中在前四個月，後續月份幾乎沒有新增"
   ]
  },
  {
   "cell_type": "code",
   "execution_count": null,
   "id": "288c2dc9",
   "metadata": {},
   "outputs": [],
   "source": [
    "new_user_M = df_1.groupby('household_key').min().M.value_counts().sort_index()\n",
    "print(new_user_M.reset_index().rename(columns={\"index\": '時間', 'M': '新增用戶數量'}))\n",
    "\n",
    "plt.figure(figsize=(10, 5))  # 設定畫布規格\n",
    "sns.barplot(x=new_user_M.index.strftime('%Y-%m'),\n",
    "            y=new_user_M.values)  # x為時間索引強制轉換為字符型，\n",
    "plt.title('月新增用戶量')\n",
    "plt.show()"
   ]
  },
  {
   "cell_type": "code",
   "execution_count": null,
   "id": "42cf2af4",
   "metadata": {},
   "outputs": [],
   "source": [
    "import plotly.express as px\n",
    "\n",
    "new_user_M = df_1.groupby('household_key').min().M.value_counts().sort_index()\n",
    "print(new_user_M.reset_index().rename(columns={\"index\": '時間', 'M': '新增用戶數量'}))\n",
    "\n",
    "fig = px.bar(new_user_M, \n",
    "             x=new_user_M.index.strftime('%Y-%m'),\n",
    "             y=new_user_M.values)\n",
    "fig.update_layout(title=\"月新增用戶數量\",\n",
    "        xaxis_title=\"時間\",\n",
    "        yaxis_title=\"新增用戶數量\",\n",
    "        font=dict(size=18,))\n",
    "# plot(fig, filename='./output_data/月新增用戶量.html')"
   ]
  },
  {
   "cell_type": "code",
   "execution_count": null,
   "id": "09a40d5c",
   "metadata": {},
   "outputs": [],
   "source": [
    "# 每日客戶數量\n",
    "user_D = df_1.groupby('DATE')['household_key'].apply(\n",
    "    lambda x: x.drop_duplicates().count())\n",
    "# 計算新客比\n",
    "new_user_pro_D = new_user_D.sort_index()/user_D\n",
    "\n",
    "# plt.figure(figsize=(10, 8))\n",
    "# new_user_pro_D.plot()\n",
    "# plt.title('每日新客佔比')\n",
    "# plt.show()\n",
    "\n",
    "fig = px.line(new_user_pro_D, \n",
    "              x=new_user_pro_D.index.strftime('%Y-%m-%d'),\n",
    "              y=new_user_pro_D.values)\n",
    "fig.update_layout(title=\"每日新客佔比\",\n",
    "      xaxis_title=\"時間\",\n",
    "      yaxis_title=\"新客佔比\",\n",
    "      font=dict(size=18,))\n",
    "# plot(fig, filename='./output_data/每日新客佔比_line.html')"
   ]
  },
  {
   "cell_type": "code",
   "execution_count": null,
   "id": "77fc51ac",
   "metadata": {
    "scrolled": true
   },
   "outputs": [],
   "source": [
    "#計算每月的用戶數量\n",
    "user_M = df_1.groupby('M')['household_key'].apply(lambda x:x.drop_duplicates().count())\n",
    "new_user_pro_M = new_user_M/user_M # 月新客佔比\n",
    "# print(new_user_pro_M.reset_index()\\\n",
    "#       .rename(columns={\"index\":'時間','M':'新增用戶佔比'}).fillna(0))\n",
    "\n",
    "# plt.figure(figsize=(7,5))\n",
    "# new_user_pro_M.plot()\n",
    "# plt.title('每月新客佔比')\n",
    "# plt.show()\n",
    "\n",
    "fig = px.line(new_user_pro_M, \n",
    "              x=new_user_pro_M.index.strftime('%Y-%m-%d'),\n",
    "              y=new_user_pro_M.values)\n",
    "fig.update_layout(title=\"每月新客佔比\",\n",
    "      xaxis_title=\"時間\",\n",
    "      yaxis_title=\"新客佔比\",\n",
    "      font=dict(size=18,))\n",
    "\n",
    "# plot(fig, filename='./output_data/每月新客佔比_line.html')"
   ]
  },
  {
   "cell_type": "markdown",
   "id": "fa8d0181",
   "metadata": {},
   "source": [
    "###  用戶活躍(只購買一次的用戶佔比)"
   ]
  },
  {
   "cell_type": "code",
   "execution_count": null,
   "id": "a79501da",
   "metadata": {},
   "outputs": [],
   "source": [
    "# 分組統計每個ID的購買次數\n",
    "user_buy = df_1.groupby('household_key')['DATE'].count() \n",
    "# 購買一次的用戶數\n",
    "buy_one = np.sum(user_buy.values == 1)\n",
    "# 總的用戶數\n",
    "user_all = user_buy.count()\n",
    "buy_one_pro = buy_one/user_all\n",
    "print('只購買一次的用戶佔比:%.2f' % (buy_one_pro*100), \"%\")"
   ]
  },
  {
   "cell_type": "markdown",
   "id": "cb8d3e10",
   "metadata": {},
   "source": [
    "### 日、月訂單量"
   ]
  },
  {
   "cell_type": "code",
   "execution_count": null,
   "id": "7e54f497",
   "metadata": {},
   "outputs": [],
   "source": [
    "import plotly.express as px\n",
    "Count_D = df_1.groupby('DATE').household_key.count()  # 計每天的訂單量\n",
    "\n",
    "# plt.figure(figsize=(10, 4))\n",
    "# Count_D.plot()\n",
    "# plt.title('每天的訂單量', fontsize=15)\n",
    "# plt.xlabel('時間'\n",
    "# plt.xticks(fontsize=13)\n",
    "# plt.show()\n",
    "           \n",
    "fig = px.line(Count_D, \n",
    "        x=Count_D.index.strftime('%Y-%m-%d'),\n",
    "        y=Count_D.values)\n",
    "fig.update_layout(title=\"每天的訂單量\",\n",
    "      xaxis_title=\"日期\",\n",
    "      yaxis_title=\"訂單量\",\n",
    "      font=dict(size=18,))\n",
    "# plot(fig, filename='./output_data/每天的訂單量_line.html')"
   ]
  },
  {
   "cell_type": "code",
   "execution_count": null,
   "id": "6a4404af",
   "metadata": {},
   "outputs": [],
   "source": [
    "Count_M = df_1.groupby('M').household_key.count()#統計每月的訂單量\n",
    "\n",
    "# plt.figure(figsize=(12,4))\n",
    "# sns.barplot(x = Count_M.index.strftime('%Y-%m'),y = Count_M.values)\n",
    "# plt.title('每月的訂單量',fontsize=15)\n",
    "# plt.xticks(fontsize=13,rotation=20)\n",
    "# plt.show() \n",
    "\n",
    "fig = px.bar(Count_M, \n",
    "        x=Count_M.index.strftime('%Y-%m'),\n",
    "        y=Count_M.values,\n",
    "        height=400)\n",
    "fig.update_layout(title=\"每月的訂單量\",\n",
    "      xaxis_title=\"日期\",\n",
    "      yaxis_title=\"訂單量\",\n",
    "      font=dict(size=18,))\n",
    "# plot(fig, filename='./output_data/每月的訂單量_.html')"
   ]
  },
  {
   "cell_type": "markdown",
   "id": "a8187e88",
   "metadata": {},
   "source": [
    "### 日/月活躍用戶（DAU/MAU）"
   ]
  },
  {
   "cell_type": "code",
   "execution_count": null,
   "id": "721b194a",
   "metadata": {},
   "outputs": [],
   "source": [
    "every_day_count = df_1.groupby('DATE').household_key.nunique()  # 每天的活躍用戶數\n",
    "\n",
    "# every_day_count.plot()\n",
    "# plt.figure(figsize=(15, 5))\n",
    "# plt.title('日活躍用戶DAU')\n",
    "# plt.xlabel('時間')\n",
    "# plt.show()\n",
    "\n",
    "fig = px.line(every_day_count, \n",
    "        x=every_day_count.index.strftime('%Y-%m-%d'),\n",
    "        y=every_day_count.values,\n",
    "        height=400)\n",
    "fig.update_layout(title=\"日活躍用戶DAU\",\n",
    "      xaxis_title=\"日期\",\n",
    "      yaxis_title=\"來客數\",\n",
    "      font=dict(size=18,))\n",
    "# plot(fig, filename='./output_data/日活躍用戶DAU.html')"
   ]
  },
  {
   "cell_type": "code",
   "execution_count": null,
   "id": "dac299aa",
   "metadata": {},
   "outputs": [],
   "source": [
    "every_M_count = df_1.groupby('M').household_key.nunique()  # 每月的活躍用戶數\n",
    "\n",
    "# every_day_count.plot()\n",
    "# plt.figure(figsize=(15, 5))\n",
    "# plt.title('月活躍用戶DAU')\n",
    "# plt.xlabel('時間')\n",
    "# plt.show()\n",
    "\n",
    "fig = px.line(every_M_count, \n",
    "        x=every_M_count.index.strftime('%Y-%m'),\n",
    "        y=every_M_count.values,\n",
    "        height=400)\n",
    "fig.update_layout(title=\"月活躍用戶DAU\",\n",
    "      xaxis_title=\"日期\",\n",
    "      yaxis_title=\"來客數\",\n",
    "      font=dict(size=18,))\n",
    "# plot(fig, filename='./output_data/月活躍用戶DAU.html')"
   ]
  },
  {
   "cell_type": "code",
   "execution_count": null,
   "id": "ddcb051f",
   "metadata": {
    "scrolled": true
   },
   "outputs": [],
   "source": [
    "user_weekday = df_1[df_1['M']>'2019-11'].groupby('Weekday').household_key.nunique()  # 每月的活躍用戶數\n",
    "\n",
    "# every_day_count.plot()\n",
    "# plt.figure(figsize=(15, 5))\n",
    "# plt.title('月活躍用戶DAU')\n",
    "# plt.xlabel('時間')\n",
    "# plt.show()\n",
    "\n",
    "fig = px.line(user_weekday, \n",
    "        x=user_weekday.index,\n",
    "        y=user_weekday.values,\n",
    "        height=400)\n",
    "fig.update_layout(title=\"周度活躍用戶量\",\n",
    "      yaxis_title=\"count\",\n",
    "      font=dict(size=18,))\n",
    "# plot(fig, filename='./output_data/周度活躍用戶量.html')"
   ]
  },
  {
   "cell_type": "code",
   "execution_count": null,
   "id": "61f9106f",
   "metadata": {
    "scrolled": true
   },
   "outputs": [],
   "source": [
    "# 周高效用戶：一周之內消費3次以上\n",
    "# 先groupby一次，統計每週每個ID的購買次數，再groupby一次統計每週符合要求的ID數\n",
    "order_count_W = df_1.groupby(['WEEK_NO', 'household_key']).DATE.count() \\\n",
    "                  .reset_index().rename(columns={'DATE': 'order_count_w'})\n",
    "order_eff_W = order_count_W[order_count_W.order_count_w > 2] \\\n",
    "    .groupby('WEEK_NO').order_count_w.count()  \n",
    "\n",
    "# plt.figure(figsize=(16, 8))\n",
    "# x = order_eff_W.index\n",
    "# y = order_eff_W.values\n",
    "# sns.barplot(x, y)\n",
    "# plt.title('周高效用戶(單週消費2次及以上)', fontsize=20)\n",
    "# plt.xlabel('時間', fontsize=20)\n",
    "# plt.xticks([])\n",
    "# plt.show()\n",
    "\n",
    "\n",
    "fig = px.bar(order_eff_W, \n",
    "             x=order_eff_W.index,\n",
    "             y=order_eff_W.values,\n",
    "             color=order_eff_W.index,height=400)\n",
    "fig.update_layout(title=\"周高效用戶(單週消費3次及以上)\",\n",
    "                  xaxis_title=\"時間\",\n",
    "                  yaxis_title=\"count\",\n",
    "                  font=dict(size=18,),coloraxis_showscale=False)\n",
    "fig.show()\n",
    "# plot(fig, filename='./output_data/周高效用戶.html', auto_open=False)"
   ]
  },
  {
   "cell_type": "code",
   "execution_count": null,
   "id": "4294a484",
   "metadata": {
    "scrolled": true
   },
   "outputs": [],
   "source": [
    "print(order_count_W.sort_values(\"order_count_w\"))"
   ]
  },
  {
   "cell_type": "code",
   "execution_count": null,
   "id": "19d36acf",
   "metadata": {},
   "outputs": [],
   "source": [
    "df_1[(df_1.household_key==2337) ]"
   ]
  },
  {
   "cell_type": "code",
   "execution_count": null,
   "id": "5af466f4-0fd3-4ac2-90a2-372306ad5f2b",
   "metadata": {},
   "outputs": [],
   "source": [
    "# 月高效用戶：一個月內消費6次以上\n",
    "# 先groupby一次，統計每個月每個ID的購買次數，再groupby一次統計每個月符合要求的ID數\n",
    "order_count_M = df_1.groupby(['M', 'household_key']).DATE.count() \\\n",
    "                  .reset_index().rename(columns={'DATE': 'order_count_m'})\n",
    "order_eff_M = order_count_M[order_count_M.order_count_m > 5].groupby('M').order_count_m.count()\n",
    "\n",
    "fig = px.bar(order_eff_M, \n",
    "             x=order_eff_M.index.strftime('%Y-%m'),\n",
    "             y=order_eff_M.values,height=400)\n",
    "fig.update_layout(title=\"月高效用戶(單月消費6次及以上)\",\n",
    "                  xaxis_title=\"時間\", yaxis_title=\"count\",\n",
    "                  font=dict(size=18,))\n",
    "fig.show()\n",
    "# plot(fig, filename='./output_data/月高效用戶(單月消費6次及以上).html', auto_open=False)\n",
    "\n",
    "# plt.figure(figsize=(16, 8))\n",
    "# x = order_eff_M.index.strftime('%Y-%m')\n",
    "# y = order_eff_M.values\n",
    "# sns.barplot(x, y)\n",
    "# plt.title('月高效用戶(單月消費6次及以上)', fontsize=20)\n",
    "# plt.xlabel('時間', fontsize=20)\n",
    "# plt.xticks(fontsize=15, rotation=20)  # 橫坐標傾斜10度,避免坐標重疊\n",
    "# plt.show()"
   ]
  },
  {
   "cell_type": "markdown",
   "id": "044d981a-3d2e-4539-bdf1-fb19dee9b4a5",
   "metadata": {},
   "source": [
    "## 用户留存\n",
    "### 用户生命周期分布"
   ]
  },
  {
   "cell_type": "code",
   "execution_count": null,
   "id": "031bdbd0-6a62-4d64-948a-8f0d1eb201cc",
   "metadata": {},
   "outputs": [],
   "source": [
    "# 查找每個用戶的首購和最後一次購買的時間，相減就是生命週期\n",
    "user_max_min = df_1.groupby('household_key').DATE.agg(['max', 'min'])  \n",
    "user_life = (user_max_min['max']-user_max_min['min']).sort_index()\n",
    "user_life = user_life/np.timedelta64(1, 'D')  # 時間相減後是時間格式，此處轉換為數值格式\n",
    "bins = [-1, 0, 10, 100, 1000]  # 對用戶生命週期進行分箱[-1,0],[1,10],[11-100],[101-1000]\n",
    "group_names = ['low_value', 'median_value',\n",
    "               'high_value', 'important_value']  # 自定義箱體名稱\n",
    "user_life2 = pd.cut(user_life, bins, labels=group_names,\n",
    "                    right=True).value_counts()  # 分箱操作，統計各個箱體的個數\n",
    "print(user_life2)\n",
    "print(user_life.describe())"
   ]
  },
  {
   "cell_type": "code",
   "execution_count": null,
   "id": "5d8d1865-799f-4479-bce2-a5de53a0ede1",
   "metadata": {},
   "outputs": [],
   "source": [
    "fig = px.bar(user_life2, \n",
    "             x=user_life2.index,\n",
    "             y=user_life2.values,height=400)\n",
    "fig.update_layout(title=\"用戶生命週期分佈\",\n",
    "                  xaxis_title=\"用戶價值\", yaxis_title=\"用戶數量\",\n",
    "                  font=dict(size=18,))\n",
    "fig.show()\n",
    "# plot(fig, filename='./output_data/用戶生命週期分佈.html', auto_open=False)\n"
   ]
  },
  {
   "cell_type": "markdown",
   "id": "af66713b-aa6f-4826-9ef9-f75db4d26c4b",
   "metadata": {},
   "source": [
    "### 整體的留存率"
   ]
  },
  {
   "cell_type": "code",
   "execution_count": null,
   "id": "5f3dec72-730d-43eb-99b2-5aff5fe1b7bb",
   "metadata": {},
   "outputs": [],
   "source": [
    "# 選取需要使用的DATE和household_key兩個字段，計算每次購買的時候距離首購的天數，用於統計留存率\n",
    "# 留存率只考慮新用戶，所以選擇用戶首購日期作為起點\n",
    "order_dt_min = df_1[['DATE', 'household_key']].groupby(\n",
    "    'household_key', as_index=False).DATE.min()  # as_index=False,功能和reset_index()一樣\n",
    "order_dt_new = pd.merge(left=order_dt_min, right=df[[\n",
    "                        'DATE', 'household_key']], suffixes=('_min', ''), on='household_key')\n",
    "order_dt_new['order_diff'] = (\n",
    "    order_dt_new.DATE-order_dt_new.DATE_min)/np.timedelta64(1, 'D')  # 相減後的是天數，時間格式，轉換為數值格式\n",
    "\n",
    "# 對間隔消費進行分箱處理\n",
    "bins = [-1, 15, 30, 90, 180, 360, 540, 800]\n",
    "box_names = ['15天留存', '1個月留存', '3個月留存', '半年留存', '一年留存', '一年半留存', '一年半以上']\n",
    "order_dt_new['order_box'] = pd.cut(\n",
    "    order_dt_new.order_diff, bins=bins, labels=box_names)\n",
    "print(order_dt_new.sample(10),order_dt_new.shape,sep='\\n')\n",
    "\n",
    "def order_ratention_rate(order_dt_new=order_dt_new, first_buy_time=order_dt_new['DATE_min']):\n",
    "    order_dt_new_box = order_dt_new[order_dt_new['DATE_min'] == first_buy_time].pivot_table(\n",
    "        index='household_key', columns='order_box', values='DATE', aggfunc='count')\n",
    "    # 根據消費情況構建特徵，消費為1，未消費為0\n",
    "    order_dt_new_box_diff = order_dt_new_box.fillna(0) \\\n",
    "          .applymap(lambda x: 1 if x > 0 else 0)\n",
    "   # 計算留存率，前面已經數值特徵化，消費的標記為1，sum將消費的總人數加起來，count全部id\n",
    "    order_dt_new_box_rate = (order_dt_new_box_diff.sum()/order_dt_new_box_diff.count()) \\\n",
    "                       .reset_index().rename(columns={'order_box': '區間', 0: '留存率'})\n",
    "    order_dt_new_box_rate['留存人數'] = order_dt_new_box_diff.sum().values\n",
    "    return order_dt_new_box_rate\n",
    "#計算網站整體的留存情況\n",
    "print('留存率情況')\n",
    "print(order_ratention_rate())"
   ]
  },
  {
   "cell_type": "markdown",
   "id": "91ce617c-6b21-4e60-ab5e-c54b0fa62e24",
   "metadata": {},
   "source": [
    "### 某日的留存率情况"
   ]
  },
  {
   "cell_type": "code",
   "execution_count": null,
   "id": "b394dc26-c390-40bf-bfed-dd09364f51da",
   "metadata": {},
   "outputs": [],
   "source": [
    "first_buy_time_set='20190730'\n",
    "order_r_r=order_ratention_rate(first_buy_time=first_buy_time_set)\n",
    "\n",
    "# sns.barplot(x=order_r_r.區間,y=order_r_r.留存率)\n",
    "# plt.show()\n",
    "print(order_r_r)\n",
    "fig = px.bar(order_r_r,x=order_r_r.區間,y=order_r_r.留存率,\n",
    "             hover_data=['留存人數'],height=400,\n",
    "             title=first_buy_time_set+\"的留存率情况\")\n",
    "fig.show()\n",
    "\n",
    "plot(fig, filename='./output_data/'+first_buy_time_set+'的留存率情况.html', auto_open=False)"
   ]
  },
  {
   "cell_type": "markdown",
   "id": "87d363f9-5098-45c0-b5fd-8654642e7081",
   "metadata": {},
   "source": [
    "## 各類型用戶分類\n",
    "- 未註冊 unreg\n",
    "- 新用戶 new\n",
    "- 活躍用戶 active\n",
    "- 回流用戶 return\n",
    "- 流失用戶 unactive"
   ]
  },
  {
   "cell_type": "code",
   "execution_count": null,
   "id": "5a3335c9-c252-44eb-8428-e6c46368e255",
   "metadata": {},
   "outputs": [],
   "source": [
    "# 每個用戶在每個時間段的購買情況\n",
    "df_2=df_1[['household_key', 'DATE', 'M']]\n",
    "df_2.M = df_2.M.map(lambda x: x.strftime(\"%Y-%m\"))\n",
    "order_pivot = df_2.pivot_table(\n",
    "    index='household_key', columns='M', values='DATE', aggfunc='count')\n",
    "# 根據消費情況構建特徵，消費為1，未消費為0\n",
    "order_pivot = order_pivot.fillna(0).applymap(lambda x: 1 if x > 0 else 0)\n",
    "print(order_pivot.head())"
   ]
  },
  {
   "cell_type": "code",
   "execution_count": null,
   "id": "e2715762-4624-4c65-99cd-d5375180ca3e",
   "metadata": {},
   "outputs": [],
   "source": [
    "def active_status(data):\n",
    "    \"\"\"\n",
    "    定義用戶分類函數\n",
    "    new新用戶，active活躍用戶，unavtive不活躍用戶，return回流用戶，unreg未註冊用戶\n",
    "    \"\"\"\n",
    "    status = []\n",
    "    for i in range(len(order_pivot.columns)):\n",
    "        # 本月沒有消費\n",
    "        if data[i] == 0:\n",
    "            if len(status) > 0:  # 之前存在數據\n",
    "                if status[i-1] == 'unreg':  # 前一個數據是未註冊，且本月未消費，所以標記為未註冊\n",
    "                    status.append('unreg')\n",
    "                else:  # 前一個消費過或者沒有消費，這個月沒有消費，這個月標記為不活躍\n",
    "                    status.append('unactive')\n",
    "            else:\n",
    "                status.append('unreg')  # 本月每月消費，之前也沒有數據，本月標記為未註冊\n",
    "\n",
    "        # 本月有消費\n",
    "        else:\n",
    "            if len(status) > 0:  # 之前存在數據\n",
    "                if status[i-1] == 'unreg':  # 之前的標籤為未註冊，標記為新用戶\n",
    "                    status.append('new')\n",
    "                elif status[i-1] == 'unactive':  # 之前的標籤為不活躍，標記為回流用戶\n",
    "                    status.append('return')\n",
    "                else:  # 之前的標籤為活躍，回流，新用戶等標記為活躍\n",
    "                    status.append('active')\n",
    "            else:\n",
    "                status.append('new')  # 本月有消費，之前沒有數據，標記為新用戶\n",
    "    return status\n",
    "\n",
    "purchase=order_pivot.apply(active_status,axis=1) #axis=1表示按列運算，默認是axis=0，按行運算\n",
    "# purchase = pd.DataFrame(item for item in purchase)\n",
    "purchase = pd.DataFrame(dict(zip(purchase.index, purchase.values))).T\n",
    "purchase.columns = order_pivot.columns.values.tolist()\n",
    "print(purchase.head())"
   ]
  },
  {
   "cell_type": "code",
   "execution_count": null,
   "id": "de917fd9-d100-4429-b640-eb1e358ae82f",
   "metadata": {},
   "outputs": [],
   "source": [
    "#未註冊用戶不統計，統計各類型用戶的數量，將數據框裝置再填充空值\n",
    "purchase_count = purchase.replace('unreg',np.nan).apply(lambda x:pd.value_counts(x)).T.fillna(0)\n",
    "print(purchase_count)\n",
    "\n",
    "fig = px.bar(purchase_count)\n",
    "fig.show()\n",
    "plot(fig, filename='./output_data/各類型用戶的數量.html', auto_open=False)"
   ]
  },
  {
   "cell_type": "code",
   "execution_count": null,
   "id": "f2807e64-6852-4526-84f6-fffe66826fc1",
   "metadata": {},
   "outputs": [],
   "source": [
    "# 統計各類型用戶的佔比情況\n",
    "fig = px.area(purchase_count)\n",
    "fig.show()\n",
    "plot(fig, filename='./output_data/各類型用戶的佔比.html', auto_open=False)"
   ]
  },
  {
   "cell_type": "markdown",
   "id": "37cd4781-e80a-4bde-a2d2-68a3acf5e4de",
   "metadata": {},
   "source": [
    "## 用戶收益"
   ]
  },
  {
   "cell_type": "markdown",
   "id": "324d60bd-31ec-4a41-b895-dce3e3f10c57",
   "metadata": {},
   "source": [
    "### 用戶消費總金額分佈 "
   ]
  },
  {
   "cell_type": "code",
   "execution_count": null,
   "id": "4639bc4f-d14f-44d1-9d69-7206f71149da",
   "metadata": {},
   "outputs": [],
   "source": [
    "df_1.head(1)"
   ]
  },
  {
   "cell_type": "code",
   "execution_count": null,
   "id": "12e0e121-744b-4596-abf8-2ddc98ab65f7",
   "metadata": {},
   "outputs": [],
   "source": [
    "#用戶消費總體分析\n",
    "order_groupby_user = df_1[['household_key', 'SALES_VALUE',\n",
    "                         'QUANTITY']].groupby('household_key').sum()\n",
    "print('用戶消費總金額統計分析')\n",
    "print(order_groupby_user.SALES_VALUE.describe())\n",
    "# 消費金額小於1000元的值\n",
    "sum_1000 = order_groupby_user.query('SALES_VALUE<1000').SALES_VALUE\n",
    "print(sum_1000)\n",
    "fig = px.histogram(sum_1000)\n",
    "fig.update_layout(title=\"用戶消費總金額分佈(千元以內)\",\n",
    "                  xaxis_title=\"用戶消費總金額\", yaxis_title=\"人數\",\n",
    "                  font=dict(size=18,),showlegend=False)\n",
    "fig.show()\n",
    "plot(fig, filename='./output_data/用戶消費總金額分佈(千元以內).html', auto_open=False)"
   ]
  },
  {
   "cell_type": "markdown",
   "id": "73ba05a0-15be-42e6-b354-5efd09dcc844",
   "metadata": {},
   "source": [
    "### 用戶消費區間分析"
   ]
  },
  {
   "cell_type": "code",
   "execution_count": null,
   "id": "f30d4589-f686-4120-a251-5e4e8d734580",
   "metadata": {},
   "outputs": [],
   "source": [
    "bins = [0, 1000, 2000, 3000, 4000, 5000, 6000, 7000, 8000, 9000, 10000, 27000]\n",
    "group_names = ['[0:1000]','[1001:2000]','[2001:3000]','[3001:4000]','[4001:5000]','[5001:6000]'\n",
    ",'[6001:7000]','[7001:8000]','[8001:9000]','[9001:10000]','[10001+]']\n",
    "order_groupby_user_bins = pd.cut(order_groupby_user.SALES_VALUE, bins, labels=group_names) \\\n",
    "                                .value_counts().sort_index() # 對數據進行分箱\n",
    "print(order_groupby_user_bins)\n",
    "print('------------------')\n",
    "print('平均單價：%.2f' % df_1.per_price.mean())\n",
    "\n",
    "order_groupby_user_bins.iplot(kind='bar', bins=5, title='用戶消費總金額分佈',\n",
    "                              xTitle='消費總金額區間', yTitle='人數統計',asImage=True)\n",
    "\n",
    "fig = px.bar(order_groupby_user_bins)\n",
    "fig.update_layout(title=\"用戶消費總金額分佈\",\n",
    "                  xaxis_title=\"消費總金額區間\", yaxis_title=\"人數統計\",\n",
    "                  font=dict(size=18,),showlegend=False)\n",
    "plot(fig, filename='./output_data/用戶消費總金額分佈.html', auto_open=False)"
   ]
  },
  {
   "cell_type": "code",
   "execution_count": null,
   "id": "5dbbef12-1c7b-413b-a624-4961ad690589",
   "metadata": {},
   "outputs": [],
   "source": [
    "print(order_groupby_user.QUANTITY.describe())"
   ]
  },
  {
   "cell_type": "code",
   "execution_count": null,
   "id": "cff48e10-6bba-4998-9100-a80a09bc8ff8",
   "metadata": {},
   "outputs": [],
   "source": [
    "#利用cufflinks繪圖庫繪製購買產品數量的區間分佈圖\n",
    "bins = [0, 5, 200, 400, 600, 800, 1000, 2000, 4000 ,6000 ,8000 ,10000 ,12000,20000]\n",
    "group_names = ['5', '[6-200]','[201-400]','[401-600]','[601-800]','[801-1000]','[1001-2000]',\n",
    "               '[2001-4000]','[4001-6000]','[6001-8000]','[8001-10000]','[10001-12000]','[12001+]']\n",
    "order_groupby_user_bins2 = pd.cut(order_groupby_user.QUANTITY,\n",
    "                                  bins, labels=group_names).value_counts().sort_index()\n",
    "\n",
    "order_groupby_user_bins2.iplot(kind='bar', title='購買商品數量區間分佈',\n",
    "                               xTitle='數量區間', yTitle='人數',asImage=True)\n",
    "\n",
    "fig = px.bar(order_groupby_user_bins2)\n",
    "fig.update_layout(title=\"購買商品數量區間分佈\",\n",
    "                  xaxis_title=\"數量區間\", yaxis_title=\"人數\",\n",
    "                  font=dict(size=18,),showlegend=False)\n",
    "plot(fig, filename='./output_data/購買商品數量區間分佈.html', auto_open=False)"
   ]
  },
  {
   "cell_type": "markdown",
   "id": "06758e7a-657a-47a0-a953-801ff585388a",
   "metadata": {},
   "source": [
    "### 用戶累計消費佔比"
   ]
  },
  {
   "cell_type": "code",
   "execution_count": null,
   "id": "984ce7f9-4434-4930-86f2-166d257714a0",
   "metadata": {},
   "outputs": [],
   "source": [
    "# 統計用戶的累計消費\n",
    "order_groupby_user.sort_values(by='QUANTITY').apply(lambda x: x.cumsum()/x.sum()) \\\n",
    ".reset_index().QUANTITY.iplot(title='GMV描述', xTitle='累計消費用戶',\n",
    "                              yTitle='累計消費佔比',asImage=True)\n",
    "\n",
    "fig = px.line(order_groupby_user.sort_values(by='QUANTITY').apply(lambda x: x.cumsum()/x.sum()).reset_index().QUANTITY)\n",
    "fig.update_layout(title=\"GMV描述\",\n",
    "                  xaxis_title=\"累計消費用戶\", yaxis_title=\"累計消費佔比\",\n",
    "                  font=dict(size=18,),showlegend=False)\n",
    "plot(fig, filename='./output_data/GMV描述.html', auto_open=False)"
   ]
  },
  {
   "cell_type": "code",
   "execution_count": null,
   "id": "bf839229-5c96-49b7-9665-5faedb48881f",
   "metadata": {},
   "outputs": [],
   "source": [
    "import plotly.graph_objects as go\n",
    "#整體用戶平均收益\n",
    "arpu=df_1.QUANTITY.sum()/df_1.household_key.nunique()\n",
    "print('整體用戶平均收益(ARPU)：%.2f ' %arpu)\n",
    "\n",
    "#每日用戶平均收益\n",
    "arpu_D=df_1.groupby('DATE').SALES_VALUE.sum()/df_1.groupby('DATE').household_key.nunique()\n",
    "#每月用戶平均收益\n",
    "arpu_M=df_1.groupby('M').SALES_VALUE.sum()/df_1.groupby('M').household_key.nunique()\n",
    "\n",
    "fig = go.Figure()\n",
    "fig.add_trace(go.Scatter(x=arpu_D.index, y=arpu_D.values,\n",
    "                    mode='lines',\n",
    "                    name='每日ARPU'))\n",
    "fig.add_trace(go.Scatter(x=arpu_M.index, y=arpu_M.values,\n",
    "                    mode='lines',\n",
    "                    name='每月ARPU'))\n",
    "fig.update_layout(\n",
    "    title=\"ARPU趨勢圖\")\n",
    "fig.show()\n",
    "plot(fig, filename='./output_data/ARPU趨勢圖.html', auto_open=False)"
   ]
  },
  {
   "cell_type": "markdown",
   "id": "bffb721e-b461-426e-b140-35ef22271b6e",
   "metadata": {},
   "source": [
    "消費用戶平均收益ARPPU：Average Revenue Per Paying User"
   ]
  },
  {
   "cell_type": "code",
   "execution_count": null,
   "id": "1dc708f9-adfa-4631-947b-00e0ae5addb8",
   "metadata": {},
   "outputs": [],
   "source": [
    "#整體消費用戶平均收益\n",
    "arppu=df_1.SALES_VALUE.sum()/df_1[df_1.SALES_VALUE!=0].household_key.nunique()\n",
    "print('整體的ARPPU：%.2f ' %arppu)"
   ]
  },
  {
   "cell_type": "markdown",
   "id": "6ff8f550-715a-411d-b70e-d914bf2d1605",
   "metadata": {},
   "source": [
    "客單價 "
   ]
  },
  {
   "cell_type": "code",
   "execution_count": null,
   "id": "2b475d04-62bd-482b-90dd-bb8f0ae14bb7",
   "metadata": {},
   "outputs": [],
   "source": [
    "#每筆訂單的均價\n",
    "atv=df_1.SALES_VALUE.sum()/df_1.household_key.count()\n",
    "print('整體客單價：%.2f ' %atv)"
   ]
  },
  {
   "cell_type": "code",
   "execution_count": 7,
   "id": "eccbf992",
   "metadata": {},
   "outputs": [
    {
     "data": {
      "text/html": [
       "<div>\n",
       "<style scoped>\n",
       "    .dataframe tbody tr th:only-of-type {\n",
       "        vertical-align: middle;\n",
       "    }\n",
       "\n",
       "    .dataframe tbody tr th {\n",
       "        vertical-align: top;\n",
       "    }\n",
       "\n",
       "    .dataframe thead th {\n",
       "        text-align: right;\n",
       "    }\n",
       "</style>\n",
       "<table border=\"1\" class=\"dataframe\">\n",
       "  <thead>\n",
       "    <tr style=\"text-align: right;\">\n",
       "      <th></th>\n",
       "      <th>household_key</th>\n",
       "      <th>BASKET_ID</th>\n",
       "      <th>DATE</th>\n",
       "      <th>WEEK_NO</th>\n",
       "      <th>QUANTITY</th>\n",
       "      <th>SALES_VALUE</th>\n",
       "      <th>M</th>\n",
       "      <th>per_price</th>\n",
       "      <th>Year</th>\n",
       "      <th>Month</th>\n",
       "      <th>Day</th>\n",
       "      <th>Quarter</th>\n",
       "      <th>Weekday</th>\n",
       "    </tr>\n",
       "  </thead>\n",
       "  <tbody>\n",
       "    <tr>\n",
       "      <th>0</th>\n",
       "      <td>1</td>\n",
       "      <td>27601281299</td>\n",
       "      <td>2019-09-18</td>\n",
       "      <td>8</td>\n",
       "      <td>34</td>\n",
       "      <td>78.66</td>\n",
       "      <td>2019-09-01</td>\n",
       "      <td>2.31</td>\n",
       "      <td>2019</td>\n",
       "      <td>9</td>\n",
       "      <td>18</td>\n",
       "      <td>3</td>\n",
       "      <td>3</td>\n",
       "    </tr>\n",
       "    <tr>\n",
       "      <th>1</th>\n",
       "      <td>1</td>\n",
       "      <td>27774192959</td>\n",
       "      <td>2019-10-04</td>\n",
       "      <td>10</td>\n",
       "      <td>14</td>\n",
       "      <td>41.10</td>\n",
       "      <td>2019-10-01</td>\n",
       "      <td>2.94</td>\n",
       "      <td>2019</td>\n",
       "      <td>10</td>\n",
       "      <td>4</td>\n",
       "      <td>4</td>\n",
       "      <td>5</td>\n",
       "    </tr>\n",
       "    <tr>\n",
       "      <th>2</th>\n",
       "      <td>1</td>\n",
       "      <td>28024266849</td>\n",
       "      <td>2019-10-25</td>\n",
       "      <td>13</td>\n",
       "      <td>13</td>\n",
       "      <td>26.90</td>\n",
       "      <td>2019-10-01</td>\n",
       "      <td>2.07</td>\n",
       "      <td>2019</td>\n",
       "      <td>10</td>\n",
       "      <td>25</td>\n",
       "      <td>4</td>\n",
       "      <td>5</td>\n",
       "    </tr>\n",
       "    <tr>\n",
       "      <th>3</th>\n",
       "      <td>1</td>\n",
       "      <td>28106322445</td>\n",
       "      <td>2019-10-31</td>\n",
       "      <td>14</td>\n",
       "      <td>32</td>\n",
       "      <td>63.43</td>\n",
       "      <td>2019-10-01</td>\n",
       "      <td>1.98</td>\n",
       "      <td>2019</td>\n",
       "      <td>10</td>\n",
       "      <td>31</td>\n",
       "      <td>4</td>\n",
       "      <td>4</td>\n",
       "    </tr>\n",
       "    <tr>\n",
       "      <th>4</th>\n",
       "      <td>1</td>\n",
       "      <td>28235481967</td>\n",
       "      <td>2019-11-07</td>\n",
       "      <td>15</td>\n",
       "      <td>20</td>\n",
       "      <td>53.45</td>\n",
       "      <td>2019-11-01</td>\n",
       "      <td>2.67</td>\n",
       "      <td>2019</td>\n",
       "      <td>11</td>\n",
       "      <td>7</td>\n",
       "      <td>4</td>\n",
       "      <td>4</td>\n",
       "    </tr>\n",
       "  </tbody>\n",
       "</table>\n",
       "</div>"
      ],
      "text/plain": [
       "   household_key    BASKET_ID       DATE  WEEK_NO  QUANTITY  SALES_VALUE  \\\n",
       "0              1  27601281299 2019-09-18        8        34        78.66   \n",
       "1              1  27774192959 2019-10-04       10        14        41.10   \n",
       "2              1  28024266849 2019-10-25       13        13        26.90   \n",
       "3              1  28106322445 2019-10-31       14        32        63.43   \n",
       "4              1  28235481967 2019-11-07       15        20        53.45   \n",
       "\n",
       "           M  per_price  Year  Month  Day  Quarter  Weekday  \n",
       "0 2019-09-01       2.31  2019      9   18        3        3  \n",
       "1 2019-10-01       2.94  2019     10    4        4        5  \n",
       "2 2019-10-01       2.07  2019     10   25        4        5  \n",
       "3 2019-10-01       1.98  2019     10   31        4        4  \n",
       "4 2019-11-01       2.67  2019     11    7        4        4  "
      ]
     },
     "execution_count": 7,
     "metadata": {},
     "output_type": "execute_result"
    }
   ],
   "source": [
    "df_1.head()"
   ]
  },
  {
   "cell_type": "code",
   "execution_count": 8,
   "id": "97d85a8c-7133-447e-88e0-5ff3f7d3e526",
   "metadata": {},
   "outputs": [
    {
     "data": {
      "image/png": "[encoded data removed]",
      "text/plain": [
       "<Figure size 864x432 with 1 Axes>"
      ]
     },
     "metadata": {
      "needs_background": "light"
     },
     "output_type": "display_data"
    }
   ],
   "source": [
    "#客單價趨勢\n",
    "atv_D=df_1.groupby('DATE').SALES_VALUE.sum()/df_1.groupby('DATE').household_key.count()\n",
    "atv_M=df_1.groupby('M').SALES_VALUE.sum()/df_1.groupby('M').household_key.count()\n",
    "plt.figure(figsize=(12,6))\n",
    "atv_D.plot(label='每日ATV')\n",
    "atv_M.plot(label='每月ATV')\n",
    "plt.title('客單價趨勢')\n",
    "plt.legend()\n",
    "plt.show()"
   ]
  },
  {
   "cell_type": "markdown",
   "id": "72883cba",
   "metadata": {},
   "source": [
    "覆購\n",
    "自定義標準如下：\n",
    "1. 當天重複購買不算复購情況\n",
    "2. 以購買人數比例，比如A在1、2、3號都購買了，然後算1個複購\n",
    "3.  复購日期標准購買當日起的k個對方指再次購買\n",
    "4. 此處不計算購買區間內的複購，例如19970101購買一次，19980202第二次購買，此時天數間隔超過365天，不計入年復購。但若以年區間來算，第一次 1997年購買時，第二次購買是1998年，應該算入年復購\n"
   ]
  },
  {
   "cell_type": "code",
   "execution_count": 9,
   "id": "3b5356b1-bb47-4605-b3f5-3863bec13f7f",
   "metadata": {},
   "outputs": [
    {
     "name": "stdout",
     "output_type": "stream",
     "text": [
      "DATE           2019-07-30  2019-07-31  2019-08-01  2019-08-02  2019-08-03  \\\n",
      "household_key                                                               \n",
      "1                       0           0           0           0           0   \n",
      "2                       0           0           0           0           0   \n",
      "3                       0           0           0           0           0   \n",
      "4                       0           0           0           0           0   \n",
      "5                       0           0           0           0           0   \n",
      "\n",
      "DATE           2019-08-04  2019-08-05  2019-08-06  2019-08-07  2019-08-08  \\\n",
      "household_key                                                               \n",
      "1                       0           0           0           0           0   \n",
      "2                       0           0           0           0           0   \n",
      "3                       0           0           0           0           0   \n",
      "4                       0           0           0           0           0   \n",
      "5                       0           0           0           0           0   \n",
      "\n",
      "DATE           ...  2021-06-30  2021-07-01  2021-07-02  2021-07-03  \\\n",
      "household_key  ...                                                   \n",
      "1              ...           0           0           0           0   \n",
      "2              ...           0           0           0           0   \n",
      "3              ...           0           1           0           0   \n",
      "4              ...           0           0           0           0   \n",
      "5              ...           0           1           0           0   \n",
      "\n",
      "DATE           2021-07-04  2021-07-05  2021-07-06  2021-07-07  2021-07-08  \\\n",
      "household_key                                                               \n",
      "1                       1           0           0           0           0   \n",
      "2                       0           0           0           0           0   \n",
      "3                       0           0           0           0           0   \n",
      "4                       0           0           0           0           0   \n",
      "5                       0           0           0           0           0   \n",
      "\n",
      "DATE           2021-07-09  \n",
      "household_key              \n",
      "1                       0  \n",
      "2                       0  \n",
      "3                       0  \n",
      "4                       0  \n",
      "5                       0  \n",
      "\n",
      "[5 rows x 711 columns]\n"
     ]
    }
   ],
   "source": [
    "\n",
    "#利用數據透視表統計每個用戶每天的購買情況\n",
    "purchase_back = df_1[['household_key', 'DATE', 'SALES_VALUE']].pivot_table(\n",
    "     index='household_key', columns='DATE', values='SALES_VALUE', aggfunc='count').fillna(0)\n",
    "#复購情況不用考慮當天購買的許多情況，因此構成特徵，購買標籤為1，沒購買標籤為0\n",
    "purchase_back = purchase_back.applymap(lambda x: 1 if x > 0 else 0)\n",
    "print(purchase_back.head())"
   ]
  },
  {
   "cell_type": "code",
   "execution_count": 48,
   "id": "ada0094d",
   "metadata": {},
   "outputs": [
    {
     "name": "stdout",
     "output_type": "stream",
     "text": [
      "統計 30 天的複購率\n",
      "254    0.943574\n",
      "243    0.949198\n",
      "346    0.963585\n",
      "622    0.961905\n",
      "658    0.960912\n",
      "dtype: float64\n"
     ]
    },
    {
     "data": {
      "application/vnd.plotly.v1+json": {
       "config": {
        "plotlyServerURL": "https://plot.ly"
       },
       "data": [
        {
         "hovertemplate": "variable=0<br>index=%{x}<br>value=%{y}<extra></extra>",
         "legendgroup": "0",
         "line": {
          "color": "#636efa",
          "dash": "solid"
         },
         "mode": "lines",
         "name": "0",
         "orientation": "v",
         "showlegend": true,
         "type": "scatter",
         "x": [
          0,
          1,
          2,
          3,
          4,
          5,
          6,
          7,
          8,
          9,
          10,
          11,
          12,
          13,
          14,
          15,
          16,
          17,
          18,
          19,
          20,
          21,
          22,
          23,
          24,
          25,
          26,
          27,
          28,
          29,
          30,
          31,
          32,
          33,
          34,
          35,
          36,
          37,
          38,
          39,
          40,
          41,
          42,
          43,
          44,
          45,
          46,
          47,
          48,
          49,
          50,
          51,
          52,
          53,
          54,
          55,
          56,
          57,
          58,
          59,
          60,
          61,
          62,
          63,
          64,
          65,
          66,
          67,
          68,
          69,
          70,
          71,
          72,
          73,
          74,
          75,
          76,
          77,
          78,
          79,
          80,
          81,
          82,
          83,
          84,
          85,
          86,
          87,
          88,
          89,
          90,
          91,
          92,
          93,
          94,
          95,
          96,
          97,
          98,
          99,
          100,
          101,
          102,
          103,
          104,
          105,
          106,
          107,
          108,
          109,
          110,
          111,
          112,
          113,
          114,
          115,
          116,
          117,
          118,
          119,
          120,
          121,
          122,
          123,
          124,
          125,
          126,
          127,
          128,
          129,
          130,
          131,
          132,
          133,
          134,
          135,
          136,
          137,
          138,
          139,
          140,
          141,
          142,
          143,
          144,
          145,
          146,
          147,
          148,
          149,
          150,
          151,
          152,
          153,
          154,
          155,
          156,
          157,
          158,
          159,
          160,
          161,
          162,
          163,
          164,
          165,
          166,
          167,
          168,
          169,
          170,
          171,
          172,
          173,
          174,
          175,
          176,
          177,
          178,
          179,
          180,
          181,
          182,
          183,
          184,
          185,
          186,
          187,
          188,
          189,
          190,
          191,
          192,
          193,
          194,
          195,
          196,
          197,
          198,
          199,
          200,
          201,
          202,
          203,
          204,
          205,
          206,
          207,
          208,
          209,
          210,
          211,
          212,
          213,
          214,
          215,
          216,
          217,
          218,
          219,
          220,
          221,
          222,
          223,
          224,
          225,
          226,
          227,
          228,
          229,
          230,
          231,
          232,
          233,
          234,
          235,
          236,
          237,
          238,
          239,
          240,
          241,
          242,
          243,
          244,
          245,
          246,
          247,
          248,
          249,
          250,
          251,
          252,
          253,
          254,
          255,
          256,
          257,
          258,
          259,
          260,
          261,
          262,
          263,
          264,
          265,
          266,
          267,
          268,
          269,
          270,
          271,
          272,
          273,
          274,
          275,
          276,
          277,
          278,
          279,
          280,
          281,
          282,
          283,
          284,
          285,
          286,
          287,
          288,
          289,
          290,
          291,
          292,
          293,
          294,
          295,
          296,
          297,
          298,
          299,
          300,
          301,
          302,
          303,
          304,
          305,
          306,
          307,
          308,
          309,
          310,
          311,
          312,
          313,
          314,
          315,
          316,
          317,
          318,
          319,
          320,
          321,
          322,
          323,
          324,
          325,
          326,
          327,
          328,
          329,
          330,
          331,
          332,
          333,
          334,
          335,
          336,
          337,
          338,
          339,
          340,
          341,
          342,
          343,
          344,
          345,
          346,
          347,
          348,
          349,
          350,
          351,
          352,
          353,
          354,
          355,
          356,
          357,
          358,
          359,
          360,
          361,
          362,
          363,
          364,
          365,
          366,
          367,
          368,
          369,
          370,
          371,
          372,
          373,
          374,
          375,
          376,
          377,
          378,
          379,
          380,
          381,
          382,
          383,
          384,
          385,
          386,
          387,
          388,
          389,
          390,
          391,
          392,
          393,
          394,
          395,
          396,
          397,
          398,
          399,
          400,
          401,
          402,
          403,
          404,
          405,
          406,
          407,
          408,
          409,
          410,
          411,
          412,
          413,
          414,
          415,
          416,
          417,
          418,
          419,
          420,
          421,
          422,
          423,
          424,
          425,
          426,
          427,
          428,
          429,
          430,
          431,
          432,
          433,
          434,
          435,
          436,
          437,
          438,
          439,
          440,
          441,
          442,
          443,
          444,
          445,
          446,
          447,
          448,
          449,
          450,
          451,
          452,
          453,
          454,
          455,
          456,
          457,
          458,
          459,
          460,
          461,
          462,
          463,
          464,
          465,
          466,
          467,
          468,
          469,
          470,
          471,
          472,
          473,
          474,
          475,
          476,
          477,
          478,
          479,
          480,
          481,
          482,
          483,
          484,
          485,
          486,
          487,
          488,
          489,
          490,
          491,
          492,
          493,
          494,
          495,
          496,
          497,
          498,
          499,
          500,
          501,
          502,
          503,
          504,
          505,
          506,
          507,
          508,
          509,
          510,
          511,
          512,
          513,
          514,
          515,
          516,
          517,
          518,
          519,
          520,
          521,
          522,
          523,
          524,
          525,
          526,
          527,
          528,
          529,
          530,
          531,
          532,
          533,
          534,
          535,
          536,
          537,
          538,
          539,
          540,
          541,
          542,
          543,
          544,
          545,
          546,
          547,
          548,
          549,
          550,
          551,
          552,
          553,
          554,
          555,
          556,
          557,
          558,
          559,
          560,
          561,
          562,
          563,
          564,
          565,
          566,
          567,
          568,
          569,
          570,
          571,
          572,
          573,
          574,
          575,
          576,
          577,
          578,
          579,
          580,
          581,
          582,
          583,
          584,
          585,
          586,
          587,
          588,
          589,
          590,
          591,
          592,
          593,
          594,
          595,
          596,
          597,
          598,
          599,
          600,
          601,
          602,
          603,
          604,
          605,
          606,
          607,
          608,
          609,
          610,
          611,
          612,
          613,
          614,
          615,
          616,
          617,
          618,
          619,
          620,
          621,
          622,
          623,
          624,
          625,
          626,
          627,
          628,
          629,
          630,
          631,
          632,
          633,
          634,
          635,
          636,
          637,
          638,
          639,
          640,
          641,
          642,
          643,
          644,
          645,
          646,
          647,
          648,
          649,
          650,
          651,
          652,
          653,
          654,
          655,
          656,
          657,
          658,
          659,
          660,
          661,
          662,
          663,
          664,
          665,
          666,
          667,
          668,
          669,
          670,
          671,
          672,
          673,
          674,
          675,
          676,
          677,
          678,
          679,
          680
         ],
         "xaxis": "x",
         "y": [
          0.8461538461538461,
          0.9166666666666666,
          0.8787878787878788,
          0.8611111111111112,
          0.8260869565217391,
          0.8571428571428571,
          0.7777777777777778,
          0.8235294117647058,
          0.8709677419354839,
          0.7857142857142857,
          0.9318181818181818,
          0.8809523809523809,
          0.9142857142857143,
          0.9166666666666666,
          0.9534883720930233,
          0.8837209302325582,
          0.921875,
          0.8548387096774194,
          0.84375,
          0.9491525423728814,
          0.9137931034482759,
          0.9454545454545454,
          0.8852459016393442,
          0.9666666666666667,
          0.9210526315789473,
          0.9726027397260274,
          0.9466666666666667,
          0.9696969696969697,
          0.9204545454545454,
          0.90625,
          0.9529411764705882,
          0.8735632183908046,
          0.9423076923076923,
          0.8787878787878788,
          0.9204545454545454,
          0.9090909090909091,
          0.9761904761904762,
          0.945054945054945,
          0.8672566371681416,
          0.9421487603305785,
          0.94,
          0.9292035398230089,
          0.9278350515463918,
          0.9142857142857143,
          0.9191919191919192,
          0.9202898550724637,
          0.9527027027027027,
          0.9734513274336283,
          0.9326923076923077,
          0.975609756097561,
          0.9312977099236641,
          0.9172932330827067,
          0.9078014184397163,
          0.95,
          0.9117647058823529,
          0.9619047619047619,
          0.944,
          0.9296875,
          0.9571428571428572,
          0.9308176100628931,
          0.9440993788819876,
          0.9536423841059603,
          0.9612903225806452,
          0.9533333333333334,
          0.9567901234567902,
          0.9590643274853801,
          0.9554455445544554,
          0.945,
          0.9043062200956937,
          0.9318181818181818,
          0.9508196721311475,
          0.9428571428571428,
          0.9175257731958762,
          0.9534883720930233,
          0.9434782608695652,
          0.9601990049751243,
          0.9219512195121952,
          0.934010152284264,
          0.9067357512953368,
          0.9540816326530612,
          0.9478260869565217,
          0.9558232931726908,
          0.9691629955947136,
          0.9656862745098039,
          0.9547511312217195,
          0.9436619718309859,
          0.9497907949790795,
          0.9250936329588015,
          0.9390681003584229,
          0.9224489795918367,
          0.9382239382239382,
          0.9423076923076923,
          0.9580152671755725,
          0.9539748953974896,
          0.9355932203389831,
          0.9240506329113924,
          0.9601593625498008,
          0.9482071713147411,
          0.958041958041958,
          0.9563492063492064,
          0.9511400651465798,
          0.9565217391304348,
          0.9297752808988764,
          0.9208860759493671,
          0.9357798165137615,
          0.9335548172757475,
          0.9326599326599326,
          0.9391891891891891,
          0.9501557632398754,
          0.9519774011299436,
          0.9475308641975309,
          0.9455782312925171,
          0.9491017964071856,
          0.9544072948328267,
          0.9465875370919882,
          0.9405099150141643,
          0.967032967032967,
          0.952112676056338,
          0.9662162162162162,
          0.9743589743589743,
          0.9649122807017544,
          0.9723076923076923,
          0.9393939393939394,
          0.9651474530831099,
          0.9655172413793104,
          0.9752650176678446,
          0.9691780821917808,
          0.9646302250803859,
          0.9761092150170648,
          0.9485714285714286,
          0.9759358288770054,
          0.9735294117647059,
          0.972972972972973,
          0.9690721649484536,
          0.967741935483871,
          0.975,
          0.9455587392550143,
          0.9609375,
          0.9533333333333334,
          0.9722222222222222,
          0.9625,
          0.959731543624161,
          0.9737609329446064,
          0.9380281690140845,
          0.9495798319327731,
          0.9663608562691132,
          0.9733727810650887,
          0.9540983606557377,
          0.9633333333333334,
          0.9625,
          0.9745042492917847,
          0.9567567567567568,
          0.9744408945686901,
          0.976897689768977,
          0.9630872483221476,
          0.9689655172413794,
          0.9690402476780186,
          0.9661971830985916,
          0.9613259668508287,
          0.9627329192546584,
          0.9581749049429658,
          0.9636963696369637,
          0.9701492537313433,
          0.9378698224852071,
          0.9648648648648649,
          0.9423076923076923,
          0.9685714285714285,
          0.9674267100977199,
          0.9648093841642229,
          0.9602649006622517,
          0.963302752293578,
          0.9501466275659824,
          0.9673366834170855,
          0.9830508474576272,
          0.954225352112676,
          0.9896193771626297,
          0.9743589743589743,
          0.9538461538461539,
          0.9666666666666667,
          0.9375,
          0.9715302491103203,
          0.9683098591549296,
          0.9744525547445255,
          0.9838187702265372,
          0.9715189873417721,
          0.9506849315068493,
          0.9560439560439561,
          0.9659863945578231,
          0.9672727272727273,
          0.9738805970149254,
          0.9573770491803278,
          0.972318339100346,
          0.9700598802395209,
          0.946927374301676,
          0.984472049689441,
          0.9723926380368099,
          0.95625,
          0.9700598802395209,
          0.9665551839464883,
          0.9610027855153204,
          0.958005249343832,
          0.9691358024691358,
          0.9553264604810997,
          0.9395017793594306,
          0.9523809523809523,
          0.9634551495016611,
          0.9715909090909091,
          0.96,
          0.9438943894389439,
          0.9712230215827338,
          0.9795918367346939,
          0.9721254355400697,
          0.9766666666666667,
          0.9354838709677419,
          0.9590163934426229,
          0.9493670886075949,
          0.9590443686006825,
          0.976027397260274,
          0.9694189602446484,
          0.9627118644067797,
          0.9792899408284024,
          0.9548872180451128,
          0.9634146341463414,
          0.95,
          0.9595959595959596,
          0.9656357388316151,
          0.9719626168224299,
          0.9519519519519519,
          0.9402173913043478,
          0.956386292834891,
          0.9632107023411371,
          0.9828767123287672,
          0.9747292418772563,
          0.968421052631579,
          0.9423076923076923,
          0.967828418230563,
          0.9727891156462585,
          0.9543973941368078,
          0.972027972027972,
          0.9782608695652174,
          0.9671052631578947,
          0.9675675675675676,
          0.976401179941003,
          0.9491978609625669,
          0.9491094147582697,
          0.952286282306163,
          0.9521739130434783,
          0.9665271966527197,
          0.9647887323943662,
          0.972318339100346,
          0.9615384615384616,
          0.9652996845425867,
          0.9726962457337884,
          0.9381107491856677,
          0.9435736677115988,
          0.967391304347826,
          0.9616519174041298,
          0.9601226993865031,
          0.9716312056737588,
          0.9573170731707317,
          0.9578313253012049,
          0.96,
          0.9646017699115044,
          0.9459459459459459,
          0.9692832764505119,
          0.978978978978979,
          0.975609756097561,
          0.9508771929824561,
          0.95625,
          0.96996996996997,
          0.9576719576719577,
          0.9528301886792453,
          0.9722222222222222,
          0.9637462235649547,
          0.9554896142433235,
          0.945823927765237,
          0.9539641943734015,
          1,
          0.9611650485436893,
          0.9659442724458205,
          0.9590443686006825,
          0.9602649006622517,
          0.9603658536585366,
          0.9461206896551724,
          0.9771241830065359,
          0.9690402476780186,
          0.9601226993865031,
          0.9614147909967846,
          0.9595015576323987,
          0.9540983606557377,
          0.9674556213017751,
          0.9583333333333334,
          0.9598765432098766,
          0.9761092150170648,
          0.9703947368421053,
          0.9747634069400631,
          0.9790940766550522,
          0.969187675070028,
          0.9787878787878788,
          0.9647058823529412,
          0.973421926910299,
          0.975,
          0.9634551495016611,
          0.9476923076923077,
          0.9493333333333334,
          0.9771573604060914,
          0.9647058823529412,
          0.9620689655172414,
          0.9663299663299664,
          0.953405017921147,
          0.9621993127147767,
          0.9659442724458205,
          0.946236559139785,
          0.9779179810725552,
          0.9618055555555556,
          0.9738562091503268,
          0.975975975975976,
          0.9657142857142857,
          0.9644670050761421,
          0.9396984924623115,
          0.9821428571428571,
          0.9592592592592593,
          0.9779411764705882,
          0.9727891156462585,
          0.9803370786516854,
          0.9518072289156626,
          0.9565217391304348,
          0.9651474530831099,
          0.9560117302052786,
          0.9789473684210527,
          0.9602649006622517,
          0.9630872483221476,
          0.9451219512195121,
          0.9613095238095238,
          0.9648562300319489,
          0.974025974025974,
          0.9593220338983051,
          0.9655172413793104,
          0.9746835443037974,
          0.968503937007874,
          0.9672131147540983,
          0.9682539682539683,
          0.9484536082474226,
          0.9512195121951219,
          0.9637462235649547,
          0.9742765273311897,
          0.9635854341736695,
          0.9587912087912088,
          0.9688385269121813,
          0.9632107023411371,
          0.9494949494949495,
          0.9565217391304348,
          0.9562289562289562,
          0.9582089552238806,
          0.9594594594594594,
          0.9572368421052632,
          0.9749216300940439,
          0.9776357827476039,
          0.9534883720930233,
          0.9651898734177216,
          0.9797687861271677,
          0.9561643835616438,
          0.9724517906336089,
          0.9662921348314607,
          0.9693877551020408,
          0.981549815498155,
          0.9770491803278688,
          0.9685714285714285,
          0.9662921348314607,
          0.9543973941368078,
          0.9537953795379538,
          0.964516129032258,
          0.9459459459459459,
          0.9723076923076923,
          0.9711815561959655,
          0.9578651685393258,
          0.9566563467492261,
          0.9644970414201184,
          0.9493670886075949,
          0.9614035087719298,
          0.9825783972125436,
          0.9641873278236914,
          0.9487870619946092,
          0.9814814814814815,
          0.9855072463768116,
          0.9617834394904459,
          0.9682539682539683,
          0.9657142857142857,
          0.9528535980148883,
          0.9492537313432836,
          0.9870550161812298,
          0.9726962457337884,
          0.9801980198019802,
          0.9836601307189542,
          0.962457337883959,
          0.9748603351955307,
          0.9744897959183674,
          0.9832214765100671,
          0.965625,
          0.9859649122807017,
          0.9772727272727273,
          0.9787234042553191,
          0.9584569732937686,
          0.9508670520231214,
          0.9801699716713881,
          0.9532710280373832,
          0.954983922829582,
          0.975975975975976,
          0.9695121951219512,
          0.9574468085106383,
          0.9709762532981531,
          0.9655172413793104,
          0.9747634069400631,
          0.9702970297029703,
          0.9575757575757575,
          0.9741935483870968,
          0.9601063829787234,
          0.954337899543379,
          0.9549295774647887,
          0.9640718562874252,
          0.9652996845425867,
          0.9637462235649547,
          0.981651376146789,
          0.9550561797752809,
          0.9731051344743277,
          0.9546827794561934,
          0.9725085910652921,
          0.9681528662420382,
          0.9782608695652174,
          0.9734513274336283,
          0.9472295514511874,
          0.9573333333333334,
          0.9603399433427762,
          0.97,
          0.9805194805194806,
          0.9701986754966887,
          0.9739884393063584,
          0.968421052631579,
          0.9658792650918635,
          0.9785932721712538,
          0.9732441471571907,
          0.9568106312292359,
          0.9661538461538461,
          0.954983922829582,
          0.96398891966759,
          0.970108695652174,
          0.9566563467492261,
          0.9817629179331308,
          0.9652996845425867,
          0.9847094801223242,
          0.9620253164556962,
          0.9384164222873901,
          0.9689922480620154,
          0.9776357827476039,
          0.9771241830065359,
          0.9685314685314685,
          0.9738562091503268,
          0.9628482972136223,
          0.9742120343839542,
          0.9698795180722891,
          0.9558823529411765,
          0.9672131147540983,
          0.9854545454545455,
          0.987460815047022,
          0.9515151515151515,
          0.9506493506493506,
          0.9651474530831099,
          0.9408602150537635,
          0.9511002444987775,
          0.9684542586750788,
          0.9694444444444444,
          0.9669669669669669,
          0.9551820728291317,
          0.967828418230563,
          0.9725609756097561,
          0.9867549668874173,
          0.9581993569131833,
          0.9801324503311258,
          0.9568106312292359,
          0.9563953488372093,
          0.9683377308707124,
          0.9731343283582089,
          0.9826388888888888,
          0.9646643109540636,
          0.963302752293578,
          0.9798657718120806,
          0.9735449735449735,
          0.9528535980148883,
          0.9528301886792453,
          0.9601328903654485,
          0.9625850340136054,
          0.963076923076923,
          0.9674267100977199,
          0.9751381215469613,
          0.9408602150537635,
          0.9642857142857143,
          0.9709302325581395,
          0.9719626168224299,
          0.9479768786127167,
          0.9504132231404959,
          0.9614325068870524,
          0.9743589743589743,
          0.9495548961424333,
          0.9730538922155688,
          0.9728813559322034,
          0.9554896142433235,
          0.964968152866242,
          0.9645776566757494,
          0.9431137724550899,
          0.9613259668508287,
          0.9735973597359736,
          0.9551724137931035,
          0.9649122807017544,
          0.9625,
          0.9568965517241379,
          0.9586776859504132,
          0.9735099337748344,
          0.9741100323624595,
          0.9771986970684039,
          0.963076923076923,
          0.976897689768977,
          0.9557291666666666,
          0.9644808743169399,
          0.9646302250803859,
          0.9626436781609196,
          0.9601449275362319,
          0.9442622950819672,
          0.9741935483870968,
          0.9576719576719577,
          0.9559228650137741,
          0.9695290858725761,
          0.9596541786743515,
          0.9525316455696202,
          0.9934640522875817,
          0.9704918032786886,
          0.9549295774647887,
          0.9648648648648649,
          0.9565217391304348,
          0.9704918032786886,
          0.9546925566343042,
          0.9693877551020408,
          0.9686411149825784,
          0.978978978978979,
          0.9550561797752809,
          0.963302752293578,
          0.9503105590062112,
          0.9788732394366197,
          0.959866220735786,
          0.9612903225806452,
          0.9591280653950953,
          0.9432432432432433,
          0.9841772151898734,
          0.9737704918032787,
          0.9723076923076923,
          0.9673202614379085,
          0.9583333333333334,
          0.943342776203966,
          0.9847328244274809,
          0.9726443768996961,
          0.9680511182108626,
          0.9671052631578947,
          0.9647435897435898,
          0.9672619047619048,
          0.9719626168224299,
          0.952755905511811,
          0.9567723342939481,
          0.978978978978979,
          0.9605263157894737,
          0.9761904761904762,
          0.9581993569131833,
          0.9539295392953929,
          0.9694444444444444,
          0.9659442724458205,
          0.9716312056737588,
          0.9633333333333334,
          0.9689655172413794,
          0.9801980198019802,
          0.9581005586592178,
          0.963855421686747,
          0.982089552238806,
          0.975,
          0.9648562300319489,
          0.9694915254237289,
          0.9691780821917808,
          0.949438202247191,
          0.9614325068870524,
          0.97953216374269,
          0.9655172413793104,
          0.9623824451410659,
          0.9646302250803859,
          0.95,
          0.9575,
          0.9667458432304038,
          0.9607250755287009,
          0.9701986754966887,
          0.9509803921568627,
          0.9303135888501742,
          0.9717868338557993,
          0.9616438356164384,
          0.9869791666666666,
          0.9738562091503268,
          0.9628482972136223,
          0.9754385964912281,
          0.9621993127147767,
          0.9390243902439024,
          0.949438202247191,
          0.9546599496221663,
          0.9592875318066157,
          0.9792207792207792,
          0.9510204081632653,
          0.9575289575289575,
          0.9736842105263158,
          0.9680851063829787,
          0.9667673716012085,
          0.9768211920529801,
          0.9723076923076923,
          0.979933110367893,
          0.9697986577181208,
          0.9572368421052632,
          0.946927374301676,
          0.9556135770234987,
          0.9471947194719472,
          0.9619047619047619,
          0.9551282051282052,
          0.9575971731448764,
          0.9725609756097561,
          0.9656160458452722,
          0.9641943734015346,
          0.9601226993865031,
          0.9732142857142857,
          0.9814814814814815,
          0.9533333333333334,
          0.9620991253644315,
          0.9664804469273743,
          0.9886363636363636,
          0.9484240687679083,
          0.9551820728291317,
          0.9678456591639871,
          0.9822485207100592,
          0.956989247311828,
          0.9680851063829787,
          0.9373493975903614,
          1,
          0.97,
          0.959731543624161,
          0.9735849056603774,
          0.975,
          0.9507772020725389,
          0.954653937947494,
          0.96,
          0.9560117302052786,
          0.9691011235955056,
          0.964516129032258,
          0.943217665615142,
          0.9578947368421052,
          0.945054945054945,
          0.9833887043189369,
          0.9588607594936709,
          0.9609120521172638,
          0.954983922829582,
          0.9540983606557377,
          0.9510869565217391,
          0.9625668449197861,
          0.9817629179331308,
          0.9661016949152542,
          0.9716312056737588,
          0.9897260273972602,
          0.975,
          0.9633251833740831,
          0.9728813559322034,
          0.9613095238095238,
          0.9716088328075709,
          0.9601449275362319,
          0.9552715654952076,
          0.9614147909967846,
          0.9652406417112299,
          0.9694444444444444,
          0.9801980198019802,
          0.9403973509933775,
          0.9668674698795181,
          0.9751552795031055
         ],
         "yaxis": "y"
        }
       ],
       "layout": {
        "font": {
         "size": 18
        },
        "legend": {
         "title": {
          "text": "variable"
         },
         "tracegroupgap": 0
        },
        "margin": {
         "t": 60
        },
        "showlegend": false,
        "template": {
         "data": {
          "bar": [
           {
            "error_x": {
             "color": "#2a3f5f"
            },
            "error_y": {
             "color": "#2a3f5f"
            },
            "marker": {
             "line": {
              "color": "#E5ECF6",
              "width": 0.5
             },
             "pattern": {
              "fillmode": "overlay",
              "size": 10,
              "solidity": 0.2
             }
            },
            "type": "bar"
           }
          ],
          "barpolar": [
           {
            "marker": {
             "line": {
              "color": "#E5ECF6",
              "width": 0.5
             },
             "pattern": {
              "fillmode": "overlay",
              "size": 10,
              "solidity": 0.2
             }
            },
            "type": "barpolar"
           }
          ],
          "carpet": [
           {
            "aaxis": {
             "endlinecolor": "#2a3f5f",
             "gridcolor": "white",
             "linecolor": "white",
             "minorgridcolor": "white",
             "startlinecolor": "#2a3f5f"
            },
            "baxis": {
             "endlinecolor": "#2a3f5f",
             "gridcolor": "white",
             "linecolor": "white",
             "minorgridcolor": "white",
             "startlinecolor": "#2a3f5f"
            },
            "type": "carpet"
           }
          ],
          "choropleth": [
           {
            "colorbar": {
             "outlinewidth": 0,
             "ticks": ""
            },
            "type": "choropleth"
           }
          ],
          "contour": [
           {
            "colorbar": {
             "outlinewidth": 0,
             "ticks": ""
            },
            "colorscale": [
             [
              0,
              "#0d0887"
             ],
             [
              0.1111111111111111,
              "#46039f"
             ],
             [
              0.2222222222222222,
              "#7201a8"
             ],
             [
              0.3333333333333333,
              "#9c179e"
             ],
             [
              0.4444444444444444,
              "#bd3786"
             ],
             [
              0.5555555555555556,
              "#d8576b"
             ],
             [
              0.6666666666666666,
              "#ed7953"
             ],
             [
              0.7777777777777778,
              "#fb9f3a"
             ],
             [
              0.8888888888888888,
              "#fdca26"
             ],
             [
              1,
              "#f0f921"
             ]
            ],
            "type": "contour"
           }
          ],
          "contourcarpet": [
           {
            "colorbar": {
             "outlinewidth": 0,
             "ticks": ""
            },
            "type": "contourcarpet"
           }
          ],
          "heatmap": [
           {
            "colorbar": {
             "outlinewidth": 0,
             "ticks": ""
            },
            "colorscale": [
             [
              0,
              "#0d0887"
             ],
             [
              0.1111111111111111,
              "#46039f"
             ],
             [
              0.2222222222222222,
              "#7201a8"
             ],
             [
              0.3333333333333333,
              "#9c179e"
             ],
             [
              0.4444444444444444,
              "#bd3786"
             ],
             [
              0.5555555555555556,
              "#d8576b"
             ],
             [
              0.6666666666666666,
              "#ed7953"
             ],
             [
              0.7777777777777778,
              "#fb9f3a"
             ],
             [
              0.8888888888888888,
              "#fdca26"
             ],
             [
              1,
              "#f0f921"
             ]
            ],
            "type": "heatmap"
           }
          ],
          "heatmapgl": [
           {
            "colorbar": {
             "outlinewidth": 0,
             "ticks": ""
            },
            "colorscale": [
             [
              0,
              "#0d0887"
             ],
             [
              0.1111111111111111,
              "#46039f"
             ],
             [
              0.2222222222222222,
              "#7201a8"
             ],
             [
              0.3333333333333333,
              "#9c179e"
             ],
             [
              0.4444444444444444,
              "#bd3786"
             ],
             [
              0.5555555555555556,
              "#d8576b"
             ],
             [
              0.6666666666666666,
              "#ed7953"
             ],
             [
              0.7777777777777778,
              "#fb9f3a"
             ],
             [
              0.8888888888888888,
              "#fdca26"
             ],
             [
              1,
              "#f0f921"
             ]
            ],
            "type": "heatmapgl"
           }
          ],
          "histogram": [
           {
            "marker": {
             "pattern": {
              "fillmode": "overlay",
              "size": 10,
              "solidity": 0.2
             }
            },
            "type": "histogram"
           }
          ],
          "histogram2d": [
           {
            "colorbar": {
             "outlinewidth": 0,
             "ticks": ""
            },
            "colorscale": [
             [
              0,
              "#0d0887"
             ],
             [
              0.1111111111111111,
              "#46039f"
             ],
             [
              0.2222222222222222,
              "#7201a8"
             ],
             [
              0.3333333333333333,
              "#9c179e"
             ],
             [
              0.4444444444444444,
              "#bd3786"
             ],
             [
              0.5555555555555556,
              "#d8576b"
             ],
             [
              0.6666666666666666,
              "#ed7953"
             ],
             [
              0.7777777777777778,
              "#fb9f3a"
             ],
             [
              0.8888888888888888,
              "#fdca26"
             ],
             [
              1,
              "#f0f921"
             ]
            ],
            "type": "histogram2d"
           }
          ],
          "histogram2dcontour": [
           {
            "colorbar": {
             "outlinewidth": 0,
             "ticks": ""
            },
            "colorscale": [
             [
              0,
              "#0d0887"
             ],
             [
              0.1111111111111111,
              "#46039f"
             ],
             [
              0.2222222222222222,
              "#7201a8"
             ],
             [
              0.3333333333333333,
              "#9c179e"
             ],
             [
              0.4444444444444444,
              "#bd3786"
             ],
             [
              0.5555555555555556,
              "#d8576b"
             ],
             [
              0.6666666666666666,
              "#ed7953"
             ],
             [
              0.7777777777777778,
              "#fb9f3a"
             ],
             [
              0.8888888888888888,
              "#fdca26"
             ],
             [
              1,
              "#f0f921"
             ]
            ],
            "type": "histogram2dcontour"
           }
          ],
          "mesh3d": [
           {
            "colorbar": {
             "outlinewidth": 0,
             "ticks": ""
            },
            "type": "mesh3d"
           }
          ],
          "parcoords": [
           {
            "line": {
             "colorbar": {
              "outlinewidth": 0,
              "ticks": ""
             }
            },
            "type": "parcoords"
           }
          ],
          "pie": [
           {
            "automargin": true,
            "type": "pie"
           }
          ],
          "scatter": [
           {
            "marker": {
             "colorbar": {
              "outlinewidth": 0,
              "ticks": ""
             }
            },
            "type": "scatter"
           }
          ],
          "scatter3d": [
           {
            "line": {
             "colorbar": {
              "outlinewidth": 0,
              "ticks": ""
             }
            },
            "marker": {
             "colorbar": {
              "outlinewidth": 0,
              "ticks": ""
             }
            },
            "type": "scatter3d"
           }
          ],
          "scattercarpet": [
           {
            "marker": {
             "colorbar": {
              "outlinewidth": 0,
              "ticks": ""
             }
            },
            "type": "scattercarpet"
           }
          ],
          "scattergeo": [
           {
            "marker": {
             "colorbar": {
              "outlinewidth": 0,
              "ticks": ""
             }
            },
            "type": "scattergeo"
           }
          ],
          "scattergl": [
           {
            "marker": {
             "colorbar": {
              "outlinewidth": 0,
              "ticks": ""
             }
            },
            "type": "scattergl"
           }
          ],
          "scattermapbox": [
           {
            "marker": {
             "colorbar": {
              "outlinewidth": 0,
              "ticks": ""
             }
            },
            "type": "scattermapbox"
           }
          ],
          "scatterpolar": [
           {
            "marker": {
             "colorbar": {
              "outlinewidth": 0,
              "ticks": ""
             }
            },
            "type": "scatterpolar"
           }
          ],
          "scatterpolargl": [
           {
            "marker": {
             "colorbar": {
              "outlinewidth": 0,
              "ticks": ""
             }
            },
            "type": "scatterpolargl"
           }
          ],
          "scatterternary": [
           {
            "marker": {
             "colorbar": {
              "outlinewidth": 0,
              "ticks": ""
             }
            },
            "type": "scatterternary"
           }
          ],
          "surface": [
           {
            "colorbar": {
             "outlinewidth": 0,
             "ticks": ""
            },
            "colorscale": [
             [
              0,
              "#0d0887"
             ],
             [
              0.1111111111111111,
              "#46039f"
             ],
             [
              0.2222222222222222,
              "#7201a8"
             ],
             [
              0.3333333333333333,
              "#9c179e"
             ],
             [
              0.4444444444444444,
              "#bd3786"
             ],
             [
              0.5555555555555556,
              "#d8576b"
             ],
             [
              0.6666666666666666,
              "#ed7953"
             ],
             [
              0.7777777777777778,
              "#fb9f3a"
             ],
             [
              0.8888888888888888,
              "#fdca26"
             ],
             [
              1,
              "#f0f921"
             ]
            ],
            "type": "surface"
           }
          ],
          "table": [
           {
            "cells": {
             "fill": {
              "color": "#EBF0F8"
             },
             "line": {
              "color": "white"
             }
            },
            "header": {
             "fill": {
              "color": "#C8D4E3"
             },
             "line": {
              "color": "white"
             }
            },
            "type": "table"
           }
          ]
         },
         "layout": {
          "annotationdefaults": {
           "arrowcolor": "#2a3f5f",
           "arrowhead": 0,
           "arrowwidth": 1
          },
          "autotypenumbers": "strict",
          "coloraxis": {
           "colorbar": {
            "outlinewidth": 0,
            "ticks": ""
           }
          },
          "colorscale": {
           "diverging": [
            [
             0,
             "#8e0152"
            ],
            [
             0.1,
             "#c51b7d"
            ],
            [
             0.2,
             "#de77ae"
            ],
            [
             0.3,
             "#f1b6da"
            ],
            [
             0.4,
             "#fde0ef"
            ],
            [
             0.5,
             "#f7f7f7"
            ],
            [
             0.6,
             "#e6f5d0"
            ],
            [
             0.7,
             "#b8e186"
            ],
            [
             0.8,
             "#7fbc41"
            ],
            [
             0.9,
             "#4d9221"
            ],
            [
             1,
             "#276419"
            ]
           ],
           "sequential": [
            [
             0,
             "#0d0887"
            ],
            [
             0.1111111111111111,
             "#46039f"
            ],
            [
             0.2222222222222222,
             "#7201a8"
            ],
            [
             0.3333333333333333,
             "#9c179e"
            ],
            [
             0.4444444444444444,
             "#bd3786"
            ],
            [
             0.5555555555555556,
             "#d8576b"
            ],
            [
             0.6666666666666666,
             "#ed7953"
            ],
            [
             0.7777777777777778,
             "#fb9f3a"
            ],
            [
             0.8888888888888888,
             "#fdca26"
            ],
            [
             1,
             "#f0f921"
            ]
           ],
           "sequentialminus": [
            [
             0,
             "#0d0887"
            ],
            [
             0.1111111111111111,
             "#46039f"
            ],
            [
             0.2222222222222222,
             "#7201a8"
            ],
            [
             0.3333333333333333,
             "#9c179e"
            ],
            [
             0.4444444444444444,
             "#bd3786"
            ],
            [
             0.5555555555555556,
             "#d8576b"
            ],
            [
             0.6666666666666666,
             "#ed7953"
            ],
            [
             0.7777777777777778,
             "#fb9f3a"
            ],
            [
             0.8888888888888888,
             "#fdca26"
            ],
            [
             1,
             "#f0f921"
            ]
           ]
          },
          "colorway": [
           "#636efa",
           "#EF553B",
           "#00cc96",
           "#ab63fa",
           "#FFA15A",
           "#19d3f3",
           "#FF6692",
           "#B6E880",
           "#FF97FF",
           "#FECB52"
          ],
          "font": {
           "color": "#2a3f5f"
          },
          "geo": {
           "bgcolor": "white",
           "lakecolor": "white",
           "landcolor": "#E5ECF6",
           "showlakes": true,
           "showland": true,
           "subunitcolor": "white"
          },
          "hoverlabel": {
           "align": "left"
          },
          "hovermode": "closest",
          "mapbox": {
           "style": "light"
          },
          "paper_bgcolor": "white",
          "plot_bgcolor": "#E5ECF6",
          "polar": {
           "angularaxis": {
            "gridcolor": "white",
            "linecolor": "white",
            "ticks": ""
           },
           "bgcolor": "#E5ECF6",
           "radialaxis": {
            "gridcolor": "white",
            "linecolor": "white",
            "ticks": ""
           }
          },
          "scene": {
           "xaxis": {
            "backgroundcolor": "#E5ECF6",
            "gridcolor": "white",
            "gridwidth": 2,
            "linecolor": "white",
            "showbackground": true,
            "ticks": "",
            "zerolinecolor": "white"
           },
           "yaxis": {
            "backgroundcolor": "#E5ECF6",
            "gridcolor": "white",
            "gridwidth": 2,
            "linecolor": "white",
            "showbackground": true,
            "ticks": "",
            "zerolinecolor": "white"
           },
           "zaxis": {
            "backgroundcolor": "#E5ECF6",
            "gridcolor": "white",
            "gridwidth": 2,
            "linecolor": "white",
            "showbackground": true,
            "ticks": "",
            "zerolinecolor": "white"
           }
          },
          "shapedefaults": {
           "line": {
            "color": "#2a3f5f"
           }
          },
          "ternary": {
           "aaxis": {
            "gridcolor": "white",
            "linecolor": "white",
            "ticks": ""
           },
           "baxis": {
            "gridcolor": "white",
            "linecolor": "white",
            "ticks": ""
           },
           "bgcolor": "#E5ECF6",
           "caxis": {
            "gridcolor": "white",
            "linecolor": "white",
            "ticks": ""
           }
          },
          "title": {
           "x": 0.05
          },
          "xaxis": {
           "automargin": true,
           "gridcolor": "white",
           "linecolor": "white",
           "ticks": "",
           "title": {
            "standoff": 15
           },
           "zerolinecolor": "white",
           "zerolinewidth": 2
          },
          "yaxis": {
           "automargin": true,
           "gridcolor": "white",
           "linecolor": "white",
           "ticks": "",
           "title": {
            "standoff": 15
           },
           "zerolinecolor": "white",
           "zerolinewidth": 2
          }
         }
        },
        "title": {
         "text": "30天複購率"
        },
        "xaxis": {
         "anchor": "y",
         "domain": [
          0,
          1
         ],
         "title": {
          "text": "日期"
         }
        },
        "yaxis": {
         "anchor": "x",
         "domain": [
          0,
          1
         ],
         "title": {
          "text": "複購率"
         }
        }
       }
      },
      "text/html": [
       "<div>                            <div id=\"e55abb99-e93d-405b-8e5c-3cfa7e33d082\" class=\"plotly-graph-div\" style=\"height:525px; width:100%;\"></div>            <script type=\"text/javascript\">                require([\"plotly\"], function(Plotly) {                    window.PLOTLYENV=window.PLOTLYENV || {};                                    if (document.getElementById(\"e55abb99-e93d-405b-8e5c-3cfa7e33d082\")) {                    Plotly.newPlot(                        \"e55abb99-e93d-405b-8e5c-3cfa7e33d082\",                        [{\"hovertemplate\":\"variable=0<br>index=%{x}<br>value=%{y}<extra></extra>\",\"legendgroup\":\"0\",\"line\":{\"color\":\"#636efa\",\"dash\":\"solid\"},\"mode\":\"lines\",\"name\":\"0\",\"orientation\":\"v\",\"showlegend\":true,\"type\":\"scatter\",\"x\":[0,1,2,3,4,5,6,7,8,9,10,11,12,13,14,15,16,17,18,19,20,21,22,23,24,25,26,27,28,29,30,31,32,33,34,35,36,37,38,39,40,41,42,43,44,45,46,47,48,49,50,51,52,53,54,55,56,57,58,59,60,61,62,63,64,65,66,67,68,69,70,71,72,73,74,75,76,77,78,79,80,81,82,83,84,85,86,87,88,89,90,91,92,93,94,95,96,97,98,99,100,101,102,103,104,105,106,107,108,109,110,111,112,113,114,115,116,117,118,119,120,121,122,123,124,125,126,127,128,129,130,131,132,133,134,135,136,137,138,139,140,141,142,143,144,145,146,147,148,149,150,151,152,153,154,155,156,157,158,159,160,161,162,163,164,165,166,167,168,169,170,171,172,173,174,175,176,177,178,179,180,181,182,183,184,185,186,187,188,189,190,191,192,193,194,195,196,197,198,199,200,201,202,203,204,205,206,207,208,209,210,211,212,213,214,215,216,217,218,219,220,221,222,223,224,225,226,227,228,229,230,231,232,233,234,235,236,237,238,239,240,241,242,243,244,245,246,247,248,249,250,251,252,253,254,255,256,257,258,259,260,261,262,263,264,265,266,267,268,269,270,271,272,273,274,275,276,277,278,279,280,281,282,283,284,285,286,287,288,289,290,291,292,293,294,295,296,297,298,299,300,301,302,303,304,305,306,307,308,309,310,311,312,313,314,315,316,317,318,319,320,321,322,323,324,325,326,327,328,329,330,331,332,333,334,335,336,337,338,339,340,341,342,343,344,345,346,347,348,349,350,351,352,353,354,355,356,357,358,359,360,361,362,363,364,365,366,367,368,369,370,371,372,373,374,375,376,377,378,379,380,381,382,383,384,385,386,387,388,389,390,391,392,393,394,395,396,397,398,399,400,401,402,403,404,405,406,407,408,409,410,411,412,413,414,415,416,417,418,419,420,421,422,423,424,425,426,427,428,429,430,431,432,433,434,435,436,437,438,439,440,441,442,443,444,445,446,447,448,449,450,451,452,453,454,455,456,457,458,459,460,461,462,463,464,465,466,467,468,469,470,471,472,473,474,475,476,477,478,479,480,481,482,483,484,485,486,487,488,489,490,491,492,493,494,495,496,497,498,499,500,501,502,503,504,505,506,507,508,509,510,511,512,513,514,515,516,517,518,519,520,521,522,523,524,525,526,527,528,529,530,531,532,533,534,535,536,537,538,539,540,541,542,543,544,545,546,547,548,549,550,551,552,553,554,555,556,557,558,559,560,561,562,563,564,565,566,567,568,569,570,571,572,573,574,575,576,577,578,579,580,581,582,583,584,585,586,587,588,589,590,591,592,593,594,595,596,597,598,599,600,601,602,603,604,605,606,607,608,609,610,611,612,613,614,615,616,617,618,619,620,621,622,623,624,625,626,627,628,629,630,631,632,633,634,635,636,637,638,639,640,641,642,643,644,645,646,647,648,649,650,651,652,653,654,655,656,657,658,659,660,661,662,663,664,665,666,667,668,669,670,671,672,673,674,675,676,677,678,679,680],\"xaxis\":\"x\",\"y\":[0.8461538461538461,0.9166666666666666,0.8787878787878788,0.8611111111111112,0.8260869565217391,0.8571428571428571,0.7777777777777778,0.8235294117647058,0.8709677419354839,0.7857142857142857,0.9318181818181818,0.8809523809523809,0.9142857142857143,0.9166666666666666,0.9534883720930233,0.8837209302325582,0.921875,0.8548387096774194,0.84375,0.9491525423728814,0.9137931034482759,0.9454545454545454,0.8852459016393442,0.9666666666666667,0.9210526315789473,0.9726027397260274,0.9466666666666667,0.9696969696969697,0.9204545454545454,0.90625,0.9529411764705882,0.8735632183908046,0.9423076923076923,0.8787878787878788,0.9204545454545454,0.9090909090909091,0.9761904761904762,0.945054945054945,0.8672566371681416,0.9421487603305785,0.94,0.9292035398230089,0.9278350515463918,0.9142857142857143,0.9191919191919192,0.9202898550724637,0.9527027027027027,0.9734513274336283,0.9326923076923077,0.975609756097561,0.9312977099236641,0.9172932330827067,0.9078014184397163,0.95,0.9117647058823529,0.9619047619047619,0.944,0.9296875,0.9571428571428572,0.9308176100628931,0.9440993788819876,0.9536423841059603,0.9612903225806452,0.9533333333333334,0.9567901234567902,0.9590643274853801,0.9554455445544554,0.945,0.9043062200956937,0.9318181818181818,0.9508196721311475,0.9428571428571428,0.9175257731958762,0.9534883720930233,0.9434782608695652,0.9601990049751243,0.9219512195121952,0.934010152284264,0.9067357512953368,0.9540816326530612,0.9478260869565217,0.9558232931726908,0.9691629955947136,0.9656862745098039,0.9547511312217195,0.9436619718309859,0.9497907949790795,0.9250936329588015,0.9390681003584229,0.9224489795918367,0.9382239382239382,0.9423076923076923,0.9580152671755725,0.9539748953974896,0.9355932203389831,0.9240506329113924,0.9601593625498008,0.9482071713147411,0.958041958041958,0.9563492063492064,0.9511400651465798,0.9565217391304348,0.9297752808988764,0.9208860759493671,0.9357798165137615,0.9335548172757475,0.9326599326599326,0.9391891891891891,0.9501557632398754,0.9519774011299436,0.9475308641975309,0.9455782312925171,0.9491017964071856,0.9544072948328267,0.9465875370919882,0.9405099150141643,0.967032967032967,0.952112676056338,0.9662162162162162,0.9743589743589743,0.9649122807017544,0.9723076923076923,0.9393939393939394,0.9651474530831099,0.9655172413793104,0.9752650176678446,0.9691780821917808,0.9646302250803859,0.9761092150170648,0.9485714285714286,0.9759358288770054,0.9735294117647059,0.972972972972973,0.9690721649484536,0.967741935483871,0.975,0.9455587392550143,0.9609375,0.9533333333333334,0.9722222222222222,0.9625,0.959731543624161,0.9737609329446064,0.9380281690140845,0.9495798319327731,0.9663608562691132,0.9733727810650887,0.9540983606557377,0.9633333333333334,0.9625,0.9745042492917847,0.9567567567567568,0.9744408945686901,0.976897689768977,0.9630872483221476,0.9689655172413794,0.9690402476780186,0.9661971830985916,0.9613259668508287,0.9627329192546584,0.9581749049429658,0.9636963696369637,0.9701492537313433,0.9378698224852071,0.9648648648648649,0.9423076923076923,0.9685714285714285,0.9674267100977199,0.9648093841642229,0.9602649006622517,0.963302752293578,0.9501466275659824,0.9673366834170855,0.9830508474576272,0.954225352112676,0.9896193771626297,0.9743589743589743,0.9538461538461539,0.9666666666666667,0.9375,0.9715302491103203,0.9683098591549296,0.9744525547445255,0.9838187702265372,0.9715189873417721,0.9506849315068493,0.9560439560439561,0.9659863945578231,0.9672727272727273,0.9738805970149254,0.9573770491803278,0.972318339100346,0.9700598802395209,0.946927374301676,0.984472049689441,0.9723926380368099,0.95625,0.9700598802395209,0.9665551839464883,0.9610027855153204,0.958005249343832,0.9691358024691358,0.9553264604810997,0.9395017793594306,0.9523809523809523,0.9634551495016611,0.9715909090909091,0.96,0.9438943894389439,0.9712230215827338,0.9795918367346939,0.9721254355400697,0.9766666666666667,0.9354838709677419,0.9590163934426229,0.9493670886075949,0.9590443686006825,0.976027397260274,0.9694189602446484,0.9627118644067797,0.9792899408284024,0.9548872180451128,0.9634146341463414,0.95,0.9595959595959596,0.9656357388316151,0.9719626168224299,0.9519519519519519,0.9402173913043478,0.956386292834891,0.9632107023411371,0.9828767123287672,0.9747292418772563,0.968421052631579,0.9423076923076923,0.967828418230563,0.9727891156462585,0.9543973941368078,0.972027972027972,0.9782608695652174,0.9671052631578947,0.9675675675675676,0.976401179941003,0.9491978609625669,0.9491094147582697,0.952286282306163,0.9521739130434783,0.9665271966527197,0.9647887323943662,0.972318339100346,0.9615384615384616,0.9652996845425867,0.9726962457337884,0.9381107491856677,0.9435736677115988,0.967391304347826,0.9616519174041298,0.9601226993865031,0.9716312056737588,0.9573170731707317,0.9578313253012049,0.96,0.9646017699115044,0.9459459459459459,0.9692832764505119,0.978978978978979,0.975609756097561,0.9508771929824561,0.95625,0.96996996996997,0.9576719576719577,0.9528301886792453,0.9722222222222222,0.9637462235649547,0.9554896142433235,0.945823927765237,0.9539641943734015,1.0,0.9611650485436893,0.9659442724458205,0.9590443686006825,0.9602649006622517,0.9603658536585366,0.9461206896551724,0.9771241830065359,0.9690402476780186,0.9601226993865031,0.9614147909967846,0.9595015576323987,0.9540983606557377,0.9674556213017751,0.9583333333333334,0.9598765432098766,0.9761092150170648,0.9703947368421053,0.9747634069400631,0.9790940766550522,0.969187675070028,0.9787878787878788,0.9647058823529412,0.973421926910299,0.975,0.9634551495016611,0.9476923076923077,0.9493333333333334,0.9771573604060914,0.9647058823529412,0.9620689655172414,0.9663299663299664,0.953405017921147,0.9621993127147767,0.9659442724458205,0.946236559139785,0.9779179810725552,0.9618055555555556,0.9738562091503268,0.975975975975976,0.9657142857142857,0.9644670050761421,0.9396984924623115,0.9821428571428571,0.9592592592592593,0.9779411764705882,0.9727891156462585,0.9803370786516854,0.9518072289156626,0.9565217391304348,0.9651474530831099,0.9560117302052786,0.9789473684210527,0.9602649006622517,0.9630872483221476,0.9451219512195121,0.9613095238095238,0.9648562300319489,0.974025974025974,0.9593220338983051,0.9655172413793104,0.9746835443037974,0.968503937007874,0.9672131147540983,0.9682539682539683,0.9484536082474226,0.9512195121951219,0.9637462235649547,0.9742765273311897,0.9635854341736695,0.9587912087912088,0.9688385269121813,0.9632107023411371,0.9494949494949495,0.9565217391304348,0.9562289562289562,0.9582089552238806,0.9594594594594594,0.9572368421052632,0.9749216300940439,0.9776357827476039,0.9534883720930233,0.9651898734177216,0.9797687861271677,0.9561643835616438,0.9724517906336089,0.9662921348314607,0.9693877551020408,0.981549815498155,0.9770491803278688,0.9685714285714285,0.9662921348314607,0.9543973941368078,0.9537953795379538,0.964516129032258,0.9459459459459459,0.9723076923076923,0.9711815561959655,0.9578651685393258,0.9566563467492261,0.9644970414201184,0.9493670886075949,0.9614035087719298,0.9825783972125436,0.9641873278236914,0.9487870619946092,0.9814814814814815,0.9855072463768116,0.9617834394904459,0.9682539682539683,0.9657142857142857,0.9528535980148883,0.9492537313432836,0.9870550161812298,0.9726962457337884,0.9801980198019802,0.9836601307189542,0.962457337883959,0.9748603351955307,0.9744897959183674,0.9832214765100671,0.965625,0.9859649122807017,0.9772727272727273,0.9787234042553191,0.9584569732937686,0.9508670520231214,0.9801699716713881,0.9532710280373832,0.954983922829582,0.975975975975976,0.9695121951219512,0.9574468085106383,0.9709762532981531,0.9655172413793104,0.9747634069400631,0.9702970297029703,0.9575757575757575,0.9741935483870968,0.9601063829787234,0.954337899543379,0.9549295774647887,0.9640718562874252,0.9652996845425867,0.9637462235649547,0.981651376146789,0.9550561797752809,0.9731051344743277,0.9546827794561934,0.9725085910652921,0.9681528662420382,0.9782608695652174,0.9734513274336283,0.9472295514511874,0.9573333333333334,0.9603399433427762,0.97,0.9805194805194806,0.9701986754966887,0.9739884393063584,0.968421052631579,0.9658792650918635,0.9785932721712538,0.9732441471571907,0.9568106312292359,0.9661538461538461,0.954983922829582,0.96398891966759,0.970108695652174,0.9566563467492261,0.9817629179331308,0.9652996845425867,0.9847094801223242,0.9620253164556962,0.9384164222873901,0.9689922480620154,0.9776357827476039,0.9771241830065359,0.9685314685314685,0.9738562091503268,0.9628482972136223,0.9742120343839542,0.9698795180722891,0.9558823529411765,0.9672131147540983,0.9854545454545455,0.987460815047022,0.9515151515151515,0.9506493506493506,0.9651474530831099,0.9408602150537635,0.9511002444987775,0.9684542586750788,0.9694444444444444,0.9669669669669669,0.9551820728291317,0.967828418230563,0.9725609756097561,0.9867549668874173,0.9581993569131833,0.9801324503311258,0.9568106312292359,0.9563953488372093,0.9683377308707124,0.9731343283582089,0.9826388888888888,0.9646643109540636,0.963302752293578,0.9798657718120806,0.9735449735449735,0.9528535980148883,0.9528301886792453,0.9601328903654485,0.9625850340136054,0.963076923076923,0.9674267100977199,0.9751381215469613,0.9408602150537635,0.9642857142857143,0.9709302325581395,0.9719626168224299,0.9479768786127167,0.9504132231404959,0.9614325068870524,0.9743589743589743,0.9495548961424333,0.9730538922155688,0.9728813559322034,0.9554896142433235,0.964968152866242,0.9645776566757494,0.9431137724550899,0.9613259668508287,0.9735973597359736,0.9551724137931035,0.9649122807017544,0.9625,0.9568965517241379,0.9586776859504132,0.9735099337748344,0.9741100323624595,0.9771986970684039,0.963076923076923,0.976897689768977,0.9557291666666666,0.9644808743169399,0.9646302250803859,0.9626436781609196,0.9601449275362319,0.9442622950819672,0.9741935483870968,0.9576719576719577,0.9559228650137741,0.9695290858725761,0.9596541786743515,0.9525316455696202,0.9934640522875817,0.9704918032786886,0.9549295774647887,0.9648648648648649,0.9565217391304348,0.9704918032786886,0.9546925566343042,0.9693877551020408,0.9686411149825784,0.978978978978979,0.9550561797752809,0.963302752293578,0.9503105590062112,0.9788732394366197,0.959866220735786,0.9612903225806452,0.9591280653950953,0.9432432432432433,0.9841772151898734,0.9737704918032787,0.9723076923076923,0.9673202614379085,0.9583333333333334,0.943342776203966,0.9847328244274809,0.9726443768996961,0.9680511182108626,0.9671052631578947,0.9647435897435898,0.9672619047619048,0.9719626168224299,0.952755905511811,0.9567723342939481,0.978978978978979,0.9605263157894737,0.9761904761904762,0.9581993569131833,0.9539295392953929,0.9694444444444444,0.9659442724458205,0.9716312056737588,0.9633333333333334,0.9689655172413794,0.9801980198019802,0.9581005586592178,0.963855421686747,0.982089552238806,0.975,0.9648562300319489,0.9694915254237289,0.9691780821917808,0.949438202247191,0.9614325068870524,0.97953216374269,0.9655172413793104,0.9623824451410659,0.9646302250803859,0.95,0.9575,0.9667458432304038,0.9607250755287009,0.9701986754966887,0.9509803921568627,0.9303135888501742,0.9717868338557993,0.9616438356164384,0.9869791666666666,0.9738562091503268,0.9628482972136223,0.9754385964912281,0.9621993127147767,0.9390243902439024,0.949438202247191,0.9546599496221663,0.9592875318066157,0.9792207792207792,0.9510204081632653,0.9575289575289575,0.9736842105263158,0.9680851063829787,0.9667673716012085,0.9768211920529801,0.9723076923076923,0.979933110367893,0.9697986577181208,0.9572368421052632,0.946927374301676,0.9556135770234987,0.9471947194719472,0.9619047619047619,0.9551282051282052,0.9575971731448764,0.9725609756097561,0.9656160458452722,0.9641943734015346,0.9601226993865031,0.9732142857142857,0.9814814814814815,0.9533333333333334,0.9620991253644315,0.9664804469273743,0.9886363636363636,0.9484240687679083,0.9551820728291317,0.9678456591639871,0.9822485207100592,0.956989247311828,0.9680851063829787,0.9373493975903614,1.0,0.97,0.959731543624161,0.9735849056603774,0.975,0.9507772020725389,0.954653937947494,0.96,0.9560117302052786,0.9691011235955056,0.964516129032258,0.943217665615142,0.9578947368421052,0.945054945054945,0.9833887043189369,0.9588607594936709,0.9609120521172638,0.954983922829582,0.9540983606557377,0.9510869565217391,0.9625668449197861,0.9817629179331308,0.9661016949152542,0.9716312056737588,0.9897260273972602,0.975,0.9633251833740831,0.9728813559322034,0.9613095238095238,0.9716088328075709,0.9601449275362319,0.9552715654952076,0.9614147909967846,0.9652406417112299,0.9694444444444444,0.9801980198019802,0.9403973509933775,0.9668674698795181,0.9751552795031055],\"yaxis\":\"y\"}],                        {\"font\":{\"size\":18},\"legend\":{\"title\":{\"text\":\"variable\"},\"tracegroupgap\":0},\"margin\":{\"t\":60},\"showlegend\":false,\"template\":{\"data\":{\"bar\":[{\"error_x\":{\"color\":\"#2a3f5f\"},\"error_y\":{\"color\":\"#2a3f5f\"},\"marker\":{\"line\":{\"color\":\"#E5ECF6\",\"width\":0.5},\"pattern\":{\"fillmode\":\"overlay\",\"size\":10,\"solidity\":0.2}},\"type\":\"bar\"}],\"barpolar\":[{\"marker\":{\"line\":{\"color\":\"#E5ECF6\",\"width\":0.5},\"pattern\":{\"fillmode\":\"overlay\",\"size\":10,\"solidity\":0.2}},\"type\":\"barpolar\"}],\"carpet\":[{\"aaxis\":{\"endlinecolor\":\"#2a3f5f\",\"gridcolor\":\"white\",\"linecolor\":\"white\",\"minorgridcolor\":\"white\",\"startlinecolor\":\"#2a3f5f\"},\"baxis\":{\"endlinecolor\":\"#2a3f5f\",\"gridcolor\":\"white\",\"linecolor\":\"white\",\"minorgridcolor\":\"white\",\"startlinecolor\":\"#2a3f5f\"},\"type\":\"carpet\"}],\"choropleth\":[{\"colorbar\":{\"outlinewidth\":0,\"ticks\":\"\"},\"type\":\"choropleth\"}],\"contour\":[{\"colorbar\":{\"outlinewidth\":0,\"ticks\":\"\"},\"colorscale\":[[0.0,\"#0d0887\"],[0.1111111111111111,\"#46039f\"],[0.2222222222222222,\"#7201a8\"],[0.3333333333333333,\"#9c179e\"],[0.4444444444444444,\"#bd3786\"],[0.5555555555555556,\"#d8576b\"],[0.6666666666666666,\"#ed7953\"],[0.7777777777777778,\"#fb9f3a\"],[0.8888888888888888,\"#fdca26\"],[1.0,\"#f0f921\"]],\"type\":\"contour\"}],\"contourcarpet\":[{\"colorbar\":{\"outlinewidth\":0,\"ticks\":\"\"},\"type\":\"contourcarpet\"}],\"heatmap\":[{\"colorbar\":{\"outlinewidth\":0,\"ticks\":\"\"},\"colorscale\":[[0.0,\"#0d0887\"],[0.1111111111111111,\"#46039f\"],[0.2222222222222222,\"#7201a8\"],[0.3333333333333333,\"#9c179e\"],[0.4444444444444444,\"#bd3786\"],[0.5555555555555556,\"#d8576b\"],[0.6666666666666666,\"#ed7953\"],[0.7777777777777778,\"#fb9f3a\"],[0.8888888888888888,\"#fdca26\"],[1.0,\"#f0f921\"]],\"type\":\"heatmap\"}],\"heatmapgl\":[{\"colorbar\":{\"outlinewidth\":0,\"ticks\":\"\"},\"colorscale\":[[0.0,\"#0d0887\"],[0.1111111111111111,\"#46039f\"],[0.2222222222222222,\"#7201a8\"],[0.3333333333333333,\"#9c179e\"],[0.4444444444444444,\"#bd3786\"],[0.5555555555555556,\"#d8576b\"],[0.6666666666666666,\"#ed7953\"],[0.7777777777777778,\"#fb9f3a\"],[0.8888888888888888,\"#fdca26\"],[1.0,\"#f0f921\"]],\"type\":\"heatmapgl\"}],\"histogram\":[{\"marker\":{\"pattern\":{\"fillmode\":\"overlay\",\"size\":10,\"solidity\":0.2}},\"type\":\"histogram\"}],\"histogram2d\":[{\"colorbar\":{\"outlinewidth\":0,\"ticks\":\"\"},\"colorscale\":[[0.0,\"#0d0887\"],[0.1111111111111111,\"#46039f\"],[0.2222222222222222,\"#7201a8\"],[0.3333333333333333,\"#9c179e\"],[0.4444444444444444,\"#bd3786\"],[0.5555555555555556,\"#d8576b\"],[0.6666666666666666,\"#ed7953\"],[0.7777777777777778,\"#fb9f3a\"],[0.8888888888888888,\"#fdca26\"],[1.0,\"#f0f921\"]],\"type\":\"histogram2d\"}],\"histogram2dcontour\":[{\"colorbar\":{\"outlinewidth\":0,\"ticks\":\"\"},\"colorscale\":[[0.0,\"#0d0887\"],[0.1111111111111111,\"#46039f\"],[0.2222222222222222,\"#7201a8\"],[0.3333333333333333,\"#9c179e\"],[0.4444444444444444,\"#bd3786\"],[0.5555555555555556,\"#d8576b\"],[0.6666666666666666,\"#ed7953\"],[0.7777777777777778,\"#fb9f3a\"],[0.8888888888888888,\"#fdca26\"],[1.0,\"#f0f921\"]],\"type\":\"histogram2dcontour\"}],\"mesh3d\":[{\"colorbar\":{\"outlinewidth\":0,\"ticks\":\"\"},\"type\":\"mesh3d\"}],\"parcoords\":[{\"line\":{\"colorbar\":{\"outlinewidth\":0,\"ticks\":\"\"}},\"type\":\"parcoords\"}],\"pie\":[{\"automargin\":true,\"type\":\"pie\"}],\"scatter\":[{\"marker\":{\"colorbar\":{\"outlinewidth\":0,\"ticks\":\"\"}},\"type\":\"scatter\"}],\"scatter3d\":[{\"line\":{\"colorbar\":{\"outlinewidth\":0,\"ticks\":\"\"}},\"marker\":{\"colorbar\":{\"outlinewidth\":0,\"ticks\":\"\"}},\"type\":\"scatter3d\"}],\"scattercarpet\":[{\"marker\":{\"colorbar\":{\"outlinewidth\":0,\"ticks\":\"\"}},\"type\":\"scattercarpet\"}],\"scattergeo\":[{\"marker\":{\"colorbar\":{\"outlinewidth\":0,\"ticks\":\"\"}},\"type\":\"scattergeo\"}],\"scattergl\":[{\"marker\":{\"colorbar\":{\"outlinewidth\":0,\"ticks\":\"\"}},\"type\":\"scattergl\"}],\"scattermapbox\":[{\"marker\":{\"colorbar\":{\"outlinewidth\":0,\"ticks\":\"\"}},\"type\":\"scattermapbox\"}],\"scatterpolar\":[{\"marker\":{\"colorbar\":{\"outlinewidth\":0,\"ticks\":\"\"}},\"type\":\"scatterpolar\"}],\"scatterpolargl\":[{\"marker\":{\"colorbar\":{\"outlinewidth\":0,\"ticks\":\"\"}},\"type\":\"scatterpolargl\"}],\"scatterternary\":[{\"marker\":{\"colorbar\":{\"outlinewidth\":0,\"ticks\":\"\"}},\"type\":\"scatterternary\"}],\"surface\":[{\"colorbar\":{\"outlinewidth\":0,\"ticks\":\"\"},\"colorscale\":[[0.0,\"#0d0887\"],[0.1111111111111111,\"#46039f\"],[0.2222222222222222,\"#7201a8\"],[0.3333333333333333,\"#9c179e\"],[0.4444444444444444,\"#bd3786\"],[0.5555555555555556,\"#d8576b\"],[0.6666666666666666,\"#ed7953\"],[0.7777777777777778,\"#fb9f3a\"],[0.8888888888888888,\"#fdca26\"],[1.0,\"#f0f921\"]],\"type\":\"surface\"}],\"table\":[{\"cells\":{\"fill\":{\"color\":\"#EBF0F8\"},\"line\":{\"color\":\"white\"}},\"header\":{\"fill\":{\"color\":\"#C8D4E3\"},\"line\":{\"color\":\"white\"}},\"type\":\"table\"}]},\"layout\":{\"annotationdefaults\":{\"arrowcolor\":\"#2a3f5f\",\"arrowhead\":0,\"arrowwidth\":1},\"autotypenumbers\":\"strict\",\"coloraxis\":{\"colorbar\":{\"outlinewidth\":0,\"ticks\":\"\"}},\"colorscale\":{\"diverging\":[[0,\"#8e0152\"],[0.1,\"#c51b7d\"],[0.2,\"#de77ae\"],[0.3,\"#f1b6da\"],[0.4,\"#fde0ef\"],[0.5,\"#f7f7f7\"],[0.6,\"#e6f5d0\"],[0.7,\"#b8e186\"],[0.8,\"#7fbc41\"],[0.9,\"#4d9221\"],[1,\"#276419\"]],\"sequential\":[[0.0,\"#0d0887\"],[0.1111111111111111,\"#46039f\"],[0.2222222222222222,\"#7201a8\"],[0.3333333333333333,\"#9c179e\"],[0.4444444444444444,\"#bd3786\"],[0.5555555555555556,\"#d8576b\"],[0.6666666666666666,\"#ed7953\"],[0.7777777777777778,\"#fb9f3a\"],[0.8888888888888888,\"#fdca26\"],[1.0,\"#f0f921\"]],\"sequentialminus\":[[0.0,\"#0d0887\"],[0.1111111111111111,\"#46039f\"],[0.2222222222222222,\"#7201a8\"],[0.3333333333333333,\"#9c179e\"],[0.4444444444444444,\"#bd3786\"],[0.5555555555555556,\"#d8576b\"],[0.6666666666666666,\"#ed7953\"],[0.7777777777777778,\"#fb9f3a\"],[0.8888888888888888,\"#fdca26\"],[1.0,\"#f0f921\"]]},\"colorway\":[\"#636efa\",\"#EF553B\",\"#00cc96\",\"#ab63fa\",\"#FFA15A\",\"#19d3f3\",\"#FF6692\",\"#B6E880\",\"#FF97FF\",\"#FECB52\"],\"font\":{\"color\":\"#2a3f5f\"},\"geo\":{\"bgcolor\":\"white\",\"lakecolor\":\"white\",\"landcolor\":\"#E5ECF6\",\"showlakes\":true,\"showland\":true,\"subunitcolor\":\"white\"},\"hoverlabel\":{\"align\":\"left\"},\"hovermode\":\"closest\",\"mapbox\":{\"style\":\"light\"},\"paper_bgcolor\":\"white\",\"plot_bgcolor\":\"#E5ECF6\",\"polar\":{\"angularaxis\":{\"gridcolor\":\"white\",\"linecolor\":\"white\",\"ticks\":\"\"},\"bgcolor\":\"#E5ECF6\",\"radialaxis\":{\"gridcolor\":\"white\",\"linecolor\":\"white\",\"ticks\":\"\"}},\"scene\":{\"xaxis\":{\"backgroundcolor\":\"#E5ECF6\",\"gridcolor\":\"white\",\"gridwidth\":2,\"linecolor\":\"white\",\"showbackground\":true,\"ticks\":\"\",\"zerolinecolor\":\"white\"},\"yaxis\":{\"backgroundcolor\":\"#E5ECF6\",\"gridcolor\":\"white\",\"gridwidth\":2,\"linecolor\":\"white\",\"showbackground\":true,\"ticks\":\"\",\"zerolinecolor\":\"white\"},\"zaxis\":{\"backgroundcolor\":\"#E5ECF6\",\"gridcolor\":\"white\",\"gridwidth\":2,\"linecolor\":\"white\",\"showbackground\":true,\"ticks\":\"\",\"zerolinecolor\":\"white\"}},\"shapedefaults\":{\"line\":{\"color\":\"#2a3f5f\"}},\"ternary\":{\"aaxis\":{\"gridcolor\":\"white\",\"linecolor\":\"white\",\"ticks\":\"\"},\"baxis\":{\"gridcolor\":\"white\",\"linecolor\":\"white\",\"ticks\":\"\"},\"bgcolor\":\"#E5ECF6\",\"caxis\":{\"gridcolor\":\"white\",\"linecolor\":\"white\",\"ticks\":\"\"}},\"title\":{\"x\":0.05},\"xaxis\":{\"automargin\":true,\"gridcolor\":\"white\",\"linecolor\":\"white\",\"ticks\":\"\",\"title\":{\"standoff\":15},\"zerolinecolor\":\"white\",\"zerolinewidth\":2},\"yaxis\":{\"automargin\":true,\"gridcolor\":\"white\",\"linecolor\":\"white\",\"ticks\":\"\",\"title\":{\"standoff\":15},\"zerolinecolor\":\"white\",\"zerolinewidth\":2}}},\"title\":{\"text\":\"30\\u5929\\u8907\\u8cfc\\u7387\"},\"xaxis\":{\"anchor\":\"y\",\"domain\":[0.0,1.0],\"title\":{\"text\":\"\\u65e5\\u671f\"}},\"yaxis\":{\"anchor\":\"x\",\"domain\":[0.0,1.0],\"title\":{\"text\":\"\\u8907\\u8cfc\\u7387\"}}},                        {\"responsive\": true}                    ).then(function(){\n",
       "                            \n",
       "var gd = document.getElementById('e55abb99-e93d-405b-8e5c-3cfa7e33d082');\n",
       "var x = new MutationObserver(function (mutations, observer) {{\n",
       "        var display = window.getComputedStyle(gd).display;\n",
       "        if (!display || display === 'none') {{\n",
       "            console.log([gd, 'removed!']);\n",
       "            Plotly.purge(gd);\n",
       "            observer.disconnect();\n",
       "        }}\n",
       "}});\n",
       "\n",
       "// Listen for the removal of the full notebook cells\n",
       "var notebookContainer = gd.closest('#notebook-container');\n",
       "if (notebookContainer) {{\n",
       "    x.observe(notebookContainer, {childList: true});\n",
       "}}\n",
       "\n",
       "// Listen for the clearing of the current output cell\n",
       "var outputEl = gd.closest('.output');\n",
       "if (outputEl) {{\n",
       "    x.observe(outputEl, {childList: true});\n",
       "}}\n",
       "\n",
       "                        })                };                });            </script>        </div>"
      ]
     },
     "metadata": {},
     "output_type": "display_data"
    },
    {
     "data": {
      "text/plain": [
       "'./output_data/30天複購率.html'"
      ]
     },
     "execution_count": 48,
     "metadata": {},
     "output_type": "execute_result"
    }
   ],
   "source": [
    "def repurchase(data,k=30):\n",
    "    \"\"\"\n",
    "    計算k天內的複購情況，若距離購買日期的k天內有複購，則將該日標記為1，若沒有複購，則標記為0。\n",
    "    默認計算30天的複購率\n",
    "    \"\"\"\n",
    "    status=[]\n",
    "    for i in range(len(purchase_back.columns)-k): #長度等於總天數減去複購設定天數，因為最後面的天數不足會報錯\n",
    "        if data[i]==1:  #若這一天有購買\n",
    "            n=0\n",
    "            for q in range(k):  #統計距離該日k天內的購買天數\n",
    "                n+=data[i+q]\n",
    "            if n>1:    #複購區間內購買次數大於1，也就是有複購，標記為1\n",
    "                status.append(1)\n",
    "            else:    #複購區間內沒有複購，標記為0\n",
    "                status.append(0)\n",
    "        else:     #當天沒有購買，記為空值\n",
    "            status.append(np.NAN)\n",
    "    return status\n",
    "\n",
    "import datetime as datetime2\n",
    "k = 30  # 設定复購區間,此處可自由定義復購區間\n",
    "repurchase_rate_1 = purchase_back.apply(\n",
    "    lambda x: repurchase(x, k), axis=1)  # axis=1表示按列運算，默認是axis=0，按行運算\n",
    "# 得到的統計結果是一個列表，轉換為Series格式，也就是將列表分列\n",
    "repurchase_rate_2 = repurchase_rate_1.apply(pd.Series)  \n",
    "# 計算复購率，有復購的已經標記為1，count會統計當天購買的總人數\n",
    "repurchase_rate = repurchase_rate_2.sum()/repurchase_rate_2.count()\n",
    "\n",
    "print('統計 %d 天的複購率' % k)\n",
    "print(repurchase_rate.sample(5))\n",
    "fig = px.line(repurchase_rate)\n",
    "fig.update_layout(title=\"30天複購率\",\n",
    "                  xaxis_title=\"日期\", yaxis_title=\"複購率\",\n",
    "                  font=dict(size=18,),showlegend=False)\n",
    "fig.show()\n",
    "plot(fig, filename='./output_data/30天複購率.html', auto_open=False)"
   ]
  },
  {
   "cell_type": "markdown",
   "id": "0e671ceb",
   "metadata": {},
   "source": [
    "用戶價值分層（RFM模型）  \n",
    "R: 最近消費時間，數據較為久遠，選取所有訂單的最後時間作為當前時間分別減去每個用戶最後一筆訂單時間  \n",
    "F：消費頻率，為了增加忠誠客戶的權重，定義為產品總數量  \n",
    "M：消費金額，用戶消費的總金額  "
   ]
  },
  {
   "cell_type": "code",
   "execution_count": 49,
   "id": "509584b2",
   "metadata": {},
   "outputs": [
    {
     "name": "stdout",
     "output_type": "stream",
     "text": [
      "數據歸一化前-----------\n",
      "                  F        M     R\n",
      "household_key                     \n",
      "1              1995  4310.16  -5.0\n",
      "2               831  1948.09 -43.0\n",
      "3              1591  2633.20  -8.0\n",
      "4               381  1198.62 -84.0\n",
      "5               245   779.06  -8.0\n",
      "數據歸一化後-----------\n",
      "                      F         M         R\n",
      "household_key                              \n",
      "1              0.058594  0.051660  0.032617\n",
      "2             -0.045390 -0.038390 -0.025222\n",
      "3              0.022503 -0.012271  0.028051\n",
      "4             -0.085590 -0.066962 -0.087627\n",
      "5             -0.097740 -0.082957  0.028051\n"
     ]
    }
   ],
   "source": [
    "rfm = df_1.pivot_table(index='household_key', values=['DATE', 'QUANTITY', 'SALES_VALUE'],\n",
    "                     aggfunc={\"DATE\": 'max', 'QUANTITY': 'sum', 'SALES_VALUE': 'sum'})\n",
    "# 定義R最後一次消費與統計時間的差值，此處的差值為負數，原因是後面數值標準化時，希望把時間較近的值轉化為整數\n",
    "rfm['R'] = (rfm.DATE-rfm.DATE.max())/np.timedelta64(1, 'D')\n",
    "rfm.drop('DATE', axis=1, inplace=True)\n",
    "rfm.rename(columns={'SALES_VALUE': 'M', 'QUANTITY': 'F'}, inplace=True)\n",
    "#數據歸一化,去除量綱帶來的影響，R數值大，F數值小，量綱不一樣，影響計算結果\n",
    "print('數據歸一化前-----------')\n",
    "print(rfm.head())\n",
    "rfm=(rfm-rfm.mean())/(rfm.max()-rfm.min())  #數據歸一化公式((x-x.均值))/((x.最大值-x.最小值))\n",
    "print('數據歸一化後-----------')\n",
    "print(rfm.head())"
   ]
  },
  {
   "cell_type": "code",
   "execution_count": 50,
   "id": "182ab286",
   "metadata": {},
   "outputs": [
    {
     "name": "stdout",
     "output_type": "stream",
     "text": [
      "                      F         M         R   Label\n",
      "household_key                                      \n",
      "1              0.058594  0.051660  0.032617  重要價值客戶\n",
      "2             -0.045390 -0.038390 -0.025222    流失客戶\n",
      "3              0.022503 -0.012271  0.028051    潛力客戶\n",
      "4             -0.085590 -0.066962 -0.087627    流失客戶\n",
      "5             -0.097740 -0.082957  0.028051  一般價值客戶\n"
     ]
    }
   ],
   "source": [
    "# 定義rfm標籤轉化函數\n",
    "def rfm_func(data):\n",
    "    level = data.apply(lambda x: '1' if x >= 0 else '0')\n",
    "    label = level.R+level.F+level.M\n",
    "    d = {\n",
    "        '111': '重要價值客戶',\n",
    "        '011': '重要喚回客戶',\n",
    "        '101': '重要深耕客戶',\n",
    "        '001': '重要挽留客戶',\n",
    "        '110': '潛力客戶',\n",
    "        '010': '一般維持客戶',\n",
    "        '100': '一般價值客戶',\n",
    "        '000': '流失客戶',\n",
    "    }\n",
    "    result = d[label]\n",
    "    return result\n",
    "rfm['Label'] = rfm[['R', 'F', 'M']].apply(\n",
    "    rfm_func, axis=1)  # Label首字母大寫，labei會與系統的關鍵字重疊，調用的時候會報錯\n",
    "print(rfm.head())"
   ]
  },
  {
   "cell_type": "code",
   "execution_count": 51,
   "id": "e5cdcb04",
   "metadata": {
    "scrolled": true
   },
   "outputs": [
    {
     "name": "stdout",
     "output_type": "stream",
     "text": [
      "一般價值客戶    1057\n",
      "重要價值客戶     783\n",
      "流失客戶       461\n",
      "潛力客戶        95\n",
      "重要深耕客戶      47\n",
      "重要喚回客戶      45\n",
      "一般維持客戶       7\n",
      "重要挽留客戶       5\n",
      "Name: Label, dtype: int64\n"
     ]
    },
    {
     "data": {
      "image/png": "[encoded data removed]",
      "text/plain": [
       "<Figure size 864x360 with 1 Axes>"
      ]
     },
     "metadata": {
      "needs_background": "light"
     },
     "output_type": "display_data"
    }
   ],
   "source": [
    "Label_count = rfm['Label'].value_counts()\n",
    "print(Label_count)\n",
    "plt.figure(figsize=(12, 5))\n",
    "Label_count.plot(kind='bar',x=Label_count.index,y=Label_count.values)\n",
    "plt.title('用戶類型')\n",
    "for a,b in enumerate(Label_count.values):\n",
    "    plt.text(a,b,'%s ' %b,ha='center',fontsize=15)\n",
    "plt.xticks(rotation=10)\n",
    "plt.show()"
   ]
  },
  {
   "cell_type": "code",
   "execution_count": 52,
   "id": "50fb85c1",
   "metadata": {
    "scrolled": true
   },
   "outputs": [
    {
     "name": "stdout",
     "output_type": "stream",
     "text": [
      "                  F             M             R\n",
      "count  2.500000e+03  2.500000e+03  2.500000e+03\n",
      "mean  -1.048051e-17 -1.598721e-18  2.531308e-18\n",
      "std    1.157174e-01  1.131682e-01  9.788609e-02\n",
      "min   -1.191798e-01 -1.123462e-01 -9.597729e-01\n",
      "25%   -8.273175e-02 -7.776350e-02  9.785693e-03\n",
      "50%   -3.440229e-02 -3.491114e-02  3.109467e-02\n",
      "75%    4.610959e-02  4.075440e-02  3.718295e-02\n",
      "max    8.808202e-01  8.876538e-01  4.022709e-02\n"
     ]
    }
   ],
   "source": [
    "# RFM描述统计分析\n",
    "print(rfm.describe())"
   ]
  },
  {
   "cell_type": "code",
   "execution_count": 53,
   "id": "0d493bb5",
   "metadata": {},
   "outputs": [
    {
     "name": "stderr",
     "output_type": "stream",
     "text": [
      "C:\\Users\\Tibame_25\\.conda\\envs\\T4_Project2\\lib\\site-packages\\matplotlib\\backends\\backend_agg.py:240: RuntimeWarning:\n",
      "\n",
      "Glyph 8722 missing from current font.\n",
      "\n"
     ]
    },
    {
     "data": {
      "text/plain": [
       "<Figure size 432x288 with 0 Axes>"
      ]
     },
     "metadata": {},
     "output_type": "display_data"
    },
    {
     "name": "stderr",
     "output_type": "stream",
     "text": [
      "C:\\Users\\Tibame_25\\.conda\\envs\\T4_Project2\\lib\\site-packages\\matplotlib\\backends\\backend_agg.py:203: RuntimeWarning:\n",
      "\n",
      "Glyph 8722 missing from current font.\n",
      "\n"
     ]
    },
    {
     "data": {
      "image/png": "[encoded data removed]",
      "text/plain": [
       "<Figure size 540x540 with 12 Axes>"
      ]
     },
     "metadata": {
      "needs_background": "light"
     },
     "output_type": "display_data"
    }
   ],
   "source": [
    "plt.figure()\n",
    "sns.pairplot(rfm,kind='scatter',diag_kind='kde')\n",
    "plt.show()"
   ]
  },
  {
   "cell_type": "code",
   "execution_count": 54,
   "id": "e2958e8b",
   "metadata": {},
   "outputs": [
    {
     "name": "stderr",
     "output_type": "stream",
     "text": [
      "C:\\Users\\Tibame_25\\.conda\\envs\\T4_Project2\\lib\\site-packages\\matplotlib\\backends\\backend_agg.py:240: RuntimeWarning:\n",
      "\n",
      "Glyph 8722 missing from current font.\n",
      "\n",
      "C:\\Users\\Tibame_25\\.conda\\envs\\T4_Project2\\lib\\site-packages\\matplotlib\\backends\\backend_agg.py:203: RuntimeWarning:\n",
      "\n",
      "Glyph 8722 missing from current font.\n",
      "\n"
     ]
    },
    {
     "data": {
      "image/png": "[encoded data removed]",
      "text/plain": [
       "<Figure size 864x360 with 1 Axes>"
      ]
     },
     "metadata": {
      "needs_background": "light"
     },
     "output_type": "display_data"
    }
   ],
   "source": [
    "plt.figure(figsize=(12,5))\n",
    "sns.scatterplot(x=rfm['R'],y=rfm['F'],size=rfm['M'])\n",
    "plt.title('R-F關於購買金額的氣泡圖')\n",
    "plt.show()"
   ]
  }
 ],
 "metadata": {
  "kernelspec": {
   "display_name": "Python 3",
   "language": "python",
   "name": "python3"
  },
  "language_info": {
   "codemirror_mode": {
    "name": "ipython",
    "version": 3
   },
   "file_extension": ".py",
   "mimetype": "text/x-python",
   "name": "python",
   "nbconvert_exporter": "python",
   "pygments_lexer": "ipython3",
   "version": "3.8.10"
  }
 },
 "nbformat": 4,
 "nbformat_minor": 5
}
