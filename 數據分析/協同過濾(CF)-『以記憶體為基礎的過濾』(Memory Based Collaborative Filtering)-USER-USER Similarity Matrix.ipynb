{
 "cells": [
  {
   "cell_type": "markdown",
   "metadata": {},
   "source": [
    "### USER-USER 協同過濾：轉換為最相似的顧客族群(USER-USER Similarity Matrix)，查看他們經常購買的商品，推薦給目前鎖定的顧客。 \n",
    "- https://medium.datadriveninvestor.com/how-to-build-a-recommendation-system-for-purchase-data-step-by-step-d6d7a78800b6"
   ]
  },
  {
   "cell_type": "code",
   "execution_count": 1,
   "metadata": {},
   "outputs": [],
   "source": [
    "import pandas as pd\n",
    "import numpy as np\n",
    "import time\n",
    "import turicreate as tc\n",
    "from sklearn.model_selection import train_test_split"
   ]
  },
  {
   "cell_type": "code",
   "execution_count": 34,
   "metadata": {},
   "outputs": [],
   "source": [
    "df = pd.read_csv('transaction_data_version3.csv')\n",
    "product_df = pd.read_csv('product.csv')\n",
    "product_df1 = product_df[['PRODUCT_ID','SUB_COMMODITY_DESC']]\n",
    "df_merge = df.merge(product_df1,on='PRODUCT_ID')\n",
    "df = df_merge.copy()\n",
    "df_new = df[['household_key','SUB_COMMODITY_DESC','QUANTITY']]\n",
    "df_group = df_new.groupby(['household_key','SUB_COMMODITY_DESC']).sum().reset_index()\n",
    "df_group.columns = ['customerId','productId','purchase_count']"
   ]
  },
  {
   "cell_type": "code",
   "execution_count": 13,
   "metadata": {},
   "outputs": [],
   "source": [
    "data = df_group.copy()"
   ]
  },
  {
   "cell_type": "code",
   "execution_count": 14,
   "metadata": {},
   "outputs": [
    {
     "data": {
      "text/html": [
       "<div>\n",
       "<style scoped>\n",
       "    .dataframe tbody tr th:only-of-type {\n",
       "        vertical-align: middle;\n",
       "    }\n",
       "\n",
       "    .dataframe tbody tr th {\n",
       "        vertical-align: top;\n",
       "    }\n",
       "\n",
       "    .dataframe thead th {\n",
       "        text-align: right;\n",
       "    }\n",
       "</style>\n",
       "<table border=\"1\" class=\"dataframe\">\n",
       "  <thead>\n",
       "    <tr style=\"text-align: right;\">\n",
       "      <th></th>\n",
       "      <th>customerId</th>\n",
       "      <th>productId</th>\n",
       "      <th>purchase_count</th>\n",
       "    </tr>\n",
       "  </thead>\n",
       "  <tbody>\n",
       "    <tr>\n",
       "      <th>0</th>\n",
       "      <td>1</td>\n",
       "      <td>ADULT ANALGESICS</td>\n",
       "      <td>3</td>\n",
       "    </tr>\n",
       "    <tr>\n",
       "      <th>1</th>\n",
       "      <td>1</td>\n",
       "      <td>ADULT CEREAL</td>\n",
       "      <td>2</td>\n",
       "    </tr>\n",
       "    <tr>\n",
       "      <th>2</th>\n",
       "      <td>1</td>\n",
       "      <td>AEROSOL TOPPINGS</td>\n",
       "      <td>1</td>\n",
       "    </tr>\n",
       "    <tr>\n",
       "      <th>3</th>\n",
       "      <td>1</td>\n",
       "      <td>AIR CARE - AEROSOLS</td>\n",
       "      <td>1</td>\n",
       "    </tr>\n",
       "    <tr>\n",
       "      <th>4</th>\n",
       "      <td>1</td>\n",
       "      <td>AIR CARE - CANDLES</td>\n",
       "      <td>6</td>\n",
       "    </tr>\n",
       "  </tbody>\n",
       "</table>\n",
       "</div>"
      ],
      "text/plain": [
       "   customerId            productId  purchase_count\n",
       "0           1     ADULT ANALGESICS               3\n",
       "1           1         ADULT CEREAL               2\n",
       "2           1     AEROSOL TOPPINGS               1\n",
       "3           1  AIR CARE - AEROSOLS               1\n",
       "4           1   AIR CARE - CANDLES               6"
      ]
     },
     "execution_count": 14,
     "metadata": {},
     "output_type": "execute_result"
    }
   ],
   "source": [
    "data.head()"
   ]
  },
  {
   "cell_type": "code",
   "execution_count": 15,
   "metadata": {},
   "outputs": [],
   "source": [
    "def create_data_dummy(data):\n",
    "    data_dummy = data.copy()\n",
    "    data_dummy['purchase_dummy'] = 1\n",
    "    return data_dummy"
   ]
  },
  {
   "cell_type": "code",
   "execution_count": 16,
   "metadata": {},
   "outputs": [],
   "source": [
    "data_dummy = create_data_dummy(data)"
   ]
  },
  {
   "cell_type": "code",
   "execution_count": 17,
   "metadata": {},
   "outputs": [],
   "source": [
    "df_matrix = pd.pivot_table(data, values='purchase_count', index='customerId', columns='productId')"
   ]
  },
  {
   "cell_type": "code",
   "execution_count": 18,
   "metadata": {},
   "outputs": [],
   "source": [
    "df_matrix_norm = (df_matrix-df_matrix.min())/(df_matrix.max()-df_matrix.min())"
   ]
  },
  {
   "cell_type": "code",
   "execution_count": 20,
   "metadata": {},
   "outputs": [
    {
     "name": "stdout",
     "output_type": "stream",
     "text": [
      "(607269, 3)\n"
     ]
    },
    {
     "data": {
      "text/html": [
       "<div>\n",
       "<style scoped>\n",
       "    .dataframe tbody tr th:only-of-type {\n",
       "        vertical-align: middle;\n",
       "    }\n",
       "\n",
       "    .dataframe tbody tr th {\n",
       "        vertical-align: top;\n",
       "    }\n",
       "\n",
       "    .dataframe thead th {\n",
       "        text-align: right;\n",
       "    }\n",
       "</style>\n",
       "<table border=\"1\" class=\"dataframe\">\n",
       "  <thead>\n",
       "    <tr style=\"text-align: right;\">\n",
       "      <th></th>\n",
       "      <th>customerId</th>\n",
       "      <th>productId</th>\n",
       "      <th>scaled_purchase_freq</th>\n",
       "    </tr>\n",
       "  </thead>\n",
       "  <tbody>\n",
       "    <tr>\n",
       "      <th>5184</th>\n",
       "      <td>185</td>\n",
       "      <td>*BOYS/GIRLS MISC TOYS</td>\n",
       "      <td>1.0</td>\n",
       "    </tr>\n",
       "    <tr>\n",
       "      <th>5370</th>\n",
       "      <td>371</td>\n",
       "      <td>*BOYS/GIRLS MISC TOYS</td>\n",
       "      <td>0.0</td>\n",
       "    </tr>\n",
       "    <tr>\n",
       "      <th>5499</th>\n",
       "      <td>500</td>\n",
       "      <td>*BOYS/GIRLS MISC TOYS</td>\n",
       "      <td>0.0</td>\n",
       "    </tr>\n",
       "    <tr>\n",
       "      <th>5540</th>\n",
       "      <td>541</td>\n",
       "      <td>*BOYS/GIRLS MISC TOYS</td>\n",
       "      <td>0.0</td>\n",
       "    </tr>\n",
       "    <tr>\n",
       "      <th>5613</th>\n",
       "      <td>614</td>\n",
       "      <td>*BOYS/GIRLS MISC TOYS</td>\n",
       "      <td>0.0</td>\n",
       "    </tr>\n",
       "  </tbody>\n",
       "</table>\n",
       "</div>"
      ],
      "text/plain": [
       "      customerId              productId  scaled_purchase_freq\n",
       "5184         185  *BOYS/GIRLS MISC TOYS                   1.0\n",
       "5370         371  *BOYS/GIRLS MISC TOYS                   0.0\n",
       "5499         500  *BOYS/GIRLS MISC TOYS                   0.0\n",
       "5540         541  *BOYS/GIRLS MISC TOYS                   0.0\n",
       "5613         614  *BOYS/GIRLS MISC TOYS                   0.0"
      ]
     },
     "execution_count": 20,
     "metadata": {},
     "output_type": "execute_result"
    }
   ],
   "source": [
    "# create a table for input to the modeling  \n",
    "d = df_matrix_norm.reset_index() \n",
    "d.index.names = ['scaled_purchase_freq'] \n",
    "data_norm = pd.melt(d, id_vars=['customerId'], value_name='scaled_purchase_freq').dropna()\n",
    "print(data_norm.shape)\n",
    "data_norm.head()"
   ]
  },
  {
   "cell_type": "code",
   "execution_count": 25,
   "metadata": {},
   "outputs": [],
   "source": [
    "def split_data(data):\n",
    "    '''\n",
    "    Splits dataset into training and test set.\n",
    "    \n",
    "    Args:\n",
    "        data (pandas.DataFrame)\n",
    "        \n",
    "    Returns\n",
    "        train_data (tc.SFrame)\n",
    "        test_data (tc.SFrame)\n",
    "    '''\n",
    "    train, test = train_test_split(data, test_size = .2)\n",
    "    train_data = tc.SFrame(train)\n",
    "    test_data = tc.SFrame(test)\n",
    "    return train_data, test_data"
   ]
  },
  {
   "cell_type": "code",
   "execution_count": 26,
   "metadata": {},
   "outputs": [],
   "source": [
    "train_data, test_data = split_data(data)\n",
    "train_data_dummy, test_data_dummy = split_data(data_dummy)\n",
    "train_data_norm, test_data_norm = split_data(data_norm)"
   ]
  },
  {
   "cell_type": "code",
   "execution_count": 49,
   "metadata": {},
   "outputs": [
    {
     "data": {
      "text/html": [
       "<div>\n",
       "<style scoped>\n",
       "    .dataframe tbody tr th:only-of-type {\n",
       "        vertical-align: middle;\n",
       "    }\n",
       "\n",
       "    .dataframe tbody tr th {\n",
       "        vertical-align: top;\n",
       "    }\n",
       "\n",
       "    .dataframe thead th {\n",
       "        text-align: right;\n",
       "    }\n",
       "</style>\n",
       "<table border=\"1\" class=\"dataframe\">\n",
       "  <thead>\n",
       "    <tr style=\"text-align: right;\">\n",
       "      <th></th>\n",
       "      <th>household_key</th>\n",
       "    </tr>\n",
       "  </thead>\n",
       "  <tbody>\n",
       "    <tr>\n",
       "      <th>0</th>\n",
       "      <td>1</td>\n",
       "    </tr>\n",
       "    <tr>\n",
       "      <th>1</th>\n",
       "      <td>2</td>\n",
       "    </tr>\n",
       "    <tr>\n",
       "      <th>2</th>\n",
       "      <td>3</td>\n",
       "    </tr>\n",
       "    <tr>\n",
       "      <th>3</th>\n",
       "      <td>4</td>\n",
       "    </tr>\n",
       "    <tr>\n",
       "      <th>4</th>\n",
       "      <td>5</td>\n",
       "    </tr>\n",
       "    <tr>\n",
       "      <th>...</th>\n",
       "      <td>...</td>\n",
       "    </tr>\n",
       "    <tr>\n",
       "      <th>2495</th>\n",
       "      <td>2496</td>\n",
       "    </tr>\n",
       "    <tr>\n",
       "      <th>2496</th>\n",
       "      <td>2497</td>\n",
       "    </tr>\n",
       "    <tr>\n",
       "      <th>2497</th>\n",
       "      <td>2498</td>\n",
       "    </tr>\n",
       "    <tr>\n",
       "      <th>2498</th>\n",
       "      <td>2499</td>\n",
       "    </tr>\n",
       "    <tr>\n",
       "      <th>2499</th>\n",
       "      <td>2500</td>\n",
       "    </tr>\n",
       "  </tbody>\n",
       "</table>\n",
       "<p>2500 rows × 1 columns</p>\n",
       "</div>"
      ],
      "text/plain": [
       "      household_key\n",
       "0                 1\n",
       "1                 2\n",
       "2                 3\n",
       "3                 4\n",
       "4                 5\n",
       "...             ...\n",
       "2495           2496\n",
       "2496           2497\n",
       "2497           2498\n",
       "2498           2499\n",
       "2499           2500\n",
       "\n",
       "[2500 rows x 1 columns]"
      ]
     },
     "execution_count": 49,
     "metadata": {},
     "output_type": "execute_result"
    }
   ],
   "source": [
    "customers = df['household_key'].reset_index()\n",
    "customers = customers.drop('index',axis=1)\n",
    "customers = customers.groupby('household_key').sum()\n",
    "customers = customers.reset_index()\n",
    "customers"
   ]
  },
  {
   "cell_type": "code",
   "execution_count": 50,
   "metadata": {},
   "outputs": [],
   "source": [
    "# constant variables to define field names include:\n",
    "user_id = 'customerId'\n",
    "item_id = 'productId'\n",
    "users_to_recommend = list(customers['household_key'])\n",
    "n_rec = 10 # number of items to recommend\n",
    "n_display = 30 # to display the first few rows in an output dataset"
   ]
  },
  {
   "cell_type": "code",
   "execution_count": 53,
   "metadata": {},
   "outputs": [],
   "source": [
    "def model(train_data, name, user_id, item_id, target, users_to_recommend, n_rec, n_display):\n",
    "    if name == 'popularity':\n",
    "        model = tc.popularity_recommender.create(train_data, \n",
    "                                                    user_id=user_id, \n",
    "                                                    item_id=item_id, \n",
    "                                                    target=target)\n",
    "    elif name == 'cosine':\n",
    "        model = tc.item_similarity_recommender.create(train_data, \n",
    "                                                    user_id=user_id, \n",
    "                                                    item_id=item_id, \n",
    "                                                    target=target, \n",
    "                                                    similarity_type='cosine')\n",
    "    elif name == 'pearson':\n",
    "        model = tc.item_similarity_recommender.create(train_data, \n",
    "                                                    user_id=user_id, \n",
    "                                                    item_id=item_id, \n",
    "                                                    target=target, \n",
    "                                                    similarity_type='pearson')\n",
    "        \n",
    "    recom = model.recommend(users=users_to_recommend, k=n_rec)\n",
    "    recom.print_rows(n_display)\n",
    "    return model"
   ]
  },
  {
   "cell_type": "markdown",
   "metadata": {},
   "source": [
    "### Popularity Model as Baseline\n",
    "- The popularity model takes the most popular items for recommendation. These items are products with the highest number of sells across customers.\n",
    "- Training data is used for model selection"
   ]
  },
  {
   "cell_type": "markdown",
   "metadata": {},
   "source": [
    "#### Using purchase count"
   ]
  },
  {
   "cell_type": "code",
   "execution_count": 54,
   "metadata": {},
   "outputs": [
    {
     "data": {
      "text/html": [
       "<pre>Preparing data set.</pre>"
      ],
      "text/plain": [
       "Preparing data set."
      ]
     },
     "metadata": {},
     "output_type": "display_data"
    },
    {
     "data": {
      "text/html": [
       "<pre>    Data has 486641 observations with 2500 users and 2337 items.</pre>"
      ],
      "text/plain": [
       "    Data has 486641 observations with 2500 users and 2337 items."
      ]
     },
     "metadata": {},
     "output_type": "display_data"
    },
    {
     "data": {
      "text/html": [
       "<pre>    Data prepared in: 0.275673s</pre>"
      ],
      "text/plain": [
       "    Data prepared in: 0.275673s"
      ]
     },
     "metadata": {},
     "output_type": "display_data"
    },
    {
     "data": {
      "text/html": [
       "<pre>486641 observations to process; with 2337 unique items.</pre>"
      ],
      "text/plain": [
       "486641 observations to process; with 2337 unique items."
      ]
     },
     "metadata": {},
     "output_type": "display_data"
    },
    {
     "data": {
      "text/html": [
       "<pre>recommendations finished on 1000/2500 queries. users per second: 104102</pre>"
      ],
      "text/plain": [
       "recommendations finished on 1000/2500 queries. users per second: 104102"
      ]
     },
     "metadata": {},
     "output_type": "display_data"
    },
    {
     "data": {
      "text/html": [
       "<pre>recommendations finished on 2000/2500 queries. users per second: 99314.7</pre>"
      ],
      "text/plain": [
       "recommendations finished on 2000/2500 queries. users per second: 99314.7"
      ]
     },
     "metadata": {},
     "output_type": "display_data"
    },
    {
     "name": "stdout",
     "output_type": "stream",
     "text": [
      "+------------+--------------------------------+--------------------+------+\n",
      "| customerId |           productId            |       score        | rank |\n",
      "+------------+--------------------------------+--------------------+------+\n",
      "|     1      | CANNED CAT FOOD (9 LIVES/FRISK | 52.81782945736434  |  1   |\n",
      "|     1      |      BABY FOOD - BEGINNER      | 43.20054945054945  |  2   |\n",
      "|     1      |     YOGURT NOT MULTI-PACKS     | 43.06858924395947  |  3   |\n",
      "|     1      | CAN CATFD GOURMET/SUP PREM (GR | 38.58563535911602  |  4   |\n",
      "|     1      | CAN DOG FOOD (SKIPPY/PEDIGREE/ | 35.24096385542169  |  5   |\n",
      "|     1      |           BABY FOOD            | 30.11764705882353  |  6   |\n",
      "|     1      | CAN DOGFD GOURMET/SUPER PREM ( | 29.291666666666668 |  7   |\n",
      "|     1      | SFT DRNK 2 LITER BTL CARB INCL | 27.76474278544542  |  8   |\n",
      "|     1      |   SOFT DRINK POWDER POUCHES    | 25.387024608501118 |  9   |\n",
      "|     1      | CANDY BARS (SINGLES)(INCLUDING | 24.499020248203788 |  10  |\n",
      "|     2      | CANNED CAT FOOD (9 LIVES/FRISK | 52.81782945736434  |  1   |\n",
      "|     2      | CAN CATFD GOURMET/SUP PREM (GR | 38.58563535911602  |  2   |\n",
      "|     2      | CAN DOG FOOD (SKIPPY/PEDIGREE/ | 35.24096385542169  |  3   |\n",
      "|     2      |           BABY FOOD            | 30.11764705882353  |  4   |\n",
      "|     2      | CAN DOGFD GOURMET/SUPER PREM ( | 29.291666666666668 |  5   |\n",
      "|     2      | CANDY BARS (SINGLES)(INCLUDING | 24.499020248203788 |  6   |\n",
      "|     2      | SS ECONOMY ENTREES/DINNERS ALL |  24.2317429406037  |  7   |\n",
      "|     2      |  BABY FOOD JUNIOR ALL BRANDS   | 24.17725752508361  |  8   |\n",
      "|     2      | HISPANIC JUICE UNDER 50% JUICE | 24.081967213114755 |  9   |\n",
      "|     2      | HISPANIC CARBONATED BEVERAGES  | 22.703703703703702 |  10  |\n",
      "|     3      |      BABY FOOD - BEGINNER      | 43.20054945054945  |  1   |\n",
      "|     3      |     YOGURT NOT MULTI-PACKS     | 43.06858924395947  |  2   |\n",
      "|     3      | CAN CATFD GOURMET/SUP PREM (GR | 38.58563535911602  |  3   |\n",
      "|     3      | CAN DOG FOOD (SKIPPY/PEDIGREE/ | 35.24096385542169  |  4   |\n",
      "|     3      |           BABY FOOD            | 30.11764705882353  |  5   |\n",
      "|     3      | CAN DOGFD GOURMET/SUPER PREM ( | 29.291666666666668 |  6   |\n",
      "|     3      |   SOFT DRINK POWDER POUCHES    | 25.387024608501118 |  7   |\n",
      "|     3      |  BABY FOOD JUNIOR ALL BRANDS   | 24.17725752508361  |  8   |\n",
      "|     3      | HISPANIC JUICE UNDER 50% JUICE | 24.081967213114755 |  9   |\n",
      "|     3      | HISPANIC CARBONATED BEVERAGES  | 22.703703703703702 |  10  |\n",
      "+------------+--------------------------------+--------------------+------+\n",
      "[25000 rows x 4 columns]\n",
      "\n"
     ]
    }
   ],
   "source": [
    "name = 'popularity'\n",
    "target = 'purchase_count'\n",
    "popularity = model(train_data, name, user_id, item_id, target, users_to_recommend, n_rec, n_display)"
   ]
  },
  {
   "cell_type": "markdown",
   "metadata": {},
   "source": [
    "#### Using purchase dummy"
   ]
  },
  {
   "cell_type": "code",
   "execution_count": 55,
   "metadata": {},
   "outputs": [
    {
     "data": {
      "text/html": [
       "<pre>Warning: Ignoring columns purchase_count;</pre>"
      ],
      "text/plain": [
       "Warning: Ignoring columns purchase_count;"
      ]
     },
     "metadata": {},
     "output_type": "display_data"
    },
    {
     "data": {
      "text/html": [
       "<pre>    To use these columns in scoring predictions, use a model that allows the use of additional features.</pre>"
      ],
      "text/plain": [
       "    To use these columns in scoring predictions, use a model that allows the use of additional features."
      ]
     },
     "metadata": {},
     "output_type": "display_data"
    },
    {
     "data": {
      "text/html": [
       "<pre>Preparing data set.</pre>"
      ],
      "text/plain": [
       "Preparing data set."
      ]
     },
     "metadata": {},
     "output_type": "display_data"
    },
    {
     "data": {
      "text/html": [
       "<pre>    Data has 486641 observations with 2500 users and 2318 items.</pre>"
      ],
      "text/plain": [
       "    Data has 486641 observations with 2500 users and 2318 items."
      ]
     },
     "metadata": {},
     "output_type": "display_data"
    },
    {
     "data": {
      "text/html": [
       "<pre>    Data prepared in: 0.274857s</pre>"
      ],
      "text/plain": [
       "    Data prepared in: 0.274857s"
      ]
     },
     "metadata": {},
     "output_type": "display_data"
    },
    {
     "data": {
      "text/html": [
       "<pre>486641 observations to process; with 2318 unique items.</pre>"
      ],
      "text/plain": [
       "486641 observations to process; with 2318 unique items."
      ]
     },
     "metadata": {},
     "output_type": "display_data"
    },
    {
     "data": {
      "text/html": [
       "<pre>recommendations finished on 1000/2500 queries. users per second: 100766</pre>"
      ],
      "text/plain": [
       "recommendations finished on 1000/2500 queries. users per second: 100766"
      ]
     },
     "metadata": {},
     "output_type": "display_data"
    },
    {
     "data": {
      "text/html": [
       "<pre>recommendations finished on 2000/2500 queries. users per second: 102307</pre>"
      ],
      "text/plain": [
       "recommendations finished on 2000/2500 queries. users per second: 102307"
      ]
     },
     "metadata": {},
     "output_type": "display_data"
    },
    {
     "name": "stdout",
     "output_type": "stream",
     "text": [
      "+------------+--------------------------------+-------+------+\n",
      "| customerId |           productId            | score | rank |\n",
      "+------------+--------------------------------+-------+------+\n",
      "|     1      | SFT DRNK SNGL SRV BTL CARB (EX |  1.0  |  1   |\n",
      "|     1      | APPLE JUICE & CIDER (OVER 50%  |  1.0  |  2   |\n",
      "|     1      |       YOGURT MULTI-PACKS       |  1.0  |  3   |\n",
      "|     1      |      DELI TRAY:SANDWICHES      |  1.0  |  4   |\n",
      "|     1      |          WINGS (IQF)           |  1.0  |  5   |\n",
      "|     1      |      SAL:SALSA/DPS-PRPCK       |  1.0  |  6   |\n",
      "|     1      |         PEANUT BUTTER          |  1.0  |  7   |\n",
      "|     1      |          DIECAST MINI          |  1.0  |  8   |\n",
      "|     1      |             BEANS              |  1.0  |  9   |\n",
      "|     1      |              MUMS              |  1.0  |  10  |\n",
      "|     2      |             BUTTER             |  1.0  |  1   |\n",
      "|     2      |       YOGURT MULTI-PACKS       |  1.0  |  2   |\n",
      "|     2      |      DELI TRAY:SANDWICHES      |  1.0  |  3   |\n",
      "|     2      |          WINGS (IQF)           |  1.0  |  4   |\n",
      "|     2      |          HEAD LETTUCE          |  1.0  |  5   |\n",
      "|     2      |      SAL:SALSA/DPS-PRPCK       |  1.0  |  6   |\n",
      "|     2      |         PEANUT BUTTER          |  1.0  |  7   |\n",
      "|     2      |          DIECAST MINI          |  1.0  |  8   |\n",
      "|     2      |             BEANS              |  1.0  |  9   |\n",
      "|     2      |              MUMS              |  1.0  |  10  |\n",
      "|     3      |  TABLE SALT POPCORN SALTICE C  |  1.0  |  1   |\n",
      "|     3      |    SW GDS: SWT/FLVRD LOAVES    |  1.0  |  2   |\n",
      "|     3      |            DRY SOUP            |  1.0  |  3   |\n",
      "|     3      |             HONEY              |  1.0  |  4   |\n",
      "|     3      |             BUTTER             |  1.0  |  5   |\n",
      "|     3      |      DELI TRAY:SANDWICHES      |  1.0  |  6   |\n",
      "|     3      |          WINGS (IQF)           |  1.0  |  7   |\n",
      "|     3      |      SAL:SALSA/DPS-PRPCK       |  1.0  |  8   |\n",
      "|     3      |             BEANS              |  1.0  |  9   |\n",
      "|     3      |              MUMS              |  1.0  |  10  |\n",
      "+------------+--------------------------------+-------+------+\n",
      "[25000 rows x 4 columns]\n",
      "\n"
     ]
    }
   ],
   "source": [
    "name = 'popularity'\n",
    "target = 'purchase_dummy'\n",
    "pop_dummy = model(train_data_dummy, name, user_id, item_id, target, users_to_recommend, n_rec, n_display)"
   ]
  },
  {
   "cell_type": "markdown",
   "metadata": {},
   "source": [
    "#### Using scaled purchase count"
   ]
  },
  {
   "cell_type": "code",
   "execution_count": 56,
   "metadata": {},
   "outputs": [
    {
     "data": {
      "text/html": [
       "<pre>Preparing data set.</pre>"
      ],
      "text/plain": [
       "Preparing data set."
      ]
     },
     "metadata": {},
     "output_type": "display_data"
    },
    {
     "data": {
      "text/html": [
       "<pre>    Data has 485815 observations with 2500 users and 2042 items.</pre>"
      ],
      "text/plain": [
       "    Data has 485815 observations with 2500 users and 2042 items."
      ]
     },
     "metadata": {},
     "output_type": "display_data"
    },
    {
     "data": {
      "text/html": [
       "<pre>    Data prepared in: 0.293811s</pre>"
      ],
      "text/plain": [
       "    Data prepared in: 0.293811s"
      ]
     },
     "metadata": {},
     "output_type": "display_data"
    },
    {
     "data": {
      "text/html": [
       "<pre>485815 observations to process; with 2042 unique items.</pre>"
      ],
      "text/plain": [
       "485815 observations to process; with 2042 unique items."
      ]
     },
     "metadata": {},
     "output_type": "display_data"
    },
    {
     "data": {
      "text/html": [
       "<pre>recommendations finished on 1000/2500 queries. users per second: 50266.4</pre>"
      ],
      "text/plain": [
       "recommendations finished on 1000/2500 queries. users per second: 50266.4"
      ]
     },
     "metadata": {},
     "output_type": "display_data"
    },
    {
     "data": {
      "text/html": [
       "<pre>recommendations finished on 2000/2500 queries. users per second: 44189.1</pre>"
      ],
      "text/plain": [
       "recommendations finished on 2000/2500 queries. users per second: 44189.1"
      ]
     },
     "metadata": {},
     "output_type": "display_data"
    },
    {
     "name": "stdout",
     "output_type": "stream",
     "text": [
      "+------------+--------------------------------+--------------------+------+\n",
      "| customerId |           productId            |       score        | rank |\n",
      "+------------+--------------------------------+--------------------+------+\n",
      "|     1      | TEA (CANNED/BOTTLED) W/SWEETEN |        1.0         |  1   |\n",
      "|     1      |  FOLIAGE PLANTS (5IN & DOWN)   |        1.0         |  2   |\n",
      "|     1      |         POLY SHEETING          |        1.0         |  3   |\n",
      "|     1      |        PATIO FURNITURE         |        1.0         |  4   |\n",
      "|     1      |      HARD GOODS ALL OTHER      |        1.0         |  5   |\n",
      "|     1      |         TASK LIGHTING          |        1.0         |  6   |\n",
      "|     1      |          VITAMIN MISC          | 0.6666666666666666 |  7   |\n",
      "|     1      |     DECORATOR ACCESSORIES      | 0.6666666666666666 |  8   |\n",
      "|     1      | HALLOWEEN COSTUMES/MASKS/ACCES | 0.6666666666666666 |  9   |\n",
      "|     1      |     TRUESCENTS/BAIN DELUXE     | 0.6666666666666666 |  10  |\n",
      "|     2      | TEA (CANNED/BOTTLED) W/SWEETEN |        1.0         |  1   |\n",
      "|     2      |  FOLIAGE PLANTS (5IN & DOWN)   |        1.0         |  2   |\n",
      "|     2      |         POLY SHEETING          |        1.0         |  3   |\n",
      "|     2      |        PATIO FURNITURE         |        1.0         |  4   |\n",
      "|     2      |      HARD GOODS ALL OTHER      |        1.0         |  5   |\n",
      "|     2      |         TASK LIGHTING          |        1.0         |  6   |\n",
      "|     2      |          VITAMIN MISC          | 0.6666666666666666 |  7   |\n",
      "|     2      |     DECORATOR ACCESSORIES      | 0.6666666666666666 |  8   |\n",
      "|     2      | HALLOWEEN COSTUMES/MASKS/ACCES | 0.6666666666666666 |  9   |\n",
      "|     2      |             BAKING             | 0.6666666666666666 |  10  |\n",
      "|     3      | TEA (CANNED/BOTTLED) W/SWEETEN |        1.0         |  1   |\n",
      "|     3      |  FOLIAGE PLANTS (5IN & DOWN)   |        1.0         |  2   |\n",
      "|     3      |         POLY SHEETING          |        1.0         |  3   |\n",
      "|     3      |        PATIO FURNITURE         |        1.0         |  4   |\n",
      "|     3      |      HARD GOODS ALL OTHER      |        1.0         |  5   |\n",
      "|     3      |         TASK LIGHTING          |        1.0         |  6   |\n",
      "|     3      |          VITAMIN MISC          | 0.6666666666666666 |  7   |\n",
      "|     3      |     DECORATOR ACCESSORIES      | 0.6666666666666666 |  8   |\n",
      "|     3      | HALLOWEEN COSTUMES/MASKS/ACCES | 0.6666666666666666 |  9   |\n",
      "|     3      |             BAKING             | 0.6666666666666666 |  10  |\n",
      "+------------+--------------------------------+--------------------+------+\n",
      "[25000 rows x 4 columns]\n",
      "\n"
     ]
    }
   ],
   "source": [
    "name = 'popularity'\n",
    "target = 'scaled_purchase_freq'\n",
    "pop_norm = model(train_data_norm, name, user_id, item_id, target, users_to_recommend, n_rec, n_display)"
   ]
  },
  {
   "cell_type": "markdown",
   "metadata": {},
   "source": [
    "### Cosine similarity"
   ]
  },
  {
   "cell_type": "markdown",
   "metadata": {},
   "source": [
    "#### Using purchase count"
   ]
  },
  {
   "cell_type": "code",
   "execution_count": 57,
   "metadata": {},
   "outputs": [
    {
     "data": {
      "text/html": [
       "<pre>Preparing data set.</pre>"
      ],
      "text/plain": [
       "Preparing data set."
      ]
     },
     "metadata": {},
     "output_type": "display_data"
    },
    {
     "data": {
      "text/html": [
       "<pre>    Data has 486641 observations with 2500 users and 2337 items.</pre>"
      ],
      "text/plain": [
       "    Data has 486641 observations with 2500 users and 2337 items."
      ]
     },
     "metadata": {},
     "output_type": "display_data"
    },
    {
     "data": {
      "text/html": [
       "<pre>    Data prepared in: 0.282439s</pre>"
      ],
      "text/plain": [
       "    Data prepared in: 0.282439s"
      ]
     },
     "metadata": {},
     "output_type": "display_data"
    },
    {
     "data": {
      "text/html": [
       "<pre>Training model from provided data.</pre>"
      ],
      "text/plain": [
       "Training model from provided data."
      ]
     },
     "metadata": {},
     "output_type": "display_data"
    },
    {
     "data": {
      "text/html": [
       "<pre>Gathering per-item and per-user statistics.</pre>"
      ],
      "text/plain": [
       "Gathering per-item and per-user statistics."
      ]
     },
     "metadata": {},
     "output_type": "display_data"
    },
    {
     "data": {
      "text/html": [
       "<pre>+--------------------------------+------------+</pre>"
      ],
      "text/plain": [
       "+--------------------------------+------------+"
      ]
     },
     "metadata": {},
     "output_type": "display_data"
    },
    {
     "data": {
      "text/html": [
       "<pre>| Elapsed Time (Item Statistics) | % Complete |</pre>"
      ],
      "text/plain": [
       "| Elapsed Time (Item Statistics) | % Complete |"
      ]
     },
     "metadata": {},
     "output_type": "display_data"
    },
    {
     "data": {
      "text/html": [
       "<pre>+--------------------------------+------------+</pre>"
      ],
      "text/plain": [
       "+--------------------------------+------------+"
      ]
     },
     "metadata": {},
     "output_type": "display_data"
    },
    {
     "data": {
      "text/html": [
       "<pre>| 6.36ms                         | 40         |</pre>"
      ],
      "text/plain": [
       "| 6.36ms                         | 40         |"
      ]
     },
     "metadata": {},
     "output_type": "display_data"
    },
    {
     "data": {
      "text/html": [
       "<pre>| 10.496ms                       | 100        |</pre>"
      ],
      "text/plain": [
       "| 10.496ms                       | 100        |"
      ]
     },
     "metadata": {},
     "output_type": "display_data"
    },
    {
     "data": {
      "text/html": [
       "<pre>+--------------------------------+------------+</pre>"
      ],
      "text/plain": [
       "+--------------------------------+------------+"
      ]
     },
     "metadata": {},
     "output_type": "display_data"
    },
    {
     "data": {
      "text/html": [
       "<pre>Setting up lookup tables.</pre>"
      ],
      "text/plain": [
       "Setting up lookup tables."
      ]
     },
     "metadata": {},
     "output_type": "display_data"
    },
    {
     "data": {
      "text/html": [
       "<pre>Processing data in one pass using dense lookup tables.</pre>"
      ],
      "text/plain": [
       "Processing data in one pass using dense lookup tables."
      ]
     },
     "metadata": {},
     "output_type": "display_data"
    },
    {
     "data": {
      "text/html": [
       "<pre>+-------------------------------------+------------------+-----------------+</pre>"
      ],
      "text/plain": [
       "+-------------------------------------+------------------+-----------------+"
      ]
     },
     "metadata": {},
     "output_type": "display_data"
    },
    {
     "data": {
      "text/html": [
       "<pre>| Elapsed Time (Constructing Lookups) | Total % Complete | Items Processed |</pre>"
      ],
      "text/plain": [
       "| Elapsed Time (Constructing Lookups) | Total % Complete | Items Processed |"
      ]
     },
     "metadata": {},
     "output_type": "display_data"
    },
    {
     "data": {
      "text/html": [
       "<pre>+-------------------------------------+------------------+-----------------+</pre>"
      ],
      "text/plain": [
       "+-------------------------------------+------------------+-----------------+"
      ]
     },
     "metadata": {},
     "output_type": "display_data"
    },
    {
     "data": {
      "text/html": [
       "<pre>| 21.436ms                            | 0                | 1               |</pre>"
      ],
      "text/plain": [
       "| 21.436ms                            | 0                | 1               |"
      ]
     },
     "metadata": {},
     "output_type": "display_data"
    },
    {
     "data": {
      "text/html": [
       "<pre>| 465.252ms                           | 100              | 2337            |</pre>"
      ],
      "text/plain": [
       "| 465.252ms                           | 100              | 2337            |"
      ]
     },
     "metadata": {},
     "output_type": "display_data"
    },
    {
     "data": {
      "text/html": [
       "<pre>+-------------------------------------+------------------+-----------------+</pre>"
      ],
      "text/plain": [
       "+-------------------------------------+------------------+-----------------+"
      ]
     },
     "metadata": {},
     "output_type": "display_data"
    },
    {
     "data": {
      "text/html": [
       "<pre>Finalizing lookup tables.</pre>"
      ],
      "text/plain": [
       "Finalizing lookup tables."
      ]
     },
     "metadata": {},
     "output_type": "display_data"
    },
    {
     "data": {
      "text/html": [
       "<pre>Generating candidate set for working with new users.</pre>"
      ],
      "text/plain": [
       "Generating candidate set for working with new users."
      ]
     },
     "metadata": {},
     "output_type": "display_data"
    },
    {
     "data": {
      "text/html": [
       "<pre>Finished training in 1.49602s</pre>"
      ],
      "text/plain": [
       "Finished training in 1.49602s"
      ]
     },
     "metadata": {},
     "output_type": "display_data"
    },
    {
     "data": {
      "text/html": [
       "<pre>recommendations finished on 1000/2500 queries. users per second: 19150.9</pre>"
      ],
      "text/plain": [
       "recommendations finished on 1000/2500 queries. users per second: 19150.9"
      ]
     },
     "metadata": {},
     "output_type": "display_data"
    },
    {
     "data": {
      "text/html": [
       "<pre>recommendations finished on 2000/2500 queries. users per second: 20589.3</pre>"
      ],
      "text/plain": [
       "recommendations finished on 2000/2500 queries. users per second: 20589.3"
      ]
     },
     "metadata": {},
     "output_type": "display_data"
    },
    {
     "name": "stdout",
     "output_type": "stream",
     "text": [
      "+------------+--------------------------------+---------------------+------+\n",
      "| customerId |           productId            |        score        | rank |\n",
      "+------------+--------------------------------+---------------------+------+\n",
      "|     1      |        SHREDDED CHEESE         |  1.9370655469957427 |  1   |\n",
      "|     1      |    POURABLE SALAD DRESSINGS    |  1.769642070264018  |  2   |\n",
      "|     1      |      TORTILLA/NACHO CHIPS      |  1.656494073405665  |  3   |\n",
      "|     1      |          SOUR CREAMS           |  1.5588818048065454 |  4   |\n",
      "|     1      |   MARGARINE: TUBS AND BOWLS    |  1.5025010001291788 |  5   |\n",
      "|     1      |          EGGS - LARGE          |  1.4333985647441008 |  6   |\n",
      "|     1      |           MAINSTREAM           |  1.3014755690150324 |  7   |\n",
      "|     1      |             PRIMAL             |  1.2999044924580578 |  8   |\n",
      "|     1      | SOUP CRACKERS (SALTINE/OYSTER) |  1.1831314710793517 |  9   |\n",
      "|     1      | FRZN GARLIC BREAD/TOAST/STICKS |  1.173970659136247  |  10  |\n",
      "|     2      | SEMI-SOLID SALAD DRESSING MAY  |  0.8492008125111138 |  1   |\n",
      "|     2      |         CONDENSED SOUP         |  0.7021003092006172 |  2   |\n",
      "|     2      |   LIQUID LAUNDRY DETERGENTS    |  0.6294275354513358 |  3   |\n",
      "|     2      |       IWS SINGLE CHEESE        |  0.6184901703487743 |  4   |\n",
      "|     2      |          KIDS CEREAL           |  0.5892385840415955 |  5   |\n",
      "|     2      |           MAINSTREAM           |  0.5748518870506452 |  6   |\n",
      "|     2      |              CORN              |  0.5403476739342594 |  7   |\n",
      "|     2      |       ALL FAMILY CEREAL        |  0.5391368672445223 |  8   |\n",
      "|     2      |         SALAD MUSTARD          |  0.5132830016540758 |  9   |\n",
      "|     2      |         EGGS - X-LARGE         | 0.49219601340108105 |  10  |\n",
      "|     3      |          POTATO CHIPS          |  2.305128713908223  |  1   |\n",
      "|     3      |     MAINSTREAM WHITE BREAD     |  2.2979644488737074 |  2   |\n",
      "|     3      |         CONDENSED SOUP         |  1.9654056267931281 |  3   |\n",
      "|     3      |         TOILET TISSUE          |  1.9272108460437356 |  4   |\n",
      "|     3      |          SOUR CREAMS           |  1.8268180679034636 |  5   |\n",
      "|     3      |    POURABLE SALAD DRESSINGS    |  1.8101464633996776 |  6   |\n",
      "|     3      |         ALUMINUM FOIL          |   1.80076111637788  |  7   |\n",
      "|     3      |   POTATOES RUSSET (BULK&BAG)   |  1.7521878784102511 |  8   |\n",
      "|     3      |     MACARONI & CHEESE DNRS     |  1.6570145370643263 |  9   |\n",
      "|     3      | CHEESE CRACKERS (CHEEZ-ITS/GOL |  1.5715811979563938 |  10  |\n",
      "+------------+--------------------------------+---------------------+------+\n",
      "[25000 rows x 4 columns]\n",
      "\n"
     ]
    }
   ],
   "source": [
    "name = 'cosine'\n",
    "target = 'purchase_count'\n",
    "cos = model(train_data, name, user_id, item_id, target, users_to_recommend, n_rec, n_display)"
   ]
  },
  {
   "cell_type": "markdown",
   "metadata": {},
   "source": [
    "#### Using purchase dummy"
   ]
  },
  {
   "cell_type": "code",
   "execution_count": 58,
   "metadata": {},
   "outputs": [
    {
     "data": {
      "text/html": [
       "<pre>Warning: Ignoring columns purchase_count;</pre>"
      ],
      "text/plain": [
       "Warning: Ignoring columns purchase_count;"
      ]
     },
     "metadata": {},
     "output_type": "display_data"
    },
    {
     "data": {
      "text/html": [
       "<pre>    To use these columns in scoring predictions, use a model that allows the use of additional features.</pre>"
      ],
      "text/plain": [
       "    To use these columns in scoring predictions, use a model that allows the use of additional features."
      ]
     },
     "metadata": {},
     "output_type": "display_data"
    },
    {
     "data": {
      "text/html": [
       "<pre>Preparing data set.</pre>"
      ],
      "text/plain": [
       "Preparing data set."
      ]
     },
     "metadata": {},
     "output_type": "display_data"
    },
    {
     "data": {
      "text/html": [
       "<pre>    Data has 486641 observations with 2500 users and 2318 items.</pre>"
      ],
      "text/plain": [
       "    Data has 486641 observations with 2500 users and 2318 items."
      ]
     },
     "metadata": {},
     "output_type": "display_data"
    },
    {
     "data": {
      "text/html": [
       "<pre>    Data prepared in: 0.290759s</pre>"
      ],
      "text/plain": [
       "    Data prepared in: 0.290759s"
      ]
     },
     "metadata": {},
     "output_type": "display_data"
    },
    {
     "data": {
      "text/html": [
       "<pre>Training model from provided data.</pre>"
      ],
      "text/plain": [
       "Training model from provided data."
      ]
     },
     "metadata": {},
     "output_type": "display_data"
    },
    {
     "data": {
      "text/html": [
       "<pre>Gathering per-item and per-user statistics.</pre>"
      ],
      "text/plain": [
       "Gathering per-item and per-user statistics."
      ]
     },
     "metadata": {},
     "output_type": "display_data"
    },
    {
     "data": {
      "text/html": [
       "<pre>+--------------------------------+------------+</pre>"
      ],
      "text/plain": [
       "+--------------------------------+------------+"
      ]
     },
     "metadata": {},
     "output_type": "display_data"
    },
    {
     "data": {
      "text/html": [
       "<pre>| Elapsed Time (Item Statistics) | % Complete |</pre>"
      ],
      "text/plain": [
       "| Elapsed Time (Item Statistics) | % Complete |"
      ]
     },
     "metadata": {},
     "output_type": "display_data"
    },
    {
     "data": {
      "text/html": [
       "<pre>+--------------------------------+------------+</pre>"
      ],
      "text/plain": [
       "+--------------------------------+------------+"
      ]
     },
     "metadata": {},
     "output_type": "display_data"
    },
    {
     "data": {
      "text/html": [
       "<pre>| 4.887ms                        | 40         |</pre>"
      ],
      "text/plain": [
       "| 4.887ms                        | 40         |"
      ]
     },
     "metadata": {},
     "output_type": "display_data"
    },
    {
     "data": {
      "text/html": [
       "<pre>| 8.953ms                        | 100        |</pre>"
      ],
      "text/plain": [
       "| 8.953ms                        | 100        |"
      ]
     },
     "metadata": {},
     "output_type": "display_data"
    },
    {
     "data": {
      "text/html": [
       "<pre>+--------------------------------+------------+</pre>"
      ],
      "text/plain": [
       "+--------------------------------+------------+"
      ]
     },
     "metadata": {},
     "output_type": "display_data"
    },
    {
     "data": {
      "text/html": [
       "<pre>Setting up lookup tables.</pre>"
      ],
      "text/plain": [
       "Setting up lookup tables."
      ]
     },
     "metadata": {},
     "output_type": "display_data"
    },
    {
     "data": {
      "text/html": [
       "<pre>Processing data in one pass using dense lookup tables.</pre>"
      ],
      "text/plain": [
       "Processing data in one pass using dense lookup tables."
      ]
     },
     "metadata": {},
     "output_type": "display_data"
    },
    {
     "data": {
      "text/html": [
       "<pre>+-------------------------------------+------------------+-----------------+</pre>"
      ],
      "text/plain": [
       "+-------------------------------------+------------------+-----------------+"
      ]
     },
     "metadata": {},
     "output_type": "display_data"
    },
    {
     "data": {
      "text/html": [
       "<pre>| Elapsed Time (Constructing Lookups) | Total % Complete | Items Processed |</pre>"
      ],
      "text/plain": [
       "| Elapsed Time (Constructing Lookups) | Total % Complete | Items Processed |"
      ]
     },
     "metadata": {},
     "output_type": "display_data"
    },
    {
     "data": {
      "text/html": [
       "<pre>+-------------------------------------+------------------+-----------------+</pre>"
      ],
      "text/plain": [
       "+-------------------------------------+------------------+-----------------+"
      ]
     },
     "metadata": {},
     "output_type": "display_data"
    },
    {
     "data": {
      "text/html": [
       "<pre>| 24.775ms                            | 0                | 1               |</pre>"
      ],
      "text/plain": [
       "| 24.775ms                            | 0                | 1               |"
      ]
     },
     "metadata": {},
     "output_type": "display_data"
    },
    {
     "data": {
      "text/html": [
       "<pre>| 430.508ms                           | 100              | 2318            |</pre>"
      ],
      "text/plain": [
       "| 430.508ms                           | 100              | 2318            |"
      ]
     },
     "metadata": {},
     "output_type": "display_data"
    },
    {
     "data": {
      "text/html": [
       "<pre>+-------------------------------------+------------------+-----------------+</pre>"
      ],
      "text/plain": [
       "+-------------------------------------+------------------+-----------------+"
      ]
     },
     "metadata": {},
     "output_type": "display_data"
    },
    {
     "data": {
      "text/html": [
       "<pre>Finalizing lookup tables.</pre>"
      ],
      "text/plain": [
       "Finalizing lookup tables."
      ]
     },
     "metadata": {},
     "output_type": "display_data"
    },
    {
     "data": {
      "text/html": [
       "<pre>Generating candidate set for working with new users.</pre>"
      ],
      "text/plain": [
       "Generating candidate set for working with new users."
      ]
     },
     "metadata": {},
     "output_type": "display_data"
    },
    {
     "data": {
      "text/html": [
       "<pre>Finished training in 0.464702s</pre>"
      ],
      "text/plain": [
       "Finished training in 0.464702s"
      ]
     },
     "metadata": {},
     "output_type": "display_data"
    },
    {
     "data": {
      "text/html": [
       "<pre>recommendations finished on 1000/2500 queries. users per second: 17110.4</pre>"
      ],
      "text/plain": [
       "recommendations finished on 1000/2500 queries. users per second: 17110.4"
      ]
     },
     "metadata": {},
     "output_type": "display_data"
    },
    {
     "data": {
      "text/html": [
       "<pre>recommendations finished on 2000/2500 queries. users per second: 19308.9</pre>"
      ],
      "text/plain": [
       "recommendations finished on 2000/2500 queries. users per second: 19308.9"
      ]
     },
     "metadata": {},
     "output_type": "display_data"
    },
    {
     "name": "stdout",
     "output_type": "stream",
     "text": [
      "+------------+--------------------------------+---------------------+------+\n",
      "| customerId |           productId            |        score        | rank |\n",
      "+------------+--------------------------------+---------------------+------+\n",
      "|     1      |       ALL FAMILY CEREAL        |  0.4026975781880608 |  1   |\n",
      "|     1      |             PRIMAL             |  0.4000129593435184 |  2   |\n",
      "|     1      |         TOILET TISSUE          |  0.3973616816738779 |  3   |\n",
      "|     1      |      TORTILLA/NACHO CHIPS      |  0.396321201971335  |  4   |\n",
      "|     1      |         PEANUT BUTTER          |  0.3846841560777768 |  5   |\n",
      "|     1      |   MARGARINE: TUBS AND BOWLS    |  0.3752635904522829 |  6   |\n",
      "|     1      | SFT DRNK 2 LITER BTL CARB INCL | 0.37197578438492707 |  7   |\n",
      "|     1      |         EGGS - X-LARGE         |  0.3674825587013895 |  8   |\n",
      "|     1      | CANDY BARS (SINGLES)(INCLUDING |  0.3648358253083488 |  9   |\n",
      "|     1      |     PAPER TOWELS & HOLDERS     | 0.35660117217736653 |  10  |\n",
      "|     2      |            PREMIUM             | 0.43566672801971434 |  1   |\n",
      "|     2      |         CONDENSED SOUP         |  0.4254060111147292 |  2   |\n",
      "|     2      |          EGGS - LARGE          |  0.417662572607081  |  3   |\n",
      "|     2      |      TORTILLA/NACHO CHIPS      |  0.4137559325137037 |  4   |\n",
      "|     2      |          POTATO CHIPS          | 0.40535014233690625 |  5   |\n",
      "|     2      |     FLUID MILK WHITE ONLY      |  0.4042512850558504 |  6   |\n",
      "|     2      | DAIRY CASE 100% PURE JUICE - O | 0.38483091364515587 |  7   |\n",
      "|     2      |         PEANUT BUTTER          |  0.3846668002453256 |  8   |\n",
      "|     2      | CANDY BARS (SINGLES)(INCLUDING |  0.3756902228010462 |  9   |\n",
      "|     2      |         EGGS - X-LARGE         |  0.3646032097491812 |  10  |\n",
      "|     3      |            PREMIUM             | 0.49133771398793097 |  1   |\n",
      "|     3      | SOFT DRINKS 12/18&15PK CAN CAR |  0.4861067833367342 |  2   |\n",
      "|     3      |      TORTILLA/NACHO CHIPS      |  0.4828724683441731 |  3   |\n",
      "|     3      |         CONDENSED SOUP         | 0.48142353385131553 |  4   |\n",
      "|     3      |      SPICES & SEASONINGS       |  0.4800503468661575 |  5   |\n",
      "|     3      |     FLUID MILK WHITE ONLY      | 0.47621412491946485 |  6   |\n",
      "|     3      |          EGGS - LARGE          | 0.47449992014014203 |  7   |\n",
      "|     3      |          SOUR CREAMS           | 0.45033041512744026 |  8   |\n",
      "|     3      | DAIRY CASE 100% PURE JUICE - O |  0.4481915361392572 |  9   |\n",
      "|     3      |          CREAM CHEESE          | 0.43190413343240014 |  10  |\n",
      "+------------+--------------------------------+---------------------+------+\n",
      "[25000 rows x 4 columns]\n",
      "\n"
     ]
    }
   ],
   "source": [
    "name = 'cosine'\n",
    "target = 'purchase_dummy'\n",
    "cos_dummy = model(train_data_dummy, name, user_id, item_id, target, users_to_recommend, n_rec, n_display)"
   ]
  },
  {
   "cell_type": "markdown",
   "metadata": {},
   "source": [
    "#### Using scaled purchase count"
   ]
  },
  {
   "cell_type": "code",
   "execution_count": 59,
   "metadata": {},
   "outputs": [
    {
     "data": {
      "text/html": [
       "<pre>Preparing data set.</pre>"
      ],
      "text/plain": [
       "Preparing data set."
      ]
     },
     "metadata": {},
     "output_type": "display_data"
    },
    {
     "data": {
      "text/html": [
       "<pre>    Data has 485815 observations with 2500 users and 2042 items.</pre>"
      ],
      "text/plain": [
       "    Data has 485815 observations with 2500 users and 2042 items."
      ]
     },
     "metadata": {},
     "output_type": "display_data"
    },
    {
     "data": {
      "text/html": [
       "<pre>    Data prepared in: 0.309784s</pre>"
      ],
      "text/plain": [
       "    Data prepared in: 0.309784s"
      ]
     },
     "metadata": {},
     "output_type": "display_data"
    },
    {
     "data": {
      "text/html": [
       "<pre>Training model from provided data.</pre>"
      ],
      "text/plain": [
       "Training model from provided data."
      ]
     },
     "metadata": {},
     "output_type": "display_data"
    },
    {
     "data": {
      "text/html": [
       "<pre>Gathering per-item and per-user statistics.</pre>"
      ],
      "text/plain": [
       "Gathering per-item and per-user statistics."
      ]
     },
     "metadata": {},
     "output_type": "display_data"
    },
    {
     "data": {
      "text/html": [
       "<pre>+--------------------------------+------------+</pre>"
      ],
      "text/plain": [
       "+--------------------------------+------------+"
      ]
     },
     "metadata": {},
     "output_type": "display_data"
    },
    {
     "data": {
      "text/html": [
       "<pre>| Elapsed Time (Item Statistics) | % Complete |</pre>"
      ],
      "text/plain": [
       "| Elapsed Time (Item Statistics) | % Complete |"
      ]
     },
     "metadata": {},
     "output_type": "display_data"
    },
    {
     "data": {
      "text/html": [
       "<pre>+--------------------------------+------------+</pre>"
      ],
      "text/plain": [
       "+--------------------------------+------------+"
      ]
     },
     "metadata": {},
     "output_type": "display_data"
    },
    {
     "data": {
      "text/html": [
       "<pre>| 6.905ms                        | 40         |</pre>"
      ],
      "text/plain": [
       "| 6.905ms                        | 40         |"
      ]
     },
     "metadata": {},
     "output_type": "display_data"
    },
    {
     "data": {
      "text/html": [
       "<pre>| 12.659ms                       | 100        |</pre>"
      ],
      "text/plain": [
       "| 12.659ms                       | 100        |"
      ]
     },
     "metadata": {},
     "output_type": "display_data"
    },
    {
     "data": {
      "text/html": [
       "<pre>+--------------------------------+------------+</pre>"
      ],
      "text/plain": [
       "+--------------------------------+------------+"
      ]
     },
     "metadata": {},
     "output_type": "display_data"
    },
    {
     "data": {
      "text/html": [
       "<pre>Setting up lookup tables.</pre>"
      ],
      "text/plain": [
       "Setting up lookup tables."
      ]
     },
     "metadata": {},
     "output_type": "display_data"
    },
    {
     "data": {
      "text/html": [
       "<pre>Processing data in one pass using dense lookup tables.</pre>"
      ],
      "text/plain": [
       "Processing data in one pass using dense lookup tables."
      ]
     },
     "metadata": {},
     "output_type": "display_data"
    },
    {
     "data": {
      "text/html": [
       "<pre>+-------------------------------------+------------------+-----------------+</pre>"
      ],
      "text/plain": [
       "+-------------------------------------+------------------+-----------------+"
      ]
     },
     "metadata": {},
     "output_type": "display_data"
    },
    {
     "data": {
      "text/html": [
       "<pre>| Elapsed Time (Constructing Lookups) | Total % Complete | Items Processed |</pre>"
      ],
      "text/plain": [
       "| Elapsed Time (Constructing Lookups) | Total % Complete | Items Processed |"
      ]
     },
     "metadata": {},
     "output_type": "display_data"
    },
    {
     "data": {
      "text/html": [
       "<pre>+-------------------------------------+------------------+-----------------+</pre>"
      ],
      "text/plain": [
       "+-------------------------------------+------------------+-----------------+"
      ]
     },
     "metadata": {},
     "output_type": "display_data"
    },
    {
     "data": {
      "text/html": [
       "<pre>| 22.131ms                            | 0                | 1               |</pre>"
      ],
      "text/plain": [
       "| 22.131ms                            | 0                | 1               |"
      ]
     },
     "metadata": {},
     "output_type": "display_data"
    },
    {
     "data": {
      "text/html": [
       "<pre>| 445.071ms                           | 100              | 2042            |</pre>"
      ],
      "text/plain": [
       "| 445.071ms                           | 100              | 2042            |"
      ]
     },
     "metadata": {},
     "output_type": "display_data"
    },
    {
     "data": {
      "text/html": [
       "<pre>+-------------------------------------+------------------+-----------------+</pre>"
      ],
      "text/plain": [
       "+-------------------------------------+------------------+-----------------+"
      ]
     },
     "metadata": {},
     "output_type": "display_data"
    },
    {
     "data": {
      "text/html": [
       "<pre>Finalizing lookup tables.</pre>"
      ],
      "text/plain": [
       "Finalizing lookup tables."
      ]
     },
     "metadata": {},
     "output_type": "display_data"
    },
    {
     "data": {
      "text/html": [
       "<pre>Generating candidate set for working with new users.</pre>"
      ],
      "text/plain": [
       "Generating candidate set for working with new users."
      ]
     },
     "metadata": {},
     "output_type": "display_data"
    },
    {
     "data": {
      "text/html": [
       "<pre>Finished training in 0.48384s</pre>"
      ],
      "text/plain": [
       "Finished training in 0.48384s"
      ]
     },
     "metadata": {},
     "output_type": "display_data"
    },
    {
     "data": {
      "text/html": [
       "<pre>recommendations finished on 1000/2500 queries. users per second: 14588.5</pre>"
      ],
      "text/plain": [
       "recommendations finished on 1000/2500 queries. users per second: 14588.5"
      ]
     },
     "metadata": {},
     "output_type": "display_data"
    },
    {
     "data": {
      "text/html": [
       "<pre>recommendations finished on 2000/2500 queries. users per second: 15684.7</pre>"
      ],
      "text/plain": [
       "recommendations finished on 2000/2500 queries. users per second: 15684.7"
      ]
     },
     "metadata": {},
     "output_type": "display_data"
    },
    {
     "name": "stdout",
     "output_type": "stream",
     "text": [
      "+------------+--------------------------------+-----------------------+------+\n",
      "| customerId |           productId            |         score         | rank |\n",
      "+------------+--------------------------------+-----------------------+------+\n",
      "|     1      |       ALL FAMILY CEREAL        |  0.01328815338088245  |  1   |\n",
      "|     1      |      TORTILLA/NACHO CHIPS      |  0.011770867962178177 |  2   |\n",
      "|     1      |          EGGS - LARGE          |  0.011744011708391391 |  3   |\n",
      "|     1      |   POTATOES RUSSET (BULK&BAG)   |  0.011592877589590182 |  4   |\n",
      "|     1      |          SOUR CREAMS           |  0.011457141821946555 |  5   |\n",
      "|     1      |             PRIMAL             |  0.01074170654382163  |  6   |\n",
      "|     1      | CHEESE CRACKERS (CHEEZ-ITS/GOL |  0.008980888661330308 |  7   |\n",
      "|     1      |         CARDS EVERYDAY         |  0.008696002931129642 |  8   |\n",
      "|     1      |          STRAWBERRIES          |  0.008566525408892127 |  9   |\n",
      "|     1      |     PAPER TOWELS & HOLDERS     |  0.008030171559108951 |  10  |\n",
      "|     2      |     FLUID MILK WHITE ONLY      | 0.0045652086696317115 |  1   |\n",
      "|     2      |         TOILET TISSUE          |  0.003904202292042394 |  2   |\n",
      "|     2      |         CONDENSED SOUP         |  0.003860408259976295 |  3   |\n",
      "|     2      |      SPICES & SEASONINGS       | 0.0037190008067315623 |  4   |\n",
      "|     2      |       ALL FAMILY CEREAL        |  0.003146950756349871 |  5   |\n",
      "|     2      |     MACARONI & CHEESE DNRS     | 0.0029693087262492026 |  6   |\n",
      "|     2      |          KIDS CEREAL           |  0.002944981619235008 |  7   |\n",
      "|     2      |           TOOTHPASTE           |  0.002881796850312141 |  8   |\n",
      "|     2      |       MOLASSES & SYRUPS        | 0.0024426702049470716 |  9   |\n",
      "|     2      |       SNACKS/APPETIZERS        | 0.0023978208341906147 |  10  |\n",
      "|     3      |      TORTILLA/NACHO CHIPS      |  0.012860125122648298 |  1   |\n",
      "|     3      |          KIDS CEREAL           |  0.012234359799009381 |  2   |\n",
      "|     3      | SEMI-SOLID SALAD DRESSING MAY  |  0.011875077811154452 |  3   |\n",
      "|     3      |             PRIMAL             |  0.011798228639544862 |  4   |\n",
      "|     3      |           MAINSTREAM           |  0.011100942077058733 |  5   |\n",
      "|     3      |          SOUR CREAMS           |  0.010187955697377522 |  6   |\n",
      "|     3      |              LEAN              |  0.010126651417125355 |  7   |\n",
      "|     3      |            ENHANCED            |  0.01012023217750318  |  8   |\n",
      "|     3      |              CORN              |   0.009248635263154   |  9   |\n",
      "|     3      |          EGGS - LARGE          |  0.00910441947705818  |  10  |\n",
      "+------------+--------------------------------+-----------------------+------+\n",
      "[25000 rows x 4 columns]\n",
      "\n"
     ]
    }
   ],
   "source": [
    "name = 'cosine' \n",
    "target = 'scaled_purchase_freq' \n",
    "cos_norm = model(train_data_norm, name, user_id, item_id, target, users_to_recommend, n_rec, n_display)"
   ]
  },
  {
   "cell_type": "markdown",
   "metadata": {},
   "source": [
    "### Pearson"
   ]
  },
  {
   "cell_type": "markdown",
   "metadata": {},
   "source": [
    "#### Using purchase count"
   ]
  },
  {
   "cell_type": "code",
   "execution_count": 62,
   "metadata": {},
   "outputs": [
    {
     "data": {
      "text/html": [
       "<pre>Preparing data set.</pre>"
      ],
      "text/plain": [
       "Preparing data set."
      ]
     },
     "metadata": {},
     "output_type": "display_data"
    },
    {
     "data": {
      "text/html": [
       "<pre>    Data has 486641 observations with 2500 users and 2337 items.</pre>"
      ],
      "text/plain": [
       "    Data has 486641 observations with 2500 users and 2337 items."
      ]
     },
     "metadata": {},
     "output_type": "display_data"
    },
    {
     "data": {
      "text/html": [
       "<pre>    Data prepared in: 0.31972s</pre>"
      ],
      "text/plain": [
       "    Data prepared in: 0.31972s"
      ]
     },
     "metadata": {},
     "output_type": "display_data"
    },
    {
     "data": {
      "text/html": [
       "<pre>Training model from provided data.</pre>"
      ],
      "text/plain": [
       "Training model from provided data."
      ]
     },
     "metadata": {},
     "output_type": "display_data"
    },
    {
     "data": {
      "text/html": [
       "<pre>Gathering per-item and per-user statistics.</pre>"
      ],
      "text/plain": [
       "Gathering per-item and per-user statistics."
      ]
     },
     "metadata": {},
     "output_type": "display_data"
    },
    {
     "data": {
      "text/html": [
       "<pre>+--------------------------------+------------+</pre>"
      ],
      "text/plain": [
       "+--------------------------------+------------+"
      ]
     },
     "metadata": {},
     "output_type": "display_data"
    },
    {
     "data": {
      "text/html": [
       "<pre>| Elapsed Time (Item Statistics) | % Complete |</pre>"
      ],
      "text/plain": [
       "| Elapsed Time (Item Statistics) | % Complete |"
      ]
     },
     "metadata": {},
     "output_type": "display_data"
    },
    {
     "data": {
      "text/html": [
       "<pre>+--------------------------------+------------+</pre>"
      ],
      "text/plain": [
       "+--------------------------------+------------+"
      ]
     },
     "metadata": {},
     "output_type": "display_data"
    },
    {
     "data": {
      "text/html": [
       "<pre>| 20.562ms                       | 40         |</pre>"
      ],
      "text/plain": [
       "| 20.562ms                       | 40         |"
      ]
     },
     "metadata": {},
     "output_type": "display_data"
    },
    {
     "data": {
      "text/html": [
       "<pre>| 34.152ms                       | 100        |</pre>"
      ],
      "text/plain": [
       "| 34.152ms                       | 100        |"
      ]
     },
     "metadata": {},
     "output_type": "display_data"
    },
    {
     "data": {
      "text/html": [
       "<pre>+--------------------------------+------------+</pre>"
      ],
      "text/plain": [
       "+--------------------------------+------------+"
      ]
     },
     "metadata": {},
     "output_type": "display_data"
    },
    {
     "data": {
      "text/html": [
       "<pre>Setting up lookup tables.</pre>"
      ],
      "text/plain": [
       "Setting up lookup tables."
      ]
     },
     "metadata": {},
     "output_type": "display_data"
    },
    {
     "data": {
      "text/html": [
       "<pre>Processing data in one pass using dense lookup tables.</pre>"
      ],
      "text/plain": [
       "Processing data in one pass using dense lookup tables."
      ]
     },
     "metadata": {},
     "output_type": "display_data"
    },
    {
     "data": {
      "text/html": [
       "<pre>+-------------------------------------+------------------+-----------------+</pre>"
      ],
      "text/plain": [
       "+-------------------------------------+------------------+-----------------+"
      ]
     },
     "metadata": {},
     "output_type": "display_data"
    },
    {
     "data": {
      "text/html": [
       "<pre>| Elapsed Time (Constructing Lookups) | Total % Complete | Items Processed |</pre>"
      ],
      "text/plain": [
       "| Elapsed Time (Constructing Lookups) | Total % Complete | Items Processed |"
      ]
     },
     "metadata": {},
     "output_type": "display_data"
    },
    {
     "data": {
      "text/html": [
       "<pre>+-------------------------------------+------------------+-----------------+</pre>"
      ],
      "text/plain": [
       "+-------------------------------------+------------------+-----------------+"
      ]
     },
     "metadata": {},
     "output_type": "display_data"
    },
    {
     "data": {
      "text/html": [
       "<pre>| 39.791ms                            | 0                | 0               |</pre>"
      ],
      "text/plain": [
       "| 39.791ms                            | 0                | 0               |"
      ]
     },
     "metadata": {},
     "output_type": "display_data"
    },
    {
     "data": {
      "text/html": [
       "<pre>| 1.73s                               | 100              | 2337            |</pre>"
      ],
      "text/plain": [
       "| 1.73s                               | 100              | 2337            |"
      ]
     },
     "metadata": {},
     "output_type": "display_data"
    },
    {
     "data": {
      "text/html": [
       "<pre>+-------------------------------------+------------------+-----------------+</pre>"
      ],
      "text/plain": [
       "+-------------------------------------+------------------+-----------------+"
      ]
     },
     "metadata": {},
     "output_type": "display_data"
    },
    {
     "data": {
      "text/html": [
       "<pre>Finalizing lookup tables.</pre>"
      ],
      "text/plain": [
       "Finalizing lookup tables."
      ]
     },
     "metadata": {},
     "output_type": "display_data"
    },
    {
     "data": {
      "text/html": [
       "<pre>Generating candidate set for working with new users.</pre>"
      ],
      "text/plain": [
       "Generating candidate set for working with new users."
      ]
     },
     "metadata": {},
     "output_type": "display_data"
    },
    {
     "data": {
      "text/html": [
       "<pre>Finished training in 1.77216s</pre>"
      ],
      "text/plain": [
       "Finished training in 1.77216s"
      ]
     },
     "metadata": {},
     "output_type": "display_data"
    },
    {
     "data": {
      "text/html": [
       "<pre>recommendations finished on 1000/2500 queries. users per second: 12623.4</pre>"
      ],
      "text/plain": [
       "recommendations finished on 1000/2500 queries. users per second: 12623.4"
      ]
     },
     "metadata": {},
     "output_type": "display_data"
    },
    {
     "data": {
      "text/html": [
       "<pre>recommendations finished on 2000/2500 queries. users per second: 13906.8</pre>"
      ],
      "text/plain": [
       "recommendations finished on 2000/2500 queries. users per second: 13906.8"
      ]
     },
     "metadata": {},
     "output_type": "display_data"
    },
    {
     "name": "stdout",
     "output_type": "stream",
     "text": [
      "+------------+--------------------------------+--------------------+------+\n",
      "| customerId |           productId            |       score        | rank |\n",
      "+------------+--------------------------------+--------------------+------+\n",
      "|     1      | CANNED CAT FOOD (9 LIVES/FRISK | 52.817766933142295 |  1   |\n",
      "|     1      |      BABY FOOD - BEGINNER      | 43.199588168632275 |  2   |\n",
      "|     1      |     YOGURT NOT MULTI-PACKS     | 43.127979110880794 |  3   |\n",
      "|     1      | CAN CATFD GOURMET/SUP PREM (GR | 38.57894915898671  |  4   |\n",
      "|     1      | CAN DOG FOOD (SKIPPY/PEDIGREE/ | 35.24202177826183  |  5   |\n",
      "|     1      |           BABY FOOD            | 30.119067123730773 |  6   |\n",
      "|     1      | CAN DOGFD GOURMET/SUPER PREM ( | 29.286122514900494 |  7   |\n",
      "|     1      | SFT DRNK 2 LITER BTL CARB INCL | 27.81336656576736  |  8   |\n",
      "|     1      |   SOFT DRINK POWDER POUCHES    | 25.37379352140256  |  9   |\n",
      "|     1      | CANDY BARS (SINGLES)(INCLUDING | 24.543146838121725 |  10  |\n",
      "|     2      | CANNED CAT FOOD (9 LIVES/FRISK | 52.805043459622695 |  1   |\n",
      "|     2      | CAN CATFD GOURMET/SUP PREM (GR | 38.58065129870881  |  2   |\n",
      "|     2      | CAN DOG FOOD (SKIPPY/PEDIGREE/ | 35.24385909401732  |  3   |\n",
      "|     2      |           BABY FOOD            | 30.10625908621887  |  4   |\n",
      "|     2      | CAN DOGFD GOURMET/SUPER PREM ( | 29.280295454578493 |  5   |\n",
      "|     2      | CANDY BARS (SINGLES)(INCLUDING | 24.46872201826792  |  6   |\n",
      "|     2      | SS ECONOMY ENTREES/DINNERS ALL | 24.15397898709542  |  7   |\n",
      "|     2      |  BABY FOOD JUNIOR ALL BRANDS   | 24.124485675533933 |  8   |\n",
      "|     2      | HISPANIC JUICE UNDER 50% JUICE | 24.06906522886282  |  9   |\n",
      "|     2      | HISPANIC CARBONATED BEVERAGES  | 22.690445846952805 |  10  |\n",
      "|     3      |      BABY FOOD - BEGINNER      | 43.19253611321568  |  1   |\n",
      "|     3      |     YOGURT NOT MULTI-PACKS     | 43.03559575159595  |  2   |\n",
      "|     3      | CAN CATFD GOURMET/SUP PREM (GR | 38.57548447380967  |  3   |\n",
      "|     3      | CAN DOG FOOD (SKIPPY/PEDIGREE/ | 35.24257372140688  |  4   |\n",
      "|     3      |           BABY FOOD            |  30.1200775939443  |  5   |\n",
      "|     3      | CAN DOGFD GOURMET/SUPER PREM ( | 29.28533585992623  |  6   |\n",
      "|     3      |   SOFT DRINK POWDER POUCHES    | 25.397464194933807 |  7   |\n",
      "|     3      |  BABY FOOD JUNIOR ALL BRANDS   | 24.173715888065388 |  8   |\n",
      "|     3      | HISPANIC JUICE UNDER 50% JUICE | 24.14741034955874  |  9   |\n",
      "|     3      | HISPANIC CARBONATED BEVERAGES  | 22.77058270260344  |  10  |\n",
      "+------------+--------------------------------+--------------------+------+\n",
      "[25000 rows x 4 columns]\n",
      "\n"
     ]
    }
   ],
   "source": [
    "name = 'pearson'\n",
    "target = 'purchase_count'\n",
    "pear = model(train_data, name, user_id, item_id, target, users_to_recommend, n_rec, n_display)"
   ]
  },
  {
   "cell_type": "markdown",
   "metadata": {},
   "source": [
    "#### Using purchase dummy"
   ]
  },
  {
   "cell_type": "code",
   "execution_count": 63,
   "metadata": {},
   "outputs": [
    {
     "data": {
      "text/html": [
       "<pre>Warning: Ignoring columns purchase_count;</pre>"
      ],
      "text/plain": [
       "Warning: Ignoring columns purchase_count;"
      ]
     },
     "metadata": {},
     "output_type": "display_data"
    },
    {
     "data": {
      "text/html": [
       "<pre>    To use these columns in scoring predictions, use a model that allows the use of additional features.</pre>"
      ],
      "text/plain": [
       "    To use these columns in scoring predictions, use a model that allows the use of additional features."
      ]
     },
     "metadata": {},
     "output_type": "display_data"
    },
    {
     "data": {
      "text/html": [
       "<pre>Preparing data set.</pre>"
      ],
      "text/plain": [
       "Preparing data set."
      ]
     },
     "metadata": {},
     "output_type": "display_data"
    },
    {
     "data": {
      "text/html": [
       "<pre>    Data has 486641 observations with 2500 users and 2318 items.</pre>"
      ],
      "text/plain": [
       "    Data has 486641 observations with 2500 users and 2318 items."
      ]
     },
     "metadata": {},
     "output_type": "display_data"
    },
    {
     "data": {
      "text/html": [
       "<pre>    Data prepared in: 0.272778s</pre>"
      ],
      "text/plain": [
       "    Data prepared in: 0.272778s"
      ]
     },
     "metadata": {},
     "output_type": "display_data"
    },
    {
     "data": {
      "text/html": [
       "<pre>Training model from provided data.</pre>"
      ],
      "text/plain": [
       "Training model from provided data."
      ]
     },
     "metadata": {},
     "output_type": "display_data"
    },
    {
     "data": {
      "text/html": [
       "<pre>Gathering per-item and per-user statistics.</pre>"
      ],
      "text/plain": [
       "Gathering per-item and per-user statistics."
      ]
     },
     "metadata": {},
     "output_type": "display_data"
    },
    {
     "data": {
      "text/html": [
       "<pre>+--------------------------------+------------+</pre>"
      ],
      "text/plain": [
       "+--------------------------------+------------+"
      ]
     },
     "metadata": {},
     "output_type": "display_data"
    },
    {
     "data": {
      "text/html": [
       "<pre>| Elapsed Time (Item Statistics) | % Complete |</pre>"
      ],
      "text/plain": [
       "| Elapsed Time (Item Statistics) | % Complete |"
      ]
     },
     "metadata": {},
     "output_type": "display_data"
    },
    {
     "data": {
      "text/html": [
       "<pre>+--------------------------------+------------+</pre>"
      ],
      "text/plain": [
       "+--------------------------------+------------+"
      ]
     },
     "metadata": {},
     "output_type": "display_data"
    },
    {
     "data": {
      "text/html": [
       "<pre>| 7.384ms                        | 40         |</pre>"
      ],
      "text/plain": [
       "| 7.384ms                        | 40         |"
      ]
     },
     "metadata": {},
     "output_type": "display_data"
    },
    {
     "data": {
      "text/html": [
       "<pre>| 15.712ms                       | 100        |</pre>"
      ],
      "text/plain": [
       "| 15.712ms                       | 100        |"
      ]
     },
     "metadata": {},
     "output_type": "display_data"
    },
    {
     "data": {
      "text/html": [
       "<pre>+--------------------------------+------------+</pre>"
      ],
      "text/plain": [
       "+--------------------------------+------------+"
      ]
     },
     "metadata": {},
     "output_type": "display_data"
    },
    {
     "data": {
      "text/html": [
       "<pre>Setting up lookup tables.</pre>"
      ],
      "text/plain": [
       "Setting up lookup tables."
      ]
     },
     "metadata": {},
     "output_type": "display_data"
    },
    {
     "data": {
      "text/html": [
       "<pre>Processing data in one pass using dense lookup tables.</pre>"
      ],
      "text/plain": [
       "Processing data in one pass using dense lookup tables."
      ]
     },
     "metadata": {},
     "output_type": "display_data"
    },
    {
     "data": {
      "text/html": [
       "<pre>+-------------------------------------+------------------+-----------------+</pre>"
      ],
      "text/plain": [
       "+-------------------------------------+------------------+-----------------+"
      ]
     },
     "metadata": {},
     "output_type": "display_data"
    },
    {
     "data": {
      "text/html": [
       "<pre>| Elapsed Time (Constructing Lookups) | Total % Complete | Items Processed |</pre>"
      ],
      "text/plain": [
       "| Elapsed Time (Constructing Lookups) | Total % Complete | Items Processed |"
      ]
     },
     "metadata": {},
     "output_type": "display_data"
    },
    {
     "data": {
      "text/html": [
       "<pre>+-------------------------------------+------------------+-----------------+</pre>"
      ],
      "text/plain": [
       "+-------------------------------------+------------------+-----------------+"
      ]
     },
     "metadata": {},
     "output_type": "display_data"
    },
    {
     "data": {
      "text/html": [
       "<pre>| 18.932ms                            | 0                | 1               |</pre>"
      ],
      "text/plain": [
       "| 18.932ms                            | 0                | 1               |"
      ]
     },
     "metadata": {},
     "output_type": "display_data"
    },
    {
     "data": {
      "text/html": [
       "<pre>| 1.65s                               | 100              | 2318            |</pre>"
      ],
      "text/plain": [
       "| 1.65s                               | 100              | 2318            |"
      ]
     },
     "metadata": {},
     "output_type": "display_data"
    },
    {
     "data": {
      "text/html": [
       "<pre>+-------------------------------------+------------------+-----------------+</pre>"
      ],
      "text/plain": [
       "+-------------------------------------+------------------+-----------------+"
      ]
     },
     "metadata": {},
     "output_type": "display_data"
    },
    {
     "data": {
      "text/html": [
       "<pre>Finalizing lookup tables.</pre>"
      ],
      "text/plain": [
       "Finalizing lookup tables."
      ]
     },
     "metadata": {},
     "output_type": "display_data"
    },
    {
     "data": {
      "text/html": [
       "<pre>Generating candidate set for working with new users.</pre>"
      ],
      "text/plain": [
       "Generating candidate set for working with new users."
      ]
     },
     "metadata": {},
     "output_type": "display_data"
    },
    {
     "data": {
      "text/html": [
       "<pre>Finished training in 1.68115s</pre>"
      ],
      "text/plain": [
       "Finished training in 1.68115s"
      ]
     },
     "metadata": {},
     "output_type": "display_data"
    },
    {
     "data": {
      "text/html": [
       "<pre>recommendations finished on 1000/2500 queries. users per second: 48645.2</pre>"
      ],
      "text/plain": [
       "recommendations finished on 1000/2500 queries. users per second: 48645.2"
      ]
     },
     "metadata": {},
     "output_type": "display_data"
    },
    {
     "data": {
      "text/html": [
       "<pre>recommendations finished on 2000/2500 queries. users per second: 46109.5</pre>"
      ],
      "text/plain": [
       "recommendations finished on 2000/2500 queries. users per second: 46109.5"
      ]
     },
     "metadata": {},
     "output_type": "display_data"
    },
    {
     "name": "stdout",
     "output_type": "stream",
     "text": [
      "+------------+--------------------------------+-------+------+\n",
      "| customerId |           productId            | score | rank |\n",
      "+------------+--------------------------------+-------+------+\n",
      "|     1      | SFT DRNK SNGL SRV BTL CARB (EX |  0.0  |  1   |\n",
      "|     1      | APPLE JUICE & CIDER (OVER 50%  |  0.0  |  2   |\n",
      "|     1      |       YOGURT MULTI-PACKS       |  0.0  |  3   |\n",
      "|     1      |      DELI TRAY:SANDWICHES      |  0.0  |  4   |\n",
      "|     1      |          WINGS (IQF)           |  0.0  |  5   |\n",
      "|     1      |      SAL:SALSA/DPS-PRPCK       |  0.0  |  6   |\n",
      "|     1      |         PEANUT BUTTER          |  0.0  |  7   |\n",
      "|     1      |          DIECAST MINI          |  0.0  |  8   |\n",
      "|     1      |             BEANS              |  0.0  |  9   |\n",
      "|     1      |              MUMS              |  0.0  |  10  |\n",
      "|     2      |             BUTTER             |  0.0  |  1   |\n",
      "|     2      |       YOGURT MULTI-PACKS       |  0.0  |  2   |\n",
      "|     2      |      DELI TRAY:SANDWICHES      |  0.0  |  3   |\n",
      "|     2      |          WINGS (IQF)           |  0.0  |  4   |\n",
      "|     2      |          HEAD LETTUCE          |  0.0  |  5   |\n",
      "|     2      |      SAL:SALSA/DPS-PRPCK       |  0.0  |  6   |\n",
      "|     2      |         PEANUT BUTTER          |  0.0  |  7   |\n",
      "|     2      |          DIECAST MINI          |  0.0  |  8   |\n",
      "|     2      |             BEANS              |  0.0  |  9   |\n",
      "|     2      |              MUMS              |  0.0  |  10  |\n",
      "|     3      |  TABLE SALT POPCORN SALTICE C  |  0.0  |  1   |\n",
      "|     3      |    SW GDS: SWT/FLVRD LOAVES    |  0.0  |  2   |\n",
      "|     3      |            DRY SOUP            |  0.0  |  3   |\n",
      "|     3      |             HONEY              |  0.0  |  4   |\n",
      "|     3      |             BUTTER             |  0.0  |  5   |\n",
      "|     3      |      DELI TRAY:SANDWICHES      |  0.0  |  6   |\n",
      "|     3      |          WINGS (IQF)           |  0.0  |  7   |\n",
      "|     3      |      SAL:SALSA/DPS-PRPCK       |  0.0  |  8   |\n",
      "|     3      |             BEANS              |  0.0  |  9   |\n",
      "|     3      |              MUMS              |  0.0  |  10  |\n",
      "+------------+--------------------------------+-------+------+\n",
      "[25000 rows x 4 columns]\n",
      "\n"
     ]
    }
   ],
   "source": [
    "name = 'pearson'\n",
    "target = 'purchase_dummy'\n",
    "pear_dummy = model(train_data_dummy, name, user_id, item_id, target, users_to_recommend, n_rec, n_display)"
   ]
  },
  {
   "cell_type": "markdown",
   "metadata": {},
   "source": [
    "#### Using scaled purchase count"
   ]
  },
  {
   "cell_type": "code",
   "execution_count": 64,
   "metadata": {},
   "outputs": [
    {
     "data": {
      "text/html": [
       "<pre>Preparing data set.</pre>"
      ],
      "text/plain": [
       "Preparing data set."
      ]
     },
     "metadata": {},
     "output_type": "display_data"
    },
    {
     "data": {
      "text/html": [
       "<pre>    Data has 485815 observations with 2500 users and 2042 items.</pre>"
      ],
      "text/plain": [
       "    Data has 485815 observations with 2500 users and 2042 items."
      ]
     },
     "metadata": {},
     "output_type": "display_data"
    },
    {
     "data": {
      "text/html": [
       "<pre>    Data prepared in: 0.308732s</pre>"
      ],
      "text/plain": [
       "    Data prepared in: 0.308732s"
      ]
     },
     "metadata": {},
     "output_type": "display_data"
    },
    {
     "data": {
      "text/html": [
       "<pre>Training model from provided data.</pre>"
      ],
      "text/plain": [
       "Training model from provided data."
      ]
     },
     "metadata": {},
     "output_type": "display_data"
    },
    {
     "data": {
      "text/html": [
       "<pre>Gathering per-item and per-user statistics.</pre>"
      ],
      "text/plain": [
       "Gathering per-item and per-user statistics."
      ]
     },
     "metadata": {},
     "output_type": "display_data"
    },
    {
     "data": {
      "text/html": [
       "<pre>+--------------------------------+------------+</pre>"
      ],
      "text/plain": [
       "+--------------------------------+------------+"
      ]
     },
     "metadata": {},
     "output_type": "display_data"
    },
    {
     "data": {
      "text/html": [
       "<pre>| Elapsed Time (Item Statistics) | % Complete |</pre>"
      ],
      "text/plain": [
       "| Elapsed Time (Item Statistics) | % Complete |"
      ]
     },
     "metadata": {},
     "output_type": "display_data"
    },
    {
     "data": {
      "text/html": [
       "<pre>+--------------------------------+------------+</pre>"
      ],
      "text/plain": [
       "+--------------------------------+------------+"
      ]
     },
     "metadata": {},
     "output_type": "display_data"
    },
    {
     "data": {
      "text/html": [
       "<pre>| 16.795ms                       | 40         |</pre>"
      ],
      "text/plain": [
       "| 16.795ms                       | 40         |"
      ]
     },
     "metadata": {},
     "output_type": "display_data"
    },
    {
     "data": {
      "text/html": [
       "<pre>| 29.785ms                       | 100        |</pre>"
      ],
      "text/plain": [
       "| 29.785ms                       | 100        |"
      ]
     },
     "metadata": {},
     "output_type": "display_data"
    },
    {
     "data": {
      "text/html": [
       "<pre>+--------------------------------+------------+</pre>"
      ],
      "text/plain": [
       "+--------------------------------+------------+"
      ]
     },
     "metadata": {},
     "output_type": "display_data"
    },
    {
     "data": {
      "text/html": [
       "<pre>Setting up lookup tables.</pre>"
      ],
      "text/plain": [
       "Setting up lookup tables."
      ]
     },
     "metadata": {},
     "output_type": "display_data"
    },
    {
     "data": {
      "text/html": [
       "<pre>Processing data in one pass using dense lookup tables.</pre>"
      ],
      "text/plain": [
       "Processing data in one pass using dense lookup tables."
      ]
     },
     "metadata": {},
     "output_type": "display_data"
    },
    {
     "data": {
      "text/html": [
       "<pre>+-------------------------------------+------------------+-----------------+</pre>"
      ],
      "text/plain": [
       "+-------------------------------------+------------------+-----------------+"
      ]
     },
     "metadata": {},
     "output_type": "display_data"
    },
    {
     "data": {
      "text/html": [
       "<pre>| Elapsed Time (Constructing Lookups) | Total % Complete | Items Processed |</pre>"
      ],
      "text/plain": [
       "| Elapsed Time (Constructing Lookups) | Total % Complete | Items Processed |"
      ]
     },
     "metadata": {},
     "output_type": "display_data"
    },
    {
     "data": {
      "text/html": [
       "<pre>+-------------------------------------+------------------+-----------------+</pre>"
      ],
      "text/plain": [
       "+-------------------------------------+------------------+-----------------+"
      ]
     },
     "metadata": {},
     "output_type": "display_data"
    },
    {
     "data": {
      "text/html": [
       "<pre>| 32.487ms                            | 0                | 1               |</pre>"
      ],
      "text/plain": [
       "| 32.487ms                            | 0                | 1               |"
      ]
     },
     "metadata": {},
     "output_type": "display_data"
    },
    {
     "data": {
      "text/html": [
       "<pre>| 1.67s                               | 100              | 2042            |</pre>"
      ],
      "text/plain": [
       "| 1.67s                               | 100              | 2042            |"
      ]
     },
     "metadata": {},
     "output_type": "display_data"
    },
    {
     "data": {
      "text/html": [
       "<pre>+-------------------------------------+------------------+-----------------+</pre>"
      ],
      "text/plain": [
       "+-------------------------------------+------------------+-----------------+"
      ]
     },
     "metadata": {},
     "output_type": "display_data"
    },
    {
     "data": {
      "text/html": [
       "<pre>Finalizing lookup tables.</pre>"
      ],
      "text/plain": [
       "Finalizing lookup tables."
      ]
     },
     "metadata": {},
     "output_type": "display_data"
    },
    {
     "data": {
      "text/html": [
       "<pre>Generating candidate set for working with new users.</pre>"
      ],
      "text/plain": [
       "Generating candidate set for working with new users."
      ]
     },
     "metadata": {},
     "output_type": "display_data"
    },
    {
     "data": {
      "text/html": [
       "<pre>Finished training in 1.71491s</pre>"
      ],
      "text/plain": [
       "Finished training in 1.71491s"
      ]
     },
     "metadata": {},
     "output_type": "display_data"
    },
    {
     "data": {
      "text/html": [
       "<pre>recommendations finished on 1000/2500 queries. users per second: 11701.9</pre>"
      ],
      "text/plain": [
       "recommendations finished on 1000/2500 queries. users per second: 11701.9"
      ]
     },
     "metadata": {},
     "output_type": "display_data"
    },
    {
     "data": {
      "text/html": [
       "<pre>recommendations finished on 2000/2500 queries. users per second: 11767.5</pre>"
      ],
      "text/plain": [
       "recommendations finished on 2000/2500 queries. users per second: 11767.5"
      ]
     },
     "metadata": {},
     "output_type": "display_data"
    },
    {
     "name": "stdout",
     "output_type": "stream",
     "text": [
      "+------------+--------------------------------+--------------------+------+\n",
      "| customerId |           productId            |       score        | rank |\n",
      "+------------+--------------------------------+--------------------+------+\n",
      "|     1      | TEA (CANNED/BOTTLED) W/SWEETEN |        1.0         |  1   |\n",
      "|     1      |  FOLIAGE PLANTS (5IN & DOWN)   |        1.0         |  2   |\n",
      "|     1      |         POLY SHEETING          |        1.0         |  3   |\n",
      "|     1      |        PATIO FURNITURE         |        1.0         |  4   |\n",
      "|     1      |      HARD GOODS ALL OTHER      |        1.0         |  5   |\n",
      "|     1      |         TASK LIGHTING          |        1.0         |  6   |\n",
      "|     1      |     TRUESCENTS/BAIN DELUXE     | 0.6667159870872652 |  7   |\n",
      "|     1      |          VITAMIN MISC          | 0.6666666666666666 |  8   |\n",
      "|     1      | HALLOWEEN COSTUMES/MASKS/ACCES | 0.666656546718706  |  9   |\n",
      "|     1      |     DECORATOR ACCESSORIES      | 0.6665965892919681 |  10  |\n",
      "|     2      | TEA (CANNED/BOTTLED) W/SWEETEN |        1.0         |  1   |\n",
      "|     2      |  FOLIAGE PLANTS (5IN & DOWN)   |        1.0         |  2   |\n",
      "|     2      |         POLY SHEETING          |        1.0         |  3   |\n",
      "|     2      |        PATIO FURNITURE         |        1.0         |  4   |\n",
      "|     2      |      HARD GOODS ALL OTHER      |        1.0         |  5   |\n",
      "|     2      |         TASK LIGHTING          |        1.0         |  6   |\n",
      "|     2      | HALLOWEEN COSTUMES/MASKS/ACCES | 0.6666666666666667 |  7   |\n",
      "|     2      |     DECORATOR ACCESSORIES      | 0.6666622737082103 |  8   |\n",
      "|     2      |          VITAMIN MISC          | 0.6666612183695197 |  9   |\n",
      "|     2      |             BAKING             | 0.6666295339343368 |  10  |\n",
      "|     3      | TEA (CANNED/BOTTLED) W/SWEETEN |        1.0         |  1   |\n",
      "|     3      |  FOLIAGE PLANTS (5IN & DOWN)   |        1.0         |  2   |\n",
      "|     3      |         POLY SHEETING          |        1.0         |  3   |\n",
      "|     3      |        PATIO FURNITURE         |        1.0         |  4   |\n",
      "|     3      |      HARD GOODS ALL OTHER      |        1.0         |  5   |\n",
      "|     3      |         TASK LIGHTING          |        1.0         |  6   |\n",
      "|     3      | HALLOWEEN COSTUMES/MASKS/ACCES | 0.6666803641752764 |  7   |\n",
      "|     3      |     DECORATOR ACCESSORIES      | 0.6666666666666667 |  8   |\n",
      "|     3      |          VITAMIN MISC          | 0.6666666666666666 |  9   |\n",
      "|     3      |     TRUESCENTS/BAIN DELUXE     | 0.6666666666666666 |  10  |\n",
      "+------------+--------------------------------+--------------------+------+\n",
      "[25000 rows x 4 columns]\n",
      "\n"
     ]
    }
   ],
   "source": [
    "name = 'pearson'\n",
    "target = 'scaled_purchase_freq'\n",
    "pear_norm = model(train_data_norm, name, user_id, item_id, target, users_to_recommend, n_rec, n_display)"
   ]
  },
  {
   "cell_type": "markdown",
   "metadata": {},
   "source": [
    "### Model Evaluation"
   ]
  },
  {
   "cell_type": "code",
   "execution_count": 85,
   "metadata": {},
   "outputs": [],
   "source": [
    "models_w_counts = [popularity, cos, pear]\n",
    "models_w_dummy = [pop_dummy, cos_dummy, pear_dummy]\n",
    "models_w_norm = [pop_norm, cos_norm, pear_norm]\n",
    "names_w_counts = ['Popularity Model on Purchase Counts', 'Cosine Similarity on Purchase Counts', 'Pearson Similarity on Purchase Counts']\n",
    "names_w_dummy = ['Popularity Model on Purchase Dummy', 'Cosine Similarity on Purchase Dummy', 'Pearson Similarity on Purchase Dummy']\n",
    "names_w_norm = ['Popularity Model on Scaled Purchase Counts', 'Cosine Similarity on Scaled Purchase Counts', 'Pearson Similarity on Scaled Purchase Counts']"
   ]
  },
  {
   "cell_type": "code",
   "execution_count": 86,
   "metadata": {},
   "outputs": [
    {
     "name": "stdout",
     "output_type": "stream",
     "text": [
      "PROGRESS: Evaluate model Popularity Model on Purchase Counts\n"
     ]
    },
    {
     "data": {
      "text/html": [
       "<pre>recommendations finished on 1000/2495 queries. users per second: 67727.7</pre>"
      ],
      "text/plain": [
       "recommendations finished on 1000/2495 queries. users per second: 67727.7"
      ]
     },
     "metadata": {},
     "output_type": "display_data"
    },
    {
     "data": {
      "text/html": [
       "<pre>recommendations finished on 2000/2495 queries. users per second: 62163.9</pre>"
      ],
      "text/plain": [
       "recommendations finished on 2000/2495 queries. users per second: 62163.9"
      ]
     },
     "metadata": {},
     "output_type": "display_data"
    },
    {
     "name": "stdout",
     "output_type": "stream",
     "text": [
      "\n",
      "Precision and recall summary statistics by cutoff\n",
      "+--------+----------------------+-----------------------+\n",
      "| cutoff |    mean_precision    |      mean_recall      |\n",
      "+--------+----------------------+-----------------------+\n",
      "|   1    | 0.027254509018036072 | 0.0004891859504976197 |\n",
      "|   2    | 0.04849699398797596  |  0.001924333037205202 |\n",
      "|   3    |  0.0753507014028056  |  0.004899318797957038 |\n",
      "|   4    | 0.08276553106212425  | 0.0076012345693128635 |\n",
      "|   5    | 0.08697394789579156  |  0.011216196184111002 |\n",
      "|   6    | 0.08623914495657985  |  0.012533387670661022 |\n",
      "|   7    | 0.09928428285141713  |  0.016073969203899918 |\n",
      "|   8    | 0.11202404809619243  |   0.0213457192179516  |\n",
      "|   9    | 0.11440659095969705  |  0.025307473592445503 |\n",
      "|   10   | 0.10989979959919846  |  0.027564569672184916 |\n",
      "+--------+----------------------+-----------------------+\n",
      "[10 rows x 3 columns]\n",
      "\n",
      "\n",
      "Overall RMSE: 12.624688985731384\n",
      "\n",
      "Per User RMSE (best)\n",
      "+------------+-------------------+-------+\n",
      "| customerId |        rmse       | count |\n",
      "+------------+-------------------+-------+\n",
      "|    1626    | 0.972618966667311 |   2   |\n",
      "+------------+-------------------+-------+\n",
      "[1 rows x 3 columns]\n",
      "\n",
      "\n",
      "Per User RMSE (worst)\n",
      "+------------+--------------------+-------+\n",
      "| customerId |        rmse        | count |\n",
      "+------------+--------------------+-------+\n",
      "|    1138    | 149.56602252454664 |   34  |\n",
      "+------------+--------------------+-------+\n",
      "[1 rows x 3 columns]\n",
      "\n",
      "\n",
      "Per Item RMSE (best)\n",
      "+-----------+------+-------+\n",
      "| productId | rmse | count |\n",
      "+-----------+------+-------+\n",
      "|   HAPPY   | 0.0  |   1   |\n",
      "+-----------+------+-------+\n",
      "[1 rows x 3 columns]\n",
      "\n",
      "\n",
      "Per Item RMSE (worst)\n",
      "+--------------------------------+-------------------+-------+\n",
      "|           productId            |        rmse       | count |\n",
      "+--------------------------------+-------------------+-------+\n",
      "| CAN CATFD GOURMET/SUP PREM (GR | 116.0482549663905 |   48  |\n",
      "+--------------------------------+-------------------+-------+\n",
      "[1 rows x 3 columns]\n",
      "\n",
      "PROGRESS: Evaluate model Cosine Similarity on Purchase Counts\n"
     ]
    },
    {
     "data": {
      "text/html": [
       "<pre>recommendations finished on 1000/2495 queries. users per second: 21093</pre>"
      ],
      "text/plain": [
       "recommendations finished on 1000/2495 queries. users per second: 21093"
      ]
     },
     "metadata": {},
     "output_type": "display_data"
    },
    {
     "data": {
      "text/html": [
       "<pre>recommendations finished on 2000/2495 queries. users per second: 18926</pre>"
      ],
      "text/plain": [
       "recommendations finished on 2000/2495 queries. users per second: 18926"
      ]
     },
     "metadata": {},
     "output_type": "display_data"
    },
    {
     "name": "stdout",
     "output_type": "stream",
     "text": [
      "\n",
      "Precision and recall summary statistics by cutoff\n",
      "+--------+---------------------+----------------------+\n",
      "| cutoff |    mean_precision   |     mean_recall      |\n",
      "+--------+---------------------+----------------------+\n",
      "|   1    |  0.6296593186372748 | 0.014538382007181617 |\n",
      "|   2    |  0.5861723446893788 | 0.02633108688022113  |\n",
      "|   3    |  0.5529726118904471 | 0.036813333176115105 |\n",
      "|   4    |  0.5313627254509024 | 0.04641893105789371  |\n",
      "|   5    |  0.507575150300601  | 0.05483853658985713  |\n",
      "|   6    | 0.49038076152304616 | 0.06303666723265128  |\n",
      "|   7    |  0.4763813340967649 | 0.07083913399894906  |\n",
      "|   8    | 0.46362725450901815 | 0.07822471241364416  |\n",
      "|   9    | 0.45268314406590976 | 0.08555311496522126  |\n",
      "|   10   |  0.4419639278557117 | 0.09234053833116687  |\n",
      "+--------+---------------------+----------------------+\n",
      "[10 rows x 3 columns]\n",
      "\n",
      "\n",
      "Overall RMSE: 14.426240950487239\n",
      "\n",
      "Per User RMSE (best)\n",
      "+------------+--------------------+-------+\n",
      "| customerId |        rmse        | count |\n",
      "+------------+--------------------+-------+\n",
      "|    500     | 0.6338914541383535 |   2   |\n",
      "+------------+--------------------+-------+\n",
      "[1 rows x 3 columns]\n",
      "\n",
      "\n",
      "Per User RMSE (worst)\n",
      "+------------+--------------------+-------+\n",
      "| customerId |        rmse        | count |\n",
      "+------------+--------------------+-------+\n",
      "|    1138    | 154.43689555825563 |   34  |\n",
      "+------------+--------------------+-------+\n",
      "[1 rows x 3 columns]\n",
      "\n",
      "\n",
      "Per Item RMSE (best)\n",
      "+--------------------------+---------------------+-------+\n",
      "|        productId         |         rmse        | count |\n",
      "+--------------------------+---------------------+-------+\n",
      "| HOUSE/CARPET DEODORIZERS | 0.23357807802704156 |   1   |\n",
      "+--------------------------+---------------------+-------+\n",
      "[1 rows x 3 columns]\n",
      "\n",
      "\n",
      "Per Item RMSE (worst)\n",
      "+--------------------------------+--------------------+-------+\n",
      "|           productId            |        rmse        | count |\n",
      "+--------------------------------+--------------------+-------+\n",
      "| CAN CATFD GOURMET/SUP PREM (GR | 123.92164516721245 |   48  |\n",
      "+--------------------------------+--------------------+-------+\n",
      "[1 rows x 3 columns]\n",
      "\n",
      "PROGRESS: Evaluate model Pearson Similarity on Purchase Counts\n"
     ]
    },
    {
     "data": {
      "text/html": [
       "<pre>recommendations finished on 1000/2495 queries. users per second: 16108.8</pre>"
      ],
      "text/plain": [
       "recommendations finished on 1000/2495 queries. users per second: 16108.8"
      ]
     },
     "metadata": {},
     "output_type": "display_data"
    },
    {
     "data": {
      "text/html": [
       "<pre>recommendations finished on 2000/2495 queries. users per second: 14729.7</pre>"
      ],
      "text/plain": [
       "recommendations finished on 2000/2495 queries. users per second: 14729.7"
      ]
     },
     "metadata": {},
     "output_type": "display_data"
    },
    {
     "name": "stdout",
     "output_type": "stream",
     "text": [
      "\n",
      "Precision and recall summary statistics by cutoff\n",
      "+--------+----------------------+-----------------------+\n",
      "| cutoff |    mean_precision    |      mean_recall      |\n",
      "+--------+----------------------+-----------------------+\n",
      "|   1    | 0.028056112224448898 | 0.0005010615535555877 |\n",
      "|   2    | 0.051903807615230474 | 0.0020115710647539246 |\n",
      "|   3    | 0.08136272545090185  |  0.00513911866111127  |\n",
      "|   4    | 0.08466933867735467  |  0.007763226938871088 |\n",
      "|   5    | 0.08697394789579156  |  0.011216196184111007 |\n",
      "|   6    | 0.08637274549098191  |  0.012555274951856842 |\n",
      "|   7    | 0.09899799599198403  |  0.016043756040480462 |\n",
      "|   8    | 0.11117234468937874  |  0.021167878695722408 |\n",
      "|   9    | 0.11342685370741472  |  0.024950551676909346 |\n",
      "|   10   | 0.10917835671342697  |  0.027187449804378844 |\n",
      "+--------+----------------------+-----------------------+\n",
      "[10 rows x 3 columns]\n",
      "\n",
      "\n",
      "Overall RMSE: 12.597216237019296\n",
      "\n",
      "Per User RMSE (best)\n",
      "+------------+--------------------+-------+\n",
      "| customerId |        rmse        | count |\n",
      "+------------+--------------------+-------+\n",
      "|    1626    | 0.9726189666673104 |   2   |\n",
      "+------------+--------------------+-------+\n",
      "[1 rows x 3 columns]\n",
      "\n",
      "\n",
      "Per User RMSE (worst)\n",
      "+------------+--------------------+-------+\n",
      "| customerId |        rmse        | count |\n",
      "+------------+--------------------+-------+\n",
      "|    1138    | 149.57793711834557 |   34  |\n",
      "+------------+--------------------+-------+\n",
      "[1 rows x 3 columns]\n",
      "\n",
      "\n",
      "Per Item RMSE (best)\n",
      "+-----------+------+-------+\n",
      "| productId | rmse | count |\n",
      "+-----------+------+-------+\n",
      "|   HAPPY   | 0.0  |   1   |\n",
      "+-----------+------+-------+\n",
      "[1 rows x 3 columns]\n",
      "\n",
      "\n",
      "Per Item RMSE (worst)\n",
      "+--------------------------------+--------------------+-------+\n",
      "|           productId            |        rmse        | count |\n",
      "+--------------------------------+--------------------+-------+\n",
      "| CAN CATFD GOURMET/SUP PREM (GR | 116.02878033432357 |   48  |\n",
      "+--------------------------------+--------------------+-------+\n",
      "[1 rows x 3 columns]\n",
      "\n",
      "PROGRESS: Evaluate model Popularity Model on Purchase Dummy\n"
     ]
    },
    {
     "data": {
      "text/html": [
       "<pre>recommendations finished on 1000/2497 queries. users per second: 65427.9</pre>"
      ],
      "text/plain": [
       "recommendations finished on 1000/2497 queries. users per second: 65427.9"
      ]
     },
     "metadata": {},
     "output_type": "display_data"
    },
    {
     "data": {
      "text/html": [
       "<pre>recommendations finished on 2000/2497 queries. users per second: 56130.9</pre>"
      ],
      "text/plain": [
       "recommendations finished on 2000/2497 queries. users per second: 56130.9"
      ]
     },
     "metadata": {},
     "output_type": "display_data"
    },
    {
     "name": "stdout",
     "output_type": "stream",
     "text": [
      "\n",
      "Precision and recall summary statistics by cutoff\n",
      "+--------+-----------------------+------------------------+\n",
      "| cutoff |     mean_precision    |      mean_recall       |\n",
      "+--------+-----------------------+------------------------+\n",
      "|   1    | 0.0032038446135362435 |  6.93656767305255e-05  |\n",
      "|   2    |  0.002803364036844213 | 0.00010727003142591445 |\n",
      "|   3    |  0.003070351087972232 | 0.00022425898743060667 |\n",
      "|   4    |  0.002603123748498197 | 0.0002620236032151623  |\n",
      "|   5    |  0.002643171806167402 | 0.0003124000440518645  |\n",
      "|   6    |  0.002469630222934188 | 0.0003490510331148452  |\n",
      "|   7    |  0.002345671949196178 | 0.00036375271696211664 |\n",
      "|   8    | 0.0023027633159791736 | 0.0003985957361495065  |\n",
      "|   9    |  0.00258087482757086  | 0.00048029524407063604 |\n",
      "|   10   |  0.00252302763315979  | 0.0005583635668327486  |\n",
      "+--------+-----------------------+------------------------+\n",
      "[10 rows x 3 columns]\n",
      "\n",
      "\n",
      "Overall RMSE: 0.0\n",
      "\n",
      "Per User RMSE (best)\n",
      "+------------+------+-------+\n",
      "| customerId | rmse | count |\n",
      "+------------+------+-------+\n",
      "|    940     | 0.0  |   42  |\n",
      "+------------+------+-------+\n",
      "[1 rows x 3 columns]\n",
      "\n",
      "\n",
      "Per User RMSE (worst)\n",
      "+------------+------+-------+\n",
      "| customerId | rmse | count |\n",
      "+------------+------+-------+\n",
      "|    973     | 0.0  |   94  |\n",
      "+------------+------+-------+\n",
      "[1 rows x 3 columns]\n",
      "\n",
      "\n",
      "Per Item RMSE (best)\n",
      "+-----------+------+-------+\n",
      "| productId | rmse | count |\n",
      "+-----------+------+-------+\n",
      "|  AMMONIA  | 0.0  |   15  |\n",
      "+-----------+------+-------+\n",
      "[1 rows x 3 columns]\n",
      "\n",
      "\n",
      "Per Item RMSE (worst)\n",
      "+-----------+------+-------+\n",
      "| productId | rmse | count |\n",
      "+-----------+------+-------+\n",
      "|  CANDLES  | 0.0  |   78  |\n",
      "+-----------+------+-------+\n",
      "[1 rows x 3 columns]\n",
      "\n",
      "PROGRESS: Evaluate model Cosine Similarity on Purchase Dummy\n"
     ]
    },
    {
     "data": {
      "text/html": [
       "<pre>recommendations finished on 1000/2497 queries. users per second: 21456.5</pre>"
      ],
      "text/plain": [
       "recommendations finished on 1000/2497 queries. users per second: 21456.5"
      ]
     },
     "metadata": {},
     "output_type": "display_data"
    },
    {
     "data": {
      "text/html": [
       "<pre>recommendations finished on 2000/2497 queries. users per second: 20330</pre>"
      ],
      "text/plain": [
       "recommendations finished on 2000/2497 queries. users per second: 20330"
      ]
     },
     "metadata": {},
     "output_type": "display_data"
    },
    {
     "name": "stdout",
     "output_type": "stream",
     "text": [
      "\n",
      "Precision and recall summary statistics by cutoff\n",
      "+--------+---------------------+----------------------+\n",
      "| cutoff |    mean_precision   |     mean_recall      |\n",
      "+--------+---------------------+----------------------+\n",
      "|   1    |  0.5722867440929117 | 0.01202029311205713  |\n",
      "|   2    |  0.5540648778534241 | 0.024237003644818483 |\n",
      "|   3    |  0.5402482979575489 | 0.03509438053589034  |\n",
      "|   4    |  0.529835802963556  |  0.0456493101843391  |\n",
      "|   5    |  0.5196635963155795 | 0.05569245035867948  |\n",
      "|   6    |  0.5098785208917365 | 0.06497664387830857  |\n",
      "|   7    | 0.49882716402540184 | 0.07410655183051232  |\n",
      "|   8    | 0.48868642370844995 | 0.08335535604857926  |\n",
      "|   9    |  0.4785297913051212 | 0.09233558361686288  |\n",
      "|   10   | 0.46852222667200727 | 0.10084049085141432  |\n",
      "+--------+---------------------+----------------------+\n",
      "[10 rows x 3 columns]\n",
      "\n",
      "\n",
      "Overall RMSE: 0.9389874190212619\n",
      "\n",
      "Per User RMSE (best)\n",
      "+------------+--------------------+-------+\n",
      "| customerId |        rmse        | count |\n",
      "+------------+--------------------+-------+\n",
      "|     70     | 0.4632914565763886 |   3   |\n",
      "+------------+--------------------+-------+\n",
      "[1 rows x 3 columns]\n",
      "\n",
      "\n",
      "Per User RMSE (worst)\n",
      "+------------+------+-------+\n",
      "| customerId | rmse | count |\n",
      "+------------+------+-------+\n",
      "|    657     | 1.0  |   1   |\n",
      "+------------+------+-------+\n",
      "[1 rows x 3 columns]\n",
      "\n",
      "\n",
      "Per Item RMSE (best)\n",
      "+-----------+--------------------+-------+\n",
      "| productId |        rmse        | count |\n",
      "+-----------+--------------------+-------+\n",
      "|  PREMIUM  | 0.5644376415903459 |  354  |\n",
      "+-----------+--------------------+-------+\n",
      "[1 rows x 3 columns]\n",
      "\n",
      "\n",
      "Per Item RMSE (worst)\n",
      "+----------------+------+-------+\n",
      "|   productId    | rmse | count |\n",
      "+----------------+------+-------+\n",
      "| ECONOMY - BEEF | 1.0  |   26  |\n",
      "+----------------+------+-------+\n",
      "[1 rows x 3 columns]\n",
      "\n",
      "PROGRESS: Evaluate model Pearson Similarity on Purchase Dummy\n"
     ]
    },
    {
     "data": {
      "text/html": [
       "<pre>recommendations finished on 1000/2497 queries. users per second: 49460.9</pre>"
      ],
      "text/plain": [
       "recommendations finished on 1000/2497 queries. users per second: 49460.9"
      ]
     },
     "metadata": {},
     "output_type": "display_data"
    },
    {
     "data": {
      "text/html": [
       "<pre>recommendations finished on 2000/2497 queries. users per second: 44887.3</pre>"
      ],
      "text/plain": [
       "recommendations finished on 2000/2497 queries. users per second: 44887.3"
      ]
     },
     "metadata": {},
     "output_type": "display_data"
    },
    {
     "name": "stdout",
     "output_type": "stream",
     "text": [
      "\n",
      "Precision and recall summary statistics by cutoff\n",
      "+--------+-----------------------+------------------------+\n",
      "| cutoff |     mean_precision    |      mean_recall       |\n",
      "+--------+-----------------------+------------------------+\n",
      "|   1    | 0.0012014417300760907 | 1.973540040048517e-05  |\n",
      "|   2    | 0.0020024028834601556 |  6.96810245037791e-05  |\n",
      "|   3    | 0.0033373381391002487 | 0.0001875679047772527  |\n",
      "|   4    |  0.003504205046055267 | 0.0002613636621126005  |\n",
      "|   5    | 0.0032839407288746507 | 0.00029768745134659284 |\n",
      "|   6    | 0.0030036043251902285 | 0.00033051210598157067 |\n",
      "|   7    |  0.003375479146404258 | 0.0004119214983661506  |\n",
      "|   8    |  0.003354024829795755 | 0.00046106526174254943 |\n",
      "|   9    | 0.0032928402972455806 | 0.0005069749929348379  |\n",
      "|   10   |  0.00348418101722066  | 0.0005769281631816204  |\n",
      "+--------+-----------------------+------------------------+\n",
      "[10 rows x 3 columns]\n",
      "\n",
      "\n",
      "Overall RMSE: 1.0\n",
      "\n",
      "Per User RMSE (best)\n",
      "+------------+------+-------+\n",
      "| customerId | rmse | count |\n",
      "+------------+------+-------+\n",
      "|    940     | 1.0  |   42  |\n",
      "+------------+------+-------+\n",
      "[1 rows x 3 columns]\n",
      "\n",
      "\n",
      "Per User RMSE (worst)\n",
      "+------------+------+-------+\n",
      "| customerId | rmse | count |\n",
      "+------------+------+-------+\n",
      "|    973     | 1.0  |   94  |\n",
      "+------------+------+-------+\n",
      "[1 rows x 3 columns]\n",
      "\n",
      "\n",
      "Per Item RMSE (best)\n",
      "+-----------+------+-------+\n",
      "| productId | rmse | count |\n",
      "+-----------+------+-------+\n",
      "|  AMMONIA  | 1.0  |   15  |\n",
      "+-----------+------+-------+\n",
      "[1 rows x 3 columns]\n",
      "\n",
      "\n",
      "Per Item RMSE (worst)\n",
      "+-----------+------+-------+\n",
      "| productId | rmse | count |\n",
      "+-----------+------+-------+\n",
      "|  CANDLES  | 1.0  |   78  |\n",
      "+-----------+------+-------+\n",
      "[1 rows x 3 columns]\n",
      "\n",
      "PROGRESS: Evaluate model Popularity Model on Scaled Purchase Counts\n"
     ]
    },
    {
     "data": {
      "text/html": [
       "<pre>recommendations finished on 1000/2498 queries. users per second: 28450.3</pre>"
      ],
      "text/plain": [
       "recommendations finished on 1000/2498 queries. users per second: 28450.3"
      ]
     },
     "metadata": {},
     "output_type": "display_data"
    },
    {
     "data": {
      "text/html": [
       "<pre>recommendations finished on 2000/2498 queries. users per second: 25954.5</pre>"
      ],
      "text/plain": [
       "recommendations finished on 2000/2498 queries. users per second: 25954.5"
      ]
     },
     "metadata": {},
     "output_type": "display_data"
    },
    {
     "name": "stdout",
     "output_type": "stream",
     "text": [
      "\n",
      "Precision and recall summary statistics by cutoff\n",
      "+--------+------------------------+------------------------+\n",
      "| cutoff |     mean_precision     |      mean_recall       |\n",
      "+--------+------------------------+------------------------+\n",
      "|   1    |          0.0           |          0.0           |\n",
      "|   2    | 0.0006004803843074457  | 1.6450553791993982e-05 |\n",
      "|   3    | 0.0005337603416066185  | 2.116020386499356e-05  |\n",
      "|   4    | 0.0005004003202562051  | 2.5925921200766947e-05 |\n",
      "|   5    | 0.00040032025620496405 | 2.5925921200766933e-05 |\n",
      "|   6    | 0.00046704029890579123 | 3.498230027362581e-05  |\n",
      "|   7    | 0.0004575088642342445  | 3.849388146840615e-05  |\n",
      "|   8    |  0.000500400320256205  | 5.013180672489753e-05  |\n",
      "|   9    | 0.0004448002846721823  | 5.013180672489755e-05  |\n",
      "|   10   | 0.0004403522818254603  | 5.5135809927459545e-05 |\n",
      "+--------+------------------------+------------------------+\n",
      "[10 rows x 3 columns]\n",
      "\n",
      "\n",
      "Overall RMSE: 0.11307266699682494\n",
      "\n",
      "Per User RMSE (best)\n",
      "+------------+----------------------+-------+\n",
      "| customerId |         rmse         | count |\n",
      "+------------+----------------------+-------+\n",
      "|    619     | 0.007196488254954583 |   1   |\n",
      "+------------+----------------------+-------+\n",
      "[1 rows x 3 columns]\n",
      "\n",
      "\n",
      "Per User RMSE (worst)\n",
      "+------------+--------------------+-------+\n",
      "| customerId |        rmse        | count |\n",
      "+------------+--------------------+-------+\n",
      "|    1111    | 0.3583598505838513 |  114  |\n",
      "+------------+--------------------+-------+\n",
      "[1 rows x 3 columns]\n",
      "\n",
      "\n",
      "Per Item RMSE (best)\n",
      "+-------------------+------+-------+\n",
      "|     productId     | rmse | count |\n",
      "+-------------------+------+-------+\n",
      "| OUTDOORS-MAGAZINE | 0.0  |   2   |\n",
      "+-------------------+------+-------+\n",
      "[1 rows x 3 columns]\n",
      "\n",
      "\n",
      "Per Item RMSE (worst)\n",
      "+--------------------------------+------+-------+\n",
      "|           productId            | rmse | count |\n",
      "+--------------------------------+------+-------+\n",
      "| NUT SUPP-ESSENTIAL OILS (REFRI | 1.0  |   1   |\n",
      "+--------------------------------+------+-------+\n",
      "[1 rows x 3 columns]\n",
      "\n",
      "PROGRESS: Evaluate model Cosine Similarity on Scaled Purchase Counts\n"
     ]
    },
    {
     "data": {
      "text/html": [
       "<pre>recommendations finished on 1000/2498 queries. users per second: 15832.1</pre>"
      ],
      "text/plain": [
       "recommendations finished on 1000/2498 queries. users per second: 15832.1"
      ]
     },
     "metadata": {},
     "output_type": "display_data"
    },
    {
     "data": {
      "text/html": [
       "<pre>recommendations finished on 2000/2498 queries. users per second: 14379.8</pre>"
      ],
      "text/plain": [
       "recommendations finished on 2000/2498 queries. users per second: 14379.8"
      ]
     },
     "metadata": {},
     "output_type": "display_data"
    },
    {
     "name": "stdout",
     "output_type": "stream",
     "text": [
      "\n",
      "Precision and recall summary statistics by cutoff\n",
      "+--------+---------------------+---------------------+\n",
      "| cutoff |    mean_precision   |     mean_recall     |\n",
      "+--------+---------------------+---------------------+\n",
      "|   1    |  0.6309047237790232 | 0.01445847005708118 |\n",
      "|   2    |  0.5816653322658123 | 0.02525194866314324 |\n",
      "|   3    |  0.5528422738190557 | 0.03558912772200469 |\n",
      "|   4    |  0.5282225780624501 | 0.04471075297917851 |\n",
      "|   5    |  0.5120896717373901 | 0.05358667024998455 |\n",
      "|   6    |  0.4957966373098477 | 0.06196729910156928 |\n",
      "|   7    | 0.48330092645545025 | 0.07027787775941599 |\n",
      "|   8    | 0.47252802241793435 |  0.0781753499045683 |\n",
      "|   9    | 0.46014589449337245 | 0.08530315026090476 |\n",
      "|   10   | 0.44883907125700573 | 0.09207012244311377 |\n",
      "+--------+---------------------+---------------------+\n",
      "[10 rows x 3 columns]\n",
      "\n",
      "\n",
      "Overall RMSE: 0.1264016683645031\n",
      "\n",
      "Per User RMSE (best)\n",
      "+------------+------+-------+\n",
      "| customerId | rmse | count |\n",
      "+------------+------+-------+\n",
      "|    1504    | 0.0  |   1   |\n",
      "+------------+------+-------+\n",
      "[1 rows x 3 columns]\n",
      "\n",
      "\n",
      "Per User RMSE (worst)\n",
      "+------------+---------------------+-------+\n",
      "| customerId |         rmse        | count |\n",
      "+------------+---------------------+-------+\n",
      "|    2315    | 0.44726464179988346 |   5   |\n",
      "+------------+---------------------+-------+\n",
      "[1 rows x 3 columns]\n",
      "\n",
      "\n",
      "Per Item RMSE (best)\n",
      "+-----------+------+-------+\n",
      "| productId | rmse | count |\n",
      "+-----------+------+-------+\n",
      "|   MODELS  | 0.0  |   1   |\n",
      "+-----------+------+-------+\n",
      "[1 rows x 3 columns]\n",
      "\n",
      "\n",
      "Per Item RMSE (worst)\n",
      "+--------------------------------+------+-------+\n",
      "|           productId            | rmse | count |\n",
      "+--------------------------------+------+-------+\n",
      "| NUT SUPP-ESSENTIAL OILS (REFRI | 1.0  |   1   |\n",
      "+--------------------------------+------+-------+\n",
      "[1 rows x 3 columns]\n",
      "\n",
      "PROGRESS: Evaluate model Pearson Similarity on Scaled Purchase Counts\n"
     ]
    },
    {
     "data": {
      "text/html": [
       "<pre>recommendations finished on 1000/2498 queries. users per second: 8335.14</pre>"
      ],
      "text/plain": [
       "recommendations finished on 1000/2498 queries. users per second: 8335.14"
      ]
     },
     "metadata": {},
     "output_type": "display_data"
    },
    {
     "data": {
      "text/html": [
       "<pre>recommendations finished on 2000/2498 queries. users per second: 8765.05</pre>"
      ],
      "text/plain": [
       "recommendations finished on 2000/2498 queries. users per second: 8765.05"
      ]
     },
     "metadata": {},
     "output_type": "display_data"
    },
    {
     "name": "stdout",
     "output_type": "stream",
     "text": [
      "\n",
      "Precision and recall summary statistics by cutoff\n",
      "+--------+------------------------+------------------------+\n",
      "| cutoff |     mean_precision     |      mean_recall       |\n",
      "+--------+------------------------+------------------------+\n",
      "|   1    |          0.0           |          0.0           |\n",
      "|   2    | 0.0006004803843074464  | 1.8366152472974286e-05 |\n",
      "|   3    | 0.0006672004270082732  | 2.7216770382267722e-05 |\n",
      "|   4    |  0.000500400320256205  | 2.7216770382267712e-05 |\n",
      "|   5    | 0.0005604483586869497  | 3.498230027362578e-05  |\n",
      "|   6    | 0.00046704029890579134 | 3.4982300273625786e-05 |\n",
      "|   7    | 0.00045750886423424436 |  3.77242198366735e-05  |\n",
      "|   8    | 0.00040032025620496416 | 3.7724219836673476e-05 |\n",
      "|   9    | 0.0003558402277377457  |  3.77242198366735e-05  |\n",
      "|   10   | 0.0003602882305844675  | 4.662022553011715e-05  |\n",
      "+--------+------------------------+------------------------+\n",
      "[10 rows x 3 columns]\n",
      "\n",
      "\n",
      "Overall RMSE: 0.11290983670448318\n",
      "\n",
      "Per User RMSE (best)\n",
      "+------------+----------------------+-------+\n",
      "| customerId |         rmse         | count |\n",
      "+------------+----------------------+-------+\n",
      "|    619     | 0.007574853955016069 |   1   |\n",
      "+------------+----------------------+-------+\n",
      "[1 rows x 3 columns]\n",
      "\n",
      "\n",
      "Per User RMSE (worst)\n",
      "+------------+---------------------+-------+\n",
      "| customerId |         rmse        | count |\n",
      "+------------+---------------------+-------+\n",
      "|    1111    | 0.35803720092035024 |  114  |\n",
      "+------------+---------------------+-------+\n",
      "[1 rows x 3 columns]\n",
      "\n",
      "\n",
      "Per Item RMSE (best)\n",
      "+-------------------+-----------------------+-------+\n",
      "|     productId     |          rmse         | count |\n",
      "+-------------------+-----------------------+-------+\n",
      "| OUTDOORS-MAGAZINE | 1.788809512760143e-05 |   2   |\n",
      "+-------------------+-----------------------+-------+\n",
      "[1 rows x 3 columns]\n",
      "\n",
      "\n",
      "Per Item RMSE (worst)\n",
      "+--------------------------------+------+-------+\n",
      "|           productId            | rmse | count |\n",
      "+--------------------------------+------+-------+\n",
      "| NUT SUPP-ESSENTIAL OILS (REFRI | 1.0  |   1   |\n",
      "+--------------------------------+------+-------+\n",
      "[1 rows x 3 columns]\n",
      "\n"
     ]
    }
   ],
   "source": [
    "eval_counts = tc.recommender.util.compare_models(test_data, models_w_counts, model_names=names_w_counts)\n",
    "eval_dummy = tc.recommender.util.compare_models(test_data_dummy, models_w_dummy, model_names=names_w_dummy)\n",
    "eval_norm = tc.recommender.util.compare_models(test_data_norm, models_w_norm, model_names=names_w_norm)"
   ]
  },
  {
   "cell_type": "code",
   "execution_count": 132,
   "metadata": {},
   "outputs": [
    {
     "data": {
      "text/html": [
       "<pre>Warning: Column 'scaled_purchase_freq' ignored.</pre>"
      ],
      "text/plain": [
       "Warning: Column 'scaled_purchase_freq' ignored."
      ]
     },
     "metadata": {},
     "output_type": "display_data"
    },
    {
     "data": {
      "text/html": [
       "<pre> To use one of these as a rating column, specify the column name to be used as target scaled_purchase_freq\" and use a method that allows the use of a target.</pre>"
      ],
      "text/plain": [
       " To use one of these as a rating column, specify the column name to be used as target scaled_purchase_freq\" and use a method that allows the use of a target."
      ]
     },
     "metadata": {},
     "output_type": "display_data"
    },
    {
     "data": {
      "text/html": [
       "<pre>Preparing data set.</pre>"
      ],
      "text/plain": [
       "Preparing data set."
      ]
     },
     "metadata": {},
     "output_type": "display_data"
    },
    {
     "data": {
      "text/html": [
       "<pre>    Data has 607269 observations with 2500 users and 2043 items.</pre>"
      ],
      "text/plain": [
       "    Data has 607269 observations with 2500 users and 2043 items."
      ]
     },
     "metadata": {},
     "output_type": "display_data"
    },
    {
     "data": {
      "text/html": [
       "<pre>    Data prepared in: 0.345047s</pre>"
      ],
      "text/plain": [
       "    Data prepared in: 0.345047s"
      ]
     },
     "metadata": {},
     "output_type": "display_data"
    },
    {
     "data": {
      "text/html": [
       "<pre>Training model from provided data.</pre>"
      ],
      "text/plain": [
       "Training model from provided data."
      ]
     },
     "metadata": {},
     "output_type": "display_data"
    },
    {
     "data": {
      "text/html": [
       "<pre>Gathering per-item and per-user statistics.</pre>"
      ],
      "text/plain": [
       "Gathering per-item and per-user statistics."
      ]
     },
     "metadata": {},
     "output_type": "display_data"
    },
    {
     "data": {
      "text/html": [
       "<pre>+--------------------------------+------------+</pre>"
      ],
      "text/plain": [
       "+--------------------------------+------------+"
      ]
     },
     "metadata": {},
     "output_type": "display_data"
    },
    {
     "data": {
      "text/html": [
       "<pre>| Elapsed Time (Item Statistics) | % Complete |</pre>"
      ],
      "text/plain": [
       "| Elapsed Time (Item Statistics) | % Complete |"
      ]
     },
     "metadata": {},
     "output_type": "display_data"
    },
    {
     "data": {
      "text/html": [
       "<pre>+--------------------------------+------------+</pre>"
      ],
      "text/plain": [
       "+--------------------------------+------------+"
      ]
     },
     "metadata": {},
     "output_type": "display_data"
    },
    {
     "data": {
      "text/html": [
       "<pre>| 21.054ms                       | 40         |</pre>"
      ],
      "text/plain": [
       "| 21.054ms                       | 40         |"
      ]
     },
     "metadata": {},
     "output_type": "display_data"
    },
    {
     "data": {
      "text/html": [
       "<pre>| 37.091ms                       | 100        |</pre>"
      ],
      "text/plain": [
       "| 37.091ms                       | 100        |"
      ]
     },
     "metadata": {},
     "output_type": "display_data"
    },
    {
     "data": {
      "text/html": [
       "<pre>+--------------------------------+------------+</pre>"
      ],
      "text/plain": [
       "+--------------------------------+------------+"
      ]
     },
     "metadata": {},
     "output_type": "display_data"
    },
    {
     "data": {
      "text/html": [
       "<pre>Setting up lookup tables.</pre>"
      ],
      "text/plain": [
       "Setting up lookup tables."
      ]
     },
     "metadata": {},
     "output_type": "display_data"
    },
    {
     "data": {
      "text/html": [
       "<pre>Processing data in one pass using dense lookup tables.</pre>"
      ],
      "text/plain": [
       "Processing data in one pass using dense lookup tables."
      ]
     },
     "metadata": {},
     "output_type": "display_data"
    },
    {
     "data": {
      "text/html": [
       "<pre>+-------------------------------------+------------------+-----------------+</pre>"
      ],
      "text/plain": [
       "+-------------------------------------+------------------+-----------------+"
      ]
     },
     "metadata": {},
     "output_type": "display_data"
    },
    {
     "data": {
      "text/html": [
       "<pre>| Elapsed Time (Constructing Lookups) | Total % Complete | Items Processed |</pre>"
      ],
      "text/plain": [
       "| Elapsed Time (Constructing Lookups) | Total % Complete | Items Processed |"
      ]
     },
     "metadata": {},
     "output_type": "display_data"
    },
    {
     "data": {
      "text/html": [
       "<pre>+-------------------------------------+------------------+-----------------+</pre>"
      ],
      "text/plain": [
       "+-------------------------------------+------------------+-----------------+"
      ]
     },
     "metadata": {},
     "output_type": "display_data"
    },
    {
     "data": {
      "text/html": [
       "<pre>| 46.885ms                            | 0                | 0               |</pre>"
      ],
      "text/plain": [
       "| 46.885ms                            | 0                | 0               |"
      ]
     },
     "metadata": {},
     "output_type": "display_data"
    },
    {
     "data": {
      "text/html": [
       "<pre>| 2.47s                               | 100              | 2043            |</pre>"
      ],
      "text/plain": [
       "| 2.47s                               | 100              | 2043            |"
      ]
     },
     "metadata": {},
     "output_type": "display_data"
    },
    {
     "data": {
      "text/html": [
       "<pre>+-------------------------------------+------------------+-----------------+</pre>"
      ],
      "text/plain": [
       "+-------------------------------------+------------------+-----------------+"
      ]
     },
     "metadata": {},
     "output_type": "display_data"
    },
    {
     "data": {
      "text/html": [
       "<pre>Finalizing lookup tables.</pre>"
      ],
      "text/plain": [
       "Finalizing lookup tables."
      ]
     },
     "metadata": {},
     "output_type": "display_data"
    },
    {
     "data": {
      "text/html": [
       "<pre>Generating candidate set for working with new users.</pre>"
      ],
      "text/plain": [
       "Generating candidate set for working with new users."
      ]
     },
     "metadata": {},
     "output_type": "display_data"
    },
    {
     "data": {
      "text/html": [
       "<pre>Finished training in 2.50762s</pre>"
      ],
      "text/plain": [
       "Finished training in 2.50762s"
      ]
     },
     "metadata": {},
     "output_type": "display_data"
    },
    {
     "data": {
      "text/html": [
       "<pre>recommendations finished on 1000/2500 queries. users per second: 25926.2</pre>"
      ],
      "text/plain": [
       "recommendations finished on 1000/2500 queries. users per second: 25926.2"
      ]
     },
     "metadata": {},
     "output_type": "display_data"
    },
    {
     "data": {
      "text/html": [
       "<pre>recommendations finished on 2000/2500 queries. users per second: 31363.2</pre>"
      ],
      "text/plain": [
       "recommendations finished on 2000/2500 queries. users per second: 31363.2"
      ]
     },
     "metadata": {},
     "output_type": "display_data"
    },
    {
     "name": "stdout",
     "output_type": "stream",
     "text": [
      "+------------+--------------------------------+--------------------+------+\n",
      "| customerId |           productId            |       score        | rank |\n",
      "+------------+--------------------------------+--------------------+------+\n",
      "|     1      | SFT DRNK 2 LITER BTL CARB INCL | 0.8259414225941423 |  1   |\n",
      "|     1      |     MAINSTREAM WHITE BREAD     | 0.8188284518828451 |  2   |\n",
      "|     1      | CANDY BARS (SINGLES)(INCLUDING | 0.796652719665272  |  3   |\n",
      "|     1      |      TORTILLA/NACHO CHIPS      | 0.7861924686192469 |  4   |\n",
      "|     1      |             PRIMAL             | 0.7410041841004185 |  5   |\n",
      "|     1      |         EGGS - X-LARGE         | 0.702928870292887  |  6   |\n",
      "|     1      |          KIDS CEREAL           | 0.700836820083682  |  7   |\n",
      "|     1      |      BEERALEMALT LIQUORS       | 0.6794979079497908 |  8   |\n",
      "|     1      |     PAPER TOWELS & HOLDERS     | 0.6665271966527196 |  9   |\n",
      "|     1      |     YOGURT NOT MULTI-PACKS     | 0.6598326359832636 |  10  |\n",
      "|     2      | CANDY BARS (SINGLES)(INCLUDING | 0.796652719665272  |  1   |\n",
      "|     2      |         CONDENSED SOUP         | 0.7527196652719665 |  2   |\n",
      "|     2      |       IWS SINGLE CHEESE        | 0.7405857740585774 |  3   |\n",
      "|     2      |         EGGS - X-LARGE         | 0.702928870292887  |  4   |\n",
      "|     2      |          KIDS CEREAL           | 0.700836820083682  |  5   |\n",
      "|     2      |         PEANUT BUTTER          | 0.6669456066945607 |  6   |\n",
      "|     2      |       SNACKS/APPETIZERS        | 0.6389121338912134 |  7   |\n",
      "|     2      |          ADULT CEREAL          | 0.6100418410041841 |  8   |\n",
      "|     2      |         SMOKED/COOKED          | 0.6096234309623431 |  9   |\n",
      "|     2      |     MACARONI & CHEESE DNRS     | 0.5962343096234309 |  10  |\n",
      "|     3      |            PREMIUM             | 0.8288702928870293 |  1   |\n",
      "|     3      |          EGGS - LARGE          | 0.8087866108786611 |  2   |\n",
      "|     3      |         EGGS - X-LARGE         | 0.702928870292887  |  3   |\n",
      "|     3      | MAINSTREAM WHEAT/MULTIGRAIN BR | 0.701673640167364  |  4   |\n",
      "|     3      |      BEERALEMALT LIQUORS       | 0.6794979079497908 |  5   |\n",
      "|     3      |          SOUR CREAMS           | 0.6715481171548117 |  6   |\n",
      "|     3      |     YOGURT NOT MULTI-PACKS     | 0.6598326359832636 |  7   |\n",
      "|     3      | FRZN BAGGED VEGETABLES - PLAIN | 0.6092050209205021 |  8   |\n",
      "|     3      |  MEXICAN SAUCESSALSAPICANTEE   | 0.5924686192468619 |  9   |\n",
      "|     3      |         SW GDS:DONUTS          | 0.5891213389121339 |  10  |\n",
      "+------------+--------------------------------+--------------------+------+\n",
      "[25000 rows x 4 columns]\n",
      "\n"
     ]
    }
   ],
   "source": [
    "# target='purchase_dummy' replace to target= None\n",
    "\n",
    "final_model = tc.item_similarity_recommender.create(tc.SFrame(data_norm), \n",
    "                                            user_id=user_id, \n",
    "                                            item_id=item_id, \n",
    "                                            similarity_type=\"pearson\")\n",
    "recom = final_model.recommend(users=users_to_recommend, k=n_rec)\n",
    "recom.print_rows(n_display)"
   ]
  },
  {
   "cell_type": "code",
   "execution_count": 140,
   "metadata": {},
   "outputs": [
    {
     "name": "stdout",
     "output_type": "stream",
     "text": [
      "(25000, 4)\n"
     ]
    },
    {
     "data": {
      "text/html": [
       "<div>\n",
       "<style scoped>\n",
       "    .dataframe tbody tr th:only-of-type {\n",
       "        vertical-align: middle;\n",
       "    }\n",
       "\n",
       "    .dataframe tbody tr th {\n",
       "        vertical-align: top;\n",
       "    }\n",
       "\n",
       "    .dataframe thead th {\n",
       "        text-align: right;\n",
       "    }\n",
       "</style>\n",
       "<table border=\"1\" class=\"dataframe\">\n",
       "  <thead>\n",
       "    <tr style=\"text-align: right;\">\n",
       "      <th></th>\n",
       "      <th>customerId</th>\n",
       "      <th>productId</th>\n",
       "      <th>score</th>\n",
       "      <th>rank</th>\n",
       "    </tr>\n",
       "  </thead>\n",
       "  <tbody>\n",
       "    <tr>\n",
       "      <th>0</th>\n",
       "      <td>1</td>\n",
       "      <td>SFT DRNK 2 LITER BTL CARB INCL</td>\n",
       "      <td>0.825941</td>\n",
       "      <td>1</td>\n",
       "    </tr>\n",
       "    <tr>\n",
       "      <th>1</th>\n",
       "      <td>1</td>\n",
       "      <td>MAINSTREAM WHITE BREAD</td>\n",
       "      <td>0.818828</td>\n",
       "      <td>2</td>\n",
       "    </tr>\n",
       "    <tr>\n",
       "      <th>2</th>\n",
       "      <td>1</td>\n",
       "      <td>CANDY BARS (SINGLES)(INCLUDING</td>\n",
       "      <td>0.796653</td>\n",
       "      <td>3</td>\n",
       "    </tr>\n",
       "    <tr>\n",
       "      <th>3</th>\n",
       "      <td>1</td>\n",
       "      <td>TORTILLA/NACHO CHIPS</td>\n",
       "      <td>0.786192</td>\n",
       "      <td>4</td>\n",
       "    </tr>\n",
       "    <tr>\n",
       "      <th>4</th>\n",
       "      <td>1</td>\n",
       "      <td>PRIMAL</td>\n",
       "      <td>0.741004</td>\n",
       "      <td>5</td>\n",
       "    </tr>\n",
       "    <tr>\n",
       "      <th>...</th>\n",
       "      <td>...</td>\n",
       "      <td>...</td>\n",
       "      <td>...</td>\n",
       "      <td>...</td>\n",
       "    </tr>\n",
       "    <tr>\n",
       "      <th>24995</th>\n",
       "      <td>2500</td>\n",
       "      <td>GRAPES RED</td>\n",
       "      <td>0.548536</td>\n",
       "      <td>6</td>\n",
       "    </tr>\n",
       "    <tr>\n",
       "      <th>24996</th>\n",
       "      <td>2500</td>\n",
       "      <td>CANDY BARS (MULTI PACK)</td>\n",
       "      <td>0.541004</td>\n",
       "      <td>7</td>\n",
       "    </tr>\n",
       "    <tr>\n",
       "      <th>24997</th>\n",
       "      <td>2500</td>\n",
       "      <td>SANDWICH COOKIES</td>\n",
       "      <td>0.511715</td>\n",
       "      <td>8</td>\n",
       "    </tr>\n",
       "    <tr>\n",
       "      <th>24998</th>\n",
       "      <td>2500</td>\n",
       "      <td>FRZN SS PREMIUM ENTREES/DNRS/T</td>\n",
       "      <td>0.499582</td>\n",
       "      <td>9</td>\n",
       "    </tr>\n",
       "    <tr>\n",
       "      <th>24999</th>\n",
       "      <td>2500</td>\n",
       "      <td>TRAY PACK/CHOC CHIP COOKIES</td>\n",
       "      <td>0.491632</td>\n",
       "      <td>10</td>\n",
       "    </tr>\n",
       "  </tbody>\n",
       "</table>\n",
       "<p>25000 rows × 4 columns</p>\n",
       "</div>"
      ],
      "text/plain": [
       "       customerId                       productId     score  rank\n",
       "0               1  SFT DRNK 2 LITER BTL CARB INCL  0.825941     1\n",
       "1               1          MAINSTREAM WHITE BREAD  0.818828     2\n",
       "2               1  CANDY BARS (SINGLES)(INCLUDING  0.796653     3\n",
       "3               1            TORTILLA/NACHO CHIPS  0.786192     4\n",
       "4               1                          PRIMAL  0.741004     5\n",
       "...           ...                             ...       ...   ...\n",
       "24995        2500                      GRAPES RED  0.548536     6\n",
       "24996        2500         CANDY BARS (MULTI PACK)  0.541004     7\n",
       "24997        2500                SANDWICH COOKIES  0.511715     8\n",
       "24998        2500  FRZN SS PREMIUM ENTREES/DNRS/T  0.499582     9\n",
       "24999        2500     TRAY PACK/CHOC CHIP COOKIES  0.491632    10\n",
       "\n",
       "[25000 rows x 4 columns]"
      ]
     },
     "execution_count": 140,
     "metadata": {},
     "output_type": "execute_result"
    }
   ],
   "source": [
    "df_rec = recom.to_dataframe()\n",
    "print(df_rec.shape)\n",
    "df_rec"
   ]
  },
  {
   "cell_type": "code",
   "execution_count": 137,
   "metadata": {},
   "outputs": [],
   "source": [
    "def create_output(model, users_to_recommend, n_rec, print_csv=True):\n",
    "    recomendation = model.recommend(users=users_to_recommend, k=n_rec)\n",
    "    df_rec = recomendation.to_dataframe()\n",
    "    df_rec['recommendedProducts'] = df_rec.groupby([user_id])[item_id] \\\n",
    "        .transform(lambda x: '|'.join(x.astype(str)))\n",
    "    df_output = df_rec[['customerId', 'recommendedProducts']].drop_duplicates() \\\n",
    "        .sort_values('customerId').set_index('customerId')\n",
    "    if print_csv:\n",
    "        df_output.to_csv('./option1_recommendation.csv')\n",
    "        print(\"An output file can be found in 'output' folder with name 'option1_recommendation.csv'\")\n",
    "    return df_output"
   ]
  },
  {
   "cell_type": "code",
   "execution_count": 142,
   "metadata": {},
   "outputs": [
    {
     "data": {
      "text/html": [
       "<pre>recommendations finished on 1000/2500 queries. users per second: 36756.6</pre>"
      ],
      "text/plain": [
       "recommendations finished on 1000/2500 queries. users per second: 36756.6"
      ]
     },
     "metadata": {},
     "output_type": "display_data"
    },
    {
     "data": {
      "text/html": [
       "<pre>recommendations finished on 2000/2500 queries. users per second: 48104.7</pre>"
      ],
      "text/plain": [
       "recommendations finished on 2000/2500 queries. users per second: 48104.7"
      ]
     },
     "metadata": {},
     "output_type": "display_data"
    },
    {
     "name": "stdout",
     "output_type": "stream",
     "text": [
      "An output file can be found in 'output' folder with name 'option1_recommendation.csv'\n",
      "(2500, 1)\n"
     ]
    },
    {
     "data": {
      "text/html": [
       "<div>\n",
       "<style scoped>\n",
       "    .dataframe tbody tr th:only-of-type {\n",
       "        vertical-align: middle;\n",
       "    }\n",
       "\n",
       "    .dataframe tbody tr th {\n",
       "        vertical-align: top;\n",
       "    }\n",
       "\n",
       "    .dataframe thead th {\n",
       "        text-align: right;\n",
       "    }\n",
       "</style>\n",
       "<table border=\"1\" class=\"dataframe\">\n",
       "  <thead>\n",
       "    <tr style=\"text-align: right;\">\n",
       "      <th></th>\n",
       "      <th>recommendedProducts</th>\n",
       "    </tr>\n",
       "    <tr>\n",
       "      <th>customerId</th>\n",
       "      <th></th>\n",
       "    </tr>\n",
       "  </thead>\n",
       "  <tbody>\n",
       "    <tr>\n",
       "      <th>1</th>\n",
       "      <td>SFT DRNK 2 LITER BTL CARB INCL|MAINSTREAM WHIT...</td>\n",
       "    </tr>\n",
       "    <tr>\n",
       "      <th>2</th>\n",
       "      <td>CANDY BARS (SINGLES)(INCLUDING|CONDENSED SOUP|...</td>\n",
       "    </tr>\n",
       "    <tr>\n",
       "      <th>3</th>\n",
       "      <td>PREMIUM|EGGS - LARGE|EGGS - X-LARGE|MAINSTREAM...</td>\n",
       "    </tr>\n",
       "    <tr>\n",
       "      <th>4</th>\n",
       "      <td>BANANAS|SFT DRNK 2 LITER BTL CARB INCL|DAIRY C...</td>\n",
       "    </tr>\n",
       "    <tr>\n",
       "      <th>5</th>\n",
       "      <td>BANANAS|SOFT DRINKS 12/18&amp;15PK CAN CAR|POTATO ...</td>\n",
       "    </tr>\n",
       "  </tbody>\n",
       "</table>\n",
       "</div>"
      ],
      "text/plain": [
       "                                          recommendedProducts\n",
       "customerId                                                   \n",
       "1           SFT DRNK 2 LITER BTL CARB INCL|MAINSTREAM WHIT...\n",
       "2           CANDY BARS (SINGLES)(INCLUDING|CONDENSED SOUP|...\n",
       "3           PREMIUM|EGGS - LARGE|EGGS - X-LARGE|MAINSTREAM...\n",
       "4           BANANAS|SFT DRNK 2 LITER BTL CARB INCL|DAIRY C...\n",
       "5           BANANAS|SOFT DRINKS 12/18&15PK CAN CAR|POTATO ..."
      ]
     },
     "execution_count": 142,
     "metadata": {},
     "output_type": "execute_result"
    }
   ],
   "source": [
    "# pear_norm replace to final_model \n",
    "\n",
    "df_output = create_output(final_model, users_to_recommend, n_rec, print_csv=True)\n",
    "print(df_output.shape)\n",
    "df_output.head()"
   ]
  },
  {
   "cell_type": "code",
   "execution_count": 143,
   "metadata": {},
   "outputs": [],
   "source": [
    "def customer_recomendation(customer_id):\n",
    "    if customer_id not in df_output.index:\n",
    "        print('Customer not found.')\n",
    "        return customer_id\n",
    "    return df_output.loc[customer_id]"
   ]
  },
  {
   "cell_type": "code",
   "execution_count": 146,
   "metadata": {},
   "outputs": [
    {
     "data": {
      "text/plain": [
       "recommendedProducts    STICKS/ENROBED|FRZN SS PREMIUM ENTREES/DNRS/T|...\n",
       "Name: 400, dtype: object"
      ]
     },
     "execution_count": 146,
     "metadata": {},
     "output_type": "execute_result"
    }
   ],
   "source": [
    "customer_recomendation(400)"
   ]
  }
 ],
 "metadata": {
  "kernelspec": {
   "display_name": "Python 3",
   "language": "python",
   "name": "python3"
  },
  "language_info": {
   "codemirror_mode": {
    "name": "ipython",
    "version": 3
   },
   "file_extension": ".py",
   "mimetype": "text/x-python",
   "name": "python",
   "nbconvert_exporter": "python",
   "pygments_lexer": "ipython3",
   "version": "3.7.6"
  }
 },
 "nbformat": 4,
 "nbformat_minor": 5
}
