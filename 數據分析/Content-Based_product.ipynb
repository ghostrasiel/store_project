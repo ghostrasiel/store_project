{
 "cells": [
  {
   "cell_type": "markdown",
   "id": "a3ff8e58-1e33-4254-a980-ee8d4f472401",
   "metadata": {},
   "source": [
    "<img src=\"http://www.codeheroku.com/static/blog/images/pid14_rs_diff.png\">\n",
    "\n",
    "使用scikit-learn library進行基於內容的推薦系統。\n",
    "\n",
    "Suppose, you are given the following two texts:\n",
    "\n",
    "Text A: London Paris London\n",
    "\n",
    "Text B: Paris Paris London\n",
    "\n",
    "How would you find the similarity between Text A and Text B?\n",
    "\n",
    "1. Text A: Contains the word “London” 2 times and the word “Paris” 1 time.\n",
    "2. Text B: Contains the word “London” 1 time and the word “Paris” 2 times.\n",
    "<img src=\"http://www.codeheroku.com/static/blog/images/pid14_find_cos_theta.png\">"
   ]
  },
  {
   "cell_type": "code",
   "execution_count": 1,
   "id": "f53be0ca-02a3-45b3-a24c-5984ed48aaf7",
   "metadata": {},
   "outputs": [
    {
     "name": "stdout",
     "output_type": "stream",
     "text": [
      "['london', 'paris']\n",
      "[[2 1]\n",
      " [1 2]]\n"
     ]
    }
   ],
   "source": [
    "text = [\"London Paris London\",\"Paris Paris London\"]\n",
    "\n",
    "from sklearn.feature_extraction.text import CountVectorizer\n",
    "cv = CountVectorizer()\n",
    "count_matrix = cv.fit_transform(text)\n",
    "\n",
    "print(cv.get_feature_names())\n",
    "print(count_matrix.toarray())"
   ]
  },
  {
   "cell_type": "code",
   "execution_count": 2,
   "id": "2fc74256-e0b3-44e7-b97a-dd7149cf6db7",
   "metadata": {},
   "outputs": [
    {
     "name": "stdout",
     "output_type": "stream",
     "text": [
      "[[1.  0.8]\n",
      " [0.8 1. ]]\n"
     ]
    }
   ],
   "source": [
    "from sklearn.metrics.pairwise import cosine_similarity\n",
    "similarity_scores = cosine_similarity(count_matrix)\n",
    "print(similarity_scores)"
   ]
  },
  {
   "cell_type": "markdown",
   "id": "49dc06ea-c848-4a96-8e73-4e2835c8bc9e",
   "metadata": {},
   "source": [
    "====================================================="
   ]
  },
  {
   "cell_type": "code",
   "execution_count": 2,
   "id": "acff94df-d8a4-4ffd-883e-fed7e4e09565",
   "metadata": {},
   "outputs": [],
   "source": [
    "import pandas as pd\n",
    "import numpy as np\n",
    "from sklearn.feature_extraction.text import CountVectorizer\n",
    "from sklearn.metrics.pairwise import cosine_similarity"
   ]
  },
  {
   "cell_type": "code",
   "execution_count": 3,
   "id": "b6cda79e-aee8-4ad6-ba5b-bc98a0e6a732",
   "metadata": {},
   "outputs": [],
   "source": [
    "import pandas as pd\n",
    "pd.options.mode.chained_assignment = None "
   ]
  },
  {
   "cell_type": "code",
   "execution_count": 4,
   "id": "8f6b2ba8-d433-4e89-bba0-a649cb46a7da",
   "metadata": {},
   "outputs": [
    {
     "data": {
      "text/html": [
       "<div>\n",
       "<style scoped>\n",
       "    .dataframe tbody tr th:only-of-type {\n",
       "        vertical-align: middle;\n",
       "    }\n",
       "\n",
       "    .dataframe tbody tr th {\n",
       "        vertical-align: top;\n",
       "    }\n",
       "\n",
       "    .dataframe thead th {\n",
       "        text-align: right;\n",
       "    }\n",
       "</style>\n",
       "<table border=\"1\" class=\"dataframe\">\n",
       "  <thead>\n",
       "    <tr style=\"text-align: right;\">\n",
       "      <th></th>\n",
       "      <th>PRODUCT_ID</th>\n",
       "      <th>MANUFACTURER</th>\n",
       "      <th>DEPARTMENT</th>\n",
       "      <th>BRAND</th>\n",
       "      <th>COMMODITY_DESC</th>\n",
       "      <th>SUB_COMMODITY_DESC</th>\n",
       "      <th>CURR_SIZE_OF_PRODUCT</th>\n",
       "    </tr>\n",
       "  </thead>\n",
       "  <tbody>\n",
       "    <tr>\n",
       "      <th>0</th>\n",
       "      <td>25671</td>\n",
       "      <td>2</td>\n",
       "      <td>GROCERY</td>\n",
       "      <td>National</td>\n",
       "      <td>FRZN ICE</td>\n",
       "      <td>ICE - CRUSHED/CUBED</td>\n",
       "      <td>22 LB</td>\n",
       "    </tr>\n",
       "    <tr>\n",
       "      <th>1</th>\n",
       "      <td>26081</td>\n",
       "      <td>2</td>\n",
       "      <td>MISC. TRANS.</td>\n",
       "      <td>National</td>\n",
       "      <td>NO COMMODITY DESCRIPTION</td>\n",
       "      <td>NO SUBCOMMODITY DESCRIPTION</td>\n",
       "      <td></td>\n",
       "    </tr>\n",
       "    <tr>\n",
       "      <th>2</th>\n",
       "      <td>26093</td>\n",
       "      <td>69</td>\n",
       "      <td>PASTRY</td>\n",
       "      <td>Private</td>\n",
       "      <td>BREAD</td>\n",
       "      <td>BREAD:ITALIAN/FRENCH</td>\n",
       "      <td></td>\n",
       "    </tr>\n",
       "    <tr>\n",
       "      <th>3</th>\n",
       "      <td>26190</td>\n",
       "      <td>69</td>\n",
       "      <td>GROCERY</td>\n",
       "      <td>Private</td>\n",
       "      <td>FRUIT - SHELF STABLE</td>\n",
       "      <td>APPLE SAUCE</td>\n",
       "      <td>50 OZ</td>\n",
       "    </tr>\n",
       "    <tr>\n",
       "      <th>4</th>\n",
       "      <td>26355</td>\n",
       "      <td>69</td>\n",
       "      <td>GROCERY</td>\n",
       "      <td>Private</td>\n",
       "      <td>COOKIES/CONES</td>\n",
       "      <td>SPECIALTY COOKIES</td>\n",
       "      <td>14 OZ</td>\n",
       "    </tr>\n",
       "  </tbody>\n",
       "</table>\n",
       "</div>"
      ],
      "text/plain": [
       "   PRODUCT_ID  MANUFACTURER    DEPARTMENT     BRAND            COMMODITY_DESC  \\\n",
       "0       25671             2       GROCERY  National                  FRZN ICE   \n",
       "1       26081             2  MISC. TRANS.  National  NO COMMODITY DESCRIPTION   \n",
       "2       26093            69        PASTRY   Private                     BREAD   \n",
       "3       26190            69       GROCERY   Private      FRUIT - SHELF STABLE   \n",
       "4       26355            69       GROCERY   Private             COOKIES/CONES   \n",
       "\n",
       "            SUB_COMMODITY_DESC CURR_SIZE_OF_PRODUCT  \n",
       "0          ICE - CRUSHED/CUBED                22 LB  \n",
       "1  NO SUBCOMMODITY DESCRIPTION                       \n",
       "2         BREAD:ITALIAN/FRENCH                       \n",
       "3                  APPLE SAUCE                50 OZ  \n",
       "4            SPECIALTY COOKIES                14 OZ  "
      ]
     },
     "execution_count": 4,
     "metadata": {},
     "output_type": "execute_result"
    }
   ],
   "source": [
    "# Step 1:Read CSV File\n",
    "data = pd.read_csv('./data_file/product.csv')\n",
    "data.head()"
   ]
  },
  {
   "cell_type": "code",
   "execution_count": 5,
   "id": "4b92e0d5-c557-4686-99ab-eef28261ea80",
   "metadata": {},
   "outputs": [],
   "source": [
    "df = data[:10000]\n",
    "df['index'] = pd.Series(range(1,10001) )\n",
    "df['PRODUCT_ID'] = 'P' + (df['PRODUCT_ID'].astype(str))"
   ]
  },
  {
   "cell_type": "code",
   "execution_count": 6,
   "id": "3209532f-f9fd-4f11-89a1-239304260007",
   "metadata": {},
   "outputs": [
    {
     "data": {
      "text/html": [
       "<div>\n",
       "<style scoped>\n",
       "    .dataframe tbody tr th:only-of-type {\n",
       "        vertical-align: middle;\n",
       "    }\n",
       "\n",
       "    .dataframe tbody tr th {\n",
       "        vertical-align: top;\n",
       "    }\n",
       "\n",
       "    .dataframe thead th {\n",
       "        text-align: right;\n",
       "    }\n",
       "</style>\n",
       "<table border=\"1\" class=\"dataframe\">\n",
       "  <thead>\n",
       "    <tr style=\"text-align: right;\">\n",
       "      <th></th>\n",
       "      <th>PRODUCT_ID</th>\n",
       "      <th>MANUFACTURER</th>\n",
       "      <th>DEPARTMENT</th>\n",
       "      <th>BRAND</th>\n",
       "      <th>COMMODITY_DESC</th>\n",
       "      <th>SUB_COMMODITY_DESC</th>\n",
       "      <th>CURR_SIZE_OF_PRODUCT</th>\n",
       "      <th>index</th>\n",
       "    </tr>\n",
       "  </thead>\n",
       "  <tbody>\n",
       "    <tr>\n",
       "      <th>0</th>\n",
       "      <td>P25671</td>\n",
       "      <td>2</td>\n",
       "      <td>GROCERY</td>\n",
       "      <td>National</td>\n",
       "      <td>FRZN ICE</td>\n",
       "      <td>ICE - CRUSHED/CUBED</td>\n",
       "      <td>22 LB</td>\n",
       "      <td>1</td>\n",
       "    </tr>\n",
       "    <tr>\n",
       "      <th>1</th>\n",
       "      <td>P26081</td>\n",
       "      <td>2</td>\n",
       "      <td>MISC. TRANS.</td>\n",
       "      <td>National</td>\n",
       "      <td>NO COMMODITY DESCRIPTION</td>\n",
       "      <td>NO SUBCOMMODITY DESCRIPTION</td>\n",
       "      <td></td>\n",
       "      <td>2</td>\n",
       "    </tr>\n",
       "    <tr>\n",
       "      <th>2</th>\n",
       "      <td>P26093</td>\n",
       "      <td>69</td>\n",
       "      <td>PASTRY</td>\n",
       "      <td>Private</td>\n",
       "      <td>BREAD</td>\n",
       "      <td>BREAD:ITALIAN/FRENCH</td>\n",
       "      <td></td>\n",
       "      <td>3</td>\n",
       "    </tr>\n",
       "    <tr>\n",
       "      <th>3</th>\n",
       "      <td>P26190</td>\n",
       "      <td>69</td>\n",
       "      <td>GROCERY</td>\n",
       "      <td>Private</td>\n",
       "      <td>FRUIT - SHELF STABLE</td>\n",
       "      <td>APPLE SAUCE</td>\n",
       "      <td>50 OZ</td>\n",
       "      <td>4</td>\n",
       "    </tr>\n",
       "    <tr>\n",
       "      <th>4</th>\n",
       "      <td>P26355</td>\n",
       "      <td>69</td>\n",
       "      <td>GROCERY</td>\n",
       "      <td>Private</td>\n",
       "      <td>COOKIES/CONES</td>\n",
       "      <td>SPECIALTY COOKIES</td>\n",
       "      <td>14 OZ</td>\n",
       "      <td>5</td>\n",
       "    </tr>\n",
       "    <tr>\n",
       "      <th>...</th>\n",
       "      <td>...</td>\n",
       "      <td>...</td>\n",
       "      <td>...</td>\n",
       "      <td>...</td>\n",
       "      <td>...</td>\n",
       "      <td>...</td>\n",
       "      <td>...</td>\n",
       "      <td>...</td>\n",
       "    </tr>\n",
       "    <tr>\n",
       "      <th>9995</th>\n",
       "      <td>P855165</td>\n",
       "      <td>1411</td>\n",
       "      <td>DRUG GM</td>\n",
       "      <td>National</td>\n",
       "      <td>HOSIERY/SOCKS</td>\n",
       "      <td>NO-NONSENSE</td>\n",
       "      <td></td>\n",
       "      <td>9996</td>\n",
       "    </tr>\n",
       "    <tr>\n",
       "      <th>9996</th>\n",
       "      <td>P855179</td>\n",
       "      <td>2390</td>\n",
       "      <td>SPIRITS</td>\n",
       "      <td>National</td>\n",
       "      <td>LIQUOR</td>\n",
       "      <td>BOURBON/TN WHISKEY</td>\n",
       "      <td>750ML</td>\n",
       "      <td>9997</td>\n",
       "    </tr>\n",
       "    <tr>\n",
       "      <th>9997</th>\n",
       "      <td>P855192</td>\n",
       "      <td>1251</td>\n",
       "      <td>GROCERY</td>\n",
       "      <td>National</td>\n",
       "      <td>SOUP</td>\n",
       "      <td>RTS SOUP: CHUNKY/HOMESTYLE ET</td>\n",
       "      <td>18.8 OZ</td>\n",
       "      <td>9998</td>\n",
       "    </tr>\n",
       "    <tr>\n",
       "      <th>9998</th>\n",
       "      <td>P855202</td>\n",
       "      <td>794</td>\n",
       "      <td>GROCERY</td>\n",
       "      <td>National</td>\n",
       "      <td>COLD CEREAL</td>\n",
       "      <td>ADULT CEREAL</td>\n",
       "      <td>17.7 OZ</td>\n",
       "      <td>9999</td>\n",
       "    </tr>\n",
       "    <tr>\n",
       "      <th>9999</th>\n",
       "      <td>P855209</td>\n",
       "      <td>69</td>\n",
       "      <td>DRUG GM</td>\n",
       "      <td>Private</td>\n",
       "      <td>INFANT CARE PRODUCTS</td>\n",
       "      <td>MISC. INFANT SUPPLY</td>\n",
       "      <td></td>\n",
       "      <td>10000</td>\n",
       "    </tr>\n",
       "  </tbody>\n",
       "</table>\n",
       "<p>10000 rows × 8 columns</p>\n",
       "</div>"
      ],
      "text/plain": [
       "     PRODUCT_ID  MANUFACTURER    DEPARTMENT     BRAND  \\\n",
       "0        P25671             2       GROCERY  National   \n",
       "1        P26081             2  MISC. TRANS.  National   \n",
       "2        P26093            69        PASTRY   Private   \n",
       "3        P26190            69       GROCERY   Private   \n",
       "4        P26355            69       GROCERY   Private   \n",
       "...         ...           ...           ...       ...   \n",
       "9995    P855165          1411       DRUG GM  National   \n",
       "9996    P855179          2390       SPIRITS  National   \n",
       "9997    P855192          1251       GROCERY  National   \n",
       "9998    P855202           794       GROCERY  National   \n",
       "9999    P855209            69       DRUG GM   Private   \n",
       "\n",
       "                COMMODITY_DESC             SUB_COMMODITY_DESC  \\\n",
       "0                     FRZN ICE            ICE - CRUSHED/CUBED   \n",
       "1     NO COMMODITY DESCRIPTION    NO SUBCOMMODITY DESCRIPTION   \n",
       "2                        BREAD           BREAD:ITALIAN/FRENCH   \n",
       "3         FRUIT - SHELF STABLE                    APPLE SAUCE   \n",
       "4                COOKIES/CONES              SPECIALTY COOKIES   \n",
       "...                        ...                            ...   \n",
       "9995             HOSIERY/SOCKS                    NO-NONSENSE   \n",
       "9996                    LIQUOR             BOURBON/TN WHISKEY   \n",
       "9997                      SOUP  RTS SOUP: CHUNKY/HOMESTYLE ET   \n",
       "9998               COLD CEREAL                   ADULT CEREAL   \n",
       "9999      INFANT CARE PRODUCTS            MISC. INFANT SUPPLY   \n",
       "\n",
       "     CURR_SIZE_OF_PRODUCT  index  \n",
       "0                   22 LB      1  \n",
       "1                              2  \n",
       "2                              3  \n",
       "3                   50 OZ      4  \n",
       "4                   14 OZ      5  \n",
       "...                   ...    ...  \n",
       "9995                        9996  \n",
       "9996                750ML   9997  \n",
       "9997              18.8 OZ   9998  \n",
       "9998              17.7 OZ   9999  \n",
       "9999                       10000  \n",
       "\n",
       "[10000 rows x 8 columns]"
      ]
     },
     "execution_count": 6,
     "metadata": {},
     "output_type": "execute_result"
    }
   ],
   "source": [
    "df"
   ]
  },
  {
   "cell_type": "code",
   "execution_count": 7,
   "id": "a32cd977-3d02-4b16-80bb-e02495d4bab2",
   "metadata": {},
   "outputs": [],
   "source": [
    "# Step 2: Select Features\n",
    "# 選擇產品特徵\n",
    "features = ['DEPARTMENT','BRAND','COMMODITY_DESC','SUB_COMMODITY_DESC']"
   ]
  },
  {
   "cell_type": "code",
   "execution_count": 8,
   "id": "83709032-1026-46c3-87a9-efad2451b726",
   "metadata": {},
   "outputs": [],
   "source": [
    "# Step 3: Create a column in DF which combines all selected features\n",
    "def combine_features(row):\n",
    "    return row['DEPARTMENT']+\" \"+row['BRAND']+\" \"+row['COMMODITY_DESC']+\" \"+row['SUB_COMMODITY_DESC']\n",
    "\n",
    "for feature in features:\n",
    "    df[feature] = df[feature].fillna('') #filling all NaNs with blank string\n",
    "\n",
    "df[\"combined_features\"] = df.apply(combine_features,axis=1) #applying combined_features() method over each rows of dataframe and storing the combined string in \"combined_features\" column\n"
   ]
  },
  {
   "cell_type": "code",
   "execution_count": 9,
   "id": "090cdd9c-3446-494c-b8be-f3e120faab6f",
   "metadata": {},
   "outputs": [],
   "source": [
    "# Step 4: Create count matrix from this new combined column\n",
    "cv = CountVectorizer()\n",
    "\n",
    "count_matrix = cv.fit_transform(df[\"combined_features\"])"
   ]
  },
  {
   "cell_type": "code",
   "execution_count": 10,
   "id": "373112c2-02b1-4df0-ae60-e76013710f81",
   "metadata": {},
   "outputs": [
    {
     "name": "stdout",
     "output_type": "stream",
     "text": [
      "['10', '100', '12', '15', '15lbs', '15pk', '16', '18', '18in', '20pk', '24pk', '42', '42p', '4pk', '50', '5lt', '6pk', '750ml', '8pc', '90', '99', 'abrasives', 'acc', 'access', 'accessiores', 'accessories', 'accss', 'acids', 'acne', 'action', 'activewear', 'activity', 'add', 'added', 'additi', 'additives', 'adhesives', 'adidas', 'adult', 'adults', 'aerosol', 'aerosols', 'aftersun', 'age', 'aid', 'aids', 'air', 'albums', 'alcoholic', 'ale', 'ales', 'alkaline', 'all', 'allergy', 'allieds', 'almay', 'alpo', 'alternative', 'alternatives', 'aluminum', 'american', 'ammonia', 'analgesics', 'and', 'angel', 'animal', 'anjou', 'annuals', 'ant', 'antacids', 'anti', 'antibiotic', 'antiperspirants', 'apparel', 'appetizers', 'apple', 'apples', 'appliances', 'applicators', 'aquarium', 'area', 'aseptic', 'asian', 'asparagus', 'aspic', 'audio', 'australian', 'authentic', 'auto', 'automatic', 'automobile', 'automotive', 'aviation', 'avocado', 'ba', 'baby', 'babyfood', 'back', 'bacon', 'bag']\n",
      "[[0 0 0 ... 0 0 0]\n",
      " [0 0 0 ... 0 0 0]\n",
      " [0 0 0 ... 0 0 0]\n",
      " ...\n",
      " [0 0 0 ... 0 0 0]\n",
      " [0 0 0 ... 0 0 0]\n",
      " [0 0 0 ... 0 0 0]]\n",
      "10000\n"
     ]
    }
   ],
   "source": [
    "print(cv.get_feature_names()[:100])\n",
    "print(count_matrix.toarray())\n",
    "print(len(count_matrix.toarray()))"
   ]
  },
  {
   "cell_type": "code",
   "execution_count": 12,
   "id": "80a80047-3893-447f-bf39-f879778f5db0",
   "metadata": {},
   "outputs": [],
   "source": [
    "# Step 5: Compute the Cosine Similarity based on the count_matrix\n",
    "cosine_sim = cosine_similarity(count_matrix)"
   ]
  },
  {
   "cell_type": "code",
   "execution_count": 13,
   "id": "f161d307-15dd-4945-a81b-0145697e9e85",
   "metadata": {},
   "outputs": [
    {
     "name": "stdout",
     "output_type": "stream",
     "text": [
      "[[1.         0.09245003 0.         ... 0.21081851 0.23570226 0.        ]\n",
      " [0.09245003 1.         0.         ... 0.0877058  0.09805807 0.0836242 ]\n",
      " [0.         0.         1.         ... 0.         0.         0.10660036]\n",
      " ...\n",
      " [0.21081851 0.0877058  0.         ... 1.         0.2236068  0.        ]\n",
      " [0.23570226 0.09805807 0.         ... 0.2236068  1.         0.        ]\n",
      " [0.         0.0836242  0.10660036 ... 0.         0.         1.        ]]\n"
     ]
    }
   ],
   "source": [
    "print(cosine_sim)"
   ]
  },
  {
   "cell_type": "code",
   "execution_count": 14,
   "id": "10d8c276-052c-4376-9a9e-c684a285b731",
   "metadata": {},
   "outputs": [],
   "source": [
    "def get_title_from_index(index):\n",
    "    return df[df.index == index][\"PRODUCT_ID\"].values[0]\n",
    "def get_index_from_title(title):\n",
    "    return df[df.PRODUCT_ID == title][\"index\"].values[0]"
   ]
  },
  {
   "cell_type": "code",
   "execution_count": 15,
   "id": "f5cac3e8-5056-4014-bba3-2633e77fb7f0",
   "metadata": {},
   "outputs": [],
   "source": [
    "# Step 6: Get index of this product from its title\n",
    "product_user_likes = \"P25671\"\n",
    "product_index = get_index_from_title(product_user_likes)\n",
    "sim_products = list(enumerate(cosine_sim[product_index])) "
   ]
  },
  {
   "cell_type": "code",
   "execution_count": 16,
   "id": "df531039-8fef-4bb9-8f1a-3f897c37784b",
   "metadata": {},
   "outputs": [
    {
     "data": {
      "text/plain": [
       "[(0, 0.09245003270420485), (1, 1.0), (2, 0.0), (3, 0.0), (4, 0.0)]"
      ]
     },
     "execution_count": 16,
     "metadata": {},
     "output_type": "execute_result"
    }
   ],
   "source": [
    "sim_products[:5]"
   ]
  },
  {
   "cell_type": "code",
   "execution_count": 17,
   "id": "35ffec6d-1f7d-4eb0-8338-53254f66f5d1",
   "metadata": {},
   "outputs": [],
   "source": [
    "# Step 7: Get a list of similar product in descending order of similarity score\n",
    "sorted_sim_products = sorted(sim_products,key=lambda x:x[1],reverse=True)[1:]\n"
   ]
  },
  {
   "cell_type": "code",
   "execution_count": 18,
   "id": "ab5b71f7-d008-4840-bbf6-8ad484c7a17d",
   "metadata": {},
   "outputs": [
    {
     "name": "stdout",
     "output_type": "stream",
     "text": [
      "Top 10 similar products to P25671 are:\n",
      "\n",
      "P821675\n",
      "P821773\n",
      "P822647\n",
      "P824919\n",
      "P828324\n",
      "P833349\n",
      "P834547\n",
      "P837401\n",
      "P840426\n",
      "P840851\n",
      "P842544\n"
     ]
    }
   ],
   "source": [
    "# 只抓前10個\n",
    "i=0\n",
    "print(\"Top 10 similar products to \"+product_user_likes+\" are:\\n\")\n",
    "for product in sorted_sim_products:\n",
    "    print(get_title_from_index(product[0]))\n",
    "    i=i+1\n",
    "    if i>10:\n",
    "        break"
   ]
  },
  {
   "cell_type": "code",
   "execution_count": null,
   "id": "9812a3ca-3f57-402a-af92-1160d627036a",
   "metadata": {},
   "outputs": [],
   "source": []
  },
  {
   "cell_type": "code",
   "execution_count": null,
   "id": "53da42fa-3baf-4728-8748-cbefe5f50f5f",
   "metadata": {},
   "outputs": [],
   "source": []
  },
  {
   "cell_type": "code",
   "execution_count": null,
   "id": "527afc94-baff-4526-ac15-a3ad0dbf12a1",
   "metadata": {},
   "outputs": [],
   "source": []
  }
 ],
 "metadata": {
  "kernelspec": {
   "display_name": "Python 3",
   "language": "python",
   "name": "python3"
  },
  "language_info": {
   "codemirror_mode": {
    "name": "ipython",
    "version": 3
   },
   "file_extension": ".py",
   "mimetype": "text/x-python",
   "name": "python",
   "nbconvert_exporter": "python",
   "pygments_lexer": "ipython3",
   "version": "3.8.10"
  }
 },
 "nbformat": 4,
 "nbformat_minor": 5
}
