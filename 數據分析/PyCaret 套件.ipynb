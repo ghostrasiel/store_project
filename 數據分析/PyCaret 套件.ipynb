{
 "cells": [
  {
   "cell_type": "code",
   "execution_count": 1,
   "metadata": {},
   "outputs": [],
   "source": [
    "import pycaret\n",
    "from pycaret.regression import *"
   ]
  },
  {
   "cell_type": "code",
   "execution_count": 18,
   "metadata": {},
   "outputs": [
    {
     "data": {
      "text/html": [
       "<div>\n",
       "<style scoped>\n",
       "    .dataframe tbody tr th:only-of-type {\n",
       "        vertical-align: middle;\n",
       "    }\n",
       "\n",
       "    .dataframe tbody tr th {\n",
       "        vertical-align: top;\n",
       "    }\n",
       "\n",
       "    .dataframe thead th {\n",
       "        text-align: right;\n",
       "    }\n",
       "</style>\n",
       "<table border=\"1\" class=\"dataframe\">\n",
       "  <thead>\n",
       "    <tr style=\"text-align: right;\">\n",
       "      <th></th>\n",
       "      <th>DATE</th>\n",
       "      <th>QUANTITY</th>\n",
       "    </tr>\n",
       "  </thead>\n",
       "  <tbody>\n",
       "    <tr>\n",
       "      <th>0</th>\n",
       "      <td>2019-07-01</td>\n",
       "      <td>8</td>\n",
       "    </tr>\n",
       "    <tr>\n",
       "      <th>1</th>\n",
       "      <td>2019-08-01</td>\n",
       "      <td>724</td>\n",
       "    </tr>\n",
       "    <tr>\n",
       "      <th>2</th>\n",
       "      <td>2019-09-01</td>\n",
       "      <td>1439</td>\n",
       "    </tr>\n",
       "    <tr>\n",
       "      <th>3</th>\n",
       "      <td>2019-10-01</td>\n",
       "      <td>2759</td>\n",
       "    </tr>\n",
       "    <tr>\n",
       "      <th>4</th>\n",
       "      <td>2019-11-01</td>\n",
       "      <td>3622</td>\n",
       "    </tr>\n",
       "    <tr>\n",
       "      <th>5</th>\n",
       "      <td>2019-12-01</td>\n",
       "      <td>3764</td>\n",
       "    </tr>\n",
       "    <tr>\n",
       "      <th>6</th>\n",
       "      <td>2020-01-01</td>\n",
       "      <td>3862</td>\n",
       "    </tr>\n",
       "    <tr>\n",
       "      <th>7</th>\n",
       "      <td>2020-02-01</td>\n",
       "      <td>3768</td>\n",
       "    </tr>\n",
       "    <tr>\n",
       "      <th>8</th>\n",
       "      <td>2020-03-01</td>\n",
       "      <td>4618</td>\n",
       "    </tr>\n",
       "    <tr>\n",
       "      <th>9</th>\n",
       "      <td>2020-04-01</td>\n",
       "      <td>4345</td>\n",
       "    </tr>\n",
       "    <tr>\n",
       "      <th>10</th>\n",
       "      <td>2020-05-01</td>\n",
       "      <td>4608</td>\n",
       "    </tr>\n",
       "    <tr>\n",
       "      <th>11</th>\n",
       "      <td>2020-06-01</td>\n",
       "      <td>3593</td>\n",
       "    </tr>\n",
       "    <tr>\n",
       "      <th>12</th>\n",
       "      <td>2020-07-01</td>\n",
       "      <td>4886</td>\n",
       "    </tr>\n",
       "    <tr>\n",
       "      <th>13</th>\n",
       "      <td>2020-08-01</td>\n",
       "      <td>4271</td>\n",
       "    </tr>\n",
       "    <tr>\n",
       "      <th>14</th>\n",
       "      <td>2020-09-01</td>\n",
       "      <td>4533</td>\n",
       "    </tr>\n",
       "    <tr>\n",
       "      <th>15</th>\n",
       "      <td>2020-10-01</td>\n",
       "      <td>4987</td>\n",
       "    </tr>\n",
       "    <tr>\n",
       "      <th>16</th>\n",
       "      <td>2020-11-01</td>\n",
       "      <td>4101</td>\n",
       "    </tr>\n",
       "    <tr>\n",
       "      <th>17</th>\n",
       "      <td>2020-12-01</td>\n",
       "      <td>4854</td>\n",
       "    </tr>\n",
       "    <tr>\n",
       "      <th>18</th>\n",
       "      <td>2021-01-01</td>\n",
       "      <td>4644</td>\n",
       "    </tr>\n",
       "    <tr>\n",
       "      <th>19</th>\n",
       "      <td>2021-02-01</td>\n",
       "      <td>3617</td>\n",
       "    </tr>\n",
       "    <tr>\n",
       "      <th>20</th>\n",
       "      <td>2021-03-01</td>\n",
       "      <td>3813</td>\n",
       "    </tr>\n",
       "    <tr>\n",
       "      <th>21</th>\n",
       "      <td>2021-04-01</td>\n",
       "      <td>4474</td>\n",
       "    </tr>\n",
       "    <tr>\n",
       "      <th>22</th>\n",
       "      <td>2021-05-01</td>\n",
       "      <td>4367</td>\n",
       "    </tr>\n",
       "    <tr>\n",
       "      <th>23</th>\n",
       "      <td>2021-06-01</td>\n",
       "      <td>4606</td>\n",
       "    </tr>\n",
       "    <tr>\n",
       "      <th>24</th>\n",
       "      <td>2021-07-01</td>\n",
       "      <td>1213</td>\n",
       "    </tr>\n",
       "  </tbody>\n",
       "</table>\n",
       "</div>"
      ],
      "text/plain": [
       "         DATE  QUANTITY\n",
       "0  2019-07-01         8\n",
       "1  2019-08-01       724\n",
       "2  2019-09-01      1439\n",
       "3  2019-10-01      2759\n",
       "4  2019-11-01      3622\n",
       "5  2019-12-01      3764\n",
       "6  2020-01-01      3862\n",
       "7  2020-02-01      3768\n",
       "8  2020-03-01      4618\n",
       "9  2020-04-01      4345\n",
       "10 2020-05-01      4608\n",
       "11 2020-06-01      3593\n",
       "12 2020-07-01      4886\n",
       "13 2020-08-01      4271\n",
       "14 2020-09-01      4533\n",
       "15 2020-10-01      4987\n",
       "16 2020-11-01      4101\n",
       "17 2020-12-01      4854\n",
       "18 2021-01-01      4644\n",
       "19 2021-02-01      3617\n",
       "20 2021-03-01      3813\n",
       "21 2021-04-01      4474\n",
       "22 2021-05-01      4367\n",
       "23 2021-06-01      4606\n",
       "24 2021-07-01      1213"
      ]
     },
     "execution_count": 18,
     "metadata": {},
     "output_type": "execute_result"
    }
   ],
   "source": [
    "import pandas as pd\n",
    "from pandas import to_datetime\n",
    "\n",
    "df = pd.read_csv('../transaction_data_version3.csv')\n",
    "product_df = pd.read_csv('../product.csv')\n",
    "product_df1 = product_df[['PRODUCT_ID','SUB_COMMODITY_DESC']]\n",
    "df_merge = df.merge(product_df1,on='PRODUCT_ID')\n",
    "df_merge.groupby('SUB_COMMODITY_DESC')['QUANTITY'].sum().sort_values()\n",
    "df_milk = df_merge.query('SUB_COMMODITY_DESC == \"FLUID MILK WHITE ONLY\"')\n",
    "df_milk_1 = df_milk[['DATE','QUANTITY']]\n",
    "df_milk_1 = df_milk_1.groupby('DATE')['QUANTITY'].sum().reset_index()\n",
    "df_milk_1['DATE']= to_datetime(df_milk_1['DATE'])\n",
    "df_milk_1['DATE'] = df_milk_1['DATE'].dt.strftime('%Y-%m')\n",
    "df_milk_1 = df_milk_1.groupby('DATE')['QUANTITY'].sum().reset_index()\n",
    "df_milk_1['DATE'] = pd.to_datetime(df_milk_1['DATE'])\n",
    "df_milk_1"
   ]
  },
  {
   "cell_type": "code",
   "execution_count": 20,
   "metadata": {},
   "outputs": [
    {
     "data": {
      "application/vnd.plotly.v1+json": {
       "config": {
        "plotlyServerURL": "https://plot.ly"
       },
       "data": [
        {
         "hovertemplate": "variable=QUANTITY<br>DATE=%{x}<br>value=%{y}<extra></extra>",
         "legendgroup": "QUANTITY",
         "line": {
          "color": "#636efa",
          "dash": "solid"
         },
         "mode": "lines",
         "name": "QUANTITY",
         "orientation": "v",
         "showlegend": true,
         "type": "scatter",
         "x": [
          "2019-07-01T00:00:00",
          "2019-08-01T00:00:00",
          "2019-09-01T00:00:00",
          "2019-10-01T00:00:00",
          "2019-11-01T00:00:00",
          "2019-12-01T00:00:00",
          "2020-01-01T00:00:00",
          "2020-02-01T00:00:00",
          "2020-03-01T00:00:00",
          "2020-04-01T00:00:00",
          "2020-05-01T00:00:00",
          "2020-06-01T00:00:00",
          "2020-07-01T00:00:00",
          "2020-08-01T00:00:00",
          "2020-09-01T00:00:00",
          "2020-10-01T00:00:00",
          "2020-11-01T00:00:00",
          "2020-12-01T00:00:00",
          "2021-01-01T00:00:00",
          "2021-02-01T00:00:00",
          "2021-03-01T00:00:00",
          "2021-04-01T00:00:00",
          "2021-05-01T00:00:00",
          "2021-06-01T00:00:00",
          "2021-07-01T00:00:00"
         ],
         "xaxis": "x",
         "y": [
          8,
          724,
          1439,
          2759,
          3622,
          3764,
          3862,
          3768,
          4618,
          4345,
          4608,
          3593,
          4886,
          4271,
          4533,
          4987,
          4101,
          4854,
          4644,
          3617,
          3813,
          4474,
          4367,
          4606,
          1213
         ],
         "yaxis": "y"
        },
        {
         "hovertemplate": "variable=MA12<br>DATE=%{x}<br>value=%{y}<extra></extra>",
         "legendgroup": "MA12",
         "line": {
          "color": "#EF553B",
          "dash": "solid"
         },
         "mode": "lines",
         "name": "MA12",
         "orientation": "v",
         "showlegend": true,
         "type": "scatter",
         "x": [
          "2019-07-01T00:00:00",
          "2019-08-01T00:00:00",
          "2019-09-01T00:00:00",
          "2019-10-01T00:00:00",
          "2019-11-01T00:00:00",
          "2019-12-01T00:00:00",
          "2020-01-01T00:00:00",
          "2020-02-01T00:00:00",
          "2020-03-01T00:00:00",
          "2020-04-01T00:00:00",
          "2020-05-01T00:00:00",
          "2020-06-01T00:00:00",
          "2020-07-01T00:00:00",
          "2020-08-01T00:00:00",
          "2020-09-01T00:00:00",
          "2020-10-01T00:00:00",
          "2020-11-01T00:00:00",
          "2020-12-01T00:00:00",
          "2021-01-01T00:00:00",
          "2021-02-01T00:00:00",
          "2021-03-01T00:00:00",
          "2021-04-01T00:00:00",
          "2021-05-01T00:00:00",
          "2021-06-01T00:00:00",
          "2021-07-01T00:00:00"
         ],
         "xaxis": "x",
         "y": [
          null,
          366,
          1081.5,
          2099,
          3190.5,
          3693,
          3813,
          3815,
          4193,
          4481.5,
          4476.5,
          4100.5,
          4239.5,
          4578.5,
          4402,
          4760,
          4544,
          4477.5,
          4749,
          4130.5,
          3715,
          4143.5,
          4420.5,
          4486.5,
          2909.5
         ],
         "yaxis": "y"
        }
       ],
       "layout": {
        "legend": {
         "title": {
          "text": "variable"
         },
         "tracegroupgap": 0
        },
        "margin": {
         "t": 60
        },
        "template": {
         "data": {
          "bar": [
           {
            "error_x": {
             "color": "#f2f5fa"
            },
            "error_y": {
             "color": "#f2f5fa"
            },
            "marker": {
             "line": {
              "color": "rgb(17,17,17)",
              "width": 0.5
             },
             "pattern": {
              "fillmode": "overlay",
              "size": 10,
              "solidity": 0.2
             }
            },
            "type": "bar"
           }
          ],
          "barpolar": [
           {
            "marker": {
             "line": {
              "color": "rgb(17,17,17)",
              "width": 0.5
             },
             "pattern": {
              "fillmode": "overlay",
              "size": 10,
              "solidity": 0.2
             }
            },
            "type": "barpolar"
           }
          ],
          "carpet": [
           {
            "aaxis": {
             "endlinecolor": "#A2B1C6",
             "gridcolor": "#506784",
             "linecolor": "#506784",
             "minorgridcolor": "#506784",
             "startlinecolor": "#A2B1C6"
            },
            "baxis": {
             "endlinecolor": "#A2B1C6",
             "gridcolor": "#506784",
             "linecolor": "#506784",
             "minorgridcolor": "#506784",
             "startlinecolor": "#A2B1C6"
            },
            "type": "carpet"
           }
          ],
          "choropleth": [
           {
            "colorbar": {
             "outlinewidth": 0,
             "ticks": ""
            },
            "type": "choropleth"
           }
          ],
          "contour": [
           {
            "colorbar": {
             "outlinewidth": 0,
             "ticks": ""
            },
            "colorscale": [
             [
              0,
              "#0d0887"
             ],
             [
              0.1111111111111111,
              "#46039f"
             ],
             [
              0.2222222222222222,
              "#7201a8"
             ],
             [
              0.3333333333333333,
              "#9c179e"
             ],
             [
              0.4444444444444444,
              "#bd3786"
             ],
             [
              0.5555555555555556,
              "#d8576b"
             ],
             [
              0.6666666666666666,
              "#ed7953"
             ],
             [
              0.7777777777777778,
              "#fb9f3a"
             ],
             [
              0.8888888888888888,
              "#fdca26"
             ],
             [
              1,
              "#f0f921"
             ]
            ],
            "type": "contour"
           }
          ],
          "contourcarpet": [
           {
            "colorbar": {
             "outlinewidth": 0,
             "ticks": ""
            },
            "type": "contourcarpet"
           }
          ],
          "heatmap": [
           {
            "colorbar": {
             "outlinewidth": 0,
             "ticks": ""
            },
            "colorscale": [
             [
              0,
              "#0d0887"
             ],
             [
              0.1111111111111111,
              "#46039f"
             ],
             [
              0.2222222222222222,
              "#7201a8"
             ],
             [
              0.3333333333333333,
              "#9c179e"
             ],
             [
              0.4444444444444444,
              "#bd3786"
             ],
             [
              0.5555555555555556,
              "#d8576b"
             ],
             [
              0.6666666666666666,
              "#ed7953"
             ],
             [
              0.7777777777777778,
              "#fb9f3a"
             ],
             [
              0.8888888888888888,
              "#fdca26"
             ],
             [
              1,
              "#f0f921"
             ]
            ],
            "type": "heatmap"
           }
          ],
          "heatmapgl": [
           {
            "colorbar": {
             "outlinewidth": 0,
             "ticks": ""
            },
            "colorscale": [
             [
              0,
              "#0d0887"
             ],
             [
              0.1111111111111111,
              "#46039f"
             ],
             [
              0.2222222222222222,
              "#7201a8"
             ],
             [
              0.3333333333333333,
              "#9c179e"
             ],
             [
              0.4444444444444444,
              "#bd3786"
             ],
             [
              0.5555555555555556,
              "#d8576b"
             ],
             [
              0.6666666666666666,
              "#ed7953"
             ],
             [
              0.7777777777777778,
              "#fb9f3a"
             ],
             [
              0.8888888888888888,
              "#fdca26"
             ],
             [
              1,
              "#f0f921"
             ]
            ],
            "type": "heatmapgl"
           }
          ],
          "histogram": [
           {
            "marker": {
             "pattern": {
              "fillmode": "overlay",
              "size": 10,
              "solidity": 0.2
             }
            },
            "type": "histogram"
           }
          ],
          "histogram2d": [
           {
            "colorbar": {
             "outlinewidth": 0,
             "ticks": ""
            },
            "colorscale": [
             [
              0,
              "#0d0887"
             ],
             [
              0.1111111111111111,
              "#46039f"
             ],
             [
              0.2222222222222222,
              "#7201a8"
             ],
             [
              0.3333333333333333,
              "#9c179e"
             ],
             [
              0.4444444444444444,
              "#bd3786"
             ],
             [
              0.5555555555555556,
              "#d8576b"
             ],
             [
              0.6666666666666666,
              "#ed7953"
             ],
             [
              0.7777777777777778,
              "#fb9f3a"
             ],
             [
              0.8888888888888888,
              "#fdca26"
             ],
             [
              1,
              "#f0f921"
             ]
            ],
            "type": "histogram2d"
           }
          ],
          "histogram2dcontour": [
           {
            "colorbar": {
             "outlinewidth": 0,
             "ticks": ""
            },
            "colorscale": [
             [
              0,
              "#0d0887"
             ],
             [
              0.1111111111111111,
              "#46039f"
             ],
             [
              0.2222222222222222,
              "#7201a8"
             ],
             [
              0.3333333333333333,
              "#9c179e"
             ],
             [
              0.4444444444444444,
              "#bd3786"
             ],
             [
              0.5555555555555556,
              "#d8576b"
             ],
             [
              0.6666666666666666,
              "#ed7953"
             ],
             [
              0.7777777777777778,
              "#fb9f3a"
             ],
             [
              0.8888888888888888,
              "#fdca26"
             ],
             [
              1,
              "#f0f921"
             ]
            ],
            "type": "histogram2dcontour"
           }
          ],
          "mesh3d": [
           {
            "colorbar": {
             "outlinewidth": 0,
             "ticks": ""
            },
            "type": "mesh3d"
           }
          ],
          "parcoords": [
           {
            "line": {
             "colorbar": {
              "outlinewidth": 0,
              "ticks": ""
             }
            },
            "type": "parcoords"
           }
          ],
          "pie": [
           {
            "automargin": true,
            "type": "pie"
           }
          ],
          "scatter": [
           {
            "marker": {
             "line": {
              "color": "#283442"
             }
            },
            "type": "scatter"
           }
          ],
          "scatter3d": [
           {
            "line": {
             "colorbar": {
              "outlinewidth": 0,
              "ticks": ""
             }
            },
            "marker": {
             "colorbar": {
              "outlinewidth": 0,
              "ticks": ""
             }
            },
            "type": "scatter3d"
           }
          ],
          "scattercarpet": [
           {
            "marker": {
             "colorbar": {
              "outlinewidth": 0,
              "ticks": ""
             }
            },
            "type": "scattercarpet"
           }
          ],
          "scattergeo": [
           {
            "marker": {
             "colorbar": {
              "outlinewidth": 0,
              "ticks": ""
             }
            },
            "type": "scattergeo"
           }
          ],
          "scattergl": [
           {
            "marker": {
             "line": {
              "color": "#283442"
             }
            },
            "type": "scattergl"
           }
          ],
          "scattermapbox": [
           {
            "marker": {
             "colorbar": {
              "outlinewidth": 0,
              "ticks": ""
             }
            },
            "type": "scattermapbox"
           }
          ],
          "scatterpolar": [
           {
            "marker": {
             "colorbar": {
              "outlinewidth": 0,
              "ticks": ""
             }
            },
            "type": "scatterpolar"
           }
          ],
          "scatterpolargl": [
           {
            "marker": {
             "colorbar": {
              "outlinewidth": 0,
              "ticks": ""
             }
            },
            "type": "scatterpolargl"
           }
          ],
          "scatterternary": [
           {
            "marker": {
             "colorbar": {
              "outlinewidth": 0,
              "ticks": ""
             }
            },
            "type": "scatterternary"
           }
          ],
          "surface": [
           {
            "colorbar": {
             "outlinewidth": 0,
             "ticks": ""
            },
            "colorscale": [
             [
              0,
              "#0d0887"
             ],
             [
              0.1111111111111111,
              "#46039f"
             ],
             [
              0.2222222222222222,
              "#7201a8"
             ],
             [
              0.3333333333333333,
              "#9c179e"
             ],
             [
              0.4444444444444444,
              "#bd3786"
             ],
             [
              0.5555555555555556,
              "#d8576b"
             ],
             [
              0.6666666666666666,
              "#ed7953"
             ],
             [
              0.7777777777777778,
              "#fb9f3a"
             ],
             [
              0.8888888888888888,
              "#fdca26"
             ],
             [
              1,
              "#f0f921"
             ]
            ],
            "type": "surface"
           }
          ],
          "table": [
           {
            "cells": {
             "fill": {
              "color": "#506784"
             },
             "line": {
              "color": "rgb(17,17,17)"
             }
            },
            "header": {
             "fill": {
              "color": "#2a3f5f"
             },
             "line": {
              "color": "rgb(17,17,17)"
             }
            },
            "type": "table"
           }
          ]
         },
         "layout": {
          "annotationdefaults": {
           "arrowcolor": "#f2f5fa",
           "arrowhead": 0,
           "arrowwidth": 1
          },
          "autotypenumbers": "strict",
          "coloraxis": {
           "colorbar": {
            "outlinewidth": 0,
            "ticks": ""
           }
          },
          "colorscale": {
           "diverging": [
            [
             0,
             "#8e0152"
            ],
            [
             0.1,
             "#c51b7d"
            ],
            [
             0.2,
             "#de77ae"
            ],
            [
             0.3,
             "#f1b6da"
            ],
            [
             0.4,
             "#fde0ef"
            ],
            [
             0.5,
             "#f7f7f7"
            ],
            [
             0.6,
             "#e6f5d0"
            ],
            [
             0.7,
             "#b8e186"
            ],
            [
             0.8,
             "#7fbc41"
            ],
            [
             0.9,
             "#4d9221"
            ],
            [
             1,
             "#276419"
            ]
           ],
           "sequential": [
            [
             0,
             "#0d0887"
            ],
            [
             0.1111111111111111,
             "#46039f"
            ],
            [
             0.2222222222222222,
             "#7201a8"
            ],
            [
             0.3333333333333333,
             "#9c179e"
            ],
            [
             0.4444444444444444,
             "#bd3786"
            ],
            [
             0.5555555555555556,
             "#d8576b"
            ],
            [
             0.6666666666666666,
             "#ed7953"
            ],
            [
             0.7777777777777778,
             "#fb9f3a"
            ],
            [
             0.8888888888888888,
             "#fdca26"
            ],
            [
             1,
             "#f0f921"
            ]
           ],
           "sequentialminus": [
            [
             0,
             "#0d0887"
            ],
            [
             0.1111111111111111,
             "#46039f"
            ],
            [
             0.2222222222222222,
             "#7201a8"
            ],
            [
             0.3333333333333333,
             "#9c179e"
            ],
            [
             0.4444444444444444,
             "#bd3786"
            ],
            [
             0.5555555555555556,
             "#d8576b"
            ],
            [
             0.6666666666666666,
             "#ed7953"
            ],
            [
             0.7777777777777778,
             "#fb9f3a"
            ],
            [
             0.8888888888888888,
             "#fdca26"
            ],
            [
             1,
             "#f0f921"
            ]
           ]
          },
          "colorway": [
           "#636efa",
           "#EF553B",
           "#00cc96",
           "#ab63fa",
           "#FFA15A",
           "#19d3f3",
           "#FF6692",
           "#B6E880",
           "#FF97FF",
           "#FECB52"
          ],
          "font": {
           "color": "#f2f5fa"
          },
          "geo": {
           "bgcolor": "rgb(17,17,17)",
           "lakecolor": "rgb(17,17,17)",
           "landcolor": "rgb(17,17,17)",
           "showlakes": true,
           "showland": true,
           "subunitcolor": "#506784"
          },
          "hoverlabel": {
           "align": "left"
          },
          "hovermode": "closest",
          "mapbox": {
           "style": "dark"
          },
          "paper_bgcolor": "rgb(17,17,17)",
          "plot_bgcolor": "rgb(17,17,17)",
          "polar": {
           "angularaxis": {
            "gridcolor": "#506784",
            "linecolor": "#506784",
            "ticks": ""
           },
           "bgcolor": "rgb(17,17,17)",
           "radialaxis": {
            "gridcolor": "#506784",
            "linecolor": "#506784",
            "ticks": ""
           }
          },
          "scene": {
           "xaxis": {
            "backgroundcolor": "rgb(17,17,17)",
            "gridcolor": "#506784",
            "gridwidth": 2,
            "linecolor": "#506784",
            "showbackground": true,
            "ticks": "",
            "zerolinecolor": "#C8D4E3"
           },
           "yaxis": {
            "backgroundcolor": "rgb(17,17,17)",
            "gridcolor": "#506784",
            "gridwidth": 2,
            "linecolor": "#506784",
            "showbackground": true,
            "ticks": "",
            "zerolinecolor": "#C8D4E3"
           },
           "zaxis": {
            "backgroundcolor": "rgb(17,17,17)",
            "gridcolor": "#506784",
            "gridwidth": 2,
            "linecolor": "#506784",
            "showbackground": true,
            "ticks": "",
            "zerolinecolor": "#C8D4E3"
           }
          },
          "shapedefaults": {
           "line": {
            "color": "#f2f5fa"
           }
          },
          "sliderdefaults": {
           "bgcolor": "#C8D4E3",
           "bordercolor": "rgb(17,17,17)",
           "borderwidth": 1,
           "tickwidth": 0
          },
          "ternary": {
           "aaxis": {
            "gridcolor": "#506784",
            "linecolor": "#506784",
            "ticks": ""
           },
           "baxis": {
            "gridcolor": "#506784",
            "linecolor": "#506784",
            "ticks": ""
           },
           "bgcolor": "rgb(17,17,17)",
           "caxis": {
            "gridcolor": "#506784",
            "linecolor": "#506784",
            "ticks": ""
           }
          },
          "title": {
           "x": 0.05
          },
          "updatemenudefaults": {
           "bgcolor": "#506784",
           "borderwidth": 0
          },
          "xaxis": {
           "automargin": true,
           "gridcolor": "#283442",
           "linecolor": "#506784",
           "ticks": "",
           "title": {
            "standoff": 15
           },
           "zerolinecolor": "#283442",
           "zerolinewidth": 2
          },
          "yaxis": {
           "automargin": true,
           "gridcolor": "#283442",
           "linecolor": "#506784",
           "ticks": "",
           "title": {
            "standoff": 15
           },
           "zerolinecolor": "#283442",
           "zerolinewidth": 2
          }
         }
        },
        "xaxis": {
         "anchor": "y",
         "domain": [
          0,
          1
         ],
         "title": {
          "text": "DATE"
         }
        },
        "yaxis": {
         "anchor": "x",
         "domain": [
          0,
          1
         ],
         "title": {
          "text": "value"
         }
        }
       }
      },
      "text/html": [
       "<div>                            <div id=\"690f09f8-b033-422a-8143-0a915c726f18\" class=\"plotly-graph-div\" style=\"height:525px; width:100%;\"></div>            <script type=\"text/javascript\">                require([\"plotly\"], function(Plotly) {                    window.PLOTLYENV=window.PLOTLYENV || {};                                    if (document.getElementById(\"690f09f8-b033-422a-8143-0a915c726f18\")) {                    Plotly.newPlot(                        \"690f09f8-b033-422a-8143-0a915c726f18\",                        [{\"hovertemplate\":\"variable=QUANTITY<br>DATE=%{x}<br>value=%{y}<extra></extra>\",\"legendgroup\":\"QUANTITY\",\"line\":{\"color\":\"#636efa\",\"dash\":\"solid\"},\"mode\":\"lines\",\"name\":\"QUANTITY\",\"orientation\":\"v\",\"showlegend\":true,\"type\":\"scatter\",\"x\":[\"2019-07-01T00:00:00\",\"2019-08-01T00:00:00\",\"2019-09-01T00:00:00\",\"2019-10-01T00:00:00\",\"2019-11-01T00:00:00\",\"2019-12-01T00:00:00\",\"2020-01-01T00:00:00\",\"2020-02-01T00:00:00\",\"2020-03-01T00:00:00\",\"2020-04-01T00:00:00\",\"2020-05-01T00:00:00\",\"2020-06-01T00:00:00\",\"2020-07-01T00:00:00\",\"2020-08-01T00:00:00\",\"2020-09-01T00:00:00\",\"2020-10-01T00:00:00\",\"2020-11-01T00:00:00\",\"2020-12-01T00:00:00\",\"2021-01-01T00:00:00\",\"2021-02-01T00:00:00\",\"2021-03-01T00:00:00\",\"2021-04-01T00:00:00\",\"2021-05-01T00:00:00\",\"2021-06-01T00:00:00\",\"2021-07-01T00:00:00\"],\"xaxis\":\"x\",\"y\":[8.0,724.0,1439.0,2759.0,3622.0,3764.0,3862.0,3768.0,4618.0,4345.0,4608.0,3593.0,4886.0,4271.0,4533.0,4987.0,4101.0,4854.0,4644.0,3617.0,3813.0,4474.0,4367.0,4606.0,1213.0],\"yaxis\":\"y\"},{\"hovertemplate\":\"variable=MA12<br>DATE=%{x}<br>value=%{y}<extra></extra>\",\"legendgroup\":\"MA12\",\"line\":{\"color\":\"#EF553B\",\"dash\":\"solid\"},\"mode\":\"lines\",\"name\":\"MA12\",\"orientation\":\"v\",\"showlegend\":true,\"type\":\"scatter\",\"x\":[\"2019-07-01T00:00:00\",\"2019-08-01T00:00:00\",\"2019-09-01T00:00:00\",\"2019-10-01T00:00:00\",\"2019-11-01T00:00:00\",\"2019-12-01T00:00:00\",\"2020-01-01T00:00:00\",\"2020-02-01T00:00:00\",\"2020-03-01T00:00:00\",\"2020-04-01T00:00:00\",\"2020-05-01T00:00:00\",\"2020-06-01T00:00:00\",\"2020-07-01T00:00:00\",\"2020-08-01T00:00:00\",\"2020-09-01T00:00:00\",\"2020-10-01T00:00:00\",\"2020-11-01T00:00:00\",\"2020-12-01T00:00:00\",\"2021-01-01T00:00:00\",\"2021-02-01T00:00:00\",\"2021-03-01T00:00:00\",\"2021-04-01T00:00:00\",\"2021-05-01T00:00:00\",\"2021-06-01T00:00:00\",\"2021-07-01T00:00:00\"],\"xaxis\":\"x\",\"y\":[null,366.0,1081.5,2099.0,3190.5,3693.0,3813.0,3815.0,4193.0,4481.5,4476.5,4100.5,4239.5,4578.5,4402.0,4760.0,4544.0,4477.5,4749.0,4130.5,3715.0,4143.5,4420.5,4486.5,2909.5],\"yaxis\":\"y\"}],                        {\"legend\":{\"title\":{\"text\":\"variable\"},\"tracegroupgap\":0},\"margin\":{\"t\":60},\"template\":{\"data\":{\"bar\":[{\"error_x\":{\"color\":\"#f2f5fa\"},\"error_y\":{\"color\":\"#f2f5fa\"},\"marker\":{\"line\":{\"color\":\"rgb(17,17,17)\",\"width\":0.5},\"pattern\":{\"fillmode\":\"overlay\",\"size\":10,\"solidity\":0.2}},\"type\":\"bar\"}],\"barpolar\":[{\"marker\":{\"line\":{\"color\":\"rgb(17,17,17)\",\"width\":0.5},\"pattern\":{\"fillmode\":\"overlay\",\"size\":10,\"solidity\":0.2}},\"type\":\"barpolar\"}],\"carpet\":[{\"aaxis\":{\"endlinecolor\":\"#A2B1C6\",\"gridcolor\":\"#506784\",\"linecolor\":\"#506784\",\"minorgridcolor\":\"#506784\",\"startlinecolor\":\"#A2B1C6\"},\"baxis\":{\"endlinecolor\":\"#A2B1C6\",\"gridcolor\":\"#506784\",\"linecolor\":\"#506784\",\"minorgridcolor\":\"#506784\",\"startlinecolor\":\"#A2B1C6\"},\"type\":\"carpet\"}],\"choropleth\":[{\"colorbar\":{\"outlinewidth\":0,\"ticks\":\"\"},\"type\":\"choropleth\"}],\"contour\":[{\"colorbar\":{\"outlinewidth\":0,\"ticks\":\"\"},\"colorscale\":[[0.0,\"#0d0887\"],[0.1111111111111111,\"#46039f\"],[0.2222222222222222,\"#7201a8\"],[0.3333333333333333,\"#9c179e\"],[0.4444444444444444,\"#bd3786\"],[0.5555555555555556,\"#d8576b\"],[0.6666666666666666,\"#ed7953\"],[0.7777777777777778,\"#fb9f3a\"],[0.8888888888888888,\"#fdca26\"],[1.0,\"#f0f921\"]],\"type\":\"contour\"}],\"contourcarpet\":[{\"colorbar\":{\"outlinewidth\":0,\"ticks\":\"\"},\"type\":\"contourcarpet\"}],\"heatmap\":[{\"colorbar\":{\"outlinewidth\":0,\"ticks\":\"\"},\"colorscale\":[[0.0,\"#0d0887\"],[0.1111111111111111,\"#46039f\"],[0.2222222222222222,\"#7201a8\"],[0.3333333333333333,\"#9c179e\"],[0.4444444444444444,\"#bd3786\"],[0.5555555555555556,\"#d8576b\"],[0.6666666666666666,\"#ed7953\"],[0.7777777777777778,\"#fb9f3a\"],[0.8888888888888888,\"#fdca26\"],[1.0,\"#f0f921\"]],\"type\":\"heatmap\"}],\"heatmapgl\":[{\"colorbar\":{\"outlinewidth\":0,\"ticks\":\"\"},\"colorscale\":[[0.0,\"#0d0887\"],[0.1111111111111111,\"#46039f\"],[0.2222222222222222,\"#7201a8\"],[0.3333333333333333,\"#9c179e\"],[0.4444444444444444,\"#bd3786\"],[0.5555555555555556,\"#d8576b\"],[0.6666666666666666,\"#ed7953\"],[0.7777777777777778,\"#fb9f3a\"],[0.8888888888888888,\"#fdca26\"],[1.0,\"#f0f921\"]],\"type\":\"heatmapgl\"}],\"histogram\":[{\"marker\":{\"pattern\":{\"fillmode\":\"overlay\",\"size\":10,\"solidity\":0.2}},\"type\":\"histogram\"}],\"histogram2d\":[{\"colorbar\":{\"outlinewidth\":0,\"ticks\":\"\"},\"colorscale\":[[0.0,\"#0d0887\"],[0.1111111111111111,\"#46039f\"],[0.2222222222222222,\"#7201a8\"],[0.3333333333333333,\"#9c179e\"],[0.4444444444444444,\"#bd3786\"],[0.5555555555555556,\"#d8576b\"],[0.6666666666666666,\"#ed7953\"],[0.7777777777777778,\"#fb9f3a\"],[0.8888888888888888,\"#fdca26\"],[1.0,\"#f0f921\"]],\"type\":\"histogram2d\"}],\"histogram2dcontour\":[{\"colorbar\":{\"outlinewidth\":0,\"ticks\":\"\"},\"colorscale\":[[0.0,\"#0d0887\"],[0.1111111111111111,\"#46039f\"],[0.2222222222222222,\"#7201a8\"],[0.3333333333333333,\"#9c179e\"],[0.4444444444444444,\"#bd3786\"],[0.5555555555555556,\"#d8576b\"],[0.6666666666666666,\"#ed7953\"],[0.7777777777777778,\"#fb9f3a\"],[0.8888888888888888,\"#fdca26\"],[1.0,\"#f0f921\"]],\"type\":\"histogram2dcontour\"}],\"mesh3d\":[{\"colorbar\":{\"outlinewidth\":0,\"ticks\":\"\"},\"type\":\"mesh3d\"}],\"parcoords\":[{\"line\":{\"colorbar\":{\"outlinewidth\":0,\"ticks\":\"\"}},\"type\":\"parcoords\"}],\"pie\":[{\"automargin\":true,\"type\":\"pie\"}],\"scatter\":[{\"marker\":{\"line\":{\"color\":\"#283442\"}},\"type\":\"scatter\"}],\"scatter3d\":[{\"line\":{\"colorbar\":{\"outlinewidth\":0,\"ticks\":\"\"}},\"marker\":{\"colorbar\":{\"outlinewidth\":0,\"ticks\":\"\"}},\"type\":\"scatter3d\"}],\"scattercarpet\":[{\"marker\":{\"colorbar\":{\"outlinewidth\":0,\"ticks\":\"\"}},\"type\":\"scattercarpet\"}],\"scattergeo\":[{\"marker\":{\"colorbar\":{\"outlinewidth\":0,\"ticks\":\"\"}},\"type\":\"scattergeo\"}],\"scattergl\":[{\"marker\":{\"line\":{\"color\":\"#283442\"}},\"type\":\"scattergl\"}],\"scattermapbox\":[{\"marker\":{\"colorbar\":{\"outlinewidth\":0,\"ticks\":\"\"}},\"type\":\"scattermapbox\"}],\"scatterpolar\":[{\"marker\":{\"colorbar\":{\"outlinewidth\":0,\"ticks\":\"\"}},\"type\":\"scatterpolar\"}],\"scatterpolargl\":[{\"marker\":{\"colorbar\":{\"outlinewidth\":0,\"ticks\":\"\"}},\"type\":\"scatterpolargl\"}],\"scatterternary\":[{\"marker\":{\"colorbar\":{\"outlinewidth\":0,\"ticks\":\"\"}},\"type\":\"scatterternary\"}],\"surface\":[{\"colorbar\":{\"outlinewidth\":0,\"ticks\":\"\"},\"colorscale\":[[0.0,\"#0d0887\"],[0.1111111111111111,\"#46039f\"],[0.2222222222222222,\"#7201a8\"],[0.3333333333333333,\"#9c179e\"],[0.4444444444444444,\"#bd3786\"],[0.5555555555555556,\"#d8576b\"],[0.6666666666666666,\"#ed7953\"],[0.7777777777777778,\"#fb9f3a\"],[0.8888888888888888,\"#fdca26\"],[1.0,\"#f0f921\"]],\"type\":\"surface\"}],\"table\":[{\"cells\":{\"fill\":{\"color\":\"#506784\"},\"line\":{\"color\":\"rgb(17,17,17)\"}},\"header\":{\"fill\":{\"color\":\"#2a3f5f\"},\"line\":{\"color\":\"rgb(17,17,17)\"}},\"type\":\"table\"}]},\"layout\":{\"annotationdefaults\":{\"arrowcolor\":\"#f2f5fa\",\"arrowhead\":0,\"arrowwidth\":1},\"autotypenumbers\":\"strict\",\"coloraxis\":{\"colorbar\":{\"outlinewidth\":0,\"ticks\":\"\"}},\"colorscale\":{\"diverging\":[[0,\"#8e0152\"],[0.1,\"#c51b7d\"],[0.2,\"#de77ae\"],[0.3,\"#f1b6da\"],[0.4,\"#fde0ef\"],[0.5,\"#f7f7f7\"],[0.6,\"#e6f5d0\"],[0.7,\"#b8e186\"],[0.8,\"#7fbc41\"],[0.9,\"#4d9221\"],[1,\"#276419\"]],\"sequential\":[[0.0,\"#0d0887\"],[0.1111111111111111,\"#46039f\"],[0.2222222222222222,\"#7201a8\"],[0.3333333333333333,\"#9c179e\"],[0.4444444444444444,\"#bd3786\"],[0.5555555555555556,\"#d8576b\"],[0.6666666666666666,\"#ed7953\"],[0.7777777777777778,\"#fb9f3a\"],[0.8888888888888888,\"#fdca26\"],[1.0,\"#f0f921\"]],\"sequentialminus\":[[0.0,\"#0d0887\"],[0.1111111111111111,\"#46039f\"],[0.2222222222222222,\"#7201a8\"],[0.3333333333333333,\"#9c179e\"],[0.4444444444444444,\"#bd3786\"],[0.5555555555555556,\"#d8576b\"],[0.6666666666666666,\"#ed7953\"],[0.7777777777777778,\"#fb9f3a\"],[0.8888888888888888,\"#fdca26\"],[1.0,\"#f0f921\"]]},\"colorway\":[\"#636efa\",\"#EF553B\",\"#00cc96\",\"#ab63fa\",\"#FFA15A\",\"#19d3f3\",\"#FF6692\",\"#B6E880\",\"#FF97FF\",\"#FECB52\"],\"font\":{\"color\":\"#f2f5fa\"},\"geo\":{\"bgcolor\":\"rgb(17,17,17)\",\"lakecolor\":\"rgb(17,17,17)\",\"landcolor\":\"rgb(17,17,17)\",\"showlakes\":true,\"showland\":true,\"subunitcolor\":\"#506784\"},\"hoverlabel\":{\"align\":\"left\"},\"hovermode\":\"closest\",\"mapbox\":{\"style\":\"dark\"},\"paper_bgcolor\":\"rgb(17,17,17)\",\"plot_bgcolor\":\"rgb(17,17,17)\",\"polar\":{\"angularaxis\":{\"gridcolor\":\"#506784\",\"linecolor\":\"#506784\",\"ticks\":\"\"},\"bgcolor\":\"rgb(17,17,17)\",\"radialaxis\":{\"gridcolor\":\"#506784\",\"linecolor\":\"#506784\",\"ticks\":\"\"}},\"scene\":{\"xaxis\":{\"backgroundcolor\":\"rgb(17,17,17)\",\"gridcolor\":\"#506784\",\"gridwidth\":2,\"linecolor\":\"#506784\",\"showbackground\":true,\"ticks\":\"\",\"zerolinecolor\":\"#C8D4E3\"},\"yaxis\":{\"backgroundcolor\":\"rgb(17,17,17)\",\"gridcolor\":\"#506784\",\"gridwidth\":2,\"linecolor\":\"#506784\",\"showbackground\":true,\"ticks\":\"\",\"zerolinecolor\":\"#C8D4E3\"},\"zaxis\":{\"backgroundcolor\":\"rgb(17,17,17)\",\"gridcolor\":\"#506784\",\"gridwidth\":2,\"linecolor\":\"#506784\",\"showbackground\":true,\"ticks\":\"\",\"zerolinecolor\":\"#C8D4E3\"}},\"shapedefaults\":{\"line\":{\"color\":\"#f2f5fa\"}},\"sliderdefaults\":{\"bgcolor\":\"#C8D4E3\",\"bordercolor\":\"rgb(17,17,17)\",\"borderwidth\":1,\"tickwidth\":0},\"ternary\":{\"aaxis\":{\"gridcolor\":\"#506784\",\"linecolor\":\"#506784\",\"ticks\":\"\"},\"baxis\":{\"gridcolor\":\"#506784\",\"linecolor\":\"#506784\",\"ticks\":\"\"},\"bgcolor\":\"rgb(17,17,17)\",\"caxis\":{\"gridcolor\":\"#506784\",\"linecolor\":\"#506784\",\"ticks\":\"\"}},\"title\":{\"x\":0.05},\"updatemenudefaults\":{\"bgcolor\":\"#506784\",\"borderwidth\":0},\"xaxis\":{\"automargin\":true,\"gridcolor\":\"#283442\",\"linecolor\":\"#506784\",\"ticks\":\"\",\"title\":{\"standoff\":15},\"zerolinecolor\":\"#283442\",\"zerolinewidth\":2},\"yaxis\":{\"automargin\":true,\"gridcolor\":\"#283442\",\"linecolor\":\"#506784\",\"ticks\":\"\",\"title\":{\"standoff\":15},\"zerolinecolor\":\"#283442\",\"zerolinewidth\":2}}},\"xaxis\":{\"anchor\":\"y\",\"domain\":[0.0,1.0],\"title\":{\"text\":\"DATE\"}},\"yaxis\":{\"anchor\":\"x\",\"domain\":[0.0,1.0],\"title\":{\"text\":\"value\"}}},                        {\"responsive\": true}                    ).then(function(){\n",
       "                            \n",
       "var gd = document.getElementById('690f09f8-b033-422a-8143-0a915c726f18');\n",
       "var x = new MutationObserver(function (mutations, observer) {{\n",
       "        var display = window.getComputedStyle(gd).display;\n",
       "        if (!display || display === 'none') {{\n",
       "            console.log([gd, 'removed!']);\n",
       "            Plotly.purge(gd);\n",
       "            observer.disconnect();\n",
       "        }}\n",
       "}});\n",
       "\n",
       "// Listen for the removal of the full notebook cells\n",
       "var notebookContainer = gd.closest('#notebook-container');\n",
       "if (notebookContainer) {{\n",
       "    x.observe(notebookContainer, {childList: true});\n",
       "}}\n",
       "\n",
       "// Listen for the clearing of the current output cell\n",
       "var outputEl = gd.closest('.output');\n",
       "if (outputEl) {{\n",
       "    x.observe(outputEl, {childList: true});\n",
       "}}\n",
       "\n",
       "                        })                };                });            </script>        </div>"
      ]
     },
     "metadata": {},
     "output_type": "display_data"
    }
   ],
   "source": [
    "# create 12 month moving average\n",
    "df_milk_1['MA12'] = df_milk_1['QUANTITY'].rolling(2).mean()\n",
    "# plot the data and MA\n",
    "import plotly.express as px\n",
    "fig = px.line(df_milk_1, x=\"DATE\", y=[\"QUANTITY\", \"MA12\"], template = 'plotly_dark')\n",
    "fig.show()"
   ]
  },
  {
   "cell_type": "code",
   "execution_count": null,
   "metadata": {},
   "outputs": [],
   "source": []
  },
  {
   "cell_type": "code",
   "execution_count": 21,
   "metadata": {},
   "outputs": [
    {
     "data": {
      "text/html": [
       "<div>\n",
       "<style scoped>\n",
       "    .dataframe tbody tr th:only-of-type {\n",
       "        vertical-align: middle;\n",
       "    }\n",
       "\n",
       "    .dataframe tbody tr th {\n",
       "        vertical-align: top;\n",
       "    }\n",
       "\n",
       "    .dataframe thead th {\n",
       "        text-align: right;\n",
       "    }\n",
       "</style>\n",
       "<table border=\"1\" class=\"dataframe\">\n",
       "  <thead>\n",
       "    <tr style=\"text-align: right;\">\n",
       "      <th></th>\n",
       "      <th>Series</th>\n",
       "      <th>Year</th>\n",
       "      <th>Month</th>\n",
       "      <th>QUANTITY</th>\n",
       "    </tr>\n",
       "  </thead>\n",
       "  <tbody>\n",
       "    <tr>\n",
       "      <th>0</th>\n",
       "      <td>1</td>\n",
       "      <td>2019</td>\n",
       "      <td>7</td>\n",
       "      <td>8</td>\n",
       "    </tr>\n",
       "    <tr>\n",
       "      <th>1</th>\n",
       "      <td>2</td>\n",
       "      <td>2019</td>\n",
       "      <td>8</td>\n",
       "      <td>724</td>\n",
       "    </tr>\n",
       "    <tr>\n",
       "      <th>2</th>\n",
       "      <td>3</td>\n",
       "      <td>2019</td>\n",
       "      <td>9</td>\n",
       "      <td>1439</td>\n",
       "    </tr>\n",
       "    <tr>\n",
       "      <th>3</th>\n",
       "      <td>4</td>\n",
       "      <td>2019</td>\n",
       "      <td>10</td>\n",
       "      <td>2759</td>\n",
       "    </tr>\n",
       "    <tr>\n",
       "      <th>4</th>\n",
       "      <td>5</td>\n",
       "      <td>2019</td>\n",
       "      <td>11</td>\n",
       "      <td>3622</td>\n",
       "    </tr>\n",
       "  </tbody>\n",
       "</table>\n",
       "</div>"
      ],
      "text/plain": [
       "   Series  Year  Month  QUANTITY\n",
       "0       1  2019      7         8\n",
       "1       2  2019      8       724\n",
       "2       3  2019      9      1439\n",
       "3       4  2019     10      2759\n",
       "4       5  2019     11      3622"
      ]
     },
     "execution_count": 21,
     "metadata": {},
     "output_type": "execute_result"
    }
   ],
   "source": [
    "# extract month and year from dates\n",
    "df_milk_1['Month'] = [i.month for i in df_milk_1['DATE']]\n",
    "df_milk_1['Year'] = [i.year for i in df_milk_1['DATE']]\n",
    "# create a sequence of numbers\n",
    "df_milk_1['Series'] = np.arange(1,len(df_milk_1)+1)\n",
    "# drop unnecessary columns and re-arrange\n",
    "df_milk_1.drop(['DATE', 'MA12'], axis=1, inplace=True)\n",
    "df_milk_1 = df_milk_1[['Series', 'Year', 'Month', 'QUANTITY']] \n",
    "# check the head of the dataset\n",
    "df_milk_1.head()"
   ]
  },
  {
   "cell_type": "code",
   "execution_count": 34,
   "metadata": {},
   "outputs": [
    {
     "data": {
      "text/plain": [
       "((20, 4), (5, 4))"
      ]
     },
     "execution_count": 34,
     "metadata": {},
     "output_type": "execute_result"
    }
   ],
   "source": [
    "# split data into train-test set\n",
    "train = df_milk_1.query('(Year < 2021 & Month <= 12) or (Year == 2021 & Month < 3)')\n",
    "test = df_milk_1.query('Year == 2021 & Month >=3')\n",
    "\n",
    "# check shape\n",
    "train.shape, test.shape"
   ]
  },
  {
   "cell_type": "code",
   "execution_count": 35,
   "metadata": {},
   "outputs": [
    {
     "data": {
      "text/html": [
       "<style  type=\"text/css\" >\n",
       "    #T_dc3c4a94_f345_11eb_bb50_085bd67a3263row42_col1 {\n",
       "            background-color:  lightgreen;\n",
       "        }    #T_dc3c4a94_f345_11eb_bb50_085bd67a3263row56_col1 {\n",
       "            background-color:  lightgreen;\n",
       "        }</style><table id=\"T_dc3c4a94_f345_11eb_bb50_085bd67a3263\" ><thead>    <tr>        <th class=\"blank level0\" ></th>        <th class=\"col_heading level0 col0\" >Description</th>        <th class=\"col_heading level0 col1\" >Value</th>    </tr></thead><tbody>\n",
       "                <tr>\n",
       "                        <th id=\"T_dc3c4a94_f345_11eb_bb50_085bd67a3263level0_row0\" class=\"row_heading level0 row0\" >0</th>\n",
       "                        <td id=\"T_dc3c4a94_f345_11eb_bb50_085bd67a3263row0_col0\" class=\"data row0 col0\" >session_id</td>\n",
       "                        <td id=\"T_dc3c4a94_f345_11eb_bb50_085bd67a3263row0_col1\" class=\"data row0 col1\" >123</td>\n",
       "            </tr>\n",
       "            <tr>\n",
       "                        <th id=\"T_dc3c4a94_f345_11eb_bb50_085bd67a3263level0_row1\" class=\"row_heading level0 row1\" >1</th>\n",
       "                        <td id=\"T_dc3c4a94_f345_11eb_bb50_085bd67a3263row1_col0\" class=\"data row1 col0\" >Target</td>\n",
       "                        <td id=\"T_dc3c4a94_f345_11eb_bb50_085bd67a3263row1_col1\" class=\"data row1 col1\" >QUANTITY</td>\n",
       "            </tr>\n",
       "            <tr>\n",
       "                        <th id=\"T_dc3c4a94_f345_11eb_bb50_085bd67a3263level0_row2\" class=\"row_heading level0 row2\" >2</th>\n",
       "                        <td id=\"T_dc3c4a94_f345_11eb_bb50_085bd67a3263row2_col0\" class=\"data row2 col0\" >Original Data</td>\n",
       "                        <td id=\"T_dc3c4a94_f345_11eb_bb50_085bd67a3263row2_col1\" class=\"data row2 col1\" >(20, 4)</td>\n",
       "            </tr>\n",
       "            <tr>\n",
       "                        <th id=\"T_dc3c4a94_f345_11eb_bb50_085bd67a3263level0_row3\" class=\"row_heading level0 row3\" >3</th>\n",
       "                        <td id=\"T_dc3c4a94_f345_11eb_bb50_085bd67a3263row3_col0\" class=\"data row3 col0\" >Missing Values</td>\n",
       "                        <td id=\"T_dc3c4a94_f345_11eb_bb50_085bd67a3263row3_col1\" class=\"data row3 col1\" >False</td>\n",
       "            </tr>\n",
       "            <tr>\n",
       "                        <th id=\"T_dc3c4a94_f345_11eb_bb50_085bd67a3263level0_row4\" class=\"row_heading level0 row4\" >4</th>\n",
       "                        <td id=\"T_dc3c4a94_f345_11eb_bb50_085bd67a3263row4_col0\" class=\"data row4 col0\" >Numeric Features</td>\n",
       "                        <td id=\"T_dc3c4a94_f345_11eb_bb50_085bd67a3263row4_col1\" class=\"data row4 col1\" >2</td>\n",
       "            </tr>\n",
       "            <tr>\n",
       "                        <th id=\"T_dc3c4a94_f345_11eb_bb50_085bd67a3263level0_row5\" class=\"row_heading level0 row5\" >5</th>\n",
       "                        <td id=\"T_dc3c4a94_f345_11eb_bb50_085bd67a3263row5_col0\" class=\"data row5 col0\" >Categorical Features</td>\n",
       "                        <td id=\"T_dc3c4a94_f345_11eb_bb50_085bd67a3263row5_col1\" class=\"data row5 col1\" >1</td>\n",
       "            </tr>\n",
       "            <tr>\n",
       "                        <th id=\"T_dc3c4a94_f345_11eb_bb50_085bd67a3263level0_row6\" class=\"row_heading level0 row6\" >6</th>\n",
       "                        <td id=\"T_dc3c4a94_f345_11eb_bb50_085bd67a3263row6_col0\" class=\"data row6 col0\" >Ordinal Features</td>\n",
       "                        <td id=\"T_dc3c4a94_f345_11eb_bb50_085bd67a3263row6_col1\" class=\"data row6 col1\" >False</td>\n",
       "            </tr>\n",
       "            <tr>\n",
       "                        <th id=\"T_dc3c4a94_f345_11eb_bb50_085bd67a3263level0_row7\" class=\"row_heading level0 row7\" >7</th>\n",
       "                        <td id=\"T_dc3c4a94_f345_11eb_bb50_085bd67a3263row7_col0\" class=\"data row7 col0\" >High Cardinality Features</td>\n",
       "                        <td id=\"T_dc3c4a94_f345_11eb_bb50_085bd67a3263row7_col1\" class=\"data row7 col1\" >False</td>\n",
       "            </tr>\n",
       "            <tr>\n",
       "                        <th id=\"T_dc3c4a94_f345_11eb_bb50_085bd67a3263level0_row8\" class=\"row_heading level0 row8\" >8</th>\n",
       "                        <td id=\"T_dc3c4a94_f345_11eb_bb50_085bd67a3263row8_col0\" class=\"data row8 col0\" >High Cardinality Method</td>\n",
       "                        <td id=\"T_dc3c4a94_f345_11eb_bb50_085bd67a3263row8_col1\" class=\"data row8 col1\" >None</td>\n",
       "            </tr>\n",
       "            <tr>\n",
       "                        <th id=\"T_dc3c4a94_f345_11eb_bb50_085bd67a3263level0_row9\" class=\"row_heading level0 row9\" >9</th>\n",
       "                        <td id=\"T_dc3c4a94_f345_11eb_bb50_085bd67a3263row9_col0\" class=\"data row9 col0\" >Transformed Train Set</td>\n",
       "                        <td id=\"T_dc3c4a94_f345_11eb_bb50_085bd67a3263row9_col1\" class=\"data row9 col1\" >(20, 14)</td>\n",
       "            </tr>\n",
       "            <tr>\n",
       "                        <th id=\"T_dc3c4a94_f345_11eb_bb50_085bd67a3263level0_row10\" class=\"row_heading level0 row10\" >10</th>\n",
       "                        <td id=\"T_dc3c4a94_f345_11eb_bb50_085bd67a3263row10_col0\" class=\"data row10 col0\" >Transformed Test Set</td>\n",
       "                        <td id=\"T_dc3c4a94_f345_11eb_bb50_085bd67a3263row10_col1\" class=\"data row10 col1\" >(5, 14)</td>\n",
       "            </tr>\n",
       "            <tr>\n",
       "                        <th id=\"T_dc3c4a94_f345_11eb_bb50_085bd67a3263level0_row11\" class=\"row_heading level0 row11\" >11</th>\n",
       "                        <td id=\"T_dc3c4a94_f345_11eb_bb50_085bd67a3263row11_col0\" class=\"data row11 col0\" >Shuffle Train-Test</td>\n",
       "                        <td id=\"T_dc3c4a94_f345_11eb_bb50_085bd67a3263row11_col1\" class=\"data row11 col1\" >True</td>\n",
       "            </tr>\n",
       "            <tr>\n",
       "                        <th id=\"T_dc3c4a94_f345_11eb_bb50_085bd67a3263level0_row12\" class=\"row_heading level0 row12\" >12</th>\n",
       "                        <td id=\"T_dc3c4a94_f345_11eb_bb50_085bd67a3263row12_col0\" class=\"data row12 col0\" >Stratify Train-Test</td>\n",
       "                        <td id=\"T_dc3c4a94_f345_11eb_bb50_085bd67a3263row12_col1\" class=\"data row12 col1\" >False</td>\n",
       "            </tr>\n",
       "            <tr>\n",
       "                        <th id=\"T_dc3c4a94_f345_11eb_bb50_085bd67a3263level0_row13\" class=\"row_heading level0 row13\" >13</th>\n",
       "                        <td id=\"T_dc3c4a94_f345_11eb_bb50_085bd67a3263row13_col0\" class=\"data row13 col0\" >Fold Generator</td>\n",
       "                        <td id=\"T_dc3c4a94_f345_11eb_bb50_085bd67a3263row13_col1\" class=\"data row13 col1\" >TimeSeriesSplit</td>\n",
       "            </tr>\n",
       "            <tr>\n",
       "                        <th id=\"T_dc3c4a94_f345_11eb_bb50_085bd67a3263level0_row14\" class=\"row_heading level0 row14\" >14</th>\n",
       "                        <td id=\"T_dc3c4a94_f345_11eb_bb50_085bd67a3263row14_col0\" class=\"data row14 col0\" >Fold Number</td>\n",
       "                        <td id=\"T_dc3c4a94_f345_11eb_bb50_085bd67a3263row14_col1\" class=\"data row14 col1\" >3</td>\n",
       "            </tr>\n",
       "            <tr>\n",
       "                        <th id=\"T_dc3c4a94_f345_11eb_bb50_085bd67a3263level0_row15\" class=\"row_heading level0 row15\" >15</th>\n",
       "                        <td id=\"T_dc3c4a94_f345_11eb_bb50_085bd67a3263row15_col0\" class=\"data row15 col0\" >CPU Jobs</td>\n",
       "                        <td id=\"T_dc3c4a94_f345_11eb_bb50_085bd67a3263row15_col1\" class=\"data row15 col1\" >-1</td>\n",
       "            </tr>\n",
       "            <tr>\n",
       "                        <th id=\"T_dc3c4a94_f345_11eb_bb50_085bd67a3263level0_row16\" class=\"row_heading level0 row16\" >16</th>\n",
       "                        <td id=\"T_dc3c4a94_f345_11eb_bb50_085bd67a3263row16_col0\" class=\"data row16 col0\" >Use GPU</td>\n",
       "                        <td id=\"T_dc3c4a94_f345_11eb_bb50_085bd67a3263row16_col1\" class=\"data row16 col1\" >False</td>\n",
       "            </tr>\n",
       "            <tr>\n",
       "                        <th id=\"T_dc3c4a94_f345_11eb_bb50_085bd67a3263level0_row17\" class=\"row_heading level0 row17\" >17</th>\n",
       "                        <td id=\"T_dc3c4a94_f345_11eb_bb50_085bd67a3263row17_col0\" class=\"data row17 col0\" >Log Experiment</td>\n",
       "                        <td id=\"T_dc3c4a94_f345_11eb_bb50_085bd67a3263row17_col1\" class=\"data row17 col1\" >False</td>\n",
       "            </tr>\n",
       "            <tr>\n",
       "                        <th id=\"T_dc3c4a94_f345_11eb_bb50_085bd67a3263level0_row18\" class=\"row_heading level0 row18\" >18</th>\n",
       "                        <td id=\"T_dc3c4a94_f345_11eb_bb50_085bd67a3263row18_col0\" class=\"data row18 col0\" >Experiment Name</td>\n",
       "                        <td id=\"T_dc3c4a94_f345_11eb_bb50_085bd67a3263row18_col1\" class=\"data row18 col1\" >reg-default-name</td>\n",
       "            </tr>\n",
       "            <tr>\n",
       "                        <th id=\"T_dc3c4a94_f345_11eb_bb50_085bd67a3263level0_row19\" class=\"row_heading level0 row19\" >19</th>\n",
       "                        <td id=\"T_dc3c4a94_f345_11eb_bb50_085bd67a3263row19_col0\" class=\"data row19 col0\" >USI</td>\n",
       "                        <td id=\"T_dc3c4a94_f345_11eb_bb50_085bd67a3263row19_col1\" class=\"data row19 col1\" >d9a1</td>\n",
       "            </tr>\n",
       "            <tr>\n",
       "                        <th id=\"T_dc3c4a94_f345_11eb_bb50_085bd67a3263level0_row20\" class=\"row_heading level0 row20\" >20</th>\n",
       "                        <td id=\"T_dc3c4a94_f345_11eb_bb50_085bd67a3263row20_col0\" class=\"data row20 col0\" >Imputation Type</td>\n",
       "                        <td id=\"T_dc3c4a94_f345_11eb_bb50_085bd67a3263row20_col1\" class=\"data row20 col1\" >simple</td>\n",
       "            </tr>\n",
       "            <tr>\n",
       "                        <th id=\"T_dc3c4a94_f345_11eb_bb50_085bd67a3263level0_row21\" class=\"row_heading level0 row21\" >21</th>\n",
       "                        <td id=\"T_dc3c4a94_f345_11eb_bb50_085bd67a3263row21_col0\" class=\"data row21 col0\" >Iterative Imputation Iteration</td>\n",
       "                        <td id=\"T_dc3c4a94_f345_11eb_bb50_085bd67a3263row21_col1\" class=\"data row21 col1\" >None</td>\n",
       "            </tr>\n",
       "            <tr>\n",
       "                        <th id=\"T_dc3c4a94_f345_11eb_bb50_085bd67a3263level0_row22\" class=\"row_heading level0 row22\" >22</th>\n",
       "                        <td id=\"T_dc3c4a94_f345_11eb_bb50_085bd67a3263row22_col0\" class=\"data row22 col0\" >Numeric Imputer</td>\n",
       "                        <td id=\"T_dc3c4a94_f345_11eb_bb50_085bd67a3263row22_col1\" class=\"data row22 col1\" >mean</td>\n",
       "            </tr>\n",
       "            <tr>\n",
       "                        <th id=\"T_dc3c4a94_f345_11eb_bb50_085bd67a3263level0_row23\" class=\"row_heading level0 row23\" >23</th>\n",
       "                        <td id=\"T_dc3c4a94_f345_11eb_bb50_085bd67a3263row23_col0\" class=\"data row23 col0\" >Iterative Imputation Numeric Model</td>\n",
       "                        <td id=\"T_dc3c4a94_f345_11eb_bb50_085bd67a3263row23_col1\" class=\"data row23 col1\" >None</td>\n",
       "            </tr>\n",
       "            <tr>\n",
       "                        <th id=\"T_dc3c4a94_f345_11eb_bb50_085bd67a3263level0_row24\" class=\"row_heading level0 row24\" >24</th>\n",
       "                        <td id=\"T_dc3c4a94_f345_11eb_bb50_085bd67a3263row24_col0\" class=\"data row24 col0\" >Categorical Imputer</td>\n",
       "                        <td id=\"T_dc3c4a94_f345_11eb_bb50_085bd67a3263row24_col1\" class=\"data row24 col1\" >constant</td>\n",
       "            </tr>\n",
       "            <tr>\n",
       "                        <th id=\"T_dc3c4a94_f345_11eb_bb50_085bd67a3263level0_row25\" class=\"row_heading level0 row25\" >25</th>\n",
       "                        <td id=\"T_dc3c4a94_f345_11eb_bb50_085bd67a3263row25_col0\" class=\"data row25 col0\" >Iterative Imputation Categorical Model</td>\n",
       "                        <td id=\"T_dc3c4a94_f345_11eb_bb50_085bd67a3263row25_col1\" class=\"data row25 col1\" >None</td>\n",
       "            </tr>\n",
       "            <tr>\n",
       "                        <th id=\"T_dc3c4a94_f345_11eb_bb50_085bd67a3263level0_row26\" class=\"row_heading level0 row26\" >26</th>\n",
       "                        <td id=\"T_dc3c4a94_f345_11eb_bb50_085bd67a3263row26_col0\" class=\"data row26 col0\" >Unknown Categoricals Handling</td>\n",
       "                        <td id=\"T_dc3c4a94_f345_11eb_bb50_085bd67a3263row26_col1\" class=\"data row26 col1\" >least_frequent</td>\n",
       "            </tr>\n",
       "            <tr>\n",
       "                        <th id=\"T_dc3c4a94_f345_11eb_bb50_085bd67a3263level0_row27\" class=\"row_heading level0 row27\" >27</th>\n",
       "                        <td id=\"T_dc3c4a94_f345_11eb_bb50_085bd67a3263row27_col0\" class=\"data row27 col0\" >Normalize</td>\n",
       "                        <td id=\"T_dc3c4a94_f345_11eb_bb50_085bd67a3263row27_col1\" class=\"data row27 col1\" >False</td>\n",
       "            </tr>\n",
       "            <tr>\n",
       "                        <th id=\"T_dc3c4a94_f345_11eb_bb50_085bd67a3263level0_row28\" class=\"row_heading level0 row28\" >28</th>\n",
       "                        <td id=\"T_dc3c4a94_f345_11eb_bb50_085bd67a3263row28_col0\" class=\"data row28 col0\" >Normalize Method</td>\n",
       "                        <td id=\"T_dc3c4a94_f345_11eb_bb50_085bd67a3263row28_col1\" class=\"data row28 col1\" >None</td>\n",
       "            </tr>\n",
       "            <tr>\n",
       "                        <th id=\"T_dc3c4a94_f345_11eb_bb50_085bd67a3263level0_row29\" class=\"row_heading level0 row29\" >29</th>\n",
       "                        <td id=\"T_dc3c4a94_f345_11eb_bb50_085bd67a3263row29_col0\" class=\"data row29 col0\" >Transformation</td>\n",
       "                        <td id=\"T_dc3c4a94_f345_11eb_bb50_085bd67a3263row29_col1\" class=\"data row29 col1\" >False</td>\n",
       "            </tr>\n",
       "            <tr>\n",
       "                        <th id=\"T_dc3c4a94_f345_11eb_bb50_085bd67a3263level0_row30\" class=\"row_heading level0 row30\" >30</th>\n",
       "                        <td id=\"T_dc3c4a94_f345_11eb_bb50_085bd67a3263row30_col0\" class=\"data row30 col0\" >Transformation Method</td>\n",
       "                        <td id=\"T_dc3c4a94_f345_11eb_bb50_085bd67a3263row30_col1\" class=\"data row30 col1\" >None</td>\n",
       "            </tr>\n",
       "            <tr>\n",
       "                        <th id=\"T_dc3c4a94_f345_11eb_bb50_085bd67a3263level0_row31\" class=\"row_heading level0 row31\" >31</th>\n",
       "                        <td id=\"T_dc3c4a94_f345_11eb_bb50_085bd67a3263row31_col0\" class=\"data row31 col0\" >PCA</td>\n",
       "                        <td id=\"T_dc3c4a94_f345_11eb_bb50_085bd67a3263row31_col1\" class=\"data row31 col1\" >False</td>\n",
       "            </tr>\n",
       "            <tr>\n",
       "                        <th id=\"T_dc3c4a94_f345_11eb_bb50_085bd67a3263level0_row32\" class=\"row_heading level0 row32\" >32</th>\n",
       "                        <td id=\"T_dc3c4a94_f345_11eb_bb50_085bd67a3263row32_col0\" class=\"data row32 col0\" >PCA Method</td>\n",
       "                        <td id=\"T_dc3c4a94_f345_11eb_bb50_085bd67a3263row32_col1\" class=\"data row32 col1\" >None</td>\n",
       "            </tr>\n",
       "            <tr>\n",
       "                        <th id=\"T_dc3c4a94_f345_11eb_bb50_085bd67a3263level0_row33\" class=\"row_heading level0 row33\" >33</th>\n",
       "                        <td id=\"T_dc3c4a94_f345_11eb_bb50_085bd67a3263row33_col0\" class=\"data row33 col0\" >PCA Components</td>\n",
       "                        <td id=\"T_dc3c4a94_f345_11eb_bb50_085bd67a3263row33_col1\" class=\"data row33 col1\" >None</td>\n",
       "            </tr>\n",
       "            <tr>\n",
       "                        <th id=\"T_dc3c4a94_f345_11eb_bb50_085bd67a3263level0_row34\" class=\"row_heading level0 row34\" >34</th>\n",
       "                        <td id=\"T_dc3c4a94_f345_11eb_bb50_085bd67a3263row34_col0\" class=\"data row34 col0\" >Ignore Low Variance</td>\n",
       "                        <td id=\"T_dc3c4a94_f345_11eb_bb50_085bd67a3263row34_col1\" class=\"data row34 col1\" >False</td>\n",
       "            </tr>\n",
       "            <tr>\n",
       "                        <th id=\"T_dc3c4a94_f345_11eb_bb50_085bd67a3263level0_row35\" class=\"row_heading level0 row35\" >35</th>\n",
       "                        <td id=\"T_dc3c4a94_f345_11eb_bb50_085bd67a3263row35_col0\" class=\"data row35 col0\" >Combine Rare Levels</td>\n",
       "                        <td id=\"T_dc3c4a94_f345_11eb_bb50_085bd67a3263row35_col1\" class=\"data row35 col1\" >False</td>\n",
       "            </tr>\n",
       "            <tr>\n",
       "                        <th id=\"T_dc3c4a94_f345_11eb_bb50_085bd67a3263level0_row36\" class=\"row_heading level0 row36\" >36</th>\n",
       "                        <td id=\"T_dc3c4a94_f345_11eb_bb50_085bd67a3263row36_col0\" class=\"data row36 col0\" >Rare Level Threshold</td>\n",
       "                        <td id=\"T_dc3c4a94_f345_11eb_bb50_085bd67a3263row36_col1\" class=\"data row36 col1\" >None</td>\n",
       "            </tr>\n",
       "            <tr>\n",
       "                        <th id=\"T_dc3c4a94_f345_11eb_bb50_085bd67a3263level0_row37\" class=\"row_heading level0 row37\" >37</th>\n",
       "                        <td id=\"T_dc3c4a94_f345_11eb_bb50_085bd67a3263row37_col0\" class=\"data row37 col0\" >Numeric Binning</td>\n",
       "                        <td id=\"T_dc3c4a94_f345_11eb_bb50_085bd67a3263row37_col1\" class=\"data row37 col1\" >False</td>\n",
       "            </tr>\n",
       "            <tr>\n",
       "                        <th id=\"T_dc3c4a94_f345_11eb_bb50_085bd67a3263level0_row38\" class=\"row_heading level0 row38\" >38</th>\n",
       "                        <td id=\"T_dc3c4a94_f345_11eb_bb50_085bd67a3263row38_col0\" class=\"data row38 col0\" >Remove Outliers</td>\n",
       "                        <td id=\"T_dc3c4a94_f345_11eb_bb50_085bd67a3263row38_col1\" class=\"data row38 col1\" >False</td>\n",
       "            </tr>\n",
       "            <tr>\n",
       "                        <th id=\"T_dc3c4a94_f345_11eb_bb50_085bd67a3263level0_row39\" class=\"row_heading level0 row39\" >39</th>\n",
       "                        <td id=\"T_dc3c4a94_f345_11eb_bb50_085bd67a3263row39_col0\" class=\"data row39 col0\" >Outliers Threshold</td>\n",
       "                        <td id=\"T_dc3c4a94_f345_11eb_bb50_085bd67a3263row39_col1\" class=\"data row39 col1\" >None</td>\n",
       "            </tr>\n",
       "            <tr>\n",
       "                        <th id=\"T_dc3c4a94_f345_11eb_bb50_085bd67a3263level0_row40\" class=\"row_heading level0 row40\" >40</th>\n",
       "                        <td id=\"T_dc3c4a94_f345_11eb_bb50_085bd67a3263row40_col0\" class=\"data row40 col0\" >Remove Multicollinearity</td>\n",
       "                        <td id=\"T_dc3c4a94_f345_11eb_bb50_085bd67a3263row40_col1\" class=\"data row40 col1\" >False</td>\n",
       "            </tr>\n",
       "            <tr>\n",
       "                        <th id=\"T_dc3c4a94_f345_11eb_bb50_085bd67a3263level0_row41\" class=\"row_heading level0 row41\" >41</th>\n",
       "                        <td id=\"T_dc3c4a94_f345_11eb_bb50_085bd67a3263row41_col0\" class=\"data row41 col0\" >Multicollinearity Threshold</td>\n",
       "                        <td id=\"T_dc3c4a94_f345_11eb_bb50_085bd67a3263row41_col1\" class=\"data row41 col1\" >None</td>\n",
       "            </tr>\n",
       "            <tr>\n",
       "                        <th id=\"T_dc3c4a94_f345_11eb_bb50_085bd67a3263level0_row42\" class=\"row_heading level0 row42\" >42</th>\n",
       "                        <td id=\"T_dc3c4a94_f345_11eb_bb50_085bd67a3263row42_col0\" class=\"data row42 col0\" >Remove Perfect Collinearity</td>\n",
       "                        <td id=\"T_dc3c4a94_f345_11eb_bb50_085bd67a3263row42_col1\" class=\"data row42 col1\" >True</td>\n",
       "            </tr>\n",
       "            <tr>\n",
       "                        <th id=\"T_dc3c4a94_f345_11eb_bb50_085bd67a3263level0_row43\" class=\"row_heading level0 row43\" >43</th>\n",
       "                        <td id=\"T_dc3c4a94_f345_11eb_bb50_085bd67a3263row43_col0\" class=\"data row43 col0\" >Clustering</td>\n",
       "                        <td id=\"T_dc3c4a94_f345_11eb_bb50_085bd67a3263row43_col1\" class=\"data row43 col1\" >False</td>\n",
       "            </tr>\n",
       "            <tr>\n",
       "                        <th id=\"T_dc3c4a94_f345_11eb_bb50_085bd67a3263level0_row44\" class=\"row_heading level0 row44\" >44</th>\n",
       "                        <td id=\"T_dc3c4a94_f345_11eb_bb50_085bd67a3263row44_col0\" class=\"data row44 col0\" >Clustering Iteration</td>\n",
       "                        <td id=\"T_dc3c4a94_f345_11eb_bb50_085bd67a3263row44_col1\" class=\"data row44 col1\" >None</td>\n",
       "            </tr>\n",
       "            <tr>\n",
       "                        <th id=\"T_dc3c4a94_f345_11eb_bb50_085bd67a3263level0_row45\" class=\"row_heading level0 row45\" >45</th>\n",
       "                        <td id=\"T_dc3c4a94_f345_11eb_bb50_085bd67a3263row45_col0\" class=\"data row45 col0\" >Polynomial Features</td>\n",
       "                        <td id=\"T_dc3c4a94_f345_11eb_bb50_085bd67a3263row45_col1\" class=\"data row45 col1\" >False</td>\n",
       "            </tr>\n",
       "            <tr>\n",
       "                        <th id=\"T_dc3c4a94_f345_11eb_bb50_085bd67a3263level0_row46\" class=\"row_heading level0 row46\" >46</th>\n",
       "                        <td id=\"T_dc3c4a94_f345_11eb_bb50_085bd67a3263row46_col0\" class=\"data row46 col0\" >Polynomial Degree</td>\n",
       "                        <td id=\"T_dc3c4a94_f345_11eb_bb50_085bd67a3263row46_col1\" class=\"data row46 col1\" >None</td>\n",
       "            </tr>\n",
       "            <tr>\n",
       "                        <th id=\"T_dc3c4a94_f345_11eb_bb50_085bd67a3263level0_row47\" class=\"row_heading level0 row47\" >47</th>\n",
       "                        <td id=\"T_dc3c4a94_f345_11eb_bb50_085bd67a3263row47_col0\" class=\"data row47 col0\" >Trignometry Features</td>\n",
       "                        <td id=\"T_dc3c4a94_f345_11eb_bb50_085bd67a3263row47_col1\" class=\"data row47 col1\" >False</td>\n",
       "            </tr>\n",
       "            <tr>\n",
       "                        <th id=\"T_dc3c4a94_f345_11eb_bb50_085bd67a3263level0_row48\" class=\"row_heading level0 row48\" >48</th>\n",
       "                        <td id=\"T_dc3c4a94_f345_11eb_bb50_085bd67a3263row48_col0\" class=\"data row48 col0\" >Polynomial Threshold</td>\n",
       "                        <td id=\"T_dc3c4a94_f345_11eb_bb50_085bd67a3263row48_col1\" class=\"data row48 col1\" >None</td>\n",
       "            </tr>\n",
       "            <tr>\n",
       "                        <th id=\"T_dc3c4a94_f345_11eb_bb50_085bd67a3263level0_row49\" class=\"row_heading level0 row49\" >49</th>\n",
       "                        <td id=\"T_dc3c4a94_f345_11eb_bb50_085bd67a3263row49_col0\" class=\"data row49 col0\" >Group Features</td>\n",
       "                        <td id=\"T_dc3c4a94_f345_11eb_bb50_085bd67a3263row49_col1\" class=\"data row49 col1\" >False</td>\n",
       "            </tr>\n",
       "            <tr>\n",
       "                        <th id=\"T_dc3c4a94_f345_11eb_bb50_085bd67a3263level0_row50\" class=\"row_heading level0 row50\" >50</th>\n",
       "                        <td id=\"T_dc3c4a94_f345_11eb_bb50_085bd67a3263row50_col0\" class=\"data row50 col0\" >Feature Selection</td>\n",
       "                        <td id=\"T_dc3c4a94_f345_11eb_bb50_085bd67a3263row50_col1\" class=\"data row50 col1\" >False</td>\n",
       "            </tr>\n",
       "            <tr>\n",
       "                        <th id=\"T_dc3c4a94_f345_11eb_bb50_085bd67a3263level0_row51\" class=\"row_heading level0 row51\" >51</th>\n",
       "                        <td id=\"T_dc3c4a94_f345_11eb_bb50_085bd67a3263row51_col0\" class=\"data row51 col0\" >Feature Selection Method</td>\n",
       "                        <td id=\"T_dc3c4a94_f345_11eb_bb50_085bd67a3263row51_col1\" class=\"data row51 col1\" >classic</td>\n",
       "            </tr>\n",
       "            <tr>\n",
       "                        <th id=\"T_dc3c4a94_f345_11eb_bb50_085bd67a3263level0_row52\" class=\"row_heading level0 row52\" >52</th>\n",
       "                        <td id=\"T_dc3c4a94_f345_11eb_bb50_085bd67a3263row52_col0\" class=\"data row52 col0\" >Features Selection Threshold</td>\n",
       "                        <td id=\"T_dc3c4a94_f345_11eb_bb50_085bd67a3263row52_col1\" class=\"data row52 col1\" >None</td>\n",
       "            </tr>\n",
       "            <tr>\n",
       "                        <th id=\"T_dc3c4a94_f345_11eb_bb50_085bd67a3263level0_row53\" class=\"row_heading level0 row53\" >53</th>\n",
       "                        <td id=\"T_dc3c4a94_f345_11eb_bb50_085bd67a3263row53_col0\" class=\"data row53 col0\" >Feature Interaction</td>\n",
       "                        <td id=\"T_dc3c4a94_f345_11eb_bb50_085bd67a3263row53_col1\" class=\"data row53 col1\" >False</td>\n",
       "            </tr>\n",
       "            <tr>\n",
       "                        <th id=\"T_dc3c4a94_f345_11eb_bb50_085bd67a3263level0_row54\" class=\"row_heading level0 row54\" >54</th>\n",
       "                        <td id=\"T_dc3c4a94_f345_11eb_bb50_085bd67a3263row54_col0\" class=\"data row54 col0\" >Feature Ratio</td>\n",
       "                        <td id=\"T_dc3c4a94_f345_11eb_bb50_085bd67a3263row54_col1\" class=\"data row54 col1\" >False</td>\n",
       "            </tr>\n",
       "            <tr>\n",
       "                        <th id=\"T_dc3c4a94_f345_11eb_bb50_085bd67a3263level0_row55\" class=\"row_heading level0 row55\" >55</th>\n",
       "                        <td id=\"T_dc3c4a94_f345_11eb_bb50_085bd67a3263row55_col0\" class=\"data row55 col0\" >Interaction Threshold</td>\n",
       "                        <td id=\"T_dc3c4a94_f345_11eb_bb50_085bd67a3263row55_col1\" class=\"data row55 col1\" >None</td>\n",
       "            </tr>\n",
       "            <tr>\n",
       "                        <th id=\"T_dc3c4a94_f345_11eb_bb50_085bd67a3263level0_row56\" class=\"row_heading level0 row56\" >56</th>\n",
       "                        <td id=\"T_dc3c4a94_f345_11eb_bb50_085bd67a3263row56_col0\" class=\"data row56 col0\" >Transform Target</td>\n",
       "                        <td id=\"T_dc3c4a94_f345_11eb_bb50_085bd67a3263row56_col1\" class=\"data row56 col1\" >True</td>\n",
       "            </tr>\n",
       "            <tr>\n",
       "                        <th id=\"T_dc3c4a94_f345_11eb_bb50_085bd67a3263level0_row57\" class=\"row_heading level0 row57\" >57</th>\n",
       "                        <td id=\"T_dc3c4a94_f345_11eb_bb50_085bd67a3263row57_col0\" class=\"data row57 col0\" >Transform Target Method</td>\n",
       "                        <td id=\"T_dc3c4a94_f345_11eb_bb50_085bd67a3263row57_col1\" class=\"data row57 col1\" >box-cox</td>\n",
       "            </tr>\n",
       "    </tbody></table>"
      ],
      "text/plain": [
       "<pandas.io.formats.style.Styler at 0x1a60a9e7128>"
      ]
     },
     "metadata": {},
     "output_type": "display_data"
    }
   ],
   "source": [
    "s = setup(data = train, test_data = test, target = 'QUANTITY', \n",
    "          fold_strategy = 'timeseries', numeric_features = ['Year', 'Series'], \n",
    "          fold = 3, transform_target = True, session_id = 123)"
   ]
  },
  {
   "cell_type": "code",
   "execution_count": 36,
   "metadata": {},
   "outputs": [
    {
     "data": {
      "text/html": [
       "<style  type=\"text/css\" >\n",
       "    #T_f87686e4_f345_11eb_83b7_085bd67a3263 th {\n",
       "          text-align: left;\n",
       "    }    #T_f87686e4_f345_11eb_83b7_085bd67a3263row0_col0 {\n",
       "            text-align:  left;\n",
       "            text-align:  left;\n",
       "        }    #T_f87686e4_f345_11eb_83b7_085bd67a3263row0_col1 {\n",
       "            text-align:  left;\n",
       "            text-align:  left;\n",
       "            background-color:  yellow;\n",
       "        }    #T_f87686e4_f345_11eb_83b7_085bd67a3263row0_col2 {\n",
       "            text-align:  left;\n",
       "            text-align:  left;\n",
       "            background-color:  yellow;\n",
       "        }    #T_f87686e4_f345_11eb_83b7_085bd67a3263row0_col3 {\n",
       "            text-align:  left;\n",
       "            text-align:  left;\n",
       "            background-color:  yellow;\n",
       "        }    #T_f87686e4_f345_11eb_83b7_085bd67a3263row0_col4 {\n",
       "            text-align:  left;\n",
       "            text-align:  left;\n",
       "            background-color:  yellow;\n",
       "        }    #T_f87686e4_f345_11eb_83b7_085bd67a3263row0_col5 {\n",
       "            text-align:  left;\n",
       "            text-align:  left;\n",
       "            background-color:  yellow;\n",
       "        }    #T_f87686e4_f345_11eb_83b7_085bd67a3263row0_col6 {\n",
       "            text-align:  left;\n",
       "            text-align:  left;\n",
       "            background-color:  yellow;\n",
       "        }    #T_f87686e4_f345_11eb_83b7_085bd67a3263row0_col7 {\n",
       "            text-align:  left;\n",
       "            text-align:  left;\n",
       "            : ;\n",
       "            background-color:  lightgrey;\n",
       "        }    #T_f87686e4_f345_11eb_83b7_085bd67a3263row1_col0 {\n",
       "            text-align:  left;\n",
       "            text-align:  left;\n",
       "        }    #T_f87686e4_f345_11eb_83b7_085bd67a3263row1_col1 {\n",
       "            text-align:  left;\n",
       "            text-align:  left;\n",
       "            : ;\n",
       "        }    #T_f87686e4_f345_11eb_83b7_085bd67a3263row1_col2 {\n",
       "            text-align:  left;\n",
       "            text-align:  left;\n",
       "            : ;\n",
       "        }    #T_f87686e4_f345_11eb_83b7_085bd67a3263row1_col3 {\n",
       "            text-align:  left;\n",
       "            text-align:  left;\n",
       "            : ;\n",
       "        }    #T_f87686e4_f345_11eb_83b7_085bd67a3263row1_col4 {\n",
       "            text-align:  left;\n",
       "            text-align:  left;\n",
       "            : ;\n",
       "        }    #T_f87686e4_f345_11eb_83b7_085bd67a3263row1_col5 {\n",
       "            text-align:  left;\n",
       "            text-align:  left;\n",
       "            background-color:  yellow;\n",
       "        }    #T_f87686e4_f345_11eb_83b7_085bd67a3263row1_col6 {\n",
       "            text-align:  left;\n",
       "            text-align:  left;\n",
       "            : ;\n",
       "        }    #T_f87686e4_f345_11eb_83b7_085bd67a3263row1_col7 {\n",
       "            text-align:  left;\n",
       "            text-align:  left;\n",
       "            : ;\n",
       "            background-color:  lightgrey;\n",
       "        }    #T_f87686e4_f345_11eb_83b7_085bd67a3263row2_col0 {\n",
       "            text-align:  left;\n",
       "            text-align:  left;\n",
       "        }    #T_f87686e4_f345_11eb_83b7_085bd67a3263row2_col1 {\n",
       "            text-align:  left;\n",
       "            text-align:  left;\n",
       "            : ;\n",
       "        }    #T_f87686e4_f345_11eb_83b7_085bd67a3263row2_col2 {\n",
       "            text-align:  left;\n",
       "            text-align:  left;\n",
       "            : ;\n",
       "        }    #T_f87686e4_f345_11eb_83b7_085bd67a3263row2_col3 {\n",
       "            text-align:  left;\n",
       "            text-align:  left;\n",
       "            : ;\n",
       "        }    #T_f87686e4_f345_11eb_83b7_085bd67a3263row2_col4 {\n",
       "            text-align:  left;\n",
       "            text-align:  left;\n",
       "            : ;\n",
       "        }    #T_f87686e4_f345_11eb_83b7_085bd67a3263row2_col5 {\n",
       "            text-align:  left;\n",
       "            text-align:  left;\n",
       "            background-color:  yellow;\n",
       "        }    #T_f87686e4_f345_11eb_83b7_085bd67a3263row2_col6 {\n",
       "            text-align:  left;\n",
       "            text-align:  left;\n",
       "            : ;\n",
       "        }    #T_f87686e4_f345_11eb_83b7_085bd67a3263row2_col7 {\n",
       "            text-align:  left;\n",
       "            text-align:  left;\n",
       "            : ;\n",
       "            background-color:  lightgrey;\n",
       "        }    #T_f87686e4_f345_11eb_83b7_085bd67a3263row3_col0 {\n",
       "            text-align:  left;\n",
       "            text-align:  left;\n",
       "        }    #T_f87686e4_f345_11eb_83b7_085bd67a3263row3_col1 {\n",
       "            text-align:  left;\n",
       "            text-align:  left;\n",
       "            : ;\n",
       "        }    #T_f87686e4_f345_11eb_83b7_085bd67a3263row3_col2 {\n",
       "            text-align:  left;\n",
       "            text-align:  left;\n",
       "            : ;\n",
       "        }    #T_f87686e4_f345_11eb_83b7_085bd67a3263row3_col3 {\n",
       "            text-align:  left;\n",
       "            text-align:  left;\n",
       "            : ;\n",
       "        }    #T_f87686e4_f345_11eb_83b7_085bd67a3263row3_col4 {\n",
       "            text-align:  left;\n",
       "            text-align:  left;\n",
       "            : ;\n",
       "        }    #T_f87686e4_f345_11eb_83b7_085bd67a3263row3_col5 {\n",
       "            text-align:  left;\n",
       "            text-align:  left;\n",
       "            background-color:  yellow;\n",
       "        }    #T_f87686e4_f345_11eb_83b7_085bd67a3263row3_col6 {\n",
       "            text-align:  left;\n",
       "            text-align:  left;\n",
       "            : ;\n",
       "        }    #T_f87686e4_f345_11eb_83b7_085bd67a3263row3_col7 {\n",
       "            text-align:  left;\n",
       "            text-align:  left;\n",
       "            : ;\n",
       "            background-color:  lightgrey;\n",
       "        }    #T_f87686e4_f345_11eb_83b7_085bd67a3263row4_col0 {\n",
       "            text-align:  left;\n",
       "            text-align:  left;\n",
       "        }    #T_f87686e4_f345_11eb_83b7_085bd67a3263row4_col1 {\n",
       "            text-align:  left;\n",
       "            text-align:  left;\n",
       "            : ;\n",
       "        }    #T_f87686e4_f345_11eb_83b7_085bd67a3263row4_col2 {\n",
       "            text-align:  left;\n",
       "            text-align:  left;\n",
       "            : ;\n",
       "        }    #T_f87686e4_f345_11eb_83b7_085bd67a3263row4_col3 {\n",
       "            text-align:  left;\n",
       "            text-align:  left;\n",
       "            : ;\n",
       "        }    #T_f87686e4_f345_11eb_83b7_085bd67a3263row4_col4 {\n",
       "            text-align:  left;\n",
       "            text-align:  left;\n",
       "            : ;\n",
       "        }    #T_f87686e4_f345_11eb_83b7_085bd67a3263row4_col5 {\n",
       "            text-align:  left;\n",
       "            text-align:  left;\n",
       "            background-color:  yellow;\n",
       "        }    #T_f87686e4_f345_11eb_83b7_085bd67a3263row4_col6 {\n",
       "            text-align:  left;\n",
       "            text-align:  left;\n",
       "            : ;\n",
       "        }    #T_f87686e4_f345_11eb_83b7_085bd67a3263row4_col7 {\n",
       "            text-align:  left;\n",
       "            text-align:  left;\n",
       "            : ;\n",
       "            background-color:  lightgrey;\n",
       "        }    #T_f87686e4_f345_11eb_83b7_085bd67a3263row5_col0 {\n",
       "            text-align:  left;\n",
       "            text-align:  left;\n",
       "        }    #T_f87686e4_f345_11eb_83b7_085bd67a3263row5_col1 {\n",
       "            text-align:  left;\n",
       "            text-align:  left;\n",
       "            : ;\n",
       "        }    #T_f87686e4_f345_11eb_83b7_085bd67a3263row5_col2 {\n",
       "            text-align:  left;\n",
       "            text-align:  left;\n",
       "            : ;\n",
       "        }    #T_f87686e4_f345_11eb_83b7_085bd67a3263row5_col3 {\n",
       "            text-align:  left;\n",
       "            text-align:  left;\n",
       "            : ;\n",
       "        }    #T_f87686e4_f345_11eb_83b7_085bd67a3263row5_col4 {\n",
       "            text-align:  left;\n",
       "            text-align:  left;\n",
       "            : ;\n",
       "        }    #T_f87686e4_f345_11eb_83b7_085bd67a3263row5_col5 {\n",
       "            text-align:  left;\n",
       "            text-align:  left;\n",
       "            background-color:  yellow;\n",
       "        }    #T_f87686e4_f345_11eb_83b7_085bd67a3263row5_col6 {\n",
       "            text-align:  left;\n",
       "            text-align:  left;\n",
       "            : ;\n",
       "        }    #T_f87686e4_f345_11eb_83b7_085bd67a3263row5_col7 {\n",
       "            text-align:  left;\n",
       "            text-align:  left;\n",
       "            : ;\n",
       "            background-color:  lightgrey;\n",
       "        }    #T_f87686e4_f345_11eb_83b7_085bd67a3263row6_col0 {\n",
       "            text-align:  left;\n",
       "            text-align:  left;\n",
       "        }    #T_f87686e4_f345_11eb_83b7_085bd67a3263row6_col1 {\n",
       "            text-align:  left;\n",
       "            text-align:  left;\n",
       "            : ;\n",
       "        }    #T_f87686e4_f345_11eb_83b7_085bd67a3263row6_col2 {\n",
       "            text-align:  left;\n",
       "            text-align:  left;\n",
       "            : ;\n",
       "        }    #T_f87686e4_f345_11eb_83b7_085bd67a3263row6_col3 {\n",
       "            text-align:  left;\n",
       "            text-align:  left;\n",
       "            : ;\n",
       "        }    #T_f87686e4_f345_11eb_83b7_085bd67a3263row6_col4 {\n",
       "            text-align:  left;\n",
       "            text-align:  left;\n",
       "            : ;\n",
       "        }    #T_f87686e4_f345_11eb_83b7_085bd67a3263row6_col5 {\n",
       "            text-align:  left;\n",
       "            text-align:  left;\n",
       "            background-color:  yellow;\n",
       "        }    #T_f87686e4_f345_11eb_83b7_085bd67a3263row6_col6 {\n",
       "            text-align:  left;\n",
       "            text-align:  left;\n",
       "            : ;\n",
       "        }    #T_f87686e4_f345_11eb_83b7_085bd67a3263row6_col7 {\n",
       "            text-align:  left;\n",
       "            text-align:  left;\n",
       "            : ;\n",
       "            background-color:  lightgrey;\n",
       "        }    #T_f87686e4_f345_11eb_83b7_085bd67a3263row7_col0 {\n",
       "            text-align:  left;\n",
       "            text-align:  left;\n",
       "        }    #T_f87686e4_f345_11eb_83b7_085bd67a3263row7_col1 {\n",
       "            text-align:  left;\n",
       "            text-align:  left;\n",
       "            : ;\n",
       "        }    #T_f87686e4_f345_11eb_83b7_085bd67a3263row7_col2 {\n",
       "            text-align:  left;\n",
       "            text-align:  left;\n",
       "            : ;\n",
       "        }    #T_f87686e4_f345_11eb_83b7_085bd67a3263row7_col3 {\n",
       "            text-align:  left;\n",
       "            text-align:  left;\n",
       "            : ;\n",
       "        }    #T_f87686e4_f345_11eb_83b7_085bd67a3263row7_col4 {\n",
       "            text-align:  left;\n",
       "            text-align:  left;\n",
       "            : ;\n",
       "        }    #T_f87686e4_f345_11eb_83b7_085bd67a3263row7_col5 {\n",
       "            text-align:  left;\n",
       "            text-align:  left;\n",
       "            background-color:  yellow;\n",
       "        }    #T_f87686e4_f345_11eb_83b7_085bd67a3263row7_col6 {\n",
       "            text-align:  left;\n",
       "            text-align:  left;\n",
       "            : ;\n",
       "        }    #T_f87686e4_f345_11eb_83b7_085bd67a3263row7_col7 {\n",
       "            text-align:  left;\n",
       "            text-align:  left;\n",
       "            background-color:  yellow;\n",
       "            background-color:  lightgrey;\n",
       "        }    #T_f87686e4_f345_11eb_83b7_085bd67a3263row8_col0 {\n",
       "            text-align:  left;\n",
       "            text-align:  left;\n",
       "        }    #T_f87686e4_f345_11eb_83b7_085bd67a3263row8_col1 {\n",
       "            text-align:  left;\n",
       "            text-align:  left;\n",
       "            : ;\n",
       "        }    #T_f87686e4_f345_11eb_83b7_085bd67a3263row8_col2 {\n",
       "            text-align:  left;\n",
       "            text-align:  left;\n",
       "            : ;\n",
       "        }    #T_f87686e4_f345_11eb_83b7_085bd67a3263row8_col3 {\n",
       "            text-align:  left;\n",
       "            text-align:  left;\n",
       "            : ;\n",
       "        }    #T_f87686e4_f345_11eb_83b7_085bd67a3263row8_col4 {\n",
       "            text-align:  left;\n",
       "            text-align:  left;\n",
       "            : ;\n",
       "        }    #T_f87686e4_f345_11eb_83b7_085bd67a3263row8_col5 {\n",
       "            text-align:  left;\n",
       "            text-align:  left;\n",
       "            background-color:  yellow;\n",
       "        }    #T_f87686e4_f345_11eb_83b7_085bd67a3263row8_col6 {\n",
       "            text-align:  left;\n",
       "            text-align:  left;\n",
       "            : ;\n",
       "        }    #T_f87686e4_f345_11eb_83b7_085bd67a3263row8_col7 {\n",
       "            text-align:  left;\n",
       "            text-align:  left;\n",
       "            : ;\n",
       "            background-color:  lightgrey;\n",
       "        }    #T_f87686e4_f345_11eb_83b7_085bd67a3263row9_col0 {\n",
       "            text-align:  left;\n",
       "            text-align:  left;\n",
       "        }    #T_f87686e4_f345_11eb_83b7_085bd67a3263row9_col1 {\n",
       "            text-align:  left;\n",
       "            text-align:  left;\n",
       "            : ;\n",
       "        }    #T_f87686e4_f345_11eb_83b7_085bd67a3263row9_col2 {\n",
       "            text-align:  left;\n",
       "            text-align:  left;\n",
       "            : ;\n",
       "        }    #T_f87686e4_f345_11eb_83b7_085bd67a3263row9_col3 {\n",
       "            text-align:  left;\n",
       "            text-align:  left;\n",
       "            : ;\n",
       "        }    #T_f87686e4_f345_11eb_83b7_085bd67a3263row9_col4 {\n",
       "            text-align:  left;\n",
       "            text-align:  left;\n",
       "            : ;\n",
       "        }    #T_f87686e4_f345_11eb_83b7_085bd67a3263row9_col5 {\n",
       "            text-align:  left;\n",
       "            text-align:  left;\n",
       "            background-color:  yellow;\n",
       "        }    #T_f87686e4_f345_11eb_83b7_085bd67a3263row9_col6 {\n",
       "            text-align:  left;\n",
       "            text-align:  left;\n",
       "            : ;\n",
       "        }    #T_f87686e4_f345_11eb_83b7_085bd67a3263row9_col7 {\n",
       "            text-align:  left;\n",
       "            text-align:  left;\n",
       "            : ;\n",
       "            background-color:  lightgrey;\n",
       "        }    #T_f87686e4_f345_11eb_83b7_085bd67a3263row10_col0 {\n",
       "            text-align:  left;\n",
       "            text-align:  left;\n",
       "        }    #T_f87686e4_f345_11eb_83b7_085bd67a3263row10_col1 {\n",
       "            text-align:  left;\n",
       "            text-align:  left;\n",
       "            : ;\n",
       "        }    #T_f87686e4_f345_11eb_83b7_085bd67a3263row10_col2 {\n",
       "            text-align:  left;\n",
       "            text-align:  left;\n",
       "            : ;\n",
       "        }    #T_f87686e4_f345_11eb_83b7_085bd67a3263row10_col3 {\n",
       "            text-align:  left;\n",
       "            text-align:  left;\n",
       "            : ;\n",
       "        }    #T_f87686e4_f345_11eb_83b7_085bd67a3263row10_col4 {\n",
       "            text-align:  left;\n",
       "            text-align:  left;\n",
       "            : ;\n",
       "        }    #T_f87686e4_f345_11eb_83b7_085bd67a3263row10_col5 {\n",
       "            text-align:  left;\n",
       "            text-align:  left;\n",
       "            background-color:  yellow;\n",
       "        }    #T_f87686e4_f345_11eb_83b7_085bd67a3263row10_col6 {\n",
       "            text-align:  left;\n",
       "            text-align:  left;\n",
       "            : ;\n",
       "        }    #T_f87686e4_f345_11eb_83b7_085bd67a3263row10_col7 {\n",
       "            text-align:  left;\n",
       "            text-align:  left;\n",
       "            : ;\n",
       "            background-color:  lightgrey;\n",
       "        }    #T_f87686e4_f345_11eb_83b7_085bd67a3263row11_col0 {\n",
       "            text-align:  left;\n",
       "            text-align:  left;\n",
       "        }    #T_f87686e4_f345_11eb_83b7_085bd67a3263row11_col1 {\n",
       "            text-align:  left;\n",
       "            text-align:  left;\n",
       "            : ;\n",
       "        }    #T_f87686e4_f345_11eb_83b7_085bd67a3263row11_col2 {\n",
       "            text-align:  left;\n",
       "            text-align:  left;\n",
       "            : ;\n",
       "        }    #T_f87686e4_f345_11eb_83b7_085bd67a3263row11_col3 {\n",
       "            text-align:  left;\n",
       "            text-align:  left;\n",
       "            : ;\n",
       "        }    #T_f87686e4_f345_11eb_83b7_085bd67a3263row11_col4 {\n",
       "            text-align:  left;\n",
       "            text-align:  left;\n",
       "            : ;\n",
       "        }    #T_f87686e4_f345_11eb_83b7_085bd67a3263row11_col5 {\n",
       "            text-align:  left;\n",
       "            text-align:  left;\n",
       "            background-color:  yellow;\n",
       "        }    #T_f87686e4_f345_11eb_83b7_085bd67a3263row11_col6 {\n",
       "            text-align:  left;\n",
       "            text-align:  left;\n",
       "            : ;\n",
       "        }    #T_f87686e4_f345_11eb_83b7_085bd67a3263row11_col7 {\n",
       "            text-align:  left;\n",
       "            text-align:  left;\n",
       "            : ;\n",
       "            background-color:  lightgrey;\n",
       "        }    #T_f87686e4_f345_11eb_83b7_085bd67a3263row12_col0 {\n",
       "            text-align:  left;\n",
       "            text-align:  left;\n",
       "        }    #T_f87686e4_f345_11eb_83b7_085bd67a3263row12_col1 {\n",
       "            text-align:  left;\n",
       "            text-align:  left;\n",
       "            : ;\n",
       "        }    #T_f87686e4_f345_11eb_83b7_085bd67a3263row12_col2 {\n",
       "            text-align:  left;\n",
       "            text-align:  left;\n",
       "            : ;\n",
       "        }    #T_f87686e4_f345_11eb_83b7_085bd67a3263row12_col3 {\n",
       "            text-align:  left;\n",
       "            text-align:  left;\n",
       "            : ;\n",
       "        }    #T_f87686e4_f345_11eb_83b7_085bd67a3263row12_col4 {\n",
       "            text-align:  left;\n",
       "            text-align:  left;\n",
       "            : ;\n",
       "        }    #T_f87686e4_f345_11eb_83b7_085bd67a3263row12_col5 {\n",
       "            text-align:  left;\n",
       "            text-align:  left;\n",
       "            background-color:  yellow;\n",
       "        }    #T_f87686e4_f345_11eb_83b7_085bd67a3263row12_col6 {\n",
       "            text-align:  left;\n",
       "            text-align:  left;\n",
       "            : ;\n",
       "        }    #T_f87686e4_f345_11eb_83b7_085bd67a3263row12_col7 {\n",
       "            text-align:  left;\n",
       "            text-align:  left;\n",
       "            : ;\n",
       "            background-color:  lightgrey;\n",
       "        }    #T_f87686e4_f345_11eb_83b7_085bd67a3263row13_col0 {\n",
       "            text-align:  left;\n",
       "            text-align:  left;\n",
       "        }    #T_f87686e4_f345_11eb_83b7_085bd67a3263row13_col1 {\n",
       "            text-align:  left;\n",
       "            text-align:  left;\n",
       "            : ;\n",
       "        }    #T_f87686e4_f345_11eb_83b7_085bd67a3263row13_col2 {\n",
       "            text-align:  left;\n",
       "            text-align:  left;\n",
       "            : ;\n",
       "        }    #T_f87686e4_f345_11eb_83b7_085bd67a3263row13_col3 {\n",
       "            text-align:  left;\n",
       "            text-align:  left;\n",
       "            : ;\n",
       "        }    #T_f87686e4_f345_11eb_83b7_085bd67a3263row13_col4 {\n",
       "            text-align:  left;\n",
       "            text-align:  left;\n",
       "            : ;\n",
       "        }    #T_f87686e4_f345_11eb_83b7_085bd67a3263row13_col5 {\n",
       "            text-align:  left;\n",
       "            text-align:  left;\n",
       "            background-color:  yellow;\n",
       "        }    #T_f87686e4_f345_11eb_83b7_085bd67a3263row13_col6 {\n",
       "            text-align:  left;\n",
       "            text-align:  left;\n",
       "            : ;\n",
       "        }    #T_f87686e4_f345_11eb_83b7_085bd67a3263row13_col7 {\n",
       "            text-align:  left;\n",
       "            text-align:  left;\n",
       "            : ;\n",
       "            background-color:  lightgrey;\n",
       "        }    #T_f87686e4_f345_11eb_83b7_085bd67a3263row14_col0 {\n",
       "            text-align:  left;\n",
       "            text-align:  left;\n",
       "        }    #T_f87686e4_f345_11eb_83b7_085bd67a3263row14_col1 {\n",
       "            text-align:  left;\n",
       "            text-align:  left;\n",
       "            : ;\n",
       "        }    #T_f87686e4_f345_11eb_83b7_085bd67a3263row14_col2 {\n",
       "            text-align:  left;\n",
       "            text-align:  left;\n",
       "            : ;\n",
       "        }    #T_f87686e4_f345_11eb_83b7_085bd67a3263row14_col3 {\n",
       "            text-align:  left;\n",
       "            text-align:  left;\n",
       "            : ;\n",
       "        }    #T_f87686e4_f345_11eb_83b7_085bd67a3263row14_col4 {\n",
       "            text-align:  left;\n",
       "            text-align:  left;\n",
       "            : ;\n",
       "        }    #T_f87686e4_f345_11eb_83b7_085bd67a3263row14_col5 {\n",
       "            text-align:  left;\n",
       "            text-align:  left;\n",
       "            background-color:  yellow;\n",
       "        }    #T_f87686e4_f345_11eb_83b7_085bd67a3263row14_col6 {\n",
       "            text-align:  left;\n",
       "            text-align:  left;\n",
       "            : ;\n",
       "        }    #T_f87686e4_f345_11eb_83b7_085bd67a3263row14_col7 {\n",
       "            text-align:  left;\n",
       "            text-align:  left;\n",
       "            : ;\n",
       "            background-color:  lightgrey;\n",
       "        }    #T_f87686e4_f345_11eb_83b7_085bd67a3263row15_col0 {\n",
       "            text-align:  left;\n",
       "            text-align:  left;\n",
       "        }    #T_f87686e4_f345_11eb_83b7_085bd67a3263row15_col1 {\n",
       "            text-align:  left;\n",
       "            text-align:  left;\n",
       "            : ;\n",
       "        }    #T_f87686e4_f345_11eb_83b7_085bd67a3263row15_col2 {\n",
       "            text-align:  left;\n",
       "            text-align:  left;\n",
       "            : ;\n",
       "        }    #T_f87686e4_f345_11eb_83b7_085bd67a3263row15_col3 {\n",
       "            text-align:  left;\n",
       "            text-align:  left;\n",
       "            : ;\n",
       "        }    #T_f87686e4_f345_11eb_83b7_085bd67a3263row15_col4 {\n",
       "            text-align:  left;\n",
       "            text-align:  left;\n",
       "            : ;\n",
       "        }    #T_f87686e4_f345_11eb_83b7_085bd67a3263row15_col5 {\n",
       "            text-align:  left;\n",
       "            text-align:  left;\n",
       "            background-color:  yellow;\n",
       "        }    #T_f87686e4_f345_11eb_83b7_085bd67a3263row15_col6 {\n",
       "            text-align:  left;\n",
       "            text-align:  left;\n",
       "            : ;\n",
       "        }    #T_f87686e4_f345_11eb_83b7_085bd67a3263row15_col7 {\n",
       "            text-align:  left;\n",
       "            text-align:  left;\n",
       "            : ;\n",
       "            background-color:  lightgrey;\n",
       "        }</style><table id=\"T_f87686e4_f345_11eb_83b7_085bd67a3263\" ><thead>    <tr>        <th class=\"blank level0\" ></th>        <th class=\"col_heading level0 col0\" >Model</th>        <th class=\"col_heading level0 col1\" >MAE</th>        <th class=\"col_heading level0 col2\" >MSE</th>        <th class=\"col_heading level0 col3\" >RMSE</th>        <th class=\"col_heading level0 col4\" >R2</th>        <th class=\"col_heading level0 col5\" >RMSLE</th>        <th class=\"col_heading level0 col6\" >MAPE</th>        <th class=\"col_heading level0 col7\" >TT (Sec)</th>    </tr></thead><tbody>\n",
       "                <tr>\n",
       "                        <th id=\"T_f87686e4_f345_11eb_83b7_085bd67a3263level0_row0\" class=\"row_heading level0 row0\" >dt</th>\n",
       "                        <td id=\"T_f87686e4_f345_11eb_83b7_085bd67a3263row0_col0\" class=\"data row0 col0\" >Decision Tree Regressor</td>\n",
       "                        <td id=\"T_f87686e4_f345_11eb_83b7_085bd67a3263row0_col1\" class=\"data row0 col1\" >414.2667</td>\n",
       "                        <td id=\"T_f87686e4_f345_11eb_83b7_085bd67a3263row0_col2\" class=\"data row0 col2\" >269588.1333</td>\n",
       "                        <td id=\"T_f87686e4_f345_11eb_83b7_085bd67a3263row0_col3\" class=\"data row0 col3\" >516.2904</td>\n",
       "                        <td id=\"T_f87686e4_f345_11eb_83b7_085bd67a3263row0_col4\" class=\"data row0 col4\" >-0.5994</td>\n",
       "                        <td id=\"T_f87686e4_f345_11eb_83b7_085bd67a3263row0_col5\" class=\"data row0 col5\" >0.0000</td>\n",
       "                        <td id=\"T_f87686e4_f345_11eb_83b7_085bd67a3263row0_col6\" class=\"data row0 col6\" >0.0992</td>\n",
       "                        <td id=\"T_f87686e4_f345_11eb_83b7_085bd67a3263row0_col7\" class=\"data row0 col7\" >0.0133</td>\n",
       "            </tr>\n",
       "            <tr>\n",
       "                        <th id=\"T_f87686e4_f345_11eb_83b7_085bd67a3263level0_row1\" class=\"row_heading level0 row1\" >gbr</th>\n",
       "                        <td id=\"T_f87686e4_f345_11eb_83b7_085bd67a3263row1_col0\" class=\"data row1 col0\" >Gradient Boosting Regressor</td>\n",
       "                        <td id=\"T_f87686e4_f345_11eb_83b7_085bd67a3263row1_col1\" class=\"data row1 col1\" >476.8707</td>\n",
       "                        <td id=\"T_f87686e4_f345_11eb_83b7_085bd67a3263row1_col2\" class=\"data row1 col2\" >321034.4251</td>\n",
       "                        <td id=\"T_f87686e4_f345_11eb_83b7_085bd67a3263row1_col3\" class=\"data row1 col3\" >554.0599</td>\n",
       "                        <td id=\"T_f87686e4_f345_11eb_83b7_085bd67a3263row1_col4\" class=\"data row1 col4\" >-1.0801</td>\n",
       "                        <td id=\"T_f87686e4_f345_11eb_83b7_085bd67a3263row1_col5\" class=\"data row1 col5\" >0.0000</td>\n",
       "                        <td id=\"T_f87686e4_f345_11eb_83b7_085bd67a3263row1_col6\" class=\"data row1 col6\" >0.1137</td>\n",
       "                        <td id=\"T_f87686e4_f345_11eb_83b7_085bd67a3263row1_col7\" class=\"data row1 col7\" >0.0200</td>\n",
       "            </tr>\n",
       "            <tr>\n",
       "                        <th id=\"T_f87686e4_f345_11eb_83b7_085bd67a3263level0_row2\" class=\"row_heading level0 row2\" >ada</th>\n",
       "                        <td id=\"T_f87686e4_f345_11eb_83b7_085bd67a3263row2_col0\" class=\"data row2 col0\" >AdaBoost Regressor</td>\n",
       "                        <td id=\"T_f87686e4_f345_11eb_83b7_085bd67a3263row2_col1\" class=\"data row2 col1\" >736.5248</td>\n",
       "                        <td id=\"T_f87686e4_f345_11eb_83b7_085bd67a3263row2_col2\" class=\"data row2 col2\" >817821.9053</td>\n",
       "                        <td id=\"T_f87686e4_f345_11eb_83b7_085bd67a3263row2_col3\" class=\"data row2 col3\" >820.0249</td>\n",
       "                        <td id=\"T_f87686e4_f345_11eb_83b7_085bd67a3263row2_col4\" class=\"data row2 col4\" >-5.0220</td>\n",
       "                        <td id=\"T_f87686e4_f345_11eb_83b7_085bd67a3263row2_col5\" class=\"data row2 col5\" >0.0000</td>\n",
       "                        <td id=\"T_f87686e4_f345_11eb_83b7_085bd67a3263row2_col6\" class=\"data row2 col6\" >0.1769</td>\n",
       "                        <td id=\"T_f87686e4_f345_11eb_83b7_085bd67a3263row2_col7\" class=\"data row2 col7\" >0.0333</td>\n",
       "            </tr>\n",
       "            <tr>\n",
       "                        <th id=\"T_f87686e4_f345_11eb_83b7_085bd67a3263level0_row3\" class=\"row_heading level0 row3\" >et</th>\n",
       "                        <td id=\"T_f87686e4_f345_11eb_83b7_085bd67a3263row3_col0\" class=\"data row3 col0\" >Extra Trees Regressor</td>\n",
       "                        <td id=\"T_f87686e4_f345_11eb_83b7_085bd67a3263row3_col1\" class=\"data row3 col1\" >820.6061</td>\n",
       "                        <td id=\"T_f87686e4_f345_11eb_83b7_085bd67a3263row3_col2\" class=\"data row3 col2\" >1094023.0312</td>\n",
       "                        <td id=\"T_f87686e4_f345_11eb_83b7_085bd67a3263row3_col3\" class=\"data row3 col3\" >933.7227</td>\n",
       "                        <td id=\"T_f87686e4_f345_11eb_83b7_085bd67a3263row3_col4\" class=\"data row3 col4\" >-5.3183</td>\n",
       "                        <td id=\"T_f87686e4_f345_11eb_83b7_085bd67a3263row3_col5\" class=\"data row3 col5\" >0.0000</td>\n",
       "                        <td id=\"T_f87686e4_f345_11eb_83b7_085bd67a3263row3_col6\" class=\"data row3 col6\" >0.1860</td>\n",
       "                        <td id=\"T_f87686e4_f345_11eb_83b7_085bd67a3263row3_col7\" class=\"data row3 col7\" >0.1667</td>\n",
       "            </tr>\n",
       "            <tr>\n",
       "                        <th id=\"T_f87686e4_f345_11eb_83b7_085bd67a3263level0_row4\" class=\"row_heading level0 row4\" >rf</th>\n",
       "                        <td id=\"T_f87686e4_f345_11eb_83b7_085bd67a3263row4_col0\" class=\"data row4 col0\" >Random Forest Regressor</td>\n",
       "                        <td id=\"T_f87686e4_f345_11eb_83b7_085bd67a3263row4_col1\" class=\"data row4 col1\" >946.8416</td>\n",
       "                        <td id=\"T_f87686e4_f345_11eb_83b7_085bd67a3263row4_col2\" class=\"data row4 col2\" >1358344.9556</td>\n",
       "                        <td id=\"T_f87686e4_f345_11eb_83b7_085bd67a3263row4_col3\" class=\"data row4 col3\" >989.3797</td>\n",
       "                        <td id=\"T_f87686e4_f345_11eb_83b7_085bd67a3263row4_col4\" class=\"data row4 col4\" >-9.4793</td>\n",
       "                        <td id=\"T_f87686e4_f345_11eb_83b7_085bd67a3263row4_col5\" class=\"data row4 col5\" >0.0000</td>\n",
       "                        <td id=\"T_f87686e4_f345_11eb_83b7_085bd67a3263row4_col6\" class=\"data row4 col6\" >0.2272</td>\n",
       "                        <td id=\"T_f87686e4_f345_11eb_83b7_085bd67a3263row4_col7\" class=\"data row4 col7\" >0.1700</td>\n",
       "            </tr>\n",
       "            <tr>\n",
       "                        <th id=\"T_f87686e4_f345_11eb_83b7_085bd67a3263level0_row5\" class=\"row_heading level0 row5\" >lasso</th>\n",
       "                        <td id=\"T_f87686e4_f345_11eb_83b7_085bd67a3263row5_col0\" class=\"data row5 col0\" >Lasso Regression</td>\n",
       "                        <td id=\"T_f87686e4_f345_11eb_83b7_085bd67a3263row5_col1\" class=\"data row5 col1\" >972.8054</td>\n",
       "                        <td id=\"T_f87686e4_f345_11eb_83b7_085bd67a3263row5_col2\" class=\"data row5 col2\" >1306779.4950</td>\n",
       "                        <td id=\"T_f87686e4_f345_11eb_83b7_085bd67a3263row5_col3\" class=\"data row5 col3\" >1140.2904</td>\n",
       "                        <td id=\"T_f87686e4_f345_11eb_83b7_085bd67a3263row5_col4\" class=\"data row5 col4\" >-6.3122</td>\n",
       "                        <td id=\"T_f87686e4_f345_11eb_83b7_085bd67a3263row5_col5\" class=\"data row5 col5\" >0.0000</td>\n",
       "                        <td id=\"T_f87686e4_f345_11eb_83b7_085bd67a3263row5_col6\" class=\"data row5 col6\" >0.2392</td>\n",
       "                        <td id=\"T_f87686e4_f345_11eb_83b7_085bd67a3263row5_col7\" class=\"data row5 col7\" >0.6133</td>\n",
       "            </tr>\n",
       "            <tr>\n",
       "                        <th id=\"T_f87686e4_f345_11eb_83b7_085bd67a3263level0_row6\" class=\"row_heading level0 row6\" >knn</th>\n",
       "                        <td id=\"T_f87686e4_f345_11eb_83b7_085bd67a3263row6_col0\" class=\"data row6 col0\" >K Neighbors Regressor</td>\n",
       "                        <td id=\"T_f87686e4_f345_11eb_83b7_085bd67a3263row6_col1\" class=\"data row6 col1\" >1265.8654</td>\n",
       "                        <td id=\"T_f87686e4_f345_11eb_83b7_085bd67a3263row6_col2\" class=\"data row6 col2\" >2875916.2423</td>\n",
       "                        <td id=\"T_f87686e4_f345_11eb_83b7_085bd67a3263row6_col3\" class=\"data row6 col3\" >1297.6956</td>\n",
       "                        <td id=\"T_f87686e4_f345_11eb_83b7_085bd67a3263row6_col4\" class=\"data row6 col4\" >-22.1178</td>\n",
       "                        <td id=\"T_f87686e4_f345_11eb_83b7_085bd67a3263row6_col5\" class=\"data row6 col5\" >0.0000</td>\n",
       "                        <td id=\"T_f87686e4_f345_11eb_83b7_085bd67a3263row6_col6\" class=\"data row6 col6\" >0.3050</td>\n",
       "                        <td id=\"T_f87686e4_f345_11eb_83b7_085bd67a3263row6_col7\" class=\"data row6 col7\" >0.0533</td>\n",
       "            </tr>\n",
       "            <tr>\n",
       "                        <th id=\"T_f87686e4_f345_11eb_83b7_085bd67a3263level0_row7\" class=\"row_heading level0 row7\" >en</th>\n",
       "                        <td id=\"T_f87686e4_f345_11eb_83b7_085bd67a3263row7_col0\" class=\"data row7 col0\" >Elastic Net</td>\n",
       "                        <td id=\"T_f87686e4_f345_11eb_83b7_085bd67a3263row7_col1\" class=\"data row7 col1\" >1517.0156</td>\n",
       "                        <td id=\"T_f87686e4_f345_11eb_83b7_085bd67a3263row7_col2\" class=\"data row7 col2\" >3185359.2261</td>\n",
       "                        <td id=\"T_f87686e4_f345_11eb_83b7_085bd67a3263row7_col3\" class=\"data row7 col3\" >1765.8213</td>\n",
       "                        <td id=\"T_f87686e4_f345_11eb_83b7_085bd67a3263row7_col4\" class=\"data row7 col4\" >-18.7582</td>\n",
       "                        <td id=\"T_f87686e4_f345_11eb_83b7_085bd67a3263row7_col5\" class=\"data row7 col5\" >0.0000</td>\n",
       "                        <td id=\"T_f87686e4_f345_11eb_83b7_085bd67a3263row7_col6\" class=\"data row7 col6\" >0.3618</td>\n",
       "                        <td id=\"T_f87686e4_f345_11eb_83b7_085bd67a3263row7_col7\" class=\"data row7 col7\" >0.0100</td>\n",
       "            </tr>\n",
       "            <tr>\n",
       "                        <th id=\"T_f87686e4_f345_11eb_83b7_085bd67a3263level0_row8\" class=\"row_heading level0 row8\" >llar</th>\n",
       "                        <td id=\"T_f87686e4_f345_11eb_83b7_085bd67a3263row8_col0\" class=\"data row8 col0\" >Lasso Least Angle Regression</td>\n",
       "                        <td id=\"T_f87686e4_f345_11eb_83b7_085bd67a3263row8_col1\" class=\"data row8 col1\" >1818.7632</td>\n",
       "                        <td id=\"T_f87686e4_f345_11eb_83b7_085bd67a3263row8_col2\" class=\"data row8 col2\" >4062619.7884</td>\n",
       "                        <td id=\"T_f87686e4_f345_11eb_83b7_085bd67a3263row8_col3\" class=\"data row8 col3\" >1885.7811</td>\n",
       "                        <td id=\"T_f87686e4_f345_11eb_83b7_085bd67a3263row8_col4\" class=\"data row8 col4\" >-27.8171</td>\n",
       "                        <td id=\"T_f87686e4_f345_11eb_83b7_085bd67a3263row8_col5\" class=\"data row8 col5\" >0.0000</td>\n",
       "                        <td id=\"T_f87686e4_f345_11eb_83b7_085bd67a3263row8_col6\" class=\"data row8 col6\" >0.4238</td>\n",
       "                        <td id=\"T_f87686e4_f345_11eb_83b7_085bd67a3263row8_col7\" class=\"data row8 col7\" >0.7533</td>\n",
       "            </tr>\n",
       "            <tr>\n",
       "                        <th id=\"T_f87686e4_f345_11eb_83b7_085bd67a3263level0_row9\" class=\"row_heading level0 row9\" >lightgbm</th>\n",
       "                        <td id=\"T_f87686e4_f345_11eb_83b7_085bd67a3263row9_col0\" class=\"data row9 col0\" >Light Gradient Boosting Machine</td>\n",
       "                        <td id=\"T_f87686e4_f345_11eb_83b7_085bd67a3263row9_col1\" class=\"data row9 col1\" >1818.7632</td>\n",
       "                        <td id=\"T_f87686e4_f345_11eb_83b7_085bd67a3263row9_col2\" class=\"data row9 col2\" >4062619.7231</td>\n",
       "                        <td id=\"T_f87686e4_f345_11eb_83b7_085bd67a3263row9_col3\" class=\"data row9 col3\" >1885.7811</td>\n",
       "                        <td id=\"T_f87686e4_f345_11eb_83b7_085bd67a3263row9_col4\" class=\"data row9 col4\" >-27.8171</td>\n",
       "                        <td id=\"T_f87686e4_f345_11eb_83b7_085bd67a3263row9_col5\" class=\"data row9 col5\" >0.0000</td>\n",
       "                        <td id=\"T_f87686e4_f345_11eb_83b7_085bd67a3263row9_col6\" class=\"data row9 col6\" >0.4238</td>\n",
       "                        <td id=\"T_f87686e4_f345_11eb_83b7_085bd67a3263row9_col7\" class=\"data row9 col7\" >0.5467</td>\n",
       "            </tr>\n",
       "            <tr>\n",
       "                        <th id=\"T_f87686e4_f345_11eb_83b7_085bd67a3263level0_row10\" class=\"row_heading level0 row10\" >par</th>\n",
       "                        <td id=\"T_f87686e4_f345_11eb_83b7_085bd67a3263row10_col0\" class=\"data row10 col0\" >Passive Aggressive Regressor</td>\n",
       "                        <td id=\"T_f87686e4_f345_11eb_83b7_085bd67a3263row10_col1\" class=\"data row10 col1\" >2102.9730</td>\n",
       "                        <td id=\"T_f87686e4_f345_11eb_83b7_085bd67a3263row10_col2\" class=\"data row10 col2\" >6725253.6138</td>\n",
       "                        <td id=\"T_f87686e4_f345_11eb_83b7_085bd67a3263row10_col3\" class=\"data row10 col3\" >2138.9931</td>\n",
       "                        <td id=\"T_f87686e4_f345_11eb_83b7_085bd67a3263row10_col4\" class=\"data row10 col4\" >-50.8054</td>\n",
       "                        <td id=\"T_f87686e4_f345_11eb_83b7_085bd67a3263row10_col5\" class=\"data row10 col5\" >0.0000</td>\n",
       "                        <td id=\"T_f87686e4_f345_11eb_83b7_085bd67a3263row10_col6\" class=\"data row10 col6\" >0.5023</td>\n",
       "                        <td id=\"T_f87686e4_f345_11eb_83b7_085bd67a3263row10_col7\" class=\"data row10 col7\" >0.0133</td>\n",
       "            </tr>\n",
       "            <tr>\n",
       "                        <th id=\"T_f87686e4_f345_11eb_83b7_085bd67a3263level0_row11\" class=\"row_heading level0 row11\" >ridge</th>\n",
       "                        <td id=\"T_f87686e4_f345_11eb_83b7_085bd67a3263row11_col0\" class=\"data row11 col0\" >Ridge Regression</td>\n",
       "                        <td id=\"T_f87686e4_f345_11eb_83b7_085bd67a3263row11_col1\" class=\"data row11 col1\" >3643.4137</td>\n",
       "                        <td id=\"T_f87686e4_f345_11eb_83b7_085bd67a3263row11_col2\" class=\"data row11 col2\" >20645715.4925</td>\n",
       "                        <td id=\"T_f87686e4_f345_11eb_83b7_085bd67a3263row11_col3\" class=\"data row11 col3\" >4054.4989</td>\n",
       "                        <td id=\"T_f87686e4_f345_11eb_83b7_085bd67a3263row11_col4\" class=\"data row11 col4\" >-153.2189</td>\n",
       "                        <td id=\"T_f87686e4_f345_11eb_83b7_085bd67a3263row11_col5\" class=\"data row11 col5\" >0.0000</td>\n",
       "                        <td id=\"T_f87686e4_f345_11eb_83b7_085bd67a3263row11_col6\" class=\"data row11 col6\" >0.8649</td>\n",
       "                        <td id=\"T_f87686e4_f345_11eb_83b7_085bd67a3263row11_col7\" class=\"data row11 col7\" >0.5767</td>\n",
       "            </tr>\n",
       "            <tr>\n",
       "                        <th id=\"T_f87686e4_f345_11eb_83b7_085bd67a3263level0_row12\" class=\"row_heading level0 row12\" >huber</th>\n",
       "                        <td id=\"T_f87686e4_f345_11eb_83b7_085bd67a3263row12_col0\" class=\"data row12 col0\" >Huber Regressor</td>\n",
       "                        <td id=\"T_f87686e4_f345_11eb_83b7_085bd67a3263row12_col1\" class=\"data row12 col1\" >4084.7469</td>\n",
       "                        <td id=\"T_f87686e4_f345_11eb_83b7_085bd67a3263row12_col2\" class=\"data row12 col2\" >28173979.2464</td>\n",
       "                        <td id=\"T_f87686e4_f345_11eb_83b7_085bd67a3263row12_col3\" class=\"data row12 col3\" >4545.0190</td>\n",
       "                        <td id=\"T_f87686e4_f345_11eb_83b7_085bd67a3263row12_col4\" class=\"data row12 col4\" >-215.3092</td>\n",
       "                        <td id=\"T_f87686e4_f345_11eb_83b7_085bd67a3263row12_col5\" class=\"data row12 col5\" >0.0000</td>\n",
       "                        <td id=\"T_f87686e4_f345_11eb_83b7_085bd67a3263row12_col6\" class=\"data row12 col6\" >0.9716</td>\n",
       "                        <td id=\"T_f87686e4_f345_11eb_83b7_085bd67a3263row12_col7\" class=\"data row12 col7\" >0.0200</td>\n",
       "            </tr>\n",
       "            <tr>\n",
       "                        <th id=\"T_f87686e4_f345_11eb_83b7_085bd67a3263level0_row13\" class=\"row_heading level0 row13\" >br</th>\n",
       "                        <td id=\"T_f87686e4_f345_11eb_83b7_085bd67a3263row13_col0\" class=\"data row13 col0\" >Bayesian Ridge</td>\n",
       "                        <td id=\"T_f87686e4_f345_11eb_83b7_085bd67a3263row13_col1\" class=\"data row13 col1\" >4085.9386</td>\n",
       "                        <td id=\"T_f87686e4_f345_11eb_83b7_085bd67a3263row13_col2\" class=\"data row13 col2\" >28063910.4628</td>\n",
       "                        <td id=\"T_f87686e4_f345_11eb_83b7_085bd67a3263row13_col3\" class=\"data row13 col3\" >4554.8993</td>\n",
       "                        <td id=\"T_f87686e4_f345_11eb_83b7_085bd67a3263row13_col4\" class=\"data row13 col4\" >-214.1529</td>\n",
       "                        <td id=\"T_f87686e4_f345_11eb_83b7_085bd67a3263row13_col5\" class=\"data row13 col5\" >0.0000</td>\n",
       "                        <td id=\"T_f87686e4_f345_11eb_83b7_085bd67a3263row13_col6\" class=\"data row13 col6\" >0.9717</td>\n",
       "                        <td id=\"T_f87686e4_f345_11eb_83b7_085bd67a3263row13_col7\" class=\"data row13 col7\" >0.6267</td>\n",
       "            </tr>\n",
       "            <tr>\n",
       "                        <th id=\"T_f87686e4_f345_11eb_83b7_085bd67a3263level0_row14\" class=\"row_heading level0 row14\" >lr</th>\n",
       "                        <td id=\"T_f87686e4_f345_11eb_83b7_085bd67a3263row14_col0\" class=\"data row14 col0\" >Linear Regression</td>\n",
       "                        <td id=\"T_f87686e4_f345_11eb_83b7_085bd67a3263row14_col1\" class=\"data row14 col1\" >4141.1107</td>\n",
       "                        <td id=\"T_f87686e4_f345_11eb_83b7_085bd67a3263row14_col2\" class=\"data row14 col2\" >28186307.0387</td>\n",
       "                        <td id=\"T_f87686e4_f345_11eb_83b7_085bd67a3263row14_col3\" class=\"data row14 col3\" >4599.2205</td>\n",
       "                        <td id=\"T_f87686e4_f345_11eb_83b7_085bd67a3263row14_col4\" class=\"data row14 col4\" >-213.5775</td>\n",
       "                        <td id=\"T_f87686e4_f345_11eb_83b7_085bd67a3263row14_col5\" class=\"data row14 col5\" >0.0000</td>\n",
       "                        <td id=\"T_f87686e4_f345_11eb_83b7_085bd67a3263row14_col6\" class=\"data row14 col6\" >0.9841</td>\n",
       "                        <td id=\"T_f87686e4_f345_11eb_83b7_085bd67a3263row14_col7\" class=\"data row14 col7\" >1.2600</td>\n",
       "            </tr>\n",
       "            <tr>\n",
       "                        <th id=\"T_f87686e4_f345_11eb_83b7_085bd67a3263level0_row15\" class=\"row_heading level0 row15\" >omp</th>\n",
       "                        <td id=\"T_f87686e4_f345_11eb_83b7_085bd67a3263row15_col0\" class=\"data row15 col0\" >Orthogonal Matching Pursuit</td>\n",
       "                        <td id=\"T_f87686e4_f345_11eb_83b7_085bd67a3263row15_col1\" class=\"data row15 col1\" >4492.2553</td>\n",
       "                        <td id=\"T_f87686e4_f345_11eb_83b7_085bd67a3263row15_col2\" class=\"data row15 col2\" >38757074.0905</td>\n",
       "                        <td id=\"T_f87686e4_f345_11eb_83b7_085bd67a3263row15_col3\" class=\"data row15 col3\" >5006.2294</td>\n",
       "                        <td id=\"T_f87686e4_f345_11eb_83b7_085bd67a3263row15_col4\" class=\"data row15 col4\" >-305.5795</td>\n",
       "                        <td id=\"T_f87686e4_f345_11eb_83b7_085bd67a3263row15_col5\" class=\"data row15 col5\" >0.0000</td>\n",
       "                        <td id=\"T_f87686e4_f345_11eb_83b7_085bd67a3263row15_col6\" class=\"data row15 col6\" >1.0692</td>\n",
       "                        <td id=\"T_f87686e4_f345_11eb_83b7_085bd67a3263row15_col7\" class=\"data row15 col7\" >0.5933</td>\n",
       "            </tr>\n",
       "    </tbody></table>"
      ],
      "text/plain": [
       "<pandas.io.formats.style.Styler at 0x1a609dbe668>"
      ]
     },
     "metadata": {},
     "output_type": "display_data"
    }
   ],
   "source": [
    "best = compare_models(sort = 'MAE')"
   ]
  },
  {
   "cell_type": "code",
   "execution_count": 37,
   "metadata": {},
   "outputs": [
    {
     "data": {
      "text/html": [
       "<style  type=\"text/css\" >\n",
       "</style><table id=\"T_1072b8c8_f346_11eb_af23_085bd67a3263\" ><thead>    <tr>        <th class=\"blank level0\" ></th>        <th class=\"col_heading level0 col0\" >Model</th>        <th class=\"col_heading level0 col1\" >MAE</th>        <th class=\"col_heading level0 col2\" >MSE</th>        <th class=\"col_heading level0 col3\" >RMSE</th>        <th class=\"col_heading level0 col4\" >R2</th>        <th class=\"col_heading level0 col5\" >RMSLE</th>        <th class=\"col_heading level0 col6\" >MAPE</th>    </tr></thead><tbody>\n",
       "                <tr>\n",
       "                        <th id=\"T_1072b8c8_f346_11eb_af23_085bd67a3263level0_row0\" class=\"row_heading level0 row0\" >0</th>\n",
       "                        <td id=\"T_1072b8c8_f346_11eb_af23_085bd67a3263row0_col0\" class=\"data row0 col0\" >Decision Tree Regressor</td>\n",
       "                        <td id=\"T_1072b8c8_f346_11eb_af23_085bd67a3263row0_col1\" class=\"data row0 col1\" >1144.4000</td>\n",
       "                        <td id=\"T_1072b8c8_f346_11eb_af23_085bd67a3263row0_col2\" class=\"data row0 col2\" >2718824.0000</td>\n",
       "                        <td id=\"T_1072b8c8_f346_11eb_af23_085bd67a3263row0_col3\" class=\"data row0 col3\" >1648.8857</td>\n",
       "                        <td id=\"T_1072b8c8_f346_11eb_af23_085bd67a3263row0_col4\" class=\"data row0 col4\" >-0.6861</td>\n",
       "                        <td id=\"T_1072b8c8_f346_11eb_af23_085bd67a3263row0_col5\" class=\"data row0 col5\" >0.6175</td>\n",
       "                        <td id=\"T_1072b8c8_f346_11eb_af23_085bd67a3263row0_col6\" class=\"data row0 col6\" >0.6736</td>\n",
       "            </tr>\n",
       "    </tbody></table>"
      ],
      "text/plain": [
       "<pandas.io.formats.style.Styler at 0x1a609dbe710>"
      ]
     },
     "metadata": {},
     "output_type": "display_data"
    }
   ],
   "source": [
    "prediction_holdout = predict_model(best)"
   ]
  },
  {
   "cell_type": "code",
   "execution_count": 43,
   "metadata": {},
   "outputs": [
    {
     "data": {
      "application/vnd.plotly.v1+json": {
       "config": {
        "plotlyServerURL": "https://plot.ly"
       },
       "data": [
        {
         "hovertemplate": "variable=QUANTITY<br>DATE=%{x}<br>value=%{y}<extra></extra>",
         "legendgroup": "QUANTITY",
         "line": {
          "color": "#636efa",
          "dash": "solid"
         },
         "mode": "lines",
         "name": "QUANTITY",
         "orientation": "v",
         "showlegend": true,
         "type": "scatter",
         "x": [
          "2019-07-01T00:00:00",
          "2019-08-01T00:00:00",
          "2019-09-01T00:00:00",
          "2019-10-01T00:00:00",
          "2019-11-01T00:00:00",
          "2019-12-01T00:00:00",
          "2020-01-01T00:00:00",
          "2020-02-01T00:00:00",
          "2020-03-01T00:00:00",
          "2020-04-01T00:00:00",
          "2020-05-01T00:00:00",
          "2020-06-01T00:00:00",
          "2020-07-01T00:00:00",
          "2020-08-01T00:00:00",
          "2020-09-01T00:00:00",
          "2020-10-01T00:00:00",
          "2020-11-01T00:00:00",
          "2020-12-01T00:00:00",
          "2021-01-01T00:00:00",
          "2021-02-01T00:00:00",
          "2021-03-01T00:00:00",
          "2021-04-01T00:00:00",
          "2021-05-01T00:00:00",
          "2021-06-01T00:00:00",
          "2021-07-01T00:00:00"
         ],
         "xaxis": "x",
         "y": [
          8,
          724,
          1439,
          2759,
          3622,
          3764,
          3862,
          3768,
          4618,
          4345,
          4608,
          3593,
          4886,
          4271,
          4533,
          4987,
          4101,
          4854,
          4644,
          3617,
          3813,
          4474,
          4367,
          4606,
          1213
         ],
         "yaxis": "y"
        },
        {
         "hovertemplate": "variable=Label<br>DATE=%{x}<br>value=%{y}<extra></extra>",
         "legendgroup": "Label",
         "line": {
          "color": "#EF553B",
          "dash": "solid"
         },
         "mode": "lines",
         "name": "Label",
         "orientation": "v",
         "showlegend": true,
         "type": "scatter",
         "x": [
          "2019-07-01T00:00:00",
          "2019-08-01T00:00:00",
          "2019-09-01T00:00:00",
          "2019-10-01T00:00:00",
          "2019-11-01T00:00:00",
          "2019-12-01T00:00:00",
          "2020-01-01T00:00:00",
          "2020-02-01T00:00:00",
          "2020-03-01T00:00:00",
          "2020-04-01T00:00:00",
          "2020-05-01T00:00:00",
          "2020-06-01T00:00:00",
          "2020-07-01T00:00:00",
          "2020-08-01T00:00:00",
          "2020-09-01T00:00:00",
          "2020-10-01T00:00:00",
          "2020-11-01T00:00:00",
          "2020-12-01T00:00:00",
          "2021-01-01T00:00:00",
          "2021-02-01T00:00:00",
          "2021-03-01T00:00:00",
          "2021-04-01T00:00:00",
          "2021-05-01T00:00:00",
          "2021-06-01T00:00:00",
          "2021-07-01T00:00:00"
         ],
         "xaxis": "x",
         "y": [
          8.000000000001316,
          723.9999999999993,
          1439.0000000000002,
          2758.999999999999,
          3622.0000000000027,
          3763.999999999998,
          3861.9999999999964,
          3767.999999999995,
          4617.9999999999945,
          4345.000000000001,
          4607.999999999996,
          3592.9999999999955,
          4885.999999999999,
          4271,
          4532.999999999999,
          4986.999999999999,
          4101.000000000003,
          4854.000000000004,
          4643.999999999999,
          3616.9999999999945,
          4643.999999999999,
          4643.999999999999,
          4643.999999999999,
          3592.9999999999955,
          4643.999999999999
         ],
         "yaxis": "y"
        }
       ],
       "layout": {
        "legend": {
         "title": {
          "text": "variable"
         },
         "tracegroupgap": 0
        },
        "margin": {
         "t": 60
        },
        "shapes": [
         {
          "fillcolor": "grey",
          "line": {
           "width": 0
          },
          "opacity": 0.25,
          "type": "rect",
          "x0": "2019-07-01",
          "x1": "2021-07-01",
          "xref": "x",
          "y0": 0,
          "y1": 1,
          "yref": "y domain"
         }
        ],
        "template": {
         "data": {
          "bar": [
           {
            "error_x": {
             "color": "#f2f5fa"
            },
            "error_y": {
             "color": "#f2f5fa"
            },
            "marker": {
             "line": {
              "color": "rgb(17,17,17)",
              "width": 0.5
             },
             "pattern": {
              "fillmode": "overlay",
              "size": 10,
              "solidity": 0.2
             }
            },
            "type": "bar"
           }
          ],
          "barpolar": [
           {
            "marker": {
             "line": {
              "color": "rgb(17,17,17)",
              "width": 0.5
             },
             "pattern": {
              "fillmode": "overlay",
              "size": 10,
              "solidity": 0.2
             }
            },
            "type": "barpolar"
           }
          ],
          "carpet": [
           {
            "aaxis": {
             "endlinecolor": "#A2B1C6",
             "gridcolor": "#506784",
             "linecolor": "#506784",
             "minorgridcolor": "#506784",
             "startlinecolor": "#A2B1C6"
            },
            "baxis": {
             "endlinecolor": "#A2B1C6",
             "gridcolor": "#506784",
             "linecolor": "#506784",
             "minorgridcolor": "#506784",
             "startlinecolor": "#A2B1C6"
            },
            "type": "carpet"
           }
          ],
          "choropleth": [
           {
            "colorbar": {
             "outlinewidth": 0,
             "ticks": ""
            },
            "type": "choropleth"
           }
          ],
          "contour": [
           {
            "colorbar": {
             "outlinewidth": 0,
             "ticks": ""
            },
            "colorscale": [
             [
              0,
              "#0d0887"
             ],
             [
              0.1111111111111111,
              "#46039f"
             ],
             [
              0.2222222222222222,
              "#7201a8"
             ],
             [
              0.3333333333333333,
              "#9c179e"
             ],
             [
              0.4444444444444444,
              "#bd3786"
             ],
             [
              0.5555555555555556,
              "#d8576b"
             ],
             [
              0.6666666666666666,
              "#ed7953"
             ],
             [
              0.7777777777777778,
              "#fb9f3a"
             ],
             [
              0.8888888888888888,
              "#fdca26"
             ],
             [
              1,
              "#f0f921"
             ]
            ],
            "type": "contour"
           }
          ],
          "contourcarpet": [
           {
            "colorbar": {
             "outlinewidth": 0,
             "ticks": ""
            },
            "type": "contourcarpet"
           }
          ],
          "heatmap": [
           {
            "colorbar": {
             "outlinewidth": 0,
             "ticks": ""
            },
            "colorscale": [
             [
              0,
              "#0d0887"
             ],
             [
              0.1111111111111111,
              "#46039f"
             ],
             [
              0.2222222222222222,
              "#7201a8"
             ],
             [
              0.3333333333333333,
              "#9c179e"
             ],
             [
              0.4444444444444444,
              "#bd3786"
             ],
             [
              0.5555555555555556,
              "#d8576b"
             ],
             [
              0.6666666666666666,
              "#ed7953"
             ],
             [
              0.7777777777777778,
              "#fb9f3a"
             ],
             [
              0.8888888888888888,
              "#fdca26"
             ],
             [
              1,
              "#f0f921"
             ]
            ],
            "type": "heatmap"
           }
          ],
          "heatmapgl": [
           {
            "colorbar": {
             "outlinewidth": 0,
             "ticks": ""
            },
            "colorscale": [
             [
              0,
              "#0d0887"
             ],
             [
              0.1111111111111111,
              "#46039f"
             ],
             [
              0.2222222222222222,
              "#7201a8"
             ],
             [
              0.3333333333333333,
              "#9c179e"
             ],
             [
              0.4444444444444444,
              "#bd3786"
             ],
             [
              0.5555555555555556,
              "#d8576b"
             ],
             [
              0.6666666666666666,
              "#ed7953"
             ],
             [
              0.7777777777777778,
              "#fb9f3a"
             ],
             [
              0.8888888888888888,
              "#fdca26"
             ],
             [
              1,
              "#f0f921"
             ]
            ],
            "type": "heatmapgl"
           }
          ],
          "histogram": [
           {
            "marker": {
             "pattern": {
              "fillmode": "overlay",
              "size": 10,
              "solidity": 0.2
             }
            },
            "type": "histogram"
           }
          ],
          "histogram2d": [
           {
            "colorbar": {
             "outlinewidth": 0,
             "ticks": ""
            },
            "colorscale": [
             [
              0,
              "#0d0887"
             ],
             [
              0.1111111111111111,
              "#46039f"
             ],
             [
              0.2222222222222222,
              "#7201a8"
             ],
             [
              0.3333333333333333,
              "#9c179e"
             ],
             [
              0.4444444444444444,
              "#bd3786"
             ],
             [
              0.5555555555555556,
              "#d8576b"
             ],
             [
              0.6666666666666666,
              "#ed7953"
             ],
             [
              0.7777777777777778,
              "#fb9f3a"
             ],
             [
              0.8888888888888888,
              "#fdca26"
             ],
             [
              1,
              "#f0f921"
             ]
            ],
            "type": "histogram2d"
           }
          ],
          "histogram2dcontour": [
           {
            "colorbar": {
             "outlinewidth": 0,
             "ticks": ""
            },
            "colorscale": [
             [
              0,
              "#0d0887"
             ],
             [
              0.1111111111111111,
              "#46039f"
             ],
             [
              0.2222222222222222,
              "#7201a8"
             ],
             [
              0.3333333333333333,
              "#9c179e"
             ],
             [
              0.4444444444444444,
              "#bd3786"
             ],
             [
              0.5555555555555556,
              "#d8576b"
             ],
             [
              0.6666666666666666,
              "#ed7953"
             ],
             [
              0.7777777777777778,
              "#fb9f3a"
             ],
             [
              0.8888888888888888,
              "#fdca26"
             ],
             [
              1,
              "#f0f921"
             ]
            ],
            "type": "histogram2dcontour"
           }
          ],
          "mesh3d": [
           {
            "colorbar": {
             "outlinewidth": 0,
             "ticks": ""
            },
            "type": "mesh3d"
           }
          ],
          "parcoords": [
           {
            "line": {
             "colorbar": {
              "outlinewidth": 0,
              "ticks": ""
             }
            },
            "type": "parcoords"
           }
          ],
          "pie": [
           {
            "automargin": true,
            "type": "pie"
           }
          ],
          "scatter": [
           {
            "marker": {
             "line": {
              "color": "#283442"
             }
            },
            "type": "scatter"
           }
          ],
          "scatter3d": [
           {
            "line": {
             "colorbar": {
              "outlinewidth": 0,
              "ticks": ""
             }
            },
            "marker": {
             "colorbar": {
              "outlinewidth": 0,
              "ticks": ""
             }
            },
            "type": "scatter3d"
           }
          ],
          "scattercarpet": [
           {
            "marker": {
             "colorbar": {
              "outlinewidth": 0,
              "ticks": ""
             }
            },
            "type": "scattercarpet"
           }
          ],
          "scattergeo": [
           {
            "marker": {
             "colorbar": {
              "outlinewidth": 0,
              "ticks": ""
             }
            },
            "type": "scattergeo"
           }
          ],
          "scattergl": [
           {
            "marker": {
             "line": {
              "color": "#283442"
             }
            },
            "type": "scattergl"
           }
          ],
          "scattermapbox": [
           {
            "marker": {
             "colorbar": {
              "outlinewidth": 0,
              "ticks": ""
             }
            },
            "type": "scattermapbox"
           }
          ],
          "scatterpolar": [
           {
            "marker": {
             "colorbar": {
              "outlinewidth": 0,
              "ticks": ""
             }
            },
            "type": "scatterpolar"
           }
          ],
          "scatterpolargl": [
           {
            "marker": {
             "colorbar": {
              "outlinewidth": 0,
              "ticks": ""
             }
            },
            "type": "scatterpolargl"
           }
          ],
          "scatterternary": [
           {
            "marker": {
             "colorbar": {
              "outlinewidth": 0,
              "ticks": ""
             }
            },
            "type": "scatterternary"
           }
          ],
          "surface": [
           {
            "colorbar": {
             "outlinewidth": 0,
             "ticks": ""
            },
            "colorscale": [
             [
              0,
              "#0d0887"
             ],
             [
              0.1111111111111111,
              "#46039f"
             ],
             [
              0.2222222222222222,
              "#7201a8"
             ],
             [
              0.3333333333333333,
              "#9c179e"
             ],
             [
              0.4444444444444444,
              "#bd3786"
             ],
             [
              0.5555555555555556,
              "#d8576b"
             ],
             [
              0.6666666666666666,
              "#ed7953"
             ],
             [
              0.7777777777777778,
              "#fb9f3a"
             ],
             [
              0.8888888888888888,
              "#fdca26"
             ],
             [
              1,
              "#f0f921"
             ]
            ],
            "type": "surface"
           }
          ],
          "table": [
           {
            "cells": {
             "fill": {
              "color": "#506784"
             },
             "line": {
              "color": "rgb(17,17,17)"
             }
            },
            "header": {
             "fill": {
              "color": "#2a3f5f"
             },
             "line": {
              "color": "rgb(17,17,17)"
             }
            },
            "type": "table"
           }
          ]
         },
         "layout": {
          "annotationdefaults": {
           "arrowcolor": "#f2f5fa",
           "arrowhead": 0,
           "arrowwidth": 1
          },
          "autotypenumbers": "strict",
          "coloraxis": {
           "colorbar": {
            "outlinewidth": 0,
            "ticks": ""
           }
          },
          "colorscale": {
           "diverging": [
            [
             0,
             "#8e0152"
            ],
            [
             0.1,
             "#c51b7d"
            ],
            [
             0.2,
             "#de77ae"
            ],
            [
             0.3,
             "#f1b6da"
            ],
            [
             0.4,
             "#fde0ef"
            ],
            [
             0.5,
             "#f7f7f7"
            ],
            [
             0.6,
             "#e6f5d0"
            ],
            [
             0.7,
             "#b8e186"
            ],
            [
             0.8,
             "#7fbc41"
            ],
            [
             0.9,
             "#4d9221"
            ],
            [
             1,
             "#276419"
            ]
           ],
           "sequential": [
            [
             0,
             "#0d0887"
            ],
            [
             0.1111111111111111,
             "#46039f"
            ],
            [
             0.2222222222222222,
             "#7201a8"
            ],
            [
             0.3333333333333333,
             "#9c179e"
            ],
            [
             0.4444444444444444,
             "#bd3786"
            ],
            [
             0.5555555555555556,
             "#d8576b"
            ],
            [
             0.6666666666666666,
             "#ed7953"
            ],
            [
             0.7777777777777778,
             "#fb9f3a"
            ],
            [
             0.8888888888888888,
             "#fdca26"
            ],
            [
             1,
             "#f0f921"
            ]
           ],
           "sequentialminus": [
            [
             0,
             "#0d0887"
            ],
            [
             0.1111111111111111,
             "#46039f"
            ],
            [
             0.2222222222222222,
             "#7201a8"
            ],
            [
             0.3333333333333333,
             "#9c179e"
            ],
            [
             0.4444444444444444,
             "#bd3786"
            ],
            [
             0.5555555555555556,
             "#d8576b"
            ],
            [
             0.6666666666666666,
             "#ed7953"
            ],
            [
             0.7777777777777778,
             "#fb9f3a"
            ],
            [
             0.8888888888888888,
             "#fdca26"
            ],
            [
             1,
             "#f0f921"
            ]
           ]
          },
          "colorway": [
           "#636efa",
           "#EF553B",
           "#00cc96",
           "#ab63fa",
           "#FFA15A",
           "#19d3f3",
           "#FF6692",
           "#B6E880",
           "#FF97FF",
           "#FECB52"
          ],
          "font": {
           "color": "#f2f5fa"
          },
          "geo": {
           "bgcolor": "rgb(17,17,17)",
           "lakecolor": "rgb(17,17,17)",
           "landcolor": "rgb(17,17,17)",
           "showlakes": true,
           "showland": true,
           "subunitcolor": "#506784"
          },
          "hoverlabel": {
           "align": "left"
          },
          "hovermode": "closest",
          "mapbox": {
           "style": "dark"
          },
          "paper_bgcolor": "rgb(17,17,17)",
          "plot_bgcolor": "rgb(17,17,17)",
          "polar": {
           "angularaxis": {
            "gridcolor": "#506784",
            "linecolor": "#506784",
            "ticks": ""
           },
           "bgcolor": "rgb(17,17,17)",
           "radialaxis": {
            "gridcolor": "#506784",
            "linecolor": "#506784",
            "ticks": ""
           }
          },
          "scene": {
           "xaxis": {
            "backgroundcolor": "rgb(17,17,17)",
            "gridcolor": "#506784",
            "gridwidth": 2,
            "linecolor": "#506784",
            "showbackground": true,
            "ticks": "",
            "zerolinecolor": "#C8D4E3"
           },
           "yaxis": {
            "backgroundcolor": "rgb(17,17,17)",
            "gridcolor": "#506784",
            "gridwidth": 2,
            "linecolor": "#506784",
            "showbackground": true,
            "ticks": "",
            "zerolinecolor": "#C8D4E3"
           },
           "zaxis": {
            "backgroundcolor": "rgb(17,17,17)",
            "gridcolor": "#506784",
            "gridwidth": 2,
            "linecolor": "#506784",
            "showbackground": true,
            "ticks": "",
            "zerolinecolor": "#C8D4E3"
           }
          },
          "shapedefaults": {
           "line": {
            "color": "#f2f5fa"
           }
          },
          "sliderdefaults": {
           "bgcolor": "#C8D4E3",
           "bordercolor": "rgb(17,17,17)",
           "borderwidth": 1,
           "tickwidth": 0
          },
          "ternary": {
           "aaxis": {
            "gridcolor": "#506784",
            "linecolor": "#506784",
            "ticks": ""
           },
           "baxis": {
            "gridcolor": "#506784",
            "linecolor": "#506784",
            "ticks": ""
           },
           "bgcolor": "rgb(17,17,17)",
           "caxis": {
            "gridcolor": "#506784",
            "linecolor": "#506784",
            "ticks": ""
           }
          },
          "title": {
           "x": 0.05
          },
          "updatemenudefaults": {
           "bgcolor": "#506784",
           "borderwidth": 0
          },
          "xaxis": {
           "automargin": true,
           "gridcolor": "#283442",
           "linecolor": "#506784",
           "ticks": "",
           "title": {
            "standoff": 15
           },
           "zerolinecolor": "#283442",
           "zerolinewidth": 2
          },
          "yaxis": {
           "automargin": true,
           "gridcolor": "#283442",
           "linecolor": "#506784",
           "ticks": "",
           "title": {
            "standoff": 15
           },
           "zerolinecolor": "#283442",
           "zerolinewidth": 2
          }
         }
        },
        "xaxis": {
         "anchor": "y",
         "domain": [
          0,
          1
         ],
         "title": {
          "text": "DATE"
         }
        },
        "yaxis": {
         "anchor": "x",
         "domain": [
          0,
          1
         ],
         "title": {
          "text": "value"
         }
        }
       }
      },
      "text/html": [
       "<div>                            <div id=\"4bced424-501a-40f6-b990-23a2afd65c07\" class=\"plotly-graph-div\" style=\"height:525px; width:100%;\"></div>            <script type=\"text/javascript\">                require([\"plotly\"], function(Plotly) {                    window.PLOTLYENV=window.PLOTLYENV || {};                                    if (document.getElementById(\"4bced424-501a-40f6-b990-23a2afd65c07\")) {                    Plotly.newPlot(                        \"4bced424-501a-40f6-b990-23a2afd65c07\",                        [{\"hovertemplate\":\"variable=QUANTITY<br>DATE=%{x}<br>value=%{y}<extra></extra>\",\"legendgroup\":\"QUANTITY\",\"line\":{\"color\":\"#636efa\",\"dash\":\"solid\"},\"mode\":\"lines\",\"name\":\"QUANTITY\",\"orientation\":\"v\",\"showlegend\":true,\"type\":\"scatter\",\"x\":[\"2019-07-01T00:00:00\",\"2019-08-01T00:00:00\",\"2019-09-01T00:00:00\",\"2019-10-01T00:00:00\",\"2019-11-01T00:00:00\",\"2019-12-01T00:00:00\",\"2020-01-01T00:00:00\",\"2020-02-01T00:00:00\",\"2020-03-01T00:00:00\",\"2020-04-01T00:00:00\",\"2020-05-01T00:00:00\",\"2020-06-01T00:00:00\",\"2020-07-01T00:00:00\",\"2020-08-01T00:00:00\",\"2020-09-01T00:00:00\",\"2020-10-01T00:00:00\",\"2020-11-01T00:00:00\",\"2020-12-01T00:00:00\",\"2021-01-01T00:00:00\",\"2021-02-01T00:00:00\",\"2021-03-01T00:00:00\",\"2021-04-01T00:00:00\",\"2021-05-01T00:00:00\",\"2021-06-01T00:00:00\",\"2021-07-01T00:00:00\"],\"xaxis\":\"x\",\"y\":[8.0,724.0,1439.0,2759.0,3622.0,3764.0,3862.0,3768.0,4618.0,4345.0,4608.0,3593.0,4886.0,4271.0,4533.0,4987.0,4101.0,4854.0,4644.0,3617.0,3813.0,4474.0,4367.0,4606.0,1213.0],\"yaxis\":\"y\"},{\"hovertemplate\":\"variable=Label<br>DATE=%{x}<br>value=%{y}<extra></extra>\",\"legendgroup\":\"Label\",\"line\":{\"color\":\"#EF553B\",\"dash\":\"solid\"},\"mode\":\"lines\",\"name\":\"Label\",\"orientation\":\"v\",\"showlegend\":true,\"type\":\"scatter\",\"x\":[\"2019-07-01T00:00:00\",\"2019-08-01T00:00:00\",\"2019-09-01T00:00:00\",\"2019-10-01T00:00:00\",\"2019-11-01T00:00:00\",\"2019-12-01T00:00:00\",\"2020-01-01T00:00:00\",\"2020-02-01T00:00:00\",\"2020-03-01T00:00:00\",\"2020-04-01T00:00:00\",\"2020-05-01T00:00:00\",\"2020-06-01T00:00:00\",\"2020-07-01T00:00:00\",\"2020-08-01T00:00:00\",\"2020-09-01T00:00:00\",\"2020-10-01T00:00:00\",\"2020-11-01T00:00:00\",\"2020-12-01T00:00:00\",\"2021-01-01T00:00:00\",\"2021-02-01T00:00:00\",\"2021-03-01T00:00:00\",\"2021-04-01T00:00:00\",\"2021-05-01T00:00:00\",\"2021-06-01T00:00:00\",\"2021-07-01T00:00:00\"],\"xaxis\":\"x\",\"y\":[8.000000000001316,723.9999999999993,1439.0000000000002,2758.999999999999,3622.0000000000027,3763.999999999998,3861.9999999999964,3767.999999999995,4617.9999999999945,4345.000000000001,4607.999999999996,3592.9999999999955,4885.999999999999,4271.0,4532.999999999999,4986.999999999999,4101.000000000003,4854.000000000004,4643.999999999999,3616.9999999999945,4643.999999999999,4643.999999999999,4643.999999999999,3592.9999999999955,4643.999999999999],\"yaxis\":\"y\"}],                        {\"legend\":{\"title\":{\"text\":\"variable\"},\"tracegroupgap\":0},\"margin\":{\"t\":60},\"shapes\":[{\"fillcolor\":\"grey\",\"line\":{\"width\":0},\"opacity\":0.25,\"type\":\"rect\",\"x0\":\"2019-07-01\",\"x1\":\"2021-07-01\",\"xref\":\"x\",\"y0\":0,\"y1\":1,\"yref\":\"y domain\"}],\"template\":{\"data\":{\"bar\":[{\"error_x\":{\"color\":\"#f2f5fa\"},\"error_y\":{\"color\":\"#f2f5fa\"},\"marker\":{\"line\":{\"color\":\"rgb(17,17,17)\",\"width\":0.5},\"pattern\":{\"fillmode\":\"overlay\",\"size\":10,\"solidity\":0.2}},\"type\":\"bar\"}],\"barpolar\":[{\"marker\":{\"line\":{\"color\":\"rgb(17,17,17)\",\"width\":0.5},\"pattern\":{\"fillmode\":\"overlay\",\"size\":10,\"solidity\":0.2}},\"type\":\"barpolar\"}],\"carpet\":[{\"aaxis\":{\"endlinecolor\":\"#A2B1C6\",\"gridcolor\":\"#506784\",\"linecolor\":\"#506784\",\"minorgridcolor\":\"#506784\",\"startlinecolor\":\"#A2B1C6\"},\"baxis\":{\"endlinecolor\":\"#A2B1C6\",\"gridcolor\":\"#506784\",\"linecolor\":\"#506784\",\"minorgridcolor\":\"#506784\",\"startlinecolor\":\"#A2B1C6\"},\"type\":\"carpet\"}],\"choropleth\":[{\"colorbar\":{\"outlinewidth\":0,\"ticks\":\"\"},\"type\":\"choropleth\"}],\"contour\":[{\"colorbar\":{\"outlinewidth\":0,\"ticks\":\"\"},\"colorscale\":[[0.0,\"#0d0887\"],[0.1111111111111111,\"#46039f\"],[0.2222222222222222,\"#7201a8\"],[0.3333333333333333,\"#9c179e\"],[0.4444444444444444,\"#bd3786\"],[0.5555555555555556,\"#d8576b\"],[0.6666666666666666,\"#ed7953\"],[0.7777777777777778,\"#fb9f3a\"],[0.8888888888888888,\"#fdca26\"],[1.0,\"#f0f921\"]],\"type\":\"contour\"}],\"contourcarpet\":[{\"colorbar\":{\"outlinewidth\":0,\"ticks\":\"\"},\"type\":\"contourcarpet\"}],\"heatmap\":[{\"colorbar\":{\"outlinewidth\":0,\"ticks\":\"\"},\"colorscale\":[[0.0,\"#0d0887\"],[0.1111111111111111,\"#46039f\"],[0.2222222222222222,\"#7201a8\"],[0.3333333333333333,\"#9c179e\"],[0.4444444444444444,\"#bd3786\"],[0.5555555555555556,\"#d8576b\"],[0.6666666666666666,\"#ed7953\"],[0.7777777777777778,\"#fb9f3a\"],[0.8888888888888888,\"#fdca26\"],[1.0,\"#f0f921\"]],\"type\":\"heatmap\"}],\"heatmapgl\":[{\"colorbar\":{\"outlinewidth\":0,\"ticks\":\"\"},\"colorscale\":[[0.0,\"#0d0887\"],[0.1111111111111111,\"#46039f\"],[0.2222222222222222,\"#7201a8\"],[0.3333333333333333,\"#9c179e\"],[0.4444444444444444,\"#bd3786\"],[0.5555555555555556,\"#d8576b\"],[0.6666666666666666,\"#ed7953\"],[0.7777777777777778,\"#fb9f3a\"],[0.8888888888888888,\"#fdca26\"],[1.0,\"#f0f921\"]],\"type\":\"heatmapgl\"}],\"histogram\":[{\"marker\":{\"pattern\":{\"fillmode\":\"overlay\",\"size\":10,\"solidity\":0.2}},\"type\":\"histogram\"}],\"histogram2d\":[{\"colorbar\":{\"outlinewidth\":0,\"ticks\":\"\"},\"colorscale\":[[0.0,\"#0d0887\"],[0.1111111111111111,\"#46039f\"],[0.2222222222222222,\"#7201a8\"],[0.3333333333333333,\"#9c179e\"],[0.4444444444444444,\"#bd3786\"],[0.5555555555555556,\"#d8576b\"],[0.6666666666666666,\"#ed7953\"],[0.7777777777777778,\"#fb9f3a\"],[0.8888888888888888,\"#fdca26\"],[1.0,\"#f0f921\"]],\"type\":\"histogram2d\"}],\"histogram2dcontour\":[{\"colorbar\":{\"outlinewidth\":0,\"ticks\":\"\"},\"colorscale\":[[0.0,\"#0d0887\"],[0.1111111111111111,\"#46039f\"],[0.2222222222222222,\"#7201a8\"],[0.3333333333333333,\"#9c179e\"],[0.4444444444444444,\"#bd3786\"],[0.5555555555555556,\"#d8576b\"],[0.6666666666666666,\"#ed7953\"],[0.7777777777777778,\"#fb9f3a\"],[0.8888888888888888,\"#fdca26\"],[1.0,\"#f0f921\"]],\"type\":\"histogram2dcontour\"}],\"mesh3d\":[{\"colorbar\":{\"outlinewidth\":0,\"ticks\":\"\"},\"type\":\"mesh3d\"}],\"parcoords\":[{\"line\":{\"colorbar\":{\"outlinewidth\":0,\"ticks\":\"\"}},\"type\":\"parcoords\"}],\"pie\":[{\"automargin\":true,\"type\":\"pie\"}],\"scatter\":[{\"marker\":{\"line\":{\"color\":\"#283442\"}},\"type\":\"scatter\"}],\"scatter3d\":[{\"line\":{\"colorbar\":{\"outlinewidth\":0,\"ticks\":\"\"}},\"marker\":{\"colorbar\":{\"outlinewidth\":0,\"ticks\":\"\"}},\"type\":\"scatter3d\"}],\"scattercarpet\":[{\"marker\":{\"colorbar\":{\"outlinewidth\":0,\"ticks\":\"\"}},\"type\":\"scattercarpet\"}],\"scattergeo\":[{\"marker\":{\"colorbar\":{\"outlinewidth\":0,\"ticks\":\"\"}},\"type\":\"scattergeo\"}],\"scattergl\":[{\"marker\":{\"line\":{\"color\":\"#283442\"}},\"type\":\"scattergl\"}],\"scattermapbox\":[{\"marker\":{\"colorbar\":{\"outlinewidth\":0,\"ticks\":\"\"}},\"type\":\"scattermapbox\"}],\"scatterpolar\":[{\"marker\":{\"colorbar\":{\"outlinewidth\":0,\"ticks\":\"\"}},\"type\":\"scatterpolar\"}],\"scatterpolargl\":[{\"marker\":{\"colorbar\":{\"outlinewidth\":0,\"ticks\":\"\"}},\"type\":\"scatterpolargl\"}],\"scatterternary\":[{\"marker\":{\"colorbar\":{\"outlinewidth\":0,\"ticks\":\"\"}},\"type\":\"scatterternary\"}],\"surface\":[{\"colorbar\":{\"outlinewidth\":0,\"ticks\":\"\"},\"colorscale\":[[0.0,\"#0d0887\"],[0.1111111111111111,\"#46039f\"],[0.2222222222222222,\"#7201a8\"],[0.3333333333333333,\"#9c179e\"],[0.4444444444444444,\"#bd3786\"],[0.5555555555555556,\"#d8576b\"],[0.6666666666666666,\"#ed7953\"],[0.7777777777777778,\"#fb9f3a\"],[0.8888888888888888,\"#fdca26\"],[1.0,\"#f0f921\"]],\"type\":\"surface\"}],\"table\":[{\"cells\":{\"fill\":{\"color\":\"#506784\"},\"line\":{\"color\":\"rgb(17,17,17)\"}},\"header\":{\"fill\":{\"color\":\"#2a3f5f\"},\"line\":{\"color\":\"rgb(17,17,17)\"}},\"type\":\"table\"}]},\"layout\":{\"annotationdefaults\":{\"arrowcolor\":\"#f2f5fa\",\"arrowhead\":0,\"arrowwidth\":1},\"autotypenumbers\":\"strict\",\"coloraxis\":{\"colorbar\":{\"outlinewidth\":0,\"ticks\":\"\"}},\"colorscale\":{\"diverging\":[[0,\"#8e0152\"],[0.1,\"#c51b7d\"],[0.2,\"#de77ae\"],[0.3,\"#f1b6da\"],[0.4,\"#fde0ef\"],[0.5,\"#f7f7f7\"],[0.6,\"#e6f5d0\"],[0.7,\"#b8e186\"],[0.8,\"#7fbc41\"],[0.9,\"#4d9221\"],[1,\"#276419\"]],\"sequential\":[[0.0,\"#0d0887\"],[0.1111111111111111,\"#46039f\"],[0.2222222222222222,\"#7201a8\"],[0.3333333333333333,\"#9c179e\"],[0.4444444444444444,\"#bd3786\"],[0.5555555555555556,\"#d8576b\"],[0.6666666666666666,\"#ed7953\"],[0.7777777777777778,\"#fb9f3a\"],[0.8888888888888888,\"#fdca26\"],[1.0,\"#f0f921\"]],\"sequentialminus\":[[0.0,\"#0d0887\"],[0.1111111111111111,\"#46039f\"],[0.2222222222222222,\"#7201a8\"],[0.3333333333333333,\"#9c179e\"],[0.4444444444444444,\"#bd3786\"],[0.5555555555555556,\"#d8576b\"],[0.6666666666666666,\"#ed7953\"],[0.7777777777777778,\"#fb9f3a\"],[0.8888888888888888,\"#fdca26\"],[1.0,\"#f0f921\"]]},\"colorway\":[\"#636efa\",\"#EF553B\",\"#00cc96\",\"#ab63fa\",\"#FFA15A\",\"#19d3f3\",\"#FF6692\",\"#B6E880\",\"#FF97FF\",\"#FECB52\"],\"font\":{\"color\":\"#f2f5fa\"},\"geo\":{\"bgcolor\":\"rgb(17,17,17)\",\"lakecolor\":\"rgb(17,17,17)\",\"landcolor\":\"rgb(17,17,17)\",\"showlakes\":true,\"showland\":true,\"subunitcolor\":\"#506784\"},\"hoverlabel\":{\"align\":\"left\"},\"hovermode\":\"closest\",\"mapbox\":{\"style\":\"dark\"},\"paper_bgcolor\":\"rgb(17,17,17)\",\"plot_bgcolor\":\"rgb(17,17,17)\",\"polar\":{\"angularaxis\":{\"gridcolor\":\"#506784\",\"linecolor\":\"#506784\",\"ticks\":\"\"},\"bgcolor\":\"rgb(17,17,17)\",\"radialaxis\":{\"gridcolor\":\"#506784\",\"linecolor\":\"#506784\",\"ticks\":\"\"}},\"scene\":{\"xaxis\":{\"backgroundcolor\":\"rgb(17,17,17)\",\"gridcolor\":\"#506784\",\"gridwidth\":2,\"linecolor\":\"#506784\",\"showbackground\":true,\"ticks\":\"\",\"zerolinecolor\":\"#C8D4E3\"},\"yaxis\":{\"backgroundcolor\":\"rgb(17,17,17)\",\"gridcolor\":\"#506784\",\"gridwidth\":2,\"linecolor\":\"#506784\",\"showbackground\":true,\"ticks\":\"\",\"zerolinecolor\":\"#C8D4E3\"},\"zaxis\":{\"backgroundcolor\":\"rgb(17,17,17)\",\"gridcolor\":\"#506784\",\"gridwidth\":2,\"linecolor\":\"#506784\",\"showbackground\":true,\"ticks\":\"\",\"zerolinecolor\":\"#C8D4E3\"}},\"shapedefaults\":{\"line\":{\"color\":\"#f2f5fa\"}},\"sliderdefaults\":{\"bgcolor\":\"#C8D4E3\",\"bordercolor\":\"rgb(17,17,17)\",\"borderwidth\":1,\"tickwidth\":0},\"ternary\":{\"aaxis\":{\"gridcolor\":\"#506784\",\"linecolor\":\"#506784\",\"ticks\":\"\"},\"baxis\":{\"gridcolor\":\"#506784\",\"linecolor\":\"#506784\",\"ticks\":\"\"},\"bgcolor\":\"rgb(17,17,17)\",\"caxis\":{\"gridcolor\":\"#506784\",\"linecolor\":\"#506784\",\"ticks\":\"\"}},\"title\":{\"x\":0.05},\"updatemenudefaults\":{\"bgcolor\":\"#506784\",\"borderwidth\":0},\"xaxis\":{\"automargin\":true,\"gridcolor\":\"#283442\",\"linecolor\":\"#506784\",\"ticks\":\"\",\"title\":{\"standoff\":15},\"zerolinecolor\":\"#283442\",\"zerolinewidth\":2},\"yaxis\":{\"automargin\":true,\"gridcolor\":\"#283442\",\"linecolor\":\"#506784\",\"ticks\":\"\",\"title\":{\"standoff\":15},\"zerolinecolor\":\"#283442\",\"zerolinewidth\":2}}},\"xaxis\":{\"anchor\":\"y\",\"domain\":[0.0,1.0],\"title\":{\"text\":\"DATE\"}},\"yaxis\":{\"anchor\":\"x\",\"domain\":[0.0,1.0],\"title\":{\"text\":\"value\"}}},                        {\"responsive\": true}                    ).then(function(){\n",
       "                            \n",
       "var gd = document.getElementById('4bced424-501a-40f6-b990-23a2afd65c07');\n",
       "var x = new MutationObserver(function (mutations, observer) {{\n",
       "        var display = window.getComputedStyle(gd).display;\n",
       "        if (!display || display === 'none') {{\n",
       "            console.log([gd, 'removed!']);\n",
       "            Plotly.purge(gd);\n",
       "            observer.disconnect();\n",
       "        }}\n",
       "}});\n",
       "\n",
       "// Listen for the removal of the full notebook cells\n",
       "var notebookContainer = gd.closest('#notebook-container');\n",
       "if (notebookContainer) {{\n",
       "    x.observe(notebookContainer, {childList: true});\n",
       "}}\n",
       "\n",
       "// Listen for the clearing of the current output cell\n",
       "var outputEl = gd.closest('.output');\n",
       "if (outputEl) {{\n",
       "    x.observe(outputEl, {childList: true});\n",
       "}}\n",
       "\n",
       "                        })                };                });            </script>        </div>"
      ]
     },
     "metadata": {},
     "output_type": "display_data"
    }
   ],
   "source": [
    "# generate predictions on the original dataset\n",
    "predictions = predict_model(best, data=df_milk_1)\n",
    "# add a date column in the dataset\n",
    "predictions['DATE'] = pd.date_range(start='2019-07-01', end = '2021-07-01', freq = 'MS')\n",
    "# line plot\n",
    "fig = px.line(predictions, x='DATE', y=[\"QUANTITY\", \"Label\"], template = 'plotly_dark')\n",
    "# add a vertical rectange for test-set separation\n",
    "fig.add_vrect(x0=\"2019-07-01\", x1=\"2021-07-01\", fillcolor=\"grey\", opacity=0.25, line_width=0)\n",
    "fig.show()"
   ]
  }
 ],
 "metadata": {
  "kernelspec": {
   "display_name": "Python 3",
   "language": "python",
   "name": "python3"
  },
  "language_info": {
   "codemirror_mode": {
    "name": "ipython",
    "version": 3
   },
   "file_extension": ".py",
   "mimetype": "text/x-python",
   "name": "python",
   "nbconvert_exporter": "python",
   "pygments_lexer": "ipython3",
   "version": "3.6.10"
  }
 },
 "nbformat": 4,
 "nbformat_minor": 5
}
